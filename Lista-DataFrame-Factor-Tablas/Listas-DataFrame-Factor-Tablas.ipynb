{
 "cells": [
  {
   "cell_type": "markdown",
   "metadata": {},
   "source": [
    "# Listas , Data Frame, Factor y Tablas"
   ]
  },
  {
   "cell_type": "markdown",
   "metadata": {},
   "source": [
    "## Listas "
   ]
  },
  {
   "cell_type": "code",
   "execution_count": 1,
   "metadata": {
    "collapsed": false
   },
   "outputs": [
    {
     "name": "stdout",
     "output_type": "stream",
     "text": [
      "List of 4\n",
      " $ : int [1:3] 1 2 3\n",
      " $ : chr \"a\"\n",
      " $ : logi [1:3] TRUE FALSE TRUE\n",
      " $ : num [1:2] 2.3 5.9\n"
     ]
    }
   ],
   "source": [
    "x <- list(1:3, \"a\", c(TRUE, FALSE, TRUE), c(2.3, 5.9))\n",
    "str(x)"
   ]
  },
  {
   "cell_type": "code",
   "execution_count": 2,
   "metadata": {
    "collapsed": false
   },
   "outputs": [
    {
     "name": "stdout",
     "output_type": "stream",
     "text": [
      "List of 1\n",
      " $ :List of 1\n",
      "  ..$ :List of 1\n",
      "  .. ..$ : list()\n"
     ]
    },
    {
     "data": {
      "text/html": [
       "TRUE"
      ],
      "text/latex": [
       "TRUE"
      ],
      "text/markdown": [
       "TRUE"
      ],
      "text/plain": [
       "[1] TRUE"
      ]
     },
     "execution_count": 2,
     "metadata": {},
     "output_type": "execute_result"
    }
   ],
   "source": [
    "x <- list(list(list(list())))\n",
    "str(x)\n",
    "is.recursive(x)"
   ]
  },
  {
   "cell_type": "code",
   "execution_count": 3,
   "metadata": {
    "collapsed": false
   },
   "outputs": [
    {
     "name": "stdout",
     "output_type": "stream",
     "text": [
      "List of 2\n",
      " $ :List of 2\n",
      "  ..$ : num 1\n",
      "  ..$ : num 2\n",
      " $ : num [1:2] 3 4\n"
     ]
    }
   ],
   "source": [
    "x <- list(list(1, 2), c(3, 4))\n",
    "y <- c(list(1, 2), c(3, 4))\n",
    "str(x)"
   ]
  },
  {
   "cell_type": "code",
   "execution_count": 4,
   "metadata": {
    "collapsed": false
   },
   "outputs": [
    {
     "name": "stdout",
     "output_type": "stream",
     "text": [
      "List of 4\n",
      " $ : num 1\n",
      " $ : num 2\n",
      " $ : num 3\n",
      " $ : num 4\n"
     ]
    }
   ],
   "source": [
    "str(y)"
   ]
  },
  {
   "cell_type": "code",
   "execution_count": 6,
   "metadata": {
    "collapsed": false
   },
   "outputs": [
    {
     "data": {
      "text/html": [
       "TRUE"
      ],
      "text/latex": [
       "TRUE"
      ],
      "text/markdown": [
       "TRUE"
      ],
      "text/plain": [
       "[1] TRUE"
      ]
     },
     "execution_count": 6,
     "metadata": {},
     "output_type": "execute_result"
    },
    {
     "data": {
      "text/html": [
       "TRUE"
      ],
      "text/latex": [
       "TRUE"
      ],
      "text/markdown": [
       "TRUE"
      ],
      "text/plain": [
       "[1] TRUE"
      ]
     },
     "execution_count": 6,
     "metadata": {},
     "output_type": "execute_result"
    }
   ],
   "source": [
    "is.list(mtcars)\n",
    "mod <- lm(mpg ~ wt, data = mtcars)\n",
    "is.list(mod)"
   ]
  },
  {
   "cell_type": "markdown",
   "metadata": {},
   "source": [
    "## Data Frame "
   ]
  },
  {
   "cell_type": "code",
   "execution_count": 8,
   "metadata": {
    "collapsed": false
   },
   "outputs": [
    {
     "name": "stdout",
     "output_type": "stream",
     "text": [
      "'data.frame':\t3 obs. of  2 variables:\n",
      " $ x: int  1 2 3\n",
      " $ y: Factor w/ 3 levels \"C\",\"Python\",\"R\": 2 3 1\n"
     ]
    }
   ],
   "source": [
    "df <- data.frame(x = 1:3, y = c(\"Python\", \"R\", \"C\"))\n",
    "str(df)"
   ]
  },
  {
   "cell_type": "code",
   "execution_count": 9,
   "metadata": {
    "collapsed": false
   },
   "outputs": [
    {
     "name": "stdout",
     "output_type": "stream",
     "text": [
      "'data.frame':\t3 obs. of  2 variables:\n",
      " $ x: int  1 2 3\n",
      " $ y: chr  \"Python\" \"R\" \"C\"\n"
     ]
    }
   ],
   "source": [
    "df <- data.frame(\n",
    "  x = 1:3,\n",
    "  y = c(\"Python\", \"R\", \"C\"),\n",
    "  stringsAsFactors = FALSE)\n",
    "str(df)"
   ]
  },
  {
   "cell_type": "code",
   "execution_count": 10,
   "metadata": {
    "collapsed": false
   },
   "outputs": [
    {
     "data": {
      "text/html": [
       "'list'"
      ],
      "text/latex": [
       "'list'"
      ],
      "text/markdown": [
       "'list'"
      ],
      "text/plain": [
       "[1] \"list\""
      ]
     },
     "execution_count": 10,
     "metadata": {},
     "output_type": "execute_result"
    },
    {
     "data": {
      "text/html": [
       "'data.frame'"
      ],
      "text/latex": [
       "'data.frame'"
      ],
      "text/markdown": [
       "'data.frame'"
      ],
      "text/plain": [
       "[1] \"data.frame\""
      ]
     },
     "execution_count": 10,
     "metadata": {},
     "output_type": "execute_result"
    },
    {
     "data": {
      "text/html": [
       "TRUE"
      ],
      "text/latex": [
       "TRUE"
      ],
      "text/markdown": [
       "TRUE"
      ],
      "text/plain": [
       "[1] TRUE"
      ]
     },
     "execution_count": 10,
     "metadata": {},
     "output_type": "execute_result"
    }
   ],
   "source": [
    "typeof(df)\n",
    "class(df)\n",
    "is.data.frame(df)"
   ]
  },
  {
   "cell_type": "code",
   "execution_count": 11,
   "metadata": {
    "collapsed": false
   },
   "outputs": [
    {
     "data": {
      "text/html": [
       "<table>\n",
       "<thead><tr><th></th><th scope=col>x</th><th scope=col>y</th><th scope=col>z</th></tr></thead>\n",
       "<tbody>\n",
       "\t<tr><th scope=row>1</th><td>1</td><td>Python</td><td>3</td></tr>\n",
       "\t<tr><th scope=row>2</th><td>2</td><td>R</td><td>2</td></tr>\n",
       "\t<tr><th scope=row>3</th><td>3</td><td>C</td><td>1</td></tr>\n",
       "</tbody>\n",
       "</table>\n"
      ],
      "text/latex": [
       "\\begin{tabular}{r|lll}\n",
       "  & x & y & z\\\\\n",
       "\\hline\n",
       "\t1 & 1 & Python & 3\\\\\n",
       "\t2 & 2 & R & 2\\\\\n",
       "\t3 & 3 & C & 1\\\\\n",
       "\\end{tabular}\n"
      ],
      "text/plain": [
       "  x      y z\n",
       "1 1 Python 3\n",
       "2 2      R 2\n",
       "3 3      C 1"
      ]
     },
     "execution_count": 11,
     "metadata": {},
     "output_type": "execute_result"
    },
    {
     "data": {
      "text/html": [
       "<table>\n",
       "<thead><tr><th></th><th scope=col>x</th><th scope=col>y</th></tr></thead>\n",
       "<tbody>\n",
       "\t<tr><th scope=row>1</th><td>1</td><td>Python</td></tr>\n",
       "\t<tr><th scope=row>2</th><td>2</td><td>R</td></tr>\n",
       "\t<tr><th scope=row>3</th><td>3</td><td>C</td></tr>\n",
       "\t<tr><th scope=row>4</th><td>10</td><td>z</td></tr>\n",
       "</tbody>\n",
       "</table>\n"
      ],
      "text/latex": [
       "\\begin{tabular}{r|ll}\n",
       "  & x & y\\\\\n",
       "\\hline\n",
       "\t1 & 1 & Python\\\\\n",
       "\t2 & 2 & R\\\\\n",
       "\t3 & 3 & C\\\\\n",
       "\t4 & 10 & z\\\\\n",
       "\\end{tabular}\n"
      ],
      "text/plain": [
       "   x      y\n",
       "1  1 Python\n",
       "2  2      R\n",
       "3  3      C\n",
       "4 10      z"
      ]
     },
     "execution_count": 11,
     "metadata": {},
     "output_type": "execute_result"
    }
   ],
   "source": [
    "cbind(df, data.frame(z = 3:1))\n",
    "rbind(df, data.frame(x = 10, y = \"z\"))"
   ]
  },
  {
   "cell_type": "code",
   "execution_count": 12,
   "metadata": {
    "collapsed": false
   },
   "outputs": [
    {
     "name": "stdout",
     "output_type": "stream",
     "text": [
      "'data.frame':\t2 obs. of  2 variables:\n",
      " $ a: Factor w/ 2 levels \"1\",\"2\": 1 2\n",
      " $ b: Factor w/ 2 levels \"a\",\"b\": 1 2\n",
      "'data.frame':\t2 obs. of  2 variables:\n",
      " $ a: int  1 2\n",
      " $ b: chr  \"a\" \"b\"\n"
     ]
    }
   ],
   "source": [
    "mala <- data.frame(cbind(a = 1:2, b = c(\"a\", \"b\")))\n",
    "str(mala)\n",
    "good <- data.frame(a = 1:2, b = c(\"a\", \"b\"),\n",
    "  stringsAsFactors = FALSE)\n",
    "str(good)"
   ]
  },
  {
   "cell_type": "code",
   "execution_count": 13,
   "metadata": {
    "collapsed": false
   },
   "outputs": [
    {
     "data": {
      "text/html": [
       "<table>\n",
       "<thead><tr><th></th><th scope=col>x</th><th scope=col>y</th></tr></thead>\n",
       "<tbody>\n",
       "\t<tr><th scope=row>1</th><td>1</td><td>1, 2</td></tr>\n",
       "\t<tr><th scope=row>2</th><td>2</td><td>1, 2, 3</td></tr>\n",
       "\t<tr><th scope=row>3</th><td>3</td><td>1, 2, 3, 4</td></tr>\n",
       "</tbody>\n",
       "</table>\n"
      ],
      "text/latex": [
       "\\begin{tabular}{r|ll}\n",
       "  & x & y\\\\\n",
       "\\hline\n",
       "\t1 & 1 & 1, 2\\\\\n",
       "\t2 & 2 & 1, 2, 3\\\\\n",
       "\t3 & 3 & 1, 2, 3, 4\\\\\n",
       "\\end{tabular}\n"
      ],
      "text/plain": [
       "  x          y\n",
       "1 1       1, 2\n",
       "2 2    1, 2, 3\n",
       "3 3 1, 2, 3, 4"
      ]
     },
     "execution_count": 13,
     "metadata": {},
     "output_type": "execute_result"
    }
   ],
   "source": [
    "df <- data.frame(x = 1:3)\n",
    "df$y <- list(1:2, 1:3, 1:4)\n",
    "df"
   ]
  },
  {
   "cell_type": "code",
   "execution_count": 14,
   "metadata": {
    "collapsed": false
   },
   "outputs": [
    {
     "ename": "ERROR",
     "evalue": "Error in data.frame(1:2, 1:3, 1:4, check.names = FALSE, stringsAsFactors = TRUE): arguments imply differing number of rows: 2, 3, 4\n",
     "output_type": "error",
     "traceback": [
      "Error in data.frame(1:2, 1:3, 1:4, check.names = FALSE, stringsAsFactors = TRUE): arguments imply differing number of rows: 2, 3, 4\n"
     ]
    }
   ],
   "source": [
    "data.frame(x = 1:3, y = list(1:2, 1:3, 1:4))"
   ]
  },
  {
   "cell_type": "code",
   "execution_count": 16,
   "metadata": {
    "collapsed": false
   },
   "outputs": [
    {
     "name": "stdout",
     "output_type": "stream",
     "text": [
      "'data.frame':\t3 obs. of  2 variables:\n",
      " $ x: int  1 2 3\n",
      " $ y:List of 3\n",
      "  ..$ : int  1 2\n",
      "  ..$ : int  1 2 3\n",
      "  ..$ : int  1 2 3 4\n",
      "  ..- attr(*, \"class\")= chr \"AsIs\"\n"
     ]
    },
    {
     "data": {
      "text/plain": [
       "[[1]]\n",
       "[1] 1 2 3\n"
      ]
     },
     "execution_count": 16,
     "metadata": {},
     "output_type": "execute_result"
    }
   ],
   "source": [
    "dfl <- data.frame(x = 1:3, y = I(list(1:2, 1:3, 1:4)))\n",
    "str(dfl)\n",
    "dfl[2, \"y\"]"
   ]
  },
  {
   "cell_type": "code",
   "execution_count": 17,
   "metadata": {
    "collapsed": false
   },
   "outputs": [
    {
     "name": "stdout",
     "output_type": "stream",
     "text": [
      "'data.frame':\t3 obs. of  2 variables:\n",
      " $ x: int  1 2 3\n",
      " $ y: 'AsIs' int [1:3, 1:3] 1 2 3 4 5 6 7 8 9\n"
     ]
    },
    {
     "data": {
      "text/plain": [
       "     [,1] [,2] [,3]\n",
       "[1,]    2    5    8"
      ]
     },
     "execution_count": 17,
     "metadata": {},
     "output_type": "execute_result"
    }
   ],
   "source": [
    "dfm <- data.frame(x = 1:3, y = I(matrix(1:9, nrow = 3)))\n",
    "str(dfm)\n",
    "dfm[2, \"y\"]"
   ]
  },
  {
   "cell_type": "code",
   "execution_count": 21,
   "metadata": {
    "collapsed": false
   },
   "outputs": [
    {
     "data": {
      "text/html": [
       "<table>\n",
       "<thead><tr><th></th><th scope=col>x</th><th scope=col>y</th><th scope=col>z</th></tr></thead>\n",
       "<tbody>\n",
       "\t<tr><th scope=row>2</th><td>2</td><td>2</td><td>b</td></tr>\n",
       "</tbody>\n",
       "</table>\n"
      ],
      "text/latex": [
       "\\begin{tabular}{r|lll}\n",
       "  & x & y & z\\\\\n",
       "\\hline\n",
       "\t2 & 2 & 2 & b\\\\\n",
       "\\end{tabular}\n"
      ],
      "text/plain": [
       "  x y z\n",
       "2 2 2 b"
      ]
     },
     "execution_count": 21,
     "metadata": {},
     "output_type": "execute_result"
    },
    {
     "data": {
      "text/html": [
       "<table>\n",
       "<thead><tr><th></th><th scope=col>x</th><th scope=col>z</th></tr></thead>\n",
       "<tbody>\n",
       "\t<tr><th scope=row>1</th><td>1</td><td>a</td></tr>\n",
       "\t<tr><th scope=row>2</th><td>2</td><td>b</td></tr>\n",
       "\t<tr><th scope=row>3</th><td>3</td><td>c</td></tr>\n",
       "</tbody>\n",
       "</table>\n"
      ],
      "text/latex": [
       "\\begin{tabular}{r|ll}\n",
       "  & x & z\\\\\n",
       "\\hline\n",
       "\t1 & 1 & a\\\\\n",
       "\t2 & 2 & b\\\\\n",
       "\t3 & 3 & c\\\\\n",
       "\\end{tabular}\n"
      ],
      "text/plain": [
       "  x z\n",
       "1 1 a\n",
       "2 2 b\n",
       "3 3 c"
      ]
     },
     "execution_count": 21,
     "metadata": {},
     "output_type": "execute_result"
    },
    {
     "data": {
      "text/html": [
       "<table>\n",
       "<thead><tr><th></th><th scope=col>x</th><th scope=col>z</th></tr></thead>\n",
       "<tbody>\n",
       "\t<tr><th scope=row>1</th><td>1</td><td>a</td></tr>\n",
       "\t<tr><th scope=row>2</th><td>2</td><td>b</td></tr>\n",
       "\t<tr><th scope=row>3</th><td>3</td><td>c</td></tr>\n",
       "</tbody>\n",
       "</table>\n"
      ],
      "text/latex": [
       "\\begin{tabular}{r|ll}\n",
       "  & x & z\\\\\n",
       "\\hline\n",
       "\t1 & 1 & a\\\\\n",
       "\t2 & 2 & b\\\\\n",
       "\t3 & 3 & c\\\\\n",
       "\\end{tabular}\n"
      ],
      "text/plain": [
       "  x z\n",
       "1 1 a\n",
       "2 2 b\n",
       "3 3 c"
      ]
     },
     "execution_count": 21,
     "metadata": {},
     "output_type": "execute_result"
    },
    {
     "name": "stdout",
     "output_type": "stream",
     "text": [
      "'data.frame':\t3 obs. of  1 variable:\n",
      " $ x: int  1 2 3\n",
      " int [1:3] 1 2 3\n"
     ]
    }
   ],
   "source": [
    "df <- data.frame(x = 1:3, y = 3:1, z = letters[1:3])\n",
    "\n",
    "df[df$x == 2, ]\n",
    "df[c(\"x\", \"z\")]\n",
    "df[, c(\"x\", \"z\")]\n",
    "str(df[\"x\"])\n",
    "str(df[, \"x\"])"
   ]
  },
  {
   "cell_type": "code",
   "execution_count": 22,
   "metadata": {
    "collapsed": false
   },
   "outputs": [
    {
     "name": "stdout",
     "output_type": "stream",
     "text": [
      "'data.frame':\t2 obs. of  1 variable:\n",
      " $ a: int  1 2\n",
      " int [1:2] 1 2\n",
      "'data.frame':\t2 obs. of  1 variable:\n",
      " $ a: int  1 2\n",
      " int [1:2] 1 2\n"
     ]
    }
   ],
   "source": [
    "df <- data.frame(a = 1:2, b = 1:2)\n",
    "str(df[1])\n",
    "str(df[[1]])\n",
    "str(df[, \"a\", drop = FALSE])\n",
    "str(df[, \"a\"])"
   ]
  },
  {
   "cell_type": "code",
   "execution_count": 23,
   "metadata": {
    "collapsed": false
   },
   "outputs": [
    {
     "data": {
      "text/html": [
       "<ol class=list-inline>\n",
       "\t<li>0</li>\n",
       "\t<li>10</li>\n",
       "\t<li>NA</li>\n",
       "</ol>\n"
      ],
      "text/latex": [
       "\\begin{enumerate*}\n",
       "\\item 0\n",
       "\\item 10\n",
       "\\item NA\n",
       "\\end{enumerate*}\n"
      ],
      "text/markdown": [
       "1. 0\n",
       "2. 10\n",
       "3. NA\n",
       "\n",
       "\n"
      ],
      "text/plain": [
       "[1]  0 10 NA"
      ]
     },
     "execution_count": 23,
     "metadata": {},
     "output_type": "execute_result"
    }
   ],
   "source": [
    "df1 <- data.frame(a = c(1, 10, NA))\n",
    "df1$a[df1$a < 5] <- 0\n",
    "df1$a"
   ]
  },
  {
   "cell_type": "code",
   "execution_count": 27,
   "metadata": {
    "collapsed": false
   },
   "outputs": [
    {
     "data": {
      "text/html": [
       "\n",
       "<table width=\"100%\" summary=\"page for match {base}\"><tr><td>match {base}</td><td style=\"text-align: right;\">R Documentation</td></tr></table>\n",
       "\n",
       "<h2>Value Matching</h2>\n",
       "\n",
       "<h3>Description</h3>\n",
       "\n",
       "<p><code>match</code> returns a vector of the positions of (first) matches of\n",
       "its first argument in its second.\n",
       "</p>\n",
       "<p><code>%in%</code> is a more intuitive interface as a binary operator,\n",
       "which returns a logical vector indicating if there is a match or not\n",
       "for its left operand.\n",
       "</p>\n",
       "\n",
       "\n",
       "<h3>Usage</h3>\n",
       "\n",
       "<pre>\n",
       "match(x, table, nomatch = NA_integer_, incomparables = NULL)\n",
       "\n",
       "x %in% table\n",
       "</pre>\n",
       "\n",
       "\n",
       "<h3>Arguments</h3>\n",
       "\n",
       "<table summary=\"R argblock\">\n",
       "<tr valign=\"top\"><td><code>x</code></td>\n",
       "<td>\n",
       "<p>vector or <code>NULL</code>: the values to be matched.\n",
       "Long vectors are supported.</p>\n",
       "</td></tr>\n",
       "<tr valign=\"top\"><td><code>table</code></td>\n",
       "<td>\n",
       "<p>vector or <code>NULL</code>: the values to be matched against.\n",
       "Long vectors are not supported.</p>\n",
       "</td></tr>\n",
       "<tr valign=\"top\"><td><code>nomatch</code></td>\n",
       "<td>\n",
       "<p>the value to be returned in the case when no match is\n",
       "found.  Note that it is coerced to <code>integer</code>.</p>\n",
       "</td></tr>\n",
       "<tr valign=\"top\"><td><code>incomparables</code></td>\n",
       "<td>\n",
       "<p>a vector of values that cannot be matched.  Any\n",
       "value in <code>x</code> matching a value in this vector is assigned the\n",
       "<code>nomatch</code> value.  For historical reasons, <code>FALSE</code> is\n",
       "equivalent to <code>NULL</code>.</p>\n",
       "</td></tr>\n",
       "</table>\n",
       "\n",
       "\n",
       "<h3>Details</h3>\n",
       "\n",
       "<p><code>%in%</code> is currently defined as <br />\n",
       "<code>\"%in%\" &lt;- function(x, table) match(x, table, nomatch = 0) &gt; 0</code>\n",
       "</p>\n",
       "<p>Factors, raw vectors and lists are converted to character vectors, and\n",
       "then <code>x</code> and <code>table</code> are coerced to a common type (the later\n",
       "of the two types in <span style=\"font-family: Courier New, Courier; color: #666666;\"><b>R</b></span>'s ordering, logical &lt; integer &lt; numeric &lt;\n",
       "complex &lt; character) before matching.  If <code>incomparables</code> has\n",
       "positive length it is coerced to the common type.\n",
       "</p>\n",
       "<p>Matching for lists is potentially very slow and best avoided except in\n",
       "simple cases.\n",
       "</p>\n",
       "<p>Exactly what matches what is to some extent a matter of definition.\n",
       "For all types, <code>NA</code> matches <code>NA</code> and no other value.\n",
       "For real and complex values, <code>NaN</code> values are regarded\n",
       "as matching any other <code>NaN</code> value, but not matching <code>NA</code>.\n",
       "</p>\n",
       "<p>That <code>%in%</code> never returns <code>NA</code> makes it particularly\n",
       "useful in <code>if</code> conditions.\n",
       "</p>\n",
       "<p>Character strings will be compared as byte sequences if any input is\n",
       "marked as <code>\"bytes\"</code> (see <code>Encoding</code>).\n",
       "</p>\n",
       "\n",
       "\n",
       "<h3>Value</h3>\n",
       "\n",
       "<p>A vector of the same length as <code>x</code>.\n",
       "</p>\n",
       "<p><code>match</code>: An integer vector giving the position in <code>table</code> of\n",
       "the first match if there is a match, otherwise <code>nomatch</code>.\n",
       "</p>\n",
       "<p>If <code>x[i]</code> is found to equal <code>table[j]</code> then the value\n",
       "returned in the <code>i</code>-th position of the return value is <code>j</code>,\n",
       "for the smallest possible <code>j</code>.  If no match is found, the value\n",
       "is <code>nomatch</code>.\n",
       "</p>\n",
       "<p><code>%in%</code>: A logical vector, indicating if a match was located for\n",
       "each element of <code>x</code>: thus the values are <code>TRUE</code> or\n",
       "<code>FALSE</code> and never <code>NA</code>.\n",
       "</p>\n",
       "\n",
       "\n",
       "<h3>References</h3>\n",
       "\n",
       "<p>Becker, R. A., Chambers, J. M. and Wilks, A. R. (1988)\n",
       "<em>The New S Language</em>.\n",
       "Wadsworth &amp; Brooks/Cole.\n",
       "</p>\n",
       "\n",
       "\n",
       "<h3>See Also</h3>\n",
       "\n",
       "<p><code>pmatch</code> and <code>charmatch</code> for (<em>partial</em>)\n",
       "string matching, <code>match.arg</code>, etc for function argument\n",
       "matching.\n",
       "<code>findInterval</code> similarly returns a vector of positions, but\n",
       "finds numbers within intervals, rather than exact matches.\n",
       "</p>\n",
       "<p><code>is.element</code> for an S-compatible equivalent of <code>%in%</code>.\n",
       "</p>\n",
       "\n",
       "\n",
       "<h3>Examples</h3>\n",
       "\n",
       "<pre>\n",
       "## The intersection of two sets can be defined via match():\n",
       "## Simple version:\n",
       "## intersect &lt;- function(x, y) y[match(x, y, nomatch = 0)]\n",
       "intersect # the R function in base is slightly more careful\n",
       "intersect(1:10, 7:20)\n",
       "\n",
       "1:10 %in% c(1,3,5,9)\n",
       "sstr &lt;- c(\"c\",\"ab\",\"B\",\"bba\",\"c\",NA,\"@\",\"bla\",\"a\",\"Ba\",\"%\")\n",
       "sstr[sstr %in% c(letters, LETTERS)]\n",
       "\n",
       "\"%w/o%\" &lt;- function(x, y) x[!x %in% y] #--  x without y\n",
       "(1:10) %w/o% c(3,7,12)\n",
       "## Note that setdiff() is very similar and typically makes more sense: \n",
       "        c(1:6,7:2) %w/o% c(3,7,12)  # -&gt; keeps duplicates\n",
       "setdiff(c(1:6,7:2),        c(3,7,12)) # -&gt; unique values\n",
       "</pre>\n",
       "\n",
       "<hr /><div style=\"text-align: center;\">[Package <em>base</em> version 3.2.2 ]</div>"
      ],
      "text/latex": [
       "\\inputencoding{utf8}\n",
       "\\HeaderA{match}{Value Matching}{match}\n",
       "\\aliasA{\\%in\\%}{match}{.Rpcent.in.Rpcent.}\n",
       "\\keyword{manip}{match}\n",
       "\\keyword{logic}{match}\n",
       "%\n",
       "\\begin{Description}\\relax\n",
       "\\code{match} returns a vector of the positions of (first) matches of\n",
       "its first argument in its second.\n",
       "\n",
       "\\code{\\%in\\%} is a more intuitive interface as a binary operator,\n",
       "which returns a logical vector indicating if there is a match or not\n",
       "for its left operand.\n",
       "\\end{Description}\n",
       "%\n",
       "\\begin{Usage}\n",
       "\\begin{verbatim}\n",
       "match(x, table, nomatch = NA_integer_, incomparables = NULL)\n",
       "\n",
       "x %in% table\n",
       "\\end{verbatim}\n",
       "\\end{Usage}\n",
       "%\n",
       "\\begin{Arguments}\n",
       "\\begin{ldescription}\n",
       "\\item[\\code{x}] vector or \\code{NULL}: the values to be matched.\n",
       "\\LinkA{Long vectors}{Long vectors} are supported.\n",
       "\\item[\\code{table}] vector or \\code{NULL}: the values to be matched against.\n",
       "\\LinkA{Long vectors}{Long vectors} are not supported.\n",
       "\\item[\\code{nomatch}] the value to be returned in the case when no match is\n",
       "found.  Note that it is coerced to \\code{integer}.\n",
       "\\item[\\code{incomparables}] a vector of values that cannot be matched.  Any\n",
       "value in \\code{x} matching a value in this vector is assigned the\n",
       "\\code{nomatch} value.  For historical reasons, \\code{FALSE} is\n",
       "equivalent to \\code{NULL}.\n",
       "\\end{ldescription}\n",
       "\\end{Arguments}\n",
       "%\n",
       "\\begin{Details}\\relax\n",
       "\\code{\\%in\\%} is currently defined as \\\\{}\n",
       "\\code{\"\\%in\\%\" <- function(x, table) match(x, table, nomatch = 0) > 0}\n",
       "\n",
       "Factors, raw vectors and lists are converted to character vectors, and\n",
       "then \\code{x} and \\code{table} are coerced to a common type (the later\n",
       "of the two types in \\R{}'s ordering, logical < integer < numeric <\n",
       "complex < character) before matching.  If \\code{incomparables} has\n",
       "positive length it is coerced to the common type.\n",
       "\n",
       "Matching for lists is potentially very slow and best avoided except in\n",
       "simple cases.\n",
       "\n",
       "Exactly what matches what is to some extent a matter of definition.\n",
       "For all types, \\code{NA} matches \\code{NA} and no other value.\n",
       "For real and complex values, \\code{NaN} values are regarded\n",
       "as matching any other \\code{NaN} value, but not matching \\code{NA}.\n",
       "\n",
       "That \\code{\\%in\\%} never returns \\code{NA} makes it particularly\n",
       "useful in \\code{if} conditions.\n",
       "\n",
       "Character strings will be compared as byte sequences if any input is\n",
       "marked as \\code{\"bytes\"} (see \\code{\\LinkA{Encoding}{Encoding}}).\n",
       "\\end{Details}\n",
       "%\n",
       "\\begin{Value}\n",
       "A vector of the same length as \\code{x}.\n",
       "\n",
       "\\code{match}: An integer vector giving the position in \\code{table} of\n",
       "the first match if there is a match, otherwise \\code{nomatch}.\n",
       "\n",
       "If \\code{x[i]} is found to equal \\code{table[j]} then the value\n",
       "returned in the \\code{i}-th position of the return value is \\code{j},\n",
       "for the smallest possible \\code{j}.  If no match is found, the value\n",
       "is \\code{nomatch}.\n",
       "\n",
       "\\code{\\%in\\%}: A logical vector, indicating if a match was located for\n",
       "each element of \\code{x}: thus the values are \\code{TRUE} or\n",
       "\\code{FALSE} and never \\code{NA}.\n",
       "\\end{Value}\n",
       "%\n",
       "\\begin{References}\\relax\n",
       "Becker, R. A., Chambers, J. M. and Wilks, A. R. (1988)\n",
       "\\emph{The New S Language}.\n",
       "Wadsworth \\& Brooks/Cole.\n",
       "\\end{References}\n",
       "%\n",
       "\\begin{SeeAlso}\\relax\n",
       "\\code{\\LinkA{pmatch}{pmatch}} and \\code{\\LinkA{charmatch}{charmatch}} for (\\emph{partial})\n",
       "string matching, \\code{\\LinkA{match.arg}{match.arg}}, etc for function argument\n",
       "matching.\n",
       "\\code{\\LinkA{findInterval}{findInterval}} similarly returns a vector of positions, but\n",
       "finds numbers within intervals, rather than exact matches.\n",
       "\n",
       "\\code{\\LinkA{is.element}{is.element}} for an S-compatible equivalent of \\code{\\%in\\%}.\n",
       "\\end{SeeAlso}\n",
       "%\n",
       "\\begin{Examples}\n",
       "\\begin{ExampleCode}\n",
       "## The intersection of two sets can be defined via match():\n",
       "## Simple version:\n",
       "## intersect <- function(x, y) y[match(x, y, nomatch = 0)]\n",
       "intersect # the R function in base is slightly more careful\n",
       "intersect(1:10, 7:20)\n",
       "\n",
       "1:10 %in% c(1,3,5,9)\n",
       "sstr <- c(\"c\",\"ab\",\"B\",\"bba\",\"c\",NA,\"@\",\"bla\",\"a\",\"Ba\",\"%\")\n",
       "sstr[sstr %in% c(letters, LETTERS)]\n",
       "\n",
       "\"%w/o%\" <- function(x, y) x[!x %in% y] #--  x without y\n",
       "(1:10) %w/o% c(3,7,12)\n",
       "## Note that setdiff() is very similar and typically makes more sense: \n",
       "        c(1:6,7:2) %w/o% c(3,7,12)  # -> keeps duplicates\n",
       "setdiff(c(1:6,7:2),        c(3,7,12)) # -> unique values\n",
       "\\end{ExampleCode}\n",
       "\\end{Examples}"
      ],
      "text/plain": [
       "match                   package:base                   R Documentation\n",
       "\n",
       "_\bV_\ba_\bl_\bu_\be _\bM_\ba_\bt_\bc_\bh_\bi_\bn_\bg\n",
       "\n",
       "_\bD_\be_\bs_\bc_\br_\bi_\bp_\bt_\bi_\bo_\bn:\n",
       "\n",
       "     ‘match’ returns a vector of the positions of (first) matches of\n",
       "     its first argument in its second.\n",
       "\n",
       "     ‘%in%’ is a more intuitive interface as a binary operator, which\n",
       "     returns a logical vector indicating if there is a match or not for\n",
       "     its left operand.\n",
       "\n",
       "_\bU_\bs_\ba_\bg_\be:\n",
       "\n",
       "     match(x, table, nomatch = NA_integer_, incomparables = NULL)\n",
       "     \n",
       "     x %in% table\n",
       "     \n",
       "_\bA_\br_\bg_\bu_\bm_\be_\bn_\bt_\bs:\n",
       "\n",
       "       x: vector or ‘NULL’: the values to be matched.  Long vectors are\n",
       "          supported.\n",
       "\n",
       "   table: vector or ‘NULL’: the values to be matched against.  Long\n",
       "          vectors are not supported.\n",
       "\n",
       " nomatch: the value to be returned in the case when no match is found.\n",
       "          Note that it is coerced to ‘integer’.\n",
       "\n",
       "incomparables: a vector of values that cannot be matched.  Any value in\n",
       "          ‘x’ matching a value in this vector is assigned the ‘nomatch’\n",
       "          value.  For historical reasons, ‘FALSE’ is equivalent to\n",
       "          ‘NULL’.\n",
       "\n",
       "_\bD_\be_\bt_\ba_\bi_\bl_\bs:\n",
       "\n",
       "     ‘%in%’ is currently defined as\n",
       "     ‘\"%in%\" <- function(x, table) match(x, table, nomatch = 0) > 0’\n",
       "\n",
       "     Factors, raw vectors and lists are converted to character vectors,\n",
       "     and then ‘x’ and ‘table’ are coerced to a common type (the later\n",
       "     of the two types in R's ordering, logical < integer < numeric <\n",
       "     complex < character) before matching.  If ‘incomparables’ has\n",
       "     positive length it is coerced to the common type.\n",
       "\n",
       "     Matching for lists is potentially very slow and best avoided\n",
       "     except in simple cases.\n",
       "\n",
       "     Exactly what matches what is to some extent a matter of\n",
       "     definition.  For all types, ‘NA’ matches ‘NA’ and no other value.\n",
       "     For real and complex values, ‘NaN’ values are regarded as matching\n",
       "     any other ‘NaN’ value, but not matching ‘NA’.\n",
       "\n",
       "     That ‘%in%’ never returns ‘NA’ makes it particularly useful in\n",
       "     ‘if’ conditions.\n",
       "\n",
       "     Character strings will be compared as byte sequences if any input\n",
       "     is marked as ‘\"bytes\"’ (see ‘Encoding’).\n",
       "\n",
       "_\bV_\ba_\bl_\bu_\be:\n",
       "\n",
       "     A vector of the same length as ‘x’.\n",
       "\n",
       "     ‘match’: An integer vector giving the position in ‘table’ of the\n",
       "     first match if there is a match, otherwise ‘nomatch’.\n",
       "\n",
       "     If ‘x[i]’ is found to equal ‘table[j]’ then the value returned in\n",
       "     the ‘i’-th position of the return value is ‘j’, for the smallest\n",
       "     possible ‘j’.  If no match is found, the value is ‘nomatch’.\n",
       "\n",
       "     ‘%in%’: A logical vector, indicating if a match was located for\n",
       "     each element of ‘x’: thus the values are ‘TRUE’ or ‘FALSE’ and\n",
       "     never ‘NA’.\n",
       "\n",
       "_\bR_\be_\bf_\be_\br_\be_\bn_\bc_\be_\bs:\n",
       "\n",
       "     Becker, R. A., Chambers, J. M. and Wilks, A. R. (1988) _The New S\n",
       "     Language_.  Wadsworth & Brooks/Cole.\n",
       "\n",
       "_\bS_\be_\be _\bA_\bl_\bs_\bo:\n",
       "\n",
       "     ‘pmatch’ and ‘charmatch’ for (_partial_) string matching,\n",
       "     ‘match.arg’, etc for function argument matching.  ‘findInterval’\n",
       "     similarly returns a vector of positions, but finds numbers within\n",
       "     intervals, rather than exact matches.\n",
       "\n",
       "     ‘is.element’ for an S-compatible equivalent of ‘%in%’.\n",
       "\n",
       "_\bE_\bx_\ba_\bm_\bp_\bl_\be_\bs:\n",
       "\n",
       "     ## The intersection of two sets can be defined via match():\n",
       "     ## Simple version:\n",
       "     ## intersect <- function(x, y) y[match(x, y, nomatch = 0)]\n",
       "     intersect # the R function in base is slightly more careful\n",
       "     intersect(1:10, 7:20)\n",
       "     \n",
       "     1:10 %in% c(1,3,5,9)\n",
       "     sstr <- c(\"c\",\"ab\",\"B\",\"bba\",\"c\",NA,\"@\",\"bla\",\"a\",\"Ba\",\"%\")\n",
       "     sstr[sstr %in% c(letters, LETTERS)]\n",
       "     \n",
       "     \"%w/o%\" <- function(x, y) x[!x %in% y] #--  x without y\n",
       "     (1:10) %w/o% c(3,7,12)\n",
       "     ## Note that setdiff() is very similar and typically makes more sense: \n",
       "             c(1:6,7:2) %w/o% c(3,7,12)  # -> keeps duplicates\n",
       "     setdiff(c(1:6,7:2),        c(3,7,12)) # -> unique values\n",
       "     "
      ]
     },
     "execution_count": 27,
     "metadata": {},
     "output_type": "execute_result"
    },
    {
     "data": {
      "text/html": [
       "<ol class=list-inline>\n",
       "\t<li>1</li>\n",
       "\t<li>2</li>\n",
       "\t<li>2</li>\n",
       "\t<li>3</li>\n",
       "\t<li>1</li>\n",
       "</ol>\n"
      ],
      "text/latex": [
       "\\begin{enumerate*}\n",
       "\\item 1\n",
       "\\item 2\n",
       "\\item 2\n",
       "\\item 3\n",
       "\\item 1\n",
       "\\end{enumerate*}\n"
      ],
      "text/markdown": [
       "1. 1\n",
       "2. 2\n",
       "3. 2\n",
       "4. 3\n",
       "5. 1\n",
       "\n",
       "\n"
      ],
      "text/plain": [
       "[1] 1 2 2 3 1"
      ]
     },
     "execution_count": 27,
     "metadata": {},
     "output_type": "execute_result"
    },
    {
     "data": {
      "text/html": [
       "<table>\n",
       "<thead><tr><th></th><th scope=col>grados</th><th scope=col>desc</th><th scope=col>f</th></tr></thead>\n",
       "<tbody>\n",
       "\t<tr><th scope=row>3</th><td>1</td><td>Pobre</td><td>TRUE</td></tr>\n",
       "\t<tr><th scope=row>2</th><td>2</td><td>Bueno</td><td>FALSE</td></tr>\n",
       "\t<tr><th scope=row>2.1</th><td>2</td><td>Bueno</td><td>FALSE</td></tr>\n",
       "\t<tr><th scope=row>1</th><td>3</td><td>Excelente</td><td>FALSE</td></tr>\n",
       "\t<tr><th scope=row>3.1</th><td>1</td><td>Pobre</td><td>TRUE</td></tr>\n",
       "</tbody>\n",
       "</table>\n"
      ],
      "text/latex": [
       "\\begin{tabular}{r|lll}\n",
       "  & grados & desc & f\\\\\n",
       "\\hline\n",
       "\t3 & 1 & Pobre & TRUE\\\\\n",
       "\t2 & 2 & Bueno & FALSE\\\\\n",
       "\t2.1 & 2 & Bueno & FALSE\\\\\n",
       "\t1 & 3 & Excelente & FALSE\\\\\n",
       "\t3.1 & 1 & Pobre & TRUE\\\\\n",
       "\\end{tabular}\n"
      ],
      "text/plain": [
       "    grados      desc     f\n",
       "3        1     Pobre  TRUE\n",
       "2        2     Bueno FALSE\n",
       "2.1      2     Bueno FALSE\n",
       "1        3 Excelente FALSE\n",
       "3.1      1     Pobre  TRUE"
      ]
     },
     "execution_count": 27,
     "metadata": {},
     "output_type": "execute_result"
    },
    {
     "data": {
      "text/html": [
       "<table>\n",
       "<thead><tr><th></th><th scope=col>grados</th><th scope=col>desc</th><th scope=col>f</th></tr></thead>\n",
       "<tbody>\n",
       "\t<tr><th scope=row>1</th><td>1</td><td>Pobre</td><td>TRUE</td></tr>\n",
       "\t<tr><th scope=row>2</th><td>2</td><td>Bueno</td><td>FALSE</td></tr>\n",
       "\t<tr><th scope=row>2.1</th><td>2</td><td>Bueno</td><td>FALSE</td></tr>\n",
       "\t<tr><th scope=row>3</th><td>3</td><td>Excelente</td><td>FALSE</td></tr>\n",
       "\t<tr><th scope=row>1.1</th><td>1</td><td>Pobre</td><td>TRUE</td></tr>\n",
       "</tbody>\n",
       "</table>\n"
      ],
      "text/latex": [
       "\\begin{tabular}{r|lll}\n",
       "  & grados & desc & f\\\\\n",
       "\\hline\n",
       "\t1 & 1 & Pobre & TRUE\\\\\n",
       "\t2 & 2 & Bueno & FALSE\\\\\n",
       "\t2.1 & 2 & Bueno & FALSE\\\\\n",
       "\t3 & 3 & Excelente & FALSE\\\\\n",
       "\t1.1 & 1 & Pobre & TRUE\\\\\n",
       "\\end{tabular}\n"
      ],
      "text/plain": [
       "    grados      desc     f\n",
       "1        1     Pobre  TRUE\n",
       "2        2     Bueno FALSE\n",
       "2.1      2     Bueno FALSE\n",
       "3        3 Excelente FALSE\n",
       "1.1      1     Pobre  TRUE"
      ]
     },
     "execution_count": 27,
     "metadata": {},
     "output_type": "execute_result"
    }
   ],
   "source": [
    "help(match)\n",
    "grados <- c(1, 2, 2, 3, 1)\n",
    "\n",
    "info <- data.frame(\n",
    "  grados = 3:1,\n",
    "  desc = c(\"Excelente\", \"Bueno\", \"Pobre\"),\n",
    "  f = c(F, F, T)\n",
    ")\n",
    "grados\n",
    "id <- match(grados, info$grados)\n",
    "info[id, ]\n",
    "rownames(info) <- info$grados\n",
    "info[as.character(grados), ]"
   ]
  },
  {
   "cell_type": "code",
   "execution_count": 28,
   "metadata": {
    "collapsed": false
   },
   "outputs": [
    {
     "data": {
      "text/html": [
       "<table>\n",
       "<thead><tr><th></th><th scope=col>x</th><th scope=col>y</th><th scope=col>z</th></tr></thead>\n",
       "<tbody>\n",
       "\t<tr><th scope=row>4</th><td>2</td><td>3</td><td>d</td></tr>\n",
       "\t<tr><th scope=row>2</th><td>1</td><td>5</td><td>b</td></tr>\n",
       "\t<tr><th scope=row>5</th><td>3</td><td>2</td><td>e</td></tr>\n",
       "\t<tr><th scope=row>3</th><td>2</td><td>4</td><td>c</td></tr>\n",
       "\t<tr><th scope=row>1</th><td>1</td><td>6</td><td>a</td></tr>\n",
       "\t<tr><th scope=row>6</th><td>3</td><td>1</td><td>f</td></tr>\n",
       "</tbody>\n",
       "</table>\n"
      ],
      "text/latex": [
       "\\begin{tabular}{r|lll}\n",
       "  & x & y & z\\\\\n",
       "\\hline\n",
       "\t4 & 2 & 3 & d\\\\\n",
       "\t2 & 1 & 5 & b\\\\\n",
       "\t5 & 3 & 2 & e\\\\\n",
       "\t3 & 2 & 4 & c\\\\\n",
       "\t1 & 1 & 6 & a\\\\\n",
       "\t6 & 3 & 1 & f\\\\\n",
       "\\end{tabular}\n"
      ],
      "text/plain": [
       "  x y z\n",
       "4 2 3 d\n",
       "2 1 5 b\n",
       "5 3 2 e\n",
       "3 2 4 c\n",
       "1 1 6 a\n",
       "6 3 1 f"
      ]
     },
     "execution_count": 28,
     "metadata": {},
     "output_type": "execute_result"
    },
    {
     "data": {
      "text/html": [
       "<table>\n",
       "<thead><tr><th></th><th scope=col>x</th><th scope=col>y</th><th scope=col>z</th></tr></thead>\n",
       "<tbody>\n",
       "\t<tr><th scope=row>2</th><td>1</td><td>5</td><td>b</td></tr>\n",
       "\t<tr><th scope=row>6</th><td>3</td><td>1</td><td>f</td></tr>\n",
       "\t<tr><th scope=row>3</th><td>2</td><td>4</td><td>c</td></tr>\n",
       "</tbody>\n",
       "</table>\n"
      ],
      "text/latex": [
       "\\begin{tabular}{r|lll}\n",
       "  & x & y & z\\\\\n",
       "\\hline\n",
       "\t2 & 1 & 5 & b\\\\\n",
       "\t6 & 3 & 1 & f\\\\\n",
       "\t3 & 2 & 4 & c\\\\\n",
       "\\end{tabular}\n"
      ],
      "text/plain": [
       "  x y z\n",
       "2 1 5 b\n",
       "6 3 1 f\n",
       "3 2 4 c"
      ]
     },
     "execution_count": 28,
     "metadata": {},
     "output_type": "execute_result"
    },
    {
     "data": {
      "text/html": [
       "<table>\n",
       "<thead><tr><th></th><th scope=col>x</th><th scope=col>y</th><th scope=col>z</th></tr></thead>\n",
       "<tbody>\n",
       "\t<tr><th scope=row>3</th><td>2</td><td>4</td><td>c</td></tr>\n",
       "\t<tr><th scope=row>4</th><td>2</td><td>3</td><td>d</td></tr>\n",
       "\t<tr><th scope=row>4.1</th><td>2</td><td>3</td><td>d</td></tr>\n",
       "\t<tr><th scope=row>1</th><td>1</td><td>6</td><td>a</td></tr>\n",
       "\t<tr><th scope=row>4.2</th><td>2</td><td>3</td><td>d</td></tr>\n",
       "\t<tr><th scope=row>3.1</th><td>2</td><td>4</td><td>c</td></tr>\n",
       "</tbody>\n",
       "</table>\n"
      ],
      "text/latex": [
       "\\begin{tabular}{r|lll}\n",
       "  & x & y & z\\\\\n",
       "\\hline\n",
       "\t3 & 2 & 4 & c\\\\\n",
       "\t4 & 2 & 3 & d\\\\\n",
       "\t4.1 & 2 & 3 & d\\\\\n",
       "\t1 & 1 & 6 & a\\\\\n",
       "\t4.2 & 2 & 3 & d\\\\\n",
       "\t3.1 & 2 & 4 & c\\\\\n",
       "\\end{tabular}\n"
      ],
      "text/plain": [
       "    x y z\n",
       "3   2 4 c\n",
       "4   2 3 d\n",
       "4.1 2 3 d\n",
       "1   1 6 a\n",
       "4.2 2 3 d\n",
       "3.1 2 4 c"
      ]
     },
     "execution_count": 28,
     "metadata": {},
     "output_type": "execute_result"
    }
   ],
   "source": [
    "dfr <- data.frame(x = rep(1:3, each = 2), y = 6:1, z = letters[1:6])\n",
    "set.seed(10)\n",
    "dfr[sample(nrow(dfr)), ]\n",
    "dfr[sample(nrow(dfr), 3), ]\n",
    "dfr[sample(nrow(dfr), 6, rep = T), ]"
   ]
  },
  {
   "cell_type": "markdown",
   "metadata": {},
   "source": [
    "## Factors"
   ]
  },
  {
   "cell_type": "code",
   "execution_count": 7,
   "metadata": {
    "collapsed": false
   },
   "outputs": [
    {
     "data": {
      "text/html": [
       "<ol class=list-inline>\n",
       "\t<li>Mili</li>\n",
       "\t<li>Cesar</li>\n",
       "\t<li>Cesar</li>\n",
       "\t<li>Mili</li>\n",
       "</ol>\n"
      ],
      "text/latex": [
       "\\begin{enumerate*}\n",
       "\\item Mili\n",
       "\\item Cesar\n",
       "\\item Cesar\n",
       "\\item Mili\n",
       "\\end{enumerate*}\n"
      ],
      "text/markdown": [
       "1. Mili\n",
       "2. Cesar\n",
       "3. Cesar\n",
       "4. Mili\n",
       "\n",
       "\n"
      ],
      "text/plain": [
       "[1] Mili  Cesar Cesar Mili \n",
       "Levels: Cesar Mili"
      ]
     },
     "execution_count": 7,
     "metadata": {},
     "output_type": "execute_result"
    },
    {
     "data": {
      "text/html": [
       "'factor'"
      ],
      "text/latex": [
       "'factor'"
      ],
      "text/markdown": [
       "'factor'"
      ],
      "text/plain": [
       "[1] \"factor\""
      ]
     },
     "execution_count": 7,
     "metadata": {},
     "output_type": "execute_result"
    },
    {
     "data": {
      "text/html": [
       "<ol class=list-inline>\n",
       "\t<li>'Cesar'</li>\n",
       "\t<li>'Mili'</li>\n",
       "</ol>\n"
      ],
      "text/latex": [
       "\\begin{enumerate*}\n",
       "\\item 'Cesar'\n",
       "\\item 'Mili'\n",
       "\\end{enumerate*}\n"
      ],
      "text/markdown": [
       "1. 'Cesar'\n",
       "2. 'Mili'\n",
       "\n",
       "\n"
      ],
      "text/plain": [
       "[1] \"Cesar\" \"Mili\" "
      ]
     },
     "execution_count": 7,
     "metadata": {},
     "output_type": "execute_result"
    },
    {
     "name": "stderr",
     "output_type": "stream",
     "text": [
      "Warning message:\n",
      "In `[<-.factor`(`*tmp*`, 2, value = \"Python\"): invalid factor level, NA generated"
     ]
    },
    {
     "data": {
      "text/html": [
       "<ol class=list-inline>\n",
       "\t<li>Mili</li>\n",
       "\t<li>NA</li>\n",
       "\t<li>Cesar</li>\n",
       "\t<li>Mili</li>\n",
       "</ol>\n"
      ],
      "text/latex": [
       "\\begin{enumerate*}\n",
       "\\item Mili\n",
       "\\item NA\n",
       "\\item Cesar\n",
       "\\item Mili\n",
       "\\end{enumerate*}\n"
      ],
      "text/markdown": [
       "1. Mili\n",
       "2. NA\n",
       "3. Cesar\n",
       "4. Mili\n",
       "\n",
       "\n"
      ],
      "text/plain": [
       "[1] Mili  <NA>  Cesar Mili \n",
       "Levels: Cesar Mili"
      ]
     },
     "execution_count": 7,
     "metadata": {},
     "output_type": "execute_result"
    },
    {
     "data": {
      "text/html": [
       "<ol class=list-inline>\n",
       "\t<li>1</li>\n",
       "\t<li>1</li>\n",
       "</ol>\n"
      ],
      "text/latex": [
       "\\begin{enumerate*}\n",
       "\\item 1\n",
       "\\item 1\n",
       "\\end{enumerate*}\n"
      ],
      "text/markdown": [
       "1. 1\n",
       "2. 1\n",
       "\n",
       "\n"
      ],
      "text/plain": [
       "[1] 1 1"
      ]
     },
     "execution_count": 7,
     "metadata": {},
     "output_type": "execute_result"
    }
   ],
   "source": [
    "x <- factor(c(\"Mili\", \"Cesar\", \"Cesar\", \"Mili\"))\n",
    "x\n",
    "class(x)\n",
    "levels(x)\n",
    "x[2] <- \"Python\"\n",
    "x\n",
    "\n",
    "c(factor(\"Mili\"), factor(\"Cesar\"))"
   ]
  },
  {
   "cell_type": "code",
   "execution_count": null,
   "metadata": {
    "collapsed": true
   },
   "outputs": [],
   "source": []
  }
 ],
 "metadata": {
  "kernelspec": {
   "display_name": "R",
   "language": "R",
   "name": "ir"
  },
  "language_info": {
   "codemirror_mode": "r",
   "file_extension": ".r",
   "mimetype": "text/x-r-source",
   "name": "R",
   "pygments_lexer": "r",
   "version": "3.2.2"
  }
 },
 "nbformat": 4,
 "nbformat_minor": 0
}
