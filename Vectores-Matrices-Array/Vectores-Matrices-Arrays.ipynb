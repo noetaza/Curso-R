{
 "cells": [
  {
   "cell_type": "markdown",
   "metadata": {},
   "source": [
    "#Vocabulario R"
   ]
  },
  {
   "cell_type": "markdown",
   "metadata": {},
   "source": [
    "Una parte importante de entender  R es tener un buen vocabulario de los objetos a tratar. Esta lista que viene a continuación abarca funciones del paquete base, de estructura de datos, estadísticas, del entornos de R, I/O. "
   ]
  },
  {
   "cell_type": "markdown",
   "metadata": {},
   "source": [
    "##  Funciones Básicas\n",
    "\n",
    "```python\n",
    "# Primeras funciones a aprender\n",
    "?\n",
    "str\n",
    "\n",
    "# Importantantes  operadores y asignamiento \n",
    "%in%, match\n",
    "=, <-, <<-\n",
    "$, [, [[, head, tail, subset\n",
    "with\n",
    "assign, get\n",
    "\n",
    "# Comparación \n",
    "all.equal, identical\n",
    "!=, ==, >, >=, <, <=\n",
    "is.na, complete.cases\n",
    "is.finite\n",
    "\n",
    "# Matematica básica\n",
    "*, +, -, /, ^, %%, %/%\n",
    "abs, sign\n",
    "acos, asin, atan, atan2\n",
    "sin, cos, tan\n",
    "ceiling, floor, round, trunc, signif\n",
    "exp, log, log10, log2, sqrt\n",
    "\n",
    "max, min, prod, sum\n",
    "cummax, cummin, cumprod, cumsum, diff\n",
    "pmax, pmin\n",
    "range\n",
    "mean, median, cor, sd, var\n",
    "rle\n",
    "\n",
    "# Funciones para hacer funciones\n",
    "function\n",
    "missing\n",
    "on.exit\n",
    "return, invisible\n",
    "\n",
    "# Lógica & conjuntos\n",
    "&, |, !, xor\n",
    "all, any\n",
    "intersect, union, setdiff, setequal\n",
    "which\n",
    "\n",
    "# Vectores y  matrices\n",
    "c, matrix\n",
    "# automatica coercion de  character > numeric > logical\n",
    "length, dim, ncol, nrow\n",
    "cbind, rbind\n",
    "names, colnames, rownames\n",
    "t\n",
    "diag\n",
    "sweep\n",
    "as.matrix, data.matrix\n",
    "\n",
    "# Vectores \n",
    "c\n",
    "rep, rep_len\n",
    "seq, seq_len, seq_along\n",
    "rev\n",
    "sample\n",
    "choose, factorial, combn\n",
    "(is/as).(character/numeric/logical/...)\n",
    "\n",
    "# Listas & data.frames \n",
    "list, unlist\n",
    "data.frame, as.data.frame\n",
    "split\n",
    "expand.grid\n",
    "\n",
    "# Flujo de control\n",
    "if, &&, || (short circuiting)\n",
    "for, while\n",
    "next, break\n",
    "switch\n",
    "ifelse\n",
    "\n",
    "# Apply y sus amigas\n",
    "lapply, sapply, vapply\n",
    "apply\n",
    "tapply\n",
    "replicate\n",
    "```"
   ]
  },
  {
   "cell_type": "markdown",
   "metadata": {},
   "source": [
    "##Funciones para estructura de datos \n",
    "\n",
    "```python\n",
    "# Tiempo\n",
    "ISOdate, ISOdatetime, strftime, strptime, date\n",
    "difftime\n",
    "julian, months, quarters, weekdays\n",
    "library(lubridate)\n",
    "\n",
    "# Manipulación de caracteres \n",
    "grep, agrep\n",
    "gsub\n",
    "strsplit\n",
    "chartr\n",
    "nchar\n",
    "tolower, toupper\n",
    "substr\n",
    "paste\n",
    "library(stringr)\n",
    "\n",
    "# Factors \n",
    "factor, levels, nlevels\n",
    "reorder, relevel\n",
    "cut, findInterval\n",
    "interaction\n",
    "options(stringsAsFactors = FALSE)\n",
    "\n",
    "# Manipulación de Arrays.\n",
    "array\n",
    "dim\n",
    "dimnames\n",
    "aperm\n",
    "library(abind)\n",
    "```"
   ]
  },
  {
   "cell_type": "markdown",
   "metadata": {},
   "source": [
    "##Funciones para Estadística\n",
    "\n",
    "```python\n",
    "# Ordenado  y  tabulando\n",
    "duplicated, unique\n",
    "merge\n",
    "order, rank, quantile\n",
    "sort\n",
    "table, ftable\n",
    "\n",
    "# Modelos lineales \n",
    "fitted, predict, resid, rstandard\n",
    "lm, glm\n",
    "hat, influence.measures\n",
    "logLik, df, deviance\n",
    "formula, ~, I\n",
    "anova, coef, confint, vcov\n",
    "contrasts\n",
    "\n",
    "# Miscelanea de Test\n",
    "apropos(\"\\\\.test$\")\n",
    "\n",
    "# Variables Aleatorias \n",
    "(q, p, d, r) * (beta, binom, cauchy, chisq, exp, f, gamma, geom, \n",
    "  hyper, lnorm, logis, multinom, nbinom, norm, pois, signrank, t, \n",
    "  unif, weibull, wilcox, birthday, tukey)\n",
    "\n",
    "# Algebra Matricial\n",
    "crossprod, tcrossprod\n",
    "eigen, qr, svd\n",
    "%*%, %o%, outer\n",
    "rcond\n",
    "solve\n",
    "```"
   ]
  },
  {
   "cell_type": "markdown",
   "metadata": {},
   "source": [
    "## Funciones para el entorno R\n",
    "\n",
    "```python\n",
    "# Entorno de trabajo\n",
    "ls, exists, rm\n",
    "getwd, setwd\n",
    "q\n",
    "source\n",
    "install.packages, library, require\n",
    "\n",
    "# Ayuda\n",
    "help, ?\n",
    "help.search\n",
    "apropos\n",
    "RSiteSearch\n",
    "citation\n",
    "demo\n",
    "example\n",
    "vignette\n",
    "\n",
    "# Depurado\n",
    "traceback\n",
    "browser\n",
    "recover\n",
    "options(error = )\n",
    "stop, warning, message\n",
    "tryCatch, try\n",
    "```"
   ]
  },
  {
   "cell_type": "markdown",
   "metadata": {},
   "source": [
    "## I/0\n",
    "\n",
    "```python\n",
    "\n",
    "# Salida\n",
    "print, cat\n",
    "message, warning\n",
    "dput\n",
    "format\n",
    "sink, capture.output\n",
    "\n",
    "# Leyendo y  escribiendo datos\n",
    "data\n",
    "count.fields\n",
    "read.csv, write.csv\n",
    "read.delim, write.delim\n",
    "read.fwf\n",
    "readLines, writeLines\n",
    "readRDS, saveRDS\n",
    "load, save\n",
    "library(foreign)\n",
    "\n",
    "# Archivos y directorios \n",
    "dir\n",
    "basename, dirname, tools::file_ext\n",
    "file.path\n",
    "path.expand, normalizePath\n",
    "file.choose\n",
    "file.copy, file.create, file.remove, file.rename, dir.create\n",
    "file.exists, file.info\n",
    "tempdir, tempfile\n",
    "download.file, library(downloader)\n",
    "\n",
    "```"
   ]
  },
  {
   "cell_type": "markdown",
   "metadata": {},
   "source": [
    "# Vectores, Matrices y Arrays"
   ]
  },
  {
   "cell_type": "markdown",
   "metadata": {},
   "source": [
    "Las estructuras de datos de R, pueden ser organizadas por su *dimensión (1d, 2d o nd)* y si ellas son **homógeneas **\n",
    "(todo el contenido debe ser del mismo tipo) o **heterógeneas** (el contenido puede ser de diferente tipo). A partir de esta organización surgen cinco tipos de datos que son usados en el *análisis de datos*.\n",
    "\n",
    "|          | Homogéneos |  Heterogéneos |\n",
    "| :------- | :------:   |  -----:       |\n",
    "| 1d       |  Vector    |  Lista         |\n",
    "| 2d       |  Matriz    | Data Frame    |\n",
    "|nd        |  Array     | \n",
    "\n",
    "\n",
    "Ten en cuenta que R tiene ningún tipo de dimensión cero o escalares. Números o cadenas individuales, que se podría pensar que sería escalares, en realidad son vectores de longitud uno. Dado un objeto, la mejor manera de entender de lo que  la estructuras de datos se compone  es utilizar **str ()**. **str ()** es la abreviatura de *estructura* y proporciona  una compacta descripción, legible de cualquier estructura de datos en  R."
   ]
  },
  {
   "cell_type": "code",
   "execution_count": 38,
   "metadata": {
    "collapsed": false
   },
   "outputs": [
    {
     "name": "stdout",
     "output_type": "stream",
     "text": [
      "function (..., na.rm = FALSE)  \n",
      "List of 6\n",
      " $ breaks  : num [1:11] 400 500 600 700 800 900 1000 1100 1200 1300 ...\n",
      " $ counts  : int [1:10] 1 0 5 20 25 19 12 11 6 1\n",
      " $ density : num [1:10] 0.0001 0 0.0005 0.002 0.0025 0.0019 0.0012 0.0011 0.0006 0.0001\n",
      " $ mids    : num [1:10] 450 550 650 750 850 950 1050 1150 1250 1350\n",
      " $ xname   : chr \"Nile\"\n",
      " $ equidist: logi TRUE\n",
      " - attr(*, \"class\")= chr \"histogram\"\n"
     ]
    },
    {
     "data": {
      "application/pdf": "[encoded data removed]",
      "image/jpeg": "[encoded data removed]",
      "image/png": "[encoded data removed]",
      "image/svg+xml": [
       "<?xml version=\"1.0\" encoding=\"UTF-8\"?>\n",
       "<svg xmlns=\"http://www.w3.org/2000/svg\" xmlns:xlink=\"http://www.w3.org/1999/xlink\" width=\"504pt\" height=\"504pt\" viewBox=\"0 0 504 504\" version=\"1.1\">\n",
       "<defs>\n",
       "<g>\n",
       "<symbol overflow=\"visible\" id=\"glyph0-0\">\n",
       "<path style=\"stroke:none;\" d=\"\"/>\n",
       "</symbol>\n",
       "<symbol overflow=\"visible\" id=\"glyph0-1\">\n",
       "<path style=\"stroke:none;\" d=\"M 9.53125 -0.125 L 9.53125 -10.78125 L 7.21875 -10.78125 L 7.21875 -6.84375 L 3.21875 -6.84375 L 3.21875 -10.78125 L 0.890625 -10.78125 L 0.890625 0 L 3.21875 0 L 3.21875 -4.765625 L 7.21875 -4.765625 L 7.21875 0 L 9.53125 0 Z M 9.53125 -0.125 \"/>\n",
       "</symbol>\n",
       "<symbol overflow=\"visible\" id=\"glyph0-2\">\n",
       "<path style=\"stroke:none;\" d=\"M 3.046875 -0.125 L 3.046875 -8.046875 L 0.875 -8.046875 L 0.875 0 L 3.046875 0 Z M 3.078125 -8.84375 L 3.078125 -11 L 0.90625 -11 L 0.90625 -8.71875 L 3.078125 -8.71875 Z M 3.078125 -8.84375 \"/>\n",
       "</symbol>\n",
       "<symbol overflow=\"visible\" id=\"glyph0-3\">\n",
       "<path style=\"stroke:none;\" d=\"M 7.5625 -2.4375 L 7.5625 -2.53125 C 7.5625 -3.421875 6.984375 -4.234375 5.96875 -4.53125 L 3.421875 -5.265625 C 2.859375 -5.4375 2.78125 -5.421875 2.78125 -5.734375 C 2.78125 -6.171875 3.171875 -6.328125 3.875 -6.328125 C 4.84375 -6.328125 5.234375 -6.109375 5.25 -5.265625 L 7.34375 -5.265625 C 7.3125 -7.046875 5.984375 -8.1875 3.890625 -8.1875 C 1.921875 -8.1875 0.609375 -7.046875 0.609375 -5.453125 C 0.609375 -4.5 0.953125 -3.84375 2.390625 -3.40625 L 4.796875 -2.65625 C 5.296875 -2.5 5.390625 -2.46875 5.390625 -2.25 C 5.390625 -1.765625 4.90625 -1.734375 3.96875 -1.734375 C 3.046875 -1.734375 2.640625 -1.75 2.4375 -2.734375 L 0.328125 -2.734375 C 0.390625 -0.890625 1.734375 0.125 4.09375 0.125 C 6.28125 0.125 7.5625 -0.859375 7.5625 -2.4375 Z M 7.5625 -2.4375 \"/>\n",
       "</symbol>\n",
       "<symbol overflow=\"visible\" id=\"glyph0-4\">\n",
       "<path style=\"stroke:none;\" d=\"M 4.40625 -0.125 L 4.40625 -1.703125 C 4.140625 -1.65625 4.015625 -1.640625 3.875 -1.640625 C 3.34375 -1.640625 3.28125 -1.65625 3.28125 -2.34375 L 3.28125 -6.28125 L 4.40625 -6.28125 L 4.40625 -7.890625 L 3.28125 -7.890625 L 3.28125 -9.984375 L 1.109375 -9.984375 L 1.109375 -7.890625 L 0.109375 -7.890625 L 0.109375 -6.28125 L 1.109375 -6.28125 L 1.109375 -1.796875 C 1.109375 -0.578125 1.84375 0.0625 3.171875 0.0625 C 3.609375 0.0625 3.96875 0.015625 4.40625 0 Z M 4.40625 -0.125 \"/>\n",
       "</symbol>\n",
       "<symbol overflow=\"visible\" id=\"glyph0-5\">\n",
       "<path style=\"stroke:none;\" d=\"M 8.265625 -3.96875 C 8.265625 -6.59375 6.765625 -8.1875 4.34375 -8.1875 C 1.953125 -8.1875 0.421875 -6.5625 0.421875 -4.015625 C 0.421875 -1.453125 1.953125 0.125 4.34375 0.125 C 6.71875 0.125 8.265625 -1.46875 8.265625 -3.96875 Z M 6.09375 -3.984375 C 6.09375 -2.53125 5.4375 -1.765625 4.34375 -1.765625 C 3.25 -1.765625 2.59375 -2.53125 2.59375 -4.015625 C 2.59375 -5.5 3.25 -6.28125 4.34375 -6.28125 C 5.453125 -6.28125 6.09375 -5.515625 6.09375 -3.984375 Z M 6.09375 -3.984375 \"/>\n",
       "</symbol>\n",
       "<symbol overflow=\"visible\" id=\"glyph0-6\">\n",
       "<path style=\"stroke:none;\" d=\"M 7.859375 0.125 L 7.859375 -8.046875 L 5.796875 -8.046875 L 5.796875 -7.015625 C 5.3125 -7.734375 4.609375 -8.1875 3.71875 -8.1875 C 1.875 -8.1875 0.40625 -6.34375 0.40625 -3.9375 C 0.40625 -1.515625 1.75 0.125 3.671875 0.125 C 4.578125 0.125 5.171875 -0.171875 5.796875 -0.796875 L 5.796875 0.125 C 5.796875 1.0625 5.171875 1.5625 4.15625 1.5625 C 3.40625 1.5625 2.96875 1.390625 2.765625 0.65625 L 0.5625 0.65625 C 0.59375 2.078125 1.953125 3.140625 4.09375 3.140625 C 6.4375 3.140625 7.859375 1.953125 7.859375 0.125 Z M 5.8125 -3.96875 C 5.8125 -2.546875 5.171875 -1.828125 4.125 -1.828125 C 3.171875 -1.828125 2.578125 -2.546875 2.578125 -3.96875 C 2.578125 -5.4375 3.171875 -6.21875 4.15625 -6.21875 C 5.15625 -6.21875 5.8125 -5.40625 5.8125 -3.96875 Z M 5.8125 -3.96875 \"/>\n",
       "</symbol>\n",
       "<symbol overflow=\"visible\" id=\"glyph0-7\">\n",
       "<path style=\"stroke:none;\" d=\"M 5.40625 -5.984375 L 5.40625 -8.15625 C 5.21875 -8.1875 5.140625 -8.1875 5.078125 -8.1875 C 4.15625 -8.1875 3.265625 -7.375 2.84375 -6.328125 L 3 -6.375 L 3 -8.046875 L 0.828125 -8.046875 L 0.828125 0 L 3 0 L 3 -4.265625 C 3 -5.453125 3.515625 -5.90625 4.703125 -5.90625 C 4.90625 -5.90625 5.0625 -5.890625 5.40625 -5.828125 Z M 5.40625 -5.984375 \"/>\n",
       "</symbol>\n",
       "<symbol overflow=\"visible\" id=\"glyph0-8\">\n",
       "<path style=\"stroke:none;\" d=\"M 7.625 -0.125 L 7.625 -0.46875 C 7.234375 -0.8125 7.15625 -0.921875 7.15625 -1.328125 L 7.15625 -5.640625 C 7.15625 -7.234375 6 -8.1875 3.90625 -8.1875 C 1.796875 -8.1875 0.625 -7.09375 0.484375 -5.21875 L 2.578125 -5.21875 C 2.6875 -6.15625 2.953125 -6.28125 3.953125 -6.28125 C 4.71875 -6.28125 5.03125 -6.15625 5.03125 -5.640625 C 5.03125 -4.8125 4.515625 -5.046875 3.5 -4.875 L 2.6875 -4.71875 C 1.15625 -4.453125 0.3125 -3.640625 0.3125 -2.234375 C 0.3125 -0.71875 1.46875 0.125 2.765625 0.125 C 3.625 0.125 4.46875 -0.28125 5.046875 -0.875 C 5.046875 -0.703125 5.109375 -0.265625 5.328125 0 L 7.625 0 Z M 5.03125 -3.453125 C 5.03125 -2.296875 4.53125 -1.765625 3.515625 -1.765625 C 2.84375 -1.765625 2.5 -1.890625 2.5 -2.46875 C 2.5 -3.046875 2.734375 -3.140625 3.578125 -3.296875 L 4.265625 -3.421875 C 4.796875 -3.53125 4.921875 -3.59375 5.03125 -3.640625 Z M 5.03125 -3.453125 \"/>\n",
       "</symbol>\n",
       "<symbol overflow=\"visible\" id=\"glyph0-9\">\n",
       "<path style=\"stroke:none;\" d=\"M 11.9375 -0.125 L 11.9375 -5.640625 C 11.9375 -7.140625 10.953125 -8.1875 9.390625 -8.1875 C 8.40625 -8.1875 7.671875 -7.796875 7.109375 -7.078125 C 6.78125 -7.71875 5.96875 -8.1875 5 -8.1875 C 4.109375 -8.1875 3.46875 -7.84375 2.9375 -7.203125 L 2.9375 -8.046875 L 0.78125 -8.046875 L 0.78125 0 L 2.953125 0 L 2.953125 -4.796875 C 2.953125 -5.75 3.40625 -6.1875 4.265625 -6.1875 C 4.9375 -6.1875 5.265625 -5.9375 5.265625 -5.3125 L 5.265625 0 L 7.453125 0 L 7.453125 -4.796875 C 7.453125 -5.75 7.890625 -6.1875 8.765625 -6.1875 C 9.4375 -6.1875 9.765625 -5.9375 9.765625 -5.3125 L 9.765625 0 L 11.9375 0 Z M 11.9375 -0.125 \"/>\n",
       "</symbol>\n",
       "<symbol overflow=\"visible\" id=\"glyph0-10\">\n",
       "<path style=\"stroke:none;\" d=\"\"/>\n",
       "</symbol>\n",
       "<symbol overflow=\"visible\" id=\"glyph0-11\">\n",
       "<path style=\"stroke:none;\" d=\"M 4.578125 -6.40625 L 4.578125 -7.890625 L 3.390625 -7.890625 L 3.390625 -8.515625 C 3.390625 -8.921875 3.484375 -8.984375 3.859375 -8.984375 C 4.03125 -8.984375 4.265625 -8.96875 4.515625 -8.9375 L 4.515625 -10.734375 C 4.0625 -10.765625 3.5625 -10.78125 3.28125 -10.78125 C 1.9375 -10.78125 1.203125 -10 1.203125 -8.6875 L 1.203125 -7.890625 L 0.109375 -7.890625 L 0.109375 -6.28125 L 1.203125 -6.28125 L 1.203125 0 L 3.390625 0 L 3.390625 -6.28125 L 4.578125 -6.28125 Z M 4.578125 -6.40625 \"/>\n",
       "</symbol>\n",
       "<symbol overflow=\"visible\" id=\"glyph0-12\">\n",
       "<path style=\"stroke:none;\" d=\"M 9.59375 -0.125 L 9.59375 -10.78125 L 7.28125 -10.78125 L 7.28125 -3.8125 L 3.234375 -10.78125 L 0.890625 -10.78125 L 0.890625 0 L 3.21875 0 L 3.21875 -7.0625 L 7.3125 0 L 9.59375 0 Z M 9.59375 -0.125 \"/>\n",
       "</symbol>\n",
       "<symbol overflow=\"visible\" id=\"glyph0-13\">\n",
       "<path style=\"stroke:none;\" d=\"M 3.046875 -0.125 L 3.046875 -10.78125 L 0.875 -10.78125 L 0.875 0 L 3.046875 0 Z M 3.046875 -0.125 \"/>\n",
       "</symbol>\n",
       "<symbol overflow=\"visible\" id=\"glyph0-14\">\n",
       "<path style=\"stroke:none;\" d=\"M 7.640625 -3.734375 C 7.640625 -6.40625 6.203125 -8.1875 3.921875 -8.1875 C 1.6875 -8.1875 0.234375 -6.53125 0.234375 -3.921875 C 0.234375 -1.421875 1.671875 0.125 3.875 0.125 C 5.625 0.125 7.109375 -0.796875 7.59375 -2.46875 L 5.453125 -2.46875 C 5.234375 -1.703125 4.6875 -1.6875 3.953125 -1.6875 C 3 -1.6875 2.46875 -1.96875 2.40625 -3.359375 L 7.609375 -3.359375 Z M 5.453125 -4.96875 L 2.453125 -4.96875 C 2.5625 -5.90625 3 -6.375 3.890625 -6.375 C 4.75 -6.375 5.265625 -5.9375 5.359375 -4.96875 Z M 5.453125 -4.96875 \"/>\n",
       "</symbol>\n",
       "<symbol overflow=\"visible\" id=\"glyph1-0\">\n",
       "<path style=\"stroke:none;\" d=\"\"/>\n",
       "</symbol>\n",
       "<symbol overflow=\"visible\" id=\"glyph1-1\">\n",
       "<path style=\"stroke:none;\" d=\"M 7.890625 -0.125 L 7.890625 -9.015625 L 6.546875 -9.015625 L 6.546875 -1.734375 L 6.796875 -1.828125 L 2.1875 -9.015625 L 0.765625 -9.015625 L 0.765625 0 L 2.09375 0 L 2.09375 -7.21875 L 1.859375 -7.125 L 6.421875 0 L 7.890625 0 Z M 7.890625 -0.125 \"/>\n",
       "</symbol>\n",
       "<symbol overflow=\"visible\" id=\"glyph1-2\">\n",
       "<path style=\"stroke:none;\" d=\"M 1.96875 -0.125 L 1.96875 -6.546875 L 0.703125 -6.546875 L 0.703125 0 L 1.96875 0 Z M 2.09375 -7.375 L 2.09375 -8.75 L 0.578125 -8.75 L 0.578125 -7.234375 L 2.09375 -7.234375 Z M 2.09375 -7.375 \"/>\n",
       "</symbol>\n",
       "<symbol overflow=\"visible\" id=\"glyph1-3\">\n",
       "<path style=\"stroke:none;\" d=\"M 1.9375 -0.125 L 1.9375 -9.015625 L 0.671875 -9.015625 L 0.671875 0 L 1.9375 0 Z M 1.9375 -0.125 \"/>\n",
       "</symbol>\n",
       "<symbol overflow=\"visible\" id=\"glyph1-4\">\n",
       "<path style=\"stroke:none;\" d=\"M 6.28125 -2.984375 C 6.28125 -3.90625 6.21875 -4.46875 6.03125 -4.9375 C 5.625 -5.96875 4.53125 -6.734375 3.359375 -6.734375 C 1.609375 -6.734375 0.34375 -5.296875 0.34375 -3.234375 C 0.34375 -1.171875 1.578125 0.1875 3.34375 0.1875 C 4.78125 0.1875 5.90625 -0.765625 6.1875 -2.171875 L 4.921875 -2.171875 C 4.59375 -1.21875 4.171875 -1.015625 3.375 -1.015625 C 2.328125 -1.015625 1.6875 -1.546875 1.65625 -2.859375 L 6.28125 -2.859375 Z M 5.1875 -3.78125 C 5.1875 -3.78125 4.984375 -3.921875 4.984375 -3.9375 L 1.6875 -3.9375 C 1.765625 -4.921875 2.34375 -5.546875 3.34375 -5.546875 C 4.328125 -5.546875 4.9375 -4.859375 4.9375 -3.875 Z M 5.1875 -3.78125 \"/>\n",
       "</symbol>\n",
       "<symbol overflow=\"visible\" id=\"glyph1-5\">\n",
       "<path style=\"stroke:none;\" d=\"M 6.375 -2.171875 L 6.375 -3.25 L 5.109375 -3.25 L 5.109375 -8.765625 L 4.125 -8.765625 L 0.1875 -3.328125 L 0.1875 -2.046875 L 3.78125 -2.046875 L 3.78125 0 L 5.109375 0 L 5.109375 -2.046875 L 6.375 -2.046875 Z M 3.921875 -3.25 L 1.515625 -3.25 L 4.015625 -6.75 L 3.78125 -6.84375 L 3.78125 -3.25 Z M 3.921875 -3.25 \"/>\n",
       "</symbol>\n",
       "<symbol overflow=\"visible\" id=\"glyph1-6\">\n",
       "<path style=\"stroke:none;\" d=\"M 6.21875 -4.21875 C 6.21875 -7.171875 5.140625 -8.765625 3.296875 -8.765625 C 1.46875 -8.765625 0.375 -7.15625 0.375 -4.296875 C 0.375 -1.421875 1.46875 0.1875 3.296875 0.1875 C 5.09375 0.1875 6.21875 -1.421875 6.21875 -4.21875 Z M 4.859375 -4.3125 C 4.859375 -1.90625 4.453125 -0.953125 3.28125 -0.953125 C 2.15625 -0.953125 1.734375 -1.953125 1.734375 -4.28125 C 1.734375 -6.609375 2.15625 -7.578125 3.296875 -7.578125 C 4.4375 -7.578125 4.859375 -6.59375 4.859375 -4.3125 Z M 4.859375 -4.3125 \"/>\n",
       "</symbol>\n",
       "<symbol overflow=\"visible\" id=\"glyph1-7\">\n",
       "<path style=\"stroke:none;\" d=\"M 6.28125 -2.765625 C 6.28125 -4.359375 5.078125 -5.5625 3.546875 -5.5625 C 2.71875 -5.5625 1.9375 -5.203125 1.484375 -4.578125 L 1.734375 -4.46875 C 1.734375 -6.546875 2.28125 -7.578125 3.484375 -7.578125 C 4.234375 -7.578125 4.609375 -7.234375 4.796875 -6.28125 L 6.125 -6.28125 C 5.90625 -7.8125 4.859375 -8.765625 3.5625 -8.765625 C 1.578125 -8.765625 0.375 -6.96875 0.375 -4.015625 C 0.375 -1.359375 1.421875 0.1875 3.375 0.1875 C 4.984375 0.1875 6.28125 -1.109375 6.28125 -2.765625 Z M 4.9375 -2.6875 C 4.9375 -1.625 4.359375 -1.015625 3.390625 -1.015625 C 2.40625 -1.015625 1.78125 -1.65625 1.78125 -2.75 C 1.78125 -3.796875 2.375 -4.359375 3.421875 -4.359375 C 4.4375 -4.359375 4.9375 -3.828125 4.9375 -2.6875 Z M 4.9375 -2.6875 \"/>\n",
       "</symbol>\n",
       "<symbol overflow=\"visible\" id=\"glyph1-8\">\n",
       "<path style=\"stroke:none;\" d=\"M 6.28125 -2.53125 C 6.28125 -3.484375 5.671875 -4.265625 4.953125 -4.625 C 5.65625 -5.046875 5.984375 -5.5625 5.984375 -6.375 C 5.984375 -7.703125 4.8125 -8.765625 3.296875 -8.765625 C 1.796875 -8.765625 0.59375 -7.703125 0.59375 -6.375 C 0.59375 -5.578125 0.921875 -5.046875 1.625 -4.625 C 0.921875 -4.265625 0.296875 -3.484375 0.296875 -2.546875 C 0.296875 -0.984375 1.625 0.1875 3.296875 0.1875 C 4.984375 0.1875 6.28125 -0.984375 6.28125 -2.53125 Z M 4.625 -6.34375 C 4.625 -5.5625 4.1875 -5.15625 3.296875 -5.15625 C 2.40625 -5.15625 1.953125 -5.5625 1.953125 -6.359375 C 1.953125 -7.171875 2.40625 -7.578125 3.296875 -7.578125 C 4.203125 -7.578125 4.625 -7.171875 4.625 -6.34375 Z M 4.9375 -2.515625 C 4.9375 -1.515625 4.359375 -1.015625 3.28125 -1.015625 C 2.25 -1.015625 1.65625 -1.53125 1.65625 -2.515625 C 1.65625 -3.515625 2.25 -4.015625 3.296875 -4.015625 C 4.359375 -4.015625 4.9375 -3.515625 4.9375 -2.515625 Z M 4.9375 -2.515625 \"/>\n",
       "</symbol>\n",
       "<symbol overflow=\"visible\" id=\"glyph1-9\">\n",
       "<path style=\"stroke:none;\" d=\"M 4.296875 -0.125 L 4.296875 -8.765625 L 3.359375 -8.765625 C 2.953125 -7.328125 2.859375 -7.28125 1.078125 -7.0625 L 1.078125 -6.0625 L 2.96875 -6.0625 L 2.96875 0 L 4.296875 0 Z M 4.296875 -0.125 \"/>\n",
       "</symbol>\n",
       "<symbol overflow=\"visible\" id=\"glyph1-10\">\n",
       "<path style=\"stroke:none;\" d=\"M 6.265625 -6.140625 C 6.265625 -7.578125 5.015625 -8.765625 3.40625 -8.765625 C 1.671875 -8.765625 0.515625 -7.75 0.453125 -5.5625 L 1.78125 -5.5625 C 1.875 -7.109375 2.328125 -7.578125 3.375 -7.578125 C 4.328125 -7.578125 4.90625 -7.03125 4.90625 -6.125 C 4.90625 -5.453125 4.546875 -4.96875 3.796875 -4.53125 L 2.6875 -3.90625 C 0.90625 -2.90625 0.359375 -2 0.25 0 L 6.203125 0 L 6.203125 -1.3125 L 1.75 -1.3125 C 1.84375 -1.875 2.1875 -2.21875 3.234375 -2.828125 L 4.421875 -3.484375 C 5.609375 -4.109375 6.265625 -5.09375 6.265625 -6.140625 Z M 6.265625 -6.140625 \"/>\n",
       "</symbol>\n",
       "<symbol overflow=\"visible\" id=\"glyph2-0\">\n",
       "<path style=\"stroke:none;\" d=\"\"/>\n",
       "</symbol>\n",
       "<symbol overflow=\"visible\" id=\"glyph2-1\">\n",
       "<path style=\"stroke:none;\" d=\"M -7.890625 -7.078125 L -9.015625 -7.078125 L -9.015625 -0.9375 L 0 -0.9375 L 0 -2.328125 L -3.984375 -2.328125 L -3.984375 -6.5 L -5.234375 -6.5 L -5.234375 -2.328125 L -7.765625 -2.328125 L -7.765625 -7.078125 Z M -7.890625 -7.078125 \"/>\n",
       "</symbol>\n",
       "<symbol overflow=\"visible\" id=\"glyph2-2\">\n",
       "<path style=\"stroke:none;\" d=\"M -5.546875 -3.984375 L -6.6875 -3.984375 C -6.71875 -3.6875 -6.734375 -3.59375 -6.734375 -3.46875 C -6.734375 -2.8125 -6.3125 -2.21875 -5.375 -1.640625 L -5.28125 -1.890625 L -6.546875 -1.890625 L -6.546875 -0.703125 L 0 -0.703125 L 0 -1.96875 L -3.390625 -1.96875 C -4.8125 -1.96875 -5.390625 -2.296875 -5.40625 -3.984375 Z M -5.546875 -3.984375 \"/>\n",
       "</symbol>\n",
       "<symbol overflow=\"visible\" id=\"glyph2-3\">\n",
       "<path style=\"stroke:none;\" d=\"M -2.984375 -6.28125 C -3.90625 -6.28125 -4.46875 -6.21875 -4.9375 -6.03125 C -5.96875 -5.625 -6.734375 -4.53125 -6.734375 -3.359375 C -6.734375 -1.609375 -5.296875 -0.34375 -3.234375 -0.34375 C -1.171875 -0.34375 0.1875 -1.578125 0.1875 -3.34375 C 0.1875 -4.78125 -0.765625 -5.90625 -2.171875 -6.1875 L -2.171875 -4.921875 C -1.21875 -4.59375 -1.015625 -4.171875 -1.015625 -3.375 C -1.015625 -2.328125 -1.546875 -1.6875 -2.859375 -1.65625 L -2.859375 -6.28125 Z M -3.78125 -5.1875 C -3.78125 -5.1875 -3.921875 -4.984375 -3.9375 -4.984375 L -3.9375 -1.6875 C -4.921875 -1.765625 -5.546875 -2.34375 -5.546875 -3.34375 C -5.546875 -4.328125 -4.859375 -4.9375 -3.875 -4.9375 Z M -3.78125 -5.1875 \"/>\n",
       "</symbol>\n",
       "<symbol overflow=\"visible\" id=\"glyph2-4\">\n",
       "<path style=\"stroke:none;\" d=\"M 2.484375 -6.078125 L -6.546875 -6.078125 L -6.546875 -4.90625 L -5.578125 -4.90625 L -5.671875 -5.140625 C -6.34375 -4.6875 -6.734375 -3.875 -6.734375 -3.046875 C -6.734375 -1.390625 -5.296875 -0.171875 -3.203125 -0.171875 C -1.15625 -0.171875 0.1875 -1.34375 0.1875 -3 C 0.1875 -3.875 -0.171875 -4.578125 -0.859375 -5.046875 L -0.953125 -4.796875 L 2.609375 -4.796875 L 2.609375 -6.078125 Z M -3.234375 -4.796875 C -1.796875 -4.796875 -1.015625 -4.25 -1.015625 -3.1875 C -1.015625 -2.09375 -1.8125 -1.484375 -3.28125 -1.484375 C -4.734375 -1.484375 -5.53125 -2.09375 -5.53125 -3.1875 C -5.53125 -4.265625 -4.703125 -4.796875 -3.234375 -4.796875 Z M -3.234375 -4.796875 \"/>\n",
       "</symbol>\n",
       "<symbol overflow=\"visible\" id=\"glyph2-5\">\n",
       "<path style=\"stroke:none;\" d=\"M -0.125 -5.921875 L -6.546875 -5.921875 L -6.546875 -4.640625 L -2.953125 -4.640625 C -1.671875 -4.640625 -0.953125 -4.109375 -0.953125 -3.078125 C -0.953125 -2.28125 -1.3125 -1.90625 -2.0625 -1.90625 L -6.546875 -1.90625 L -6.546875 -0.640625 L -1.671875 -0.640625 C -0.625 -0.640625 0.1875 -1.5625 0.1875 -2.78125 C 0.1875 -3.703125 -0.1875 -4.390625 -1.015625 -4.984375 L -1.109375 -4.734375 L 0 -4.734375 L 0 -5.921875 Z M -0.125 -5.921875 \"/>\n",
       "</symbol>\n",
       "<symbol overflow=\"visible\" id=\"glyph2-6\">\n",
       "<path style=\"stroke:none;\" d=\"M -0.125 -5.96875 L -4.890625 -5.96875 C -5.921875 -5.96875 -6.734375 -5.0625 -6.734375 -3.859375 C -6.734375 -2.921875 -6.34375 -2.203125 -5.453125 -1.65625 L -5.359375 -1.890625 L -6.546875 -1.890625 L -6.546875 -0.703125 L 0 -0.703125 L 0 -1.96875 L -3.59375 -1.96875 C -4.890625 -1.96875 -5.59375 -2.53125 -5.59375 -3.546875 C -5.59375 -4.34375 -5.25 -4.703125 -4.484375 -4.703125 L 0 -4.703125 L 0 -5.96875 Z M -0.125 -5.96875 \"/>\n",
       "</symbol>\n",
       "<symbol overflow=\"visible\" id=\"glyph2-7\">\n",
       "<path style=\"stroke:none;\" d=\"M -2.421875 -5.71875 L -2.421875 -4.59375 C -1.28125 -4.40625 -1.015625 -4.03125 -1.015625 -3.1875 C -1.015625 -2.078125 -1.734375 -1.546875 -3.21875 -1.546875 C -4.78125 -1.546875 -5.546875 -2.0625 -5.546875 -3.15625 C -5.546875 -4 -5.1875 -4.375 -4.171875 -4.53125 L -4.171875 -5.796875 C -5.84375 -5.65625 -6.734375 -4.578125 -6.734375 -3.171875 C -6.734375 -1.46875 -5.296875 -0.234375 -3.21875 -0.234375 C -1.1875 -0.234375 0.1875 -1.453125 0.1875 -3.15625 C 0.1875 -4.65625 -0.859375 -5.734375 -2.421875 -5.875 Z M -2.421875 -5.71875 \"/>\n",
       "</symbol>\n",
       "<symbol overflow=\"visible\" id=\"glyph2-8\">\n",
       "<path style=\"stroke:none;\" d=\"M -6.546875 -5.734375 L -6.546875 -4.5625 L -1.53125 -2.765625 L -1.53125 -3.046875 L -6.546875 -1.390625 L -6.546875 -0.046875 L -0.109375 -2.21875 L 0.890625 -1.84375 C 1.328125 -1.671875 1.375 -1.609375 1.375 -1.171875 C 1.375 -1.03125 1.34375 -0.859375 1.265625 -0.5 L 2.40625 -0.5 C 2.53125 -0.75 2.609375 -1.0625 2.609375 -1.3125 C 2.609375 -2.03125 2.09375 -2.734375 1.1875 -3.078125 L -6.546875 -5.921875 Z M -6.546875 -5.734375 \"/>\n",
       "</symbol>\n",
       "<symbol overflow=\"visible\" id=\"glyph2-9\">\n",
       "<path style=\"stroke:none;\" d=\"M -4.21875 -6.21875 C -7.171875 -6.21875 -8.765625 -5.140625 -8.765625 -3.296875 C -8.765625 -1.46875 -7.15625 -0.375 -4.296875 -0.375 C -1.421875 -0.375 0.1875 -1.46875 0.1875 -3.296875 C 0.1875 -5.09375 -1.421875 -6.21875 -4.21875 -6.21875 Z M -4.3125 -4.859375 C -1.90625 -4.859375 -0.953125 -4.453125 -0.953125 -3.28125 C -0.953125 -2.15625 -1.953125 -1.734375 -4.28125 -1.734375 C -6.609375 -1.734375 -7.578125 -2.15625 -7.578125 -3.296875 C -7.578125 -4.4375 -6.59375 -4.859375 -4.3125 -4.859375 Z M -4.3125 -4.859375 \"/>\n",
       "</symbol>\n",
       "<symbol overflow=\"visible\" id=\"glyph2-10\">\n",
       "<path style=\"stroke:none;\" d=\"M -2.953125 -6.28125 C -4.625 -6.28125 -5.875 -5.046875 -5.875 -3.40625 C -5.875 -2.8125 -5.671875 -2.21875 -5.515625 -2.015625 L -7.28125 -2.28125 L -7.28125 -5.84375 L -8.59375 -5.84375 L -8.59375 -1.203125 L -3.875 -0.515625 L -3.875 -1.71875 C -4.5 -2.25 -4.671875 -2.5625 -4.671875 -3.21875 C -4.671875 -4.359375 -4.0625 -4.9375 -2.8125 -4.9375 C -1.578125 -4.9375 -1.015625 -4.375 -1.015625 -3.21875 C -1.015625 -2.296875 -1.359375 -1.859375 -2.453125 -1.578125 L -2.453125 -0.25 C -0.625 -0.625 0.1875 -1.734375 0.1875 -3.234375 C 0.1875 -4.953125 -1.15625 -6.28125 -2.953125 -6.28125 Z M -2.953125 -6.28125 \"/>\n",
       "</symbol>\n",
       "<symbol overflow=\"visible\" id=\"glyph2-11\">\n",
       "<path style=\"stroke:none;\" d=\"M -0.125 -4.296875 L -8.765625 -4.296875 L -8.765625 -3.359375 C -7.328125 -2.953125 -7.28125 -2.859375 -7.0625 -1.078125 L -6.0625 -1.078125 L -6.0625 -2.96875 L 0 -2.96875 L 0 -4.296875 Z M -0.125 -4.296875 \"/>\n",
       "</symbol>\n",
       "<symbol overflow=\"visible\" id=\"glyph2-12\">\n",
       "<path style=\"stroke:none;\" d=\"M -6.140625 -6.265625 C -7.578125 -6.265625 -8.765625 -5.015625 -8.765625 -3.40625 C -8.765625 -1.671875 -7.75 -0.515625 -5.5625 -0.453125 L -5.5625 -1.78125 C -7.109375 -1.875 -7.578125 -2.328125 -7.578125 -3.375 C -7.578125 -4.328125 -7.03125 -4.90625 -6.125 -4.90625 C -5.453125 -4.90625 -4.96875 -4.546875 -4.53125 -3.796875 L -3.90625 -2.6875 C -2.90625 -0.90625 -2 -0.359375 0 -0.25 L 0 -6.203125 L -1.3125 -6.203125 L -1.3125 -1.75 C -1.875 -1.84375 -2.21875 -2.1875 -2.828125 -3.234375 L -3.484375 -4.421875 C -4.109375 -5.609375 -5.09375 -6.265625 -6.140625 -6.265625 Z M -6.140625 -6.265625 \"/>\n",
       "</symbol>\n",
       "</g>\n",
       "</defs>\n",
       "<g id=\"surface116\">\n",
       "<rect x=\"0\" y=\"0\" width=\"504\" height=\"504\" style=\"fill:rgb(100%,100%,100%);fill-opacity:1;stroke:none;\"/>\n",
       "<g style=\"fill:rgb(0%,0%,0%);fill-opacity:1;\">\n",
       "  <use xlink:href=\"#glyph0-1\" x=\"206.398438\" y=\"34.21875\"/>\n",
       "  <use xlink:href=\"#glyph0-2\" x=\"216.799805\" y=\"34.21875\"/>\n",
       "  <use xlink:href=\"#glyph0-3\" x=\"220.804688\" y=\"34.21875\"/>\n",
       "  <use xlink:href=\"#glyph0-4\" x=\"228.814453\" y=\"34.21875\"/>\n",
       "  <use xlink:href=\"#glyph0-5\" x=\"233.467773\" y=\"34.21875\"/>\n",
       "  <use xlink:href=\"#glyph0-6\" x=\"242.269531\" y=\"34.21875\"/>\n",
       "  <use xlink:href=\"#glyph0-7\" x=\"251.071289\" y=\"34.21875\"/>\n",
       "  <use xlink:href=\"#glyph0-8\" x=\"256.74707\" y=\"34.21875\"/>\n",
       "  <use xlink:href=\"#glyph0-9\" x=\"264.756836\" y=\"34.21875\"/>\n",
       "  <use xlink:href=\"#glyph0-10\" x=\"277.563477\" y=\"34.21875\"/>\n",
       "  <use xlink:href=\"#glyph0-5\" x=\"281.568359\" y=\"34.21875\"/>\n",
       "  <use xlink:href=\"#glyph0-11\" x=\"290.370117\" y=\"34.21875\"/>\n",
       "  <use xlink:href=\"#glyph0-10\" x=\"295.166992\" y=\"34.21875\"/>\n",
       "  <use xlink:href=\"#glyph0-12\" x=\"299.171875\" y=\"34.21875\"/>\n",
       "  <use xlink:href=\"#glyph0-2\" x=\"309.573242\" y=\"34.21875\"/>\n",
       "  <use xlink:href=\"#glyph0-13\" x=\"313.578125\" y=\"34.21875\"/>\n",
       "  <use xlink:href=\"#glyph0-14\" x=\"317.583008\" y=\"34.21875\"/>\n",
       "</g>\n",
       "<g style=\"fill:rgb(0%,0%,0%);fill-opacity:1;\">\n",
       "  <use xlink:href=\"#glyph1-1\" x=\"255.898438\" y=\"485.057617\"/>\n",
       "  <use xlink:href=\"#glyph1-2\" x=\"264.5625\" y=\"485.057617\"/>\n",
       "  <use xlink:href=\"#glyph1-3\" x=\"267.226562\" y=\"485.057617\"/>\n",
       "  <use xlink:href=\"#glyph1-4\" x=\"269.890625\" y=\"485.057617\"/>\n",
       "</g>\n",
       "<g style=\"fill:rgb(0%,0%,0%);fill-opacity:1;\">\n",
       "  <use xlink:href=\"#glyph2-1\" x=\"12.737305\" y=\"273.300781\"/>\n",
       "  <use xlink:href=\"#glyph2-2\" x=\"12.737305\" y=\"266.388672\"/>\n",
       "  <use xlink:href=\"#glyph2-3\" x=\"12.737305\" y=\"262.511719\"/>\n",
       "  <use xlink:href=\"#glyph2-4\" x=\"12.737305\" y=\"255.839844\"/>\n",
       "  <use xlink:href=\"#glyph2-5\" x=\"12.737305\" y=\"249.108398\"/>\n",
       "  <use xlink:href=\"#glyph2-3\" x=\"12.737305\" y=\"242.436523\"/>\n",
       "  <use xlink:href=\"#glyph2-6\" x=\"12.737305\" y=\"235.764648\"/>\n",
       "  <use xlink:href=\"#glyph2-7\" x=\"12.737305\" y=\"229.092773\"/>\n",
       "  <use xlink:href=\"#glyph2-8\" x=\"12.737305\" y=\"223.092773\"/>\n",
       "</g>\n",
       "<path style=\"fill:none;stroke-width:0.75;stroke-linecap:round;stroke-linejoin:round;stroke:rgb(0%,0%,0%);stroke-opacity:1;stroke-miterlimit:10;\" d=\"M 74.398438 430.558594 L 458.398438 430.558594 \"/>\n",
       "<path style=\"fill:none;stroke-width:0.75;stroke-linecap:round;stroke-linejoin:round;stroke:rgb(0%,0%,0%);stroke-opacity:1;stroke-miterlimit:10;\" d=\"M 74.398438 430.558594 L 74.398438 437.761719 \"/>\n",
       "<path style=\"fill:none;stroke-width:0.75;stroke-linecap:round;stroke-linejoin:round;stroke:rgb(0%,0%,0%);stroke-opacity:1;stroke-miterlimit:10;\" d=\"M 151.199219 430.558594 L 151.199219 437.761719 \"/>\n",
       "<path style=\"fill:none;stroke-width:0.75;stroke-linecap:round;stroke-linejoin:round;stroke:rgb(0%,0%,0%);stroke-opacity:1;stroke-miterlimit:10;\" d=\"M 228 430.558594 L 228 437.761719 \"/>\n",
       "<path style=\"fill:none;stroke-width:0.75;stroke-linecap:round;stroke-linejoin:round;stroke:rgb(0%,0%,0%);stroke-opacity:1;stroke-miterlimit:10;\" d=\"M 304.800781 430.558594 L 304.800781 437.761719 \"/>\n",
       "<path style=\"fill:none;stroke-width:0.75;stroke-linecap:round;stroke-linejoin:round;stroke:rgb(0%,0%,0%);stroke-opacity:1;stroke-miterlimit:10;\" d=\"M 381.601562 430.558594 L 381.601562 437.761719 \"/>\n",
       "<path style=\"fill:none;stroke-width:0.75;stroke-linecap:round;stroke-linejoin:round;stroke:rgb(0%,0%,0%);stroke-opacity:1;stroke-miterlimit:10;\" d=\"M 458.398438 430.558594 L 458.398438 437.761719 \"/>\n",
       "<g style=\"fill:rgb(0%,0%,0%);fill-opacity:1;\">\n",
       "  <use xlink:href=\"#glyph1-5\" x=\"63.898438\" y=\"456.256836\"/>\n",
       "  <use xlink:href=\"#glyph1-6\" x=\"70.570312\" y=\"456.256836\"/>\n",
       "  <use xlink:href=\"#glyph1-6\" x=\"77.242188\" y=\"456.256836\"/>\n",
       "</g>\n",
       "<g style=\"fill:rgb(0%,0%,0%);fill-opacity:1;\">\n",
       "  <use xlink:href=\"#glyph1-7\" x=\"140.699219\" y=\"456.256836\"/>\n",
       "  <use xlink:href=\"#glyph1-6\" x=\"147.371094\" y=\"456.256836\"/>\n",
       "  <use xlink:href=\"#glyph1-6\" x=\"154.042969\" y=\"456.256836\"/>\n",
       "</g>\n",
       "<g style=\"fill:rgb(0%,0%,0%);fill-opacity:1;\">\n",
       "  <use xlink:href=\"#glyph1-8\" x=\"217.5\" y=\"456.256836\"/>\n",
       "  <use xlink:href=\"#glyph1-6\" x=\"224.171875\" y=\"456.256836\"/>\n",
       "  <use xlink:href=\"#glyph1-6\" x=\"230.84375\" y=\"456.256836\"/>\n",
       "</g>\n",
       "<g style=\"fill:rgb(0%,0%,0%);fill-opacity:1;\">\n",
       "  <use xlink:href=\"#glyph1-9\" x=\"291.300781\" y=\"456.256836\"/>\n",
       "  <use xlink:href=\"#glyph1-6\" x=\"297.972656\" y=\"456.256836\"/>\n",
       "  <use xlink:href=\"#glyph1-6\" x=\"304.644531\" y=\"456.256836\"/>\n",
       "  <use xlink:href=\"#glyph1-6\" x=\"311.316406\" y=\"456.256836\"/>\n",
       "</g>\n",
       "<g style=\"fill:rgb(0%,0%,0%);fill-opacity:1;\">\n",
       "  <use xlink:href=\"#glyph1-9\" x=\"368.101562\" y=\"456.256836\"/>\n",
       "  <use xlink:href=\"#glyph1-10\" x=\"374.773438\" y=\"456.256836\"/>\n",
       "  <use xlink:href=\"#glyph1-6\" x=\"381.445312\" y=\"456.256836\"/>\n",
       "  <use xlink:href=\"#glyph1-6\" x=\"388.117188\" y=\"456.256836\"/>\n",
       "</g>\n",
       "<g style=\"fill:rgb(0%,0%,0%);fill-opacity:1;\">\n",
       "  <use xlink:href=\"#glyph1-9\" x=\"444.898438\" y=\"456.256836\"/>\n",
       "  <use xlink:href=\"#glyph1-5\" x=\"451.570312\" y=\"456.256836\"/>\n",
       "  <use xlink:href=\"#glyph1-6\" x=\"458.242188\" y=\"456.256836\"/>\n",
       "  <use xlink:href=\"#glyph1-6\" x=\"464.914062\" y=\"456.256836\"/>\n",
       "</g>\n",
       "<path style=\"fill:none;stroke-width:0.75;stroke-linecap:round;stroke-linejoin:round;stroke:rgb(0%,0%,0%);stroke-opacity:1;stroke-miterlimit:10;\" d=\"M 59.039062 416.800781 L 59.039062 72.800781 \"/>\n",
       "<path style=\"fill:none;stroke-width:0.75;stroke-linecap:round;stroke-linejoin:round;stroke:rgb(0%,0%,0%);stroke-opacity:1;stroke-miterlimit:10;\" d=\"M 59.039062 416.800781 L 51.839844 416.800781 \"/>\n",
       "<path style=\"fill:none;stroke-width:0.75;stroke-linecap:round;stroke-linejoin:round;stroke:rgb(0%,0%,0%);stroke-opacity:1;stroke-miterlimit:10;\" d=\"M 59.039062 348 L 51.839844 348 \"/>\n",
       "<path style=\"fill:none;stroke-width:0.75;stroke-linecap:round;stroke-linejoin:round;stroke:rgb(0%,0%,0%);stroke-opacity:1;stroke-miterlimit:10;\" d=\"M 59.039062 279.199219 L 51.839844 279.199219 \"/>\n",
       "<path style=\"fill:none;stroke-width:0.75;stroke-linecap:round;stroke-linejoin:round;stroke:rgb(0%,0%,0%);stroke-opacity:1;stroke-miterlimit:10;\" d=\"M 59.039062 210.398438 L 51.839844 210.398438 \"/>\n",
       "<path style=\"fill:none;stroke-width:0.75;stroke-linecap:round;stroke-linejoin:round;stroke:rgb(0%,0%,0%);stroke-opacity:1;stroke-miterlimit:10;\" d=\"M 59.039062 141.601562 L 51.839844 141.601562 \"/>\n",
       "<path style=\"fill:none;stroke-width:0.75;stroke-linecap:round;stroke-linejoin:round;stroke:rgb(0%,0%,0%);stroke-opacity:1;stroke-miterlimit:10;\" d=\"M 59.039062 72.800781 L 51.839844 72.800781 \"/>\n",
       "<g style=\"fill:rgb(0%,0%,0%);fill-opacity:1;\">\n",
       "  <use xlink:href=\"#glyph2-9\" x=\"41.538086\" y=\"420.300781\"/>\n",
       "</g>\n",
       "<g style=\"fill:rgb(0%,0%,0%);fill-opacity:1;\">\n",
       "  <use xlink:href=\"#glyph2-10\" x=\"41.538086\" y=\"351.5\"/>\n",
       "</g>\n",
       "<g style=\"fill:rgb(0%,0%,0%);fill-opacity:1;\">\n",
       "  <use xlink:href=\"#glyph2-11\" x=\"41.538086\" y=\"286.199219\"/>\n",
       "  <use xlink:href=\"#glyph2-9\" x=\"41.538086\" y=\"279.527344\"/>\n",
       "</g>\n",
       "<g style=\"fill:rgb(0%,0%,0%);fill-opacity:1;\">\n",
       "  <use xlink:href=\"#glyph2-11\" x=\"41.538086\" y=\"217.398438\"/>\n",
       "  <use xlink:href=\"#glyph2-10\" x=\"41.538086\" y=\"210.726562\"/>\n",
       "</g>\n",
       "<g style=\"fill:rgb(0%,0%,0%);fill-opacity:1;\">\n",
       "  <use xlink:href=\"#glyph2-12\" x=\"41.538086\" y=\"148.601562\"/>\n",
       "  <use xlink:href=\"#glyph2-9\" x=\"41.538086\" y=\"141.929688\"/>\n",
       "</g>\n",
       "<g style=\"fill:rgb(0%,0%,0%);fill-opacity:1;\">\n",
       "  <use xlink:href=\"#glyph2-12\" x=\"41.538086\" y=\"79.800781\"/>\n",
       "  <use xlink:href=\"#glyph2-10\" x=\"41.538086\" y=\"73.128906\"/>\n",
       "</g>\n",
       "<path style=\"fill:none;stroke-width:0.75;stroke-linecap:round;stroke-linejoin:round;stroke:rgb(0%,0%,0%);stroke-opacity:1;stroke-miterlimit:10;\" d=\"M 74.398438 416.800781 L 112.796875 416.800781 L 112.796875 403.039062 L 74.398438 403.039062 Z M 74.398438 416.800781 \"/>\n",
       "<path style=\"fill:none;stroke-width:0.75;stroke-linecap:round;stroke-linejoin:round;stroke:rgb(0%,0%,0%);stroke-opacity:1;stroke-miterlimit:10;\" d=\"M 112.800781 416.800781 L 151.199219 416.800781 Z M 112.800781 416.800781 \"/>\n",
       "<path style=\"fill:none;stroke-width:0.75;stroke-linecap:round;stroke-linejoin:round;stroke:rgb(0%,0%,0%);stroke-opacity:1;stroke-miterlimit:10;\" d=\"M 151.199219 416.800781 L 189.597656 416.800781 L 189.597656 348 L 151.199219 348 Z M 151.199219 416.800781 \"/>\n",
       "<path style=\"fill:none;stroke-width:0.75;stroke-linecap:round;stroke-linejoin:round;stroke:rgb(0%,0%,0%);stroke-opacity:1;stroke-miterlimit:10;\" d=\"M 189.601562 416.800781 L 228 416.800781 L 228 141.601562 L 189.601562 141.601562 Z M 189.601562 416.800781 \"/>\n",
       "<path style=\"fill:none;stroke-width:0.75;stroke-linecap:round;stroke-linejoin:round;stroke:rgb(0%,0%,0%);stroke-opacity:1;stroke-miterlimit:10;\" d=\"M 228 416.800781 L 266.398438 416.800781 L 266.398438 72.800781 L 228 72.800781 Z M 228 416.800781 \"/>\n",
       "<path style=\"fill:none;stroke-width:0.75;stroke-linecap:round;stroke-linejoin:round;stroke:rgb(0%,0%,0%);stroke-opacity:1;stroke-miterlimit:10;\" d=\"M 266.398438 416.800781 L 304.796875 416.800781 L 304.796875 155.359375 L 266.398438 155.359375 Z M 266.398438 416.800781 \"/>\n",
       "<path style=\"fill:none;stroke-width:0.75;stroke-linecap:round;stroke-linejoin:round;stroke:rgb(0%,0%,0%);stroke-opacity:1;stroke-miterlimit:10;\" d=\"M 304.800781 416.800781 L 343.199219 416.800781 L 343.199219 251.679688 L 304.800781 251.679688 Z M 304.800781 416.800781 \"/>\n",
       "<path style=\"fill:none;stroke-width:0.75;stroke-linecap:round;stroke-linejoin:round;stroke:rgb(0%,0%,0%);stroke-opacity:1;stroke-miterlimit:10;\" d=\"M 343.199219 416.800781 L 381.597656 416.800781 L 381.597656 265.441406 L 343.199219 265.441406 Z M 343.199219 416.800781 \"/>\n",
       "<path style=\"fill:none;stroke-width:0.75;stroke-linecap:round;stroke-linejoin:round;stroke:rgb(0%,0%,0%);stroke-opacity:1;stroke-miterlimit:10;\" d=\"M 381.601562 416.800781 L 420 416.800781 L 420 334.242188 L 381.601562 334.242188 Z M 381.601562 416.800781 \"/>\n",
       "<path style=\"fill:none;stroke-width:0.75;stroke-linecap:round;stroke-linejoin:round;stroke:rgb(0%,0%,0%);stroke-opacity:1;stroke-miterlimit:10;\" d=\"M 420 416.800781 L 458.398438 416.800781 L 458.398438 403.039062 L 420 403.039062 Z M 420 416.800781 \"/>\n",
       "</g>\n",
       "</svg>\n"
      ],
      "text/plain": [
       "Plot with title “Histogram of Nile”"
      ]
     },
     "metadata": {
      "image/svg+xml": {
       "isolated": true
      }
     },
     "output_type": "display_data"
    }
   ],
   "source": [
    "## En R trabajamos con objetos y str() revela su esencia\n",
    "\n",
    "str(sum)\n",
    "hn <-hist(Nile)\n",
    "str(hn)"
   ]
  },
  {
   "cell_type": "code",
   "execution_count": 39,
   "metadata": {
    "collapsed": false
   },
   "outputs": [
    {
     "data": {
      "text/html": [
       "\n",
       "<table width=\"100%\" summary=\"page for str {utils}\"><tr><td>str {utils}</td><td style=\"text-align: right;\">R Documentation</td></tr></table>\n",
       "\n",
       "<h2>Compactly Display the Structure of an Arbitrary R Object</h2>\n",
       "\n",
       "<h3>Description</h3>\n",
       "\n",
       "<p>Compactly display the internal <b>str</b>ucture of an <span style=\"font-family: Courier New, Courier; color: #666666;\"><b>R</b></span> object, a\n",
       "diagnostic function and an alternative to <code>summary</code>\n",
       "(and to some extent, <code>dput</code>).  Ideally, only one line for\n",
       "each &lsquo;basic&rsquo; structure is displayed.  It is especially well suited\n",
       "to compactly display the (abbreviated) contents of (possibly nested)\n",
       "lists.  The idea is to give reasonable output for <b>any</b> <span style=\"font-family: Courier New, Courier; color: #666666;\"><b>R</b></span>\n",
       "object.  It calls <code>args</code> for (non-primitive) function objects.\n",
       "</p>\n",
       "<p><code>strOptions()</code> is a convenience function for setting\n",
       "<code>options(str = .)</code>, see the examples.\n",
       "</p>\n",
       "\n",
       "\n",
       "<h3>Usage</h3>\n",
       "\n",
       "<pre>\n",
       "str(object, ...)\n",
       "\n",
       "## S3 method for class 'data.frame'\n",
       "str(object, ...)\n",
       "\n",
       "## Default S3 method:\n",
       "str(object, max.level = NA,\n",
       "    vec.len  = strO$vec.len, digits.d = strO$digits.d,\n",
       "    nchar.max = 128, give.attr = TRUE,\n",
       "    give.head = TRUE, give.length = give.head,\n",
       "    width = getOption(\"width\"), nest.lev = 0,\n",
       "    indent.str = paste(rep.int(\" \", max(0, nest.lev + 1)),\n",
       "                       collapse = \"..\"),\n",
       "    comp.str = \"$ \", no.list = FALSE, envir = baseenv(),\n",
       "    strict.width = strO$strict.width,\n",
       "    formatNum = strO$formatNum, list.len = 99, ...)\n",
       "\n",
       "strOptions(strict.width = \"no\", digits.d = 3, vec.len = 4,\n",
       "           formatNum = function(x, ...)\n",
       "                       format(x, trim = TRUE, drop0trailing = TRUE, ...))\n",
       "</pre>\n",
       "\n",
       "\n",
       "<h3>Arguments</h3>\n",
       "\n",
       "<table summary=\"R argblock\">\n",
       "<tr valign=\"top\"><td><code>object</code></td>\n",
       "<td>\n",
       "<p>any <span style=\"font-family: Courier New, Courier; color: #666666;\"><b>R</b></span> object about which you want to have some\n",
       "information.</p>\n",
       "</td></tr>\n",
       "<tr valign=\"top\"><td><code>max.level</code></td>\n",
       "<td>\n",
       "<p>maximal level of nesting which is applied for\n",
       "displaying nested structures, e.g., a list containing sub lists.\n",
       "Default NA: Display all nesting levels.</p>\n",
       "</td></tr>\n",
       "<tr valign=\"top\"><td><code>vec.len</code></td>\n",
       "<td>\n",
       "<p>numeric (&gt;= 0) indicating how many &lsquo;first few&rsquo; elements\n",
       "are displayed of each vector.  The number is multiplied by different\n",
       "factors (from .5 to 3) depending on the kind of vector.  Defaults to\n",
       "the <code>vec.len</code> component of option <code>\"str\"</code> (see\n",
       "<code>options</code>) which defaults to 4.</p>\n",
       "</td></tr>\n",
       "<tr valign=\"top\"><td><code>digits.d</code></td>\n",
       "<td>\n",
       "<p>number of digits for numerical components (as for\n",
       "<code>print</code>).  Defaults to the <code>digits.d</code> component of\n",
       "option <code>\"str\"</code> which defaults to 3.</p>\n",
       "</td></tr>\n",
       "<tr valign=\"top\"><td><code>nchar.max</code></td>\n",
       "<td>\n",
       "<p>maximal number of characters to show for\n",
       "<code>character</code> strings.  Longer strings are truncated, see\n",
       "<code>longch</code> example below.</p>\n",
       "</td></tr>\n",
       "<tr valign=\"top\"><td><code>give.attr</code></td>\n",
       "<td>\n",
       "<p>logical; if <code>TRUE</code> (default), show attributes\n",
       "as sub structures.</p>\n",
       "</td></tr>\n",
       "<tr valign=\"top\"><td><code>give.length</code></td>\n",
       "<td>\n",
       "<p>logical; if <code>TRUE</code> (default), indicate\n",
       "length (as <code>[1:...]</code>).</p>\n",
       "</td></tr>\n",
       "<tr valign=\"top\"><td><code>give.head</code></td>\n",
       "<td>\n",
       "<p>logical; if <code>TRUE</code> (default), give (possibly\n",
       "abbreviated) mode/class and length (as <code>&lt;type&gt;[1:...]</code>).</p>\n",
       "</td></tr>\n",
       "<tr valign=\"top\"><td><code>width</code></td>\n",
       "<td>\n",
       "<p>the page width to be used.  The default is the currently\n",
       "active <code>options(\"width\")</code>; note that this has only a\n",
       "weak effect, unless <code>strict.width</code> is not <code>\"no\"</code>.</p>\n",
       "</td></tr>\n",
       "<tr valign=\"top\"><td><code>nest.lev</code></td>\n",
       "<td>\n",
       "<p>current nesting level in the recursive calls to\n",
       "<code>str</code>.</p>\n",
       "</td></tr>\n",
       "<tr valign=\"top\"><td><code>indent.str</code></td>\n",
       "<td>\n",
       "<p>the indentation string to use.</p>\n",
       "</td></tr>\n",
       "<tr valign=\"top\"><td><code>comp.str</code></td>\n",
       "<td>\n",
       "<p>string to be used for separating list components.</p>\n",
       "</td></tr>\n",
       "<tr valign=\"top\"><td><code>no.list</code></td>\n",
       "<td>\n",
       "<p>logical; if true, no &lsquo;list of ...&rsquo; nor the\n",
       "class are printed.</p>\n",
       "</td></tr>\n",
       "<tr valign=\"top\"><td><code>envir</code></td>\n",
       "<td>\n",
       "<p>the environment to be used for <em>promise</em> (see\n",
       "<code>delayedAssign</code>) objects only.</p>\n",
       "</td></tr>\n",
       "<tr valign=\"top\"><td><code>strict.width</code></td>\n",
       "<td>\n",
       "<p>string indicating if the <code>width</code> argument's\n",
       "specification should be followed strictly, one of the values\n",
       "<code>c(\"no\", \"cut\", \"wrap\")</code>, which can be abbreviated.\n",
       "Defaults to the <code>strict.width</code> component of option <code>\"str\"</code>\n",
       "(see <code>options</code>) which defaults to <code>\"no\"</code> for back\n",
       "compatibility reasons; <code>\"wrap\"</code> uses\n",
       "<code>strwrap(*, width = width)</code> whereas <code>\"cut\"</code> cuts\n",
       "directly to <code>width</code>.  Note that a small <code>vec.length</code>\n",
       "may be better than setting <code>strict.width = \"wrap\"</code>.</p>\n",
       "</td></tr>\n",
       "<tr valign=\"top\"><td><code>formatNum</code></td>\n",
       "<td>\n",
       "<p>a function such as <code>format</code> for\n",
       "formatting numeric vectors.  It defaults to the <code>formatNum</code>\n",
       "component of option <code>\"str\"</code>, see &ldquo;Usage&rdquo; of\n",
       "<code>strOptions()</code> above, which is almost back compatible to <span style=\"font-family: Courier New, Courier; color: #666666;\"><b>R</b></span>\n",
       "&lt;= 2.7.x, however, using <code>formatC</code> may be slightly better.</p>\n",
       "</td></tr>\n",
       "<tr valign=\"top\"><td><code>list.len</code></td>\n",
       "<td>\n",
       "<p>numeric; maximum number of list elements to display\n",
       "within a level.</p>\n",
       "</td></tr>\n",
       "<tr valign=\"top\"><td><code>...</code></td>\n",
       "<td>\n",
       "<p>potential further arguments (required for Method/Generic\n",
       "reasons).</p>\n",
       "</td></tr>\n",
       "</table>\n",
       "\n",
       "\n",
       "<h3>Value</h3>\n",
       "\n",
       "<p><code>str</code> does not return anything, for efficiency reasons.\n",
       "The obvious side effect is output to the terminal.\n",
       "</p>\n",
       "\n",
       "\n",
       "<h3>Author(s)</h3>\n",
       "\n",
       "<p>Martin Maechler <a href=\"mailto:maechler@stat.math.ethz.ch\">maechler@stat.math.ethz.ch</a> since 1990.\n",
       "</p>\n",
       "\n",
       "\n",
       "<h3>See Also</h3>\n",
       "\n",
       "<p><code>ls.str</code> for <em>listing</em> objects with their structure;\n",
       "<code>summary</code>, <code>args</code>.\n",
       "</p>\n",
       "\n",
       "\n",
       "<h3>Examples</h3>\n",
       "\n",
       "<pre>\n",
       "require(stats); require(grDevices); require(graphics)\n",
       "## The following examples show some of 'str' capabilities\n",
       "str(1:12)\n",
       "str(ls)\n",
       "str(args) #- more useful than  args(args) !\n",
       "str(freeny)\n",
       "str(str)\n",
       "str(.Machine, digits.d = 20) # extra digits for identification of binary numbers\n",
       "str( lsfit(1:9, 1:9))\n",
       "str( lsfit(1:9, 1:9), max.level = 1)\n",
       "str( lsfit(1:9, 1:9), width = 60, strict.width = \"cut\")\n",
       "str( lsfit(1:9, 1:9), width = 60, strict.width = \"wrap\")\n",
       "op &lt;- options(); str(op)   # save first;\n",
       "                           # otherwise internal options() is used.\n",
       "need.dev &lt;-\n",
       "  !exists(\".Device\") || is.null(.Device) || .Device == \"null device\"\n",
       "{ if(need.dev) postscript()\n",
       "  str(par())\n",
       "  if(need.dev) graphics.off()\n",
       "}\n",
       "ch &lt;- letters[1:12]; is.na(ch) &lt;- 3:5\n",
       "str(ch) # character NA's\n",
       "\n",
       "str(list(a = \"A\", L = as.list(1:100)), list.len = 9)\n",
       "nchar(longch &lt;- paste(rep(letters,100), collapse = \"\"))\n",
       "str(longch)\n",
       "str(longch, nchar.max = 52)\n",
       "\n",
       "str(longch, strict.width = \"wrap\")\n",
       "\n",
       "## Settings for narrow transcript :\n",
       "op &lt;- options(width = 60,\n",
       "              str = strOptions(strict.width = \"wrap\"))\n",
       "str(lsfit(1:9,1:9))\n",
       "str(options())\n",
       "## reset to previous:\n",
       "options(op)\n",
       "\n",
       "\n",
       "\n",
       "str(quote( { A+B; list(C, D) } ))\n",
       "\n",
       "\n",
       "\n",
       "## S4 classes :\n",
       "require(stats4)\n",
       "x &lt;- 0:10; y &lt;- c(26, 17, 13, 12, 20, 5, 9, 8, 5, 4, 8)\n",
       "ll &lt;- function(ymax = 15, xh = 6)\n",
       "      -sum(dpois(y, lambda=ymax/(1+x/xh), log=TRUE))\n",
       "fit &lt;- mle(ll)\n",
       "str(fit)\n",
       "\n",
       "</pre>\n",
       "\n",
       "<hr /><div style=\"text-align: center;\">[Package <em>utils</em> version 3.2.2 ]</div>"
      ],
      "text/latex": [
       "\\inputencoding{utf8}\n",
       "\\HeaderA{str}{Compactly Display the Structure of an Arbitrary R Object}{str}\n",
       "\\methaliasA{str.data.frame}{str}{str.data.frame}\n",
       "\\methaliasA{str.default}{str}{str.default}\n",
       "\\aliasA{strOptions}{str}{strOptions}\n",
       "\\keyword{print}{str}\n",
       "\\keyword{documentation}{str}\n",
       "\\keyword{utilities}{str}\n",
       "%\n",
       "\\begin{Description}\\relax\n",
       "Compactly display the internal \\bold{str}ucture of an \\R{} object, a\n",
       "diagnostic function and an alternative to \\code{\\LinkA{summary}{summary}}\n",
       "(and to some extent, \\code{\\LinkA{dput}{dput}}).  Ideally, only one line for\n",
       "each `basic' structure is displayed.  It is especially well suited\n",
       "to compactly display the (abbreviated) contents of (possibly nested)\n",
       "lists.  The idea is to give reasonable output for \\bold{any} \\R{}\n",
       "object.  It calls \\code{\\LinkA{args}{args}} for (non-primitive) function objects.\n",
       "\n",
       "\\code{strOptions()} is a convenience function for setting\n",
       "\\code{\\LinkA{options}{options}(str = .)}, see the examples.\n",
       "\\end{Description}\n",
       "%\n",
       "\\begin{Usage}\n",
       "\\begin{verbatim}\n",
       "str(object, ...)\n",
       "\n",
       "## S3 method for class 'data.frame'\n",
       "str(object, ...)\n",
       "\n",
       "## Default S3 method:\n",
       "str(object, max.level = NA,\n",
       "    vec.len  = strO$vec.len, digits.d = strO$digits.d,\n",
       "    nchar.max = 128, give.attr = TRUE,\n",
       "    give.head = TRUE, give.length = give.head,\n",
       "    width = getOption(\"width\"), nest.lev = 0,\n",
       "    indent.str = paste(rep.int(\" \", max(0, nest.lev + 1)),\n",
       "                       collapse = \"..\"),\n",
       "    comp.str = \"$ \", no.list = FALSE, envir = baseenv(),\n",
       "    strict.width = strO$strict.width,\n",
       "    formatNum = strO$formatNum, list.len = 99, ...)\n",
       "\n",
       "strOptions(strict.width = \"no\", digits.d = 3, vec.len = 4,\n",
       "           formatNum = function(x, ...)\n",
       "                       format(x, trim = TRUE, drop0trailing = TRUE, ...))\n",
       "\\end{verbatim}\n",
       "\\end{Usage}\n",
       "%\n",
       "\\begin{Arguments}\n",
       "\\begin{ldescription}\n",
       "\\item[\\code{object}] any \\R{} object about which you want to have some\n",
       "information.\n",
       "\\item[\\code{max.level}] maximal level of nesting which is applied for\n",
       "displaying nested structures, e.g., a list containing sub lists.\n",
       "Default NA: Display all nesting levels.\n",
       "\\item[\\code{vec.len}] numeric (>= 0) indicating how many `first few' elements\n",
       "are displayed of each vector.  The number is multiplied by different\n",
       "factors (from .5 to 3) depending on the kind of vector.  Defaults to\n",
       "the \\code{vec.len} component of option \\code{\"str\"} (see\n",
       "\\code{\\LinkA{options}{options}}) which defaults to 4.\n",
       "\\item[\\code{digits.d}] number of digits for numerical components (as for\n",
       "\\code{\\LinkA{print}{print}}).  Defaults to the \\code{digits.d} component of\n",
       "option \\code{\"str\"} which defaults to 3.\n",
       "\\item[\\code{nchar.max}] maximal number of characters to show for\n",
       "\\code{\\LinkA{character}{character}} strings.  Longer strings are truncated, see\n",
       "\\code{longch} example below.\n",
       "\\item[\\code{give.attr}] logical; if \\code{TRUE} (default), show attributes\n",
       "as sub structures.\n",
       "\\item[\\code{give.length}] logical; if \\code{TRUE} (default), indicate\n",
       "length (as \\code{[1:...]}).\n",
       "\\item[\\code{give.head}] logical; if \\code{TRUE} (default), give (possibly\n",
       "abbreviated) mode/class and length (as \\code{<type>[1:...]}).\n",
       "\\item[\\code{width}] the page width to be used.  The default is the currently\n",
       "active \\code{\\LinkA{options}{options}(\"width\")}; note that this has only a\n",
       "weak effect, unless \\code{strict.width} is not \\code{\"no\"}.\n",
       "\\item[\\code{nest.lev}] current nesting level in the recursive calls to\n",
       "\\code{str}.\n",
       "\\item[\\code{indent.str}] the indentation string to use.\n",
       "\\item[\\code{comp.str}] string to be used for separating list components.\n",
       "\\item[\\code{no.list}] logical; if true, no `list of \\dots' nor the\n",
       "class are printed.\n",
       "\\item[\\code{envir}] the environment to be used for \\emph{promise} (see\n",
       "\\code{\\LinkA{delayedAssign}{delayedAssign}}) objects only.\n",
       "\\item[\\code{strict.width}] string indicating if the \\code{width} argument's\n",
       "specification should be followed strictly, one of the values\n",
       "\\code{c(\"no\", \"cut\", \"wrap\")}, which can be abbreviated.\n",
       "Defaults to the \\code{strict.width} component of option \\code{\"str\"}\n",
       "(see \\code{\\LinkA{options}{options}}) which defaults to \\code{\"no\"} for back\n",
       "compatibility reasons; \\code{\"wrap\"} uses\n",
       "\\code{\\LinkA{strwrap}{strwrap}(*, width = width)} whereas \\code{\"cut\"} cuts\n",
       "directly to \\code{width}.  Note that a small \\code{vec.length}\n",
       "may be better than setting \\code{strict.width = \"wrap\"}.\n",
       "\\item[\\code{formatNum}] a function such as \\code{\\LinkA{format}{format}} for\n",
       "formatting numeric vectors.  It defaults to the \\code{formatNum}\n",
       "component of option \\code{\"str\"}, see ``Usage'' of\n",
       "\\code{strOptions()} above, which is almost back compatible to \\R{}\n",
       "<= 2.7.x, however, using \\code{\\LinkA{formatC}{formatC}} may be slightly better.\n",
       "\\item[\\code{list.len}] numeric; maximum number of list elements to display\n",
       "within a level.\n",
       "\\item[\\code{...}] potential further arguments (required for Method/Generic\n",
       "reasons).\n",
       "\\end{ldescription}\n",
       "\\end{Arguments}\n",
       "%\n",
       "\\begin{Value}\n",
       "\\code{str} does not return anything, for efficiency reasons.\n",
       "The obvious side effect is output to the terminal.\n",
       "\\end{Value}\n",
       "%\n",
       "\\begin{Author}\\relax\n",
       "Martin Maechler \\email{maechler@stat.math.ethz.ch} since 1990.\n",
       "\\end{Author}\n",
       "%\n",
       "\\begin{SeeAlso}\\relax\n",
       "\\code{\\LinkA{ls.str}{ls.str}} for \\emph{listing} objects with their structure;\n",
       "\\code{\\LinkA{summary}{summary}}, \\code{\\LinkA{args}{args}}.\n",
       "\\end{SeeAlso}\n",
       "%\n",
       "\\begin{Examples}\n",
       "\\begin{ExampleCode}\n",
       "require(stats); require(grDevices); require(graphics)\n",
       "## The following examples show some of 'str' capabilities\n",
       "str(1:12)\n",
       "str(ls)\n",
       "str(args) #- more useful than  args(args) !\n",
       "str(freeny)\n",
       "str(str)\n",
       "str(.Machine, digits.d = 20) # extra digits for identification of binary numbers\n",
       "str( lsfit(1:9, 1:9))\n",
       "str( lsfit(1:9, 1:9), max.level = 1)\n",
       "str( lsfit(1:9, 1:9), width = 60, strict.width = \"cut\")\n",
       "str( lsfit(1:9, 1:9), width = 60, strict.width = \"wrap\")\n",
       "op <- options(); str(op)   # save first;\n",
       "                           # otherwise internal options() is used.\n",
       "need.dev <-\n",
       "  !exists(\".Device\") || is.null(.Device) || .Device == \"null device\"\n",
       "{ if(need.dev) postscript()\n",
       "  str(par())\n",
       "  if(need.dev) graphics.off()\n",
       "}\n",
       "ch <- letters[1:12]; is.na(ch) <- 3:5\n",
       "str(ch) # character NA's\n",
       "\n",
       "str(list(a = \"A\", L = as.list(1:100)), list.len = 9)\n",
       "nchar(longch <- paste(rep(letters,100), collapse = \"\"))\n",
       "str(longch)\n",
       "str(longch, nchar.max = 52)\n",
       "\n",
       "str(longch, strict.width = \"wrap\")\n",
       "\n",
       "## Settings for narrow transcript :\n",
       "op <- options(width = 60,\n",
       "              str = strOptions(strict.width = \"wrap\"))\n",
       "str(lsfit(1:9,1:9))\n",
       "str(options())\n",
       "## reset to previous:\n",
       "options(op)\n",
       "\n",
       "\n",
       "\n",
       "str(quote( { A+B; list(C, D) } ))\n",
       "\n",
       "\n",
       "\n",
       "## S4 classes :\n",
       "require(stats4)\n",
       "x <- 0:10; y <- c(26, 17, 13, 12, 20, 5, 9, 8, 5, 4, 8)\n",
       "ll <- function(ymax = 15, xh = 6)\n",
       "      -sum(dpois(y, lambda=ymax/(1+x/xh), log=TRUE))\n",
       "fit <- mle(ll)\n",
       "str(fit)\n",
       "\n",
       "\\end{ExampleCode}\n",
       "\\end{Examples}"
      ],
      "text/plain": [
       "str                   package:utils                    R Documentation\n",
       "\n",
       "_\bC_\bo_\bm_\bp_\ba_\bc_\bt_\bl_\by _\bD_\bi_\bs_\bp_\bl_\ba_\by _\bt_\bh_\be _\bS_\bt_\br_\bu_\bc_\bt_\bu_\br_\be _\bo_\bf _\ba_\bn _\bA_\br_\bb_\bi_\bt_\br_\ba_\br_\by _\bR _\bO_\bb_\bj_\be_\bc_\bt\n",
       "\n",
       "_\bD_\be_\bs_\bc_\br_\bi_\bp_\bt_\bi_\bo_\bn:\n",
       "\n",
       "     Compactly display the internal *str*ucture of an R object, a\n",
       "     diagnostic function and an alternative to ‘summary’ (and to some\n",
       "     extent, ‘dput’).  Ideally, only one line for each ‘basic’\n",
       "     structure is displayed.  It is especially well suited to compactly\n",
       "     display the (abbreviated) contents of (possibly nested) lists.\n",
       "     The idea is to give reasonable output for *any* R object.  It\n",
       "     calls ‘args’ for (non-primitive) function objects.\n",
       "\n",
       "     ‘strOptions()’ is a convenience function for setting ‘options(str\n",
       "     = .)’, see the examples.\n",
       "\n",
       "_\bU_\bs_\ba_\bg_\be:\n",
       "\n",
       "     str(object, ...)\n",
       "     \n",
       "     ## S3 method for class 'data.frame'\n",
       "     str(object, ...)\n",
       "     \n",
       "     ## Default S3 method:\n",
       "     str(object, max.level = NA,\n",
       "         vec.len  = strO$vec.len, digits.d = strO$digits.d,\n",
       "         nchar.max = 128, give.attr = TRUE,\n",
       "         give.head = TRUE, give.length = give.head,\n",
       "         width = getOption(\"width\"), nest.lev = 0,\n",
       "         indent.str = paste(rep.int(\" \", max(0, nest.lev + 1)),\n",
       "                            collapse = \"..\"),\n",
       "         comp.str = \"$ \", no.list = FALSE, envir = baseenv(),\n",
       "         strict.width = strO$strict.width,\n",
       "         formatNum = strO$formatNum, list.len = 99, ...)\n",
       "     \n",
       "     strOptions(strict.width = \"no\", digits.d = 3, vec.len = 4,\n",
       "                formatNum = function(x, ...)\n",
       "                            format(x, trim = TRUE, drop0trailing = TRUE, ...))\n",
       "     \n",
       "_\bA_\br_\bg_\bu_\bm_\be_\bn_\bt_\bs:\n",
       "\n",
       "  object: any R object about which you want to have some information.\n",
       "\n",
       "max.level: maximal level of nesting which is applied for displaying\n",
       "          nested structures, e.g., a list containing sub lists.\n",
       "          Default NA: Display all nesting levels.\n",
       "\n",
       " vec.len: numeric (>= 0) indicating how many ‘first few’ elements are\n",
       "          displayed of each vector.  The number is multiplied by\n",
       "          different factors (from .5 to 3) depending on the kind of\n",
       "          vector.  Defaults to the ‘vec.len’ component of option\n",
       "          ‘\"str\"’ (see ‘options’) which defaults to 4.\n",
       "\n",
       "digits.d: number of digits for numerical components (as for ‘print’).\n",
       "          Defaults to the ‘digits.d’ component of option ‘\"str\"’ which\n",
       "          defaults to 3.\n",
       "\n",
       "nchar.max: maximal number of characters to show for ‘character’\n",
       "          strings.  Longer strings are truncated, see ‘longch’ example\n",
       "          below.\n",
       "\n",
       "give.attr: logical; if ‘TRUE’ (default), show attributes as sub\n",
       "          structures.\n",
       "\n",
       "give.length: logical; if ‘TRUE’ (default), indicate length (as\n",
       "          ‘[1:...]’).\n",
       "\n",
       "give.head: logical; if ‘TRUE’ (default), give (possibly abbreviated)\n",
       "          mode/class and length (as ‘<type>[1:...]’).\n",
       "\n",
       "   width: the page width to be used.  The default is the currently\n",
       "          active ‘options(\"width\")’; note that this has only a weak\n",
       "          effect, unless ‘strict.width’ is not ‘\"no\"’.\n",
       "\n",
       "nest.lev: current nesting level in the recursive calls to ‘str’.\n",
       "\n",
       "indent.str: the indentation string to use.\n",
       "\n",
       "comp.str: string to be used for separating list components.\n",
       "\n",
       " no.list: logical; if true, no ‘list of ...’ nor the class are printed.\n",
       "\n",
       "   envir: the environment to be used for _promise_ (see\n",
       "          ‘delayedAssign’) objects only.\n",
       "\n",
       "strict.width: string indicating if the ‘width’ argument's specification\n",
       "          should be followed strictly, one of the values ‘c(\"no\",\n",
       "          \"cut\", \"wrap\")’, which can be abbreviated.  Defaults to the\n",
       "          ‘strict.width’ component of option ‘\"str\"’ (see ‘options’)\n",
       "          which defaults to ‘\"no\"’ for back compatibility reasons;\n",
       "          ‘\"wrap\"’ uses ‘strwrap(*, width = width)’ whereas ‘\"cut\"’\n",
       "          cuts directly to ‘width’.  Note that a small ‘vec.length’ may\n",
       "          be better than setting ‘strict.width = \"wrap\"’.\n",
       "\n",
       "formatNum: a function such as ‘format’ for formatting numeric vectors.\n",
       "          It defaults to the ‘formatNum’ component of option ‘\"str\"’,\n",
       "          see “Usage” of ‘strOptions()’ above, which is almost back\n",
       "          compatible to R <= 2.7.x, however, using ‘formatC’ may be\n",
       "          slightly better.\n",
       "\n",
       "list.len: numeric; maximum number of list elements to display within a\n",
       "          level.\n",
       "\n",
       "     ...: potential further arguments (required for Method/Generic\n",
       "          reasons).\n",
       "\n",
       "_\bV_\ba_\bl_\bu_\be:\n",
       "\n",
       "     ‘str’ does not return anything, for efficiency reasons.  The\n",
       "     obvious side effect is output to the terminal.\n",
       "\n",
       "_\bA_\bu_\bt_\bh_\bo_\br(_\bs):\n",
       "\n",
       "     Martin Maechler <email: maechler@stat.math.ethz.ch> since 1990.\n",
       "\n",
       "_\bS_\be_\be _\bA_\bl_\bs_\bo:\n",
       "\n",
       "     ‘ls.str’ for _listing_ objects with their structure; ‘summary’,\n",
       "     ‘args’.\n",
       "\n",
       "_\bE_\bx_\ba_\bm_\bp_\bl_\be_\bs:\n",
       "\n",
       "     require(stats); require(grDevices); require(graphics)\n",
       "     ## The following examples show some of 'str' capabilities\n",
       "     str(1:12)\n",
       "     str(ls)\n",
       "     str(args) #- more useful than  args(args) !\n",
       "     str(freeny)\n",
       "     str(str)\n",
       "     str(.Machine, digits.d = 20) # extra digits for identification of binary numbers\n",
       "     str( lsfit(1:9, 1:9))\n",
       "     str( lsfit(1:9, 1:9), max.level = 1)\n",
       "     str( lsfit(1:9, 1:9), width = 60, strict.width = \"cut\")\n",
       "     str( lsfit(1:9, 1:9), width = 60, strict.width = \"wrap\")\n",
       "     op <- options(); str(op)   # save first;\n",
       "                                # otherwise internal options() is used.\n",
       "     need.dev <-\n",
       "       !exists(\".Device\") || is.null(.Device) || .Device == \"null device\"\n",
       "     { if(need.dev) postscript()\n",
       "       str(par())\n",
       "       if(need.dev) graphics.off()\n",
       "     }\n",
       "     ch <- letters[1:12]; is.na(ch) <- 3:5\n",
       "     str(ch) # character NA's\n",
       "     \n",
       "     str(list(a = \"A\", L = as.list(1:100)), list.len = 9)\n",
       "     nchar(longch <- paste(rep(letters,100), collapse = \"\"))\n",
       "     str(longch)\n",
       "     str(longch, nchar.max = 52)\n",
       "     \n",
       "     str(longch, strict.width = \"wrap\")\n",
       "     \n",
       "     ## Settings for narrow transcript :\n",
       "     op <- options(width = 60,\n",
       "                   str = strOptions(strict.width = \"wrap\"))\n",
       "     str(lsfit(1:9,1:9))\n",
       "     str(options())\n",
       "     ## reset to previous:\n",
       "     options(op)\n",
       "     \n",
       "     \n",
       "     \n",
       "     str(quote( { A+B; list(C, D) } ))\n",
       "     \n",
       "     \n",
       "     \n",
       "     ## S4 classes :\n",
       "     require(stats4)\n",
       "     x <- 0:10; y <- c(26, 17, 13, 12, 20, 5, 9, 8, 5, 4, 8)\n",
       "     ll <- function(ymax = 15, xh = 6)\n",
       "           -sum(dpois(y, lambda=ymax/(1+x/xh), log=TRUE))\n",
       "     fit <- mle(ll)\n",
       "     str(fit)\n",
       "     "
      ]
     },
     "execution_count": 39,
     "metadata": {},
     "output_type": "execute_result"
    }
   ],
   "source": [
    "help(str)  ## Informacion de la función str() desde la documentación de R"
   ]
  },
  {
   "cell_type": "markdown",
   "metadata": {},
   "source": [
    "# Vectores en R"
   ]
  },
  {
   "cell_type": "markdown",
   "metadata": {},
   "source": [
    "\n",
    "\n",
    "1.La estructura más común en R es el  **vector**. Los vectores vienen de dos formas: *vectores atómicos y listas*. Ellos tienen tres propiedades comunes:\n",
    "\n",
    " * Tipo, **typeof()**, (que es).\n",
    " \n",
    " * Longitud, **length()**, (cuántos elemento contiene).\n",
    " \n",
    " * Atributos, **attributes()** (metadata adicional).\n",
    "\n",
    "2.El tipo de dato que debe contener un *vector atómicos* debe ser del mismo tipo, los vectores  pueden ser lógicos, numéricos o de caracter. Si tu tratas de mezclar datos, R **coerces** los datos a un único tipo a diferencia de las *listas* que pueden tener diferentes tipos.\n",
    "\n",
    "3.Si usamos la función *is.vector()* no prueba si un objeto es un vector. En lugar retorna TRUE sólo si el objeto es un vector, sin atributos aparte de su nombre. Debes usar *is.atomic(x) || is.list(x)* para probar si un objeto es un vector.\n",
    "\n",
    "4.Los *vectores atómicos* tiene ciertas características interesantes:\n",
    "    \n",
    "    * Recycling  El alargamiento automatico de vectores en ciertos casos.\n",
    "    * Filtering  La extracción de subconjuntos de vectores\n",
    "    * Vectorización Cuando las funciones son aplicadas componente a componente.\n",
    "\n",
    "Asignamos un vector usando la función *c()*."
   ]
  },
  {
   "cell_type": "code",
   "execution_count": 40,
   "metadata": {
    "collapsed": false
   },
   "outputs": [
    {
     "data": {
      "text/html": [
       "<ol class=list-inline>\n",
       "\t<li>1</li>\n",
       "\t<li>2.3</li>\n",
       "\t<li>5.6</li>\n",
       "</ol>\n"
      ],
      "text/latex": [
       "\\begin{enumerate*}\n",
       "\\item 1\n",
       "\\item 2.3\n",
       "\\item 5.6\n",
       "\\end{enumerate*}\n"
      ],
      "text/markdown": [
       "1. 1\n",
       "2. 2.3\n",
       "3. 5.6\n",
       "\n",
       "\n"
      ],
      "text/plain": [
       "[1] 1.0 2.3 5.6"
      ]
     },
     "execution_count": 40,
     "metadata": {},
     "output_type": "execute_result"
    },
    {
     "data": {
      "text/html": [
       "<ol class=list-inline>\n",
       "\t<li>1</li>\n",
       "\t<li>4</li>\n",
       "\t<li>8</li>\n",
       "</ol>\n"
      ],
      "text/latex": [
       "\\begin{enumerate*}\n",
       "\\item 1\n",
       "\\item 4\n",
       "\\item 8\n",
       "\\end{enumerate*}\n"
      ],
      "text/markdown": [
       "1. 1\n",
       "2. 4\n",
       "3. 8\n",
       "\n",
       "\n"
      ],
      "text/plain": [
       "[1] 1 4 8"
      ]
     },
     "execution_count": 40,
     "metadata": {},
     "output_type": "execute_result"
    },
    {
     "data": {
      "text/html": [
       "<ol class=list-inline>\n",
       "\t<li>TRUE</li>\n",
       "\t<li>FALSE</li>\n",
       "\t<li>TRUE</li>\n",
       "\t<li>FALSE</li>\n",
       "</ol>\n"
      ],
      "text/latex": [
       "\\begin{enumerate*}\n",
       "\\item TRUE\n",
       "\\item FALSE\n",
       "\\item TRUE\n",
       "\\item FALSE\n",
       "\\end{enumerate*}\n"
      ],
      "text/markdown": [
       "1. TRUE\n",
       "2. FALSE\n",
       "3. TRUE\n",
       "4. FALSE\n",
       "\n",
       "\n"
      ],
      "text/plain": [
       "[1]  TRUE FALSE  TRUE FALSE"
      ]
     },
     "execution_count": 40,
     "metadata": {},
     "output_type": "execute_result"
    },
    {
     "data": {
      "text/html": [
       "<ol class=list-inline>\n",
       "\t<li>'Python'</li>\n",
       "\t<li>'R'</li>\n",
       "</ol>\n"
      ],
      "text/latex": [
       "\\begin{enumerate*}\n",
       "\\item 'Python'\n",
       "\\item 'R'\n",
       "\\end{enumerate*}\n"
      ],
      "text/markdown": [
       "1. 'Python'\n",
       "2. 'R'\n",
       "\n",
       "\n"
      ],
      "text/plain": [
       "[1] \"Python\" \"R\"     "
      ]
     },
     "execution_count": 40,
     "metadata": {},
     "output_type": "execute_result"
    }
   ],
   "source": [
    "x <-c(1:10)\n",
    "\n",
    "doub_var <-c(1, 2.3, 5.6)    #Vectores double\n",
    "doub_var\n",
    "int_var<-c(1L, 4L, 8L)        #Vectores enteros\n",
    "int_var\n",
    "log_var <- c(TRUE, FALSE, T,F) # Vectores logicos\n",
    "log_var\n",
    "char_var<- c(\"Python\", \"R\")\n",
    "char_var"
   ]
  },
  {
   "cell_type": "code",
   "execution_count": 41,
   "metadata": {
    "collapsed": false
   },
   "outputs": [
    {
     "data": {
      "text/html": [
       "<ol class=list-inline>\n",
       "\t<li>1</li>\n",
       "\t<li>2</li>\n",
       "\t<li>3</li>\n",
       "\t<li>4</li>\n",
       "</ol>\n"
      ],
      "text/latex": [
       "\\begin{enumerate*}\n",
       "\\item 1\n",
       "\\item 2\n",
       "\\item 3\n",
       "\\item 4\n",
       "\\end{enumerate*}\n"
      ],
      "text/markdown": [
       "1. 1\n",
       "2. 2\n",
       "3. 3\n",
       "4. 4\n",
       "\n",
       "\n"
      ],
      "text/plain": [
       "[1] 1 2 3 4"
      ]
     },
     "execution_count": 41,
     "metadata": {},
     "output_type": "execute_result"
    },
    {
     "data": {
      "text/html": [
       "<ol class=list-inline>\n",
       "\t<li>1</li>\n",
       "\t<li>2</li>\n",
       "\t<li>3</li>\n",
       "\t<li>4</li>\n",
       "</ol>\n"
      ],
      "text/latex": [
       "\\begin{enumerate*}\n",
       "\\item 1\n",
       "\\item 2\n",
       "\\item 3\n",
       "\\item 4\n",
       "\\end{enumerate*}\n"
      ],
      "text/markdown": [
       "1. 1\n",
       "2. 2\n",
       "3. 3\n",
       "4. 4\n",
       "\n",
       "\n"
      ],
      "text/plain": [
       "[1] 1 2 3 4"
      ]
     },
     "execution_count": 41,
     "metadata": {},
     "output_type": "execute_result"
    }
   ],
   "source": [
    "#Siempre es posible hacer lo siguiente\n",
    "\n",
    "c(1,c(2,c(3,4))) # que es lo mismo que \n",
    "c(1,2,3,4)"
   ]
  },
  {
   "cell_type": "raw",
   "metadata": {},
   "source": [
    "NA (missing value) es un vector lógico de longitud 1. NA, siempre usa la coerción para ir de acuerdo al tipo correcto en c() o se pueden crear NA's con un tipo específico con NA_real_ , NA_integer_, NA_character_.\n"
   ]
  },
  {
   "cell_type": "markdown",
   "metadata": {},
   "source": [
    "Dado un vector, tu puedes determinar su tipo usando **typeof** o verificar si es un tipo específico, con las funciones\n",
    "\n",
    "1. is.character()\n",
    "2. is double()\n",
    "3. is.integer()\n",
    "4. is.logical()\n",
    "\n",
    "o más generalmente **is.atomic()**.\n",
    "\n"
   ]
  },
  {
   "cell_type": "code",
   "execution_count": 42,
   "metadata": {
    "collapsed": false
   },
   "outputs": [
    {
     "data": {
      "text/html": [
       "'integer'"
      ],
      "text/latex": [
       "'integer'"
      ],
      "text/markdown": [
       "'integer'"
      ],
      "text/plain": [
       "[1] \"integer\""
      ]
     },
     "execution_count": 42,
     "metadata": {},
     "output_type": "execute_result"
    },
    {
     "data": {
      "text/html": [
       "TRUE"
      ],
      "text/latex": [
       "TRUE"
      ],
      "text/markdown": [
       "TRUE"
      ],
      "text/plain": [
       "[1] TRUE"
      ]
     },
     "execution_count": 42,
     "metadata": {},
     "output_type": "execute_result"
    },
    {
     "data": {
      "text/html": [
       "TRUE"
      ],
      "text/latex": [
       "TRUE"
      ],
      "text/markdown": [
       "TRUE"
      ],
      "text/plain": [
       "[1] TRUE"
      ]
     },
     "execution_count": 42,
     "metadata": {},
     "output_type": "execute_result"
    }
   ],
   "source": [
    "int_var <- c(1L, 6L, 10L)\n",
    "typeof(int_var)\n",
    "is.integer(int_var)\n",
    "is.atomic(int_var)"
   ]
  },
  {
   "cell_type": "code",
   "execution_count": 43,
   "metadata": {
    "collapsed": false
   },
   "outputs": [
    {
     "data": {
      "text/html": [
       "'double'"
      ],
      "text/latex": [
       "'double'"
      ],
      "text/markdown": [
       "'double'"
      ],
      "text/plain": [
       "[1] \"double\""
      ]
     },
     "execution_count": 43,
     "metadata": {},
     "output_type": "execute_result"
    },
    {
     "data": {
      "text/html": [
       "TRUE"
      ],
      "text/latex": [
       "TRUE"
      ],
      "text/markdown": [
       "TRUE"
      ],
      "text/plain": [
       "[1] TRUE"
      ]
     },
     "execution_count": 43,
     "metadata": {},
     "output_type": "execute_result"
    },
    {
     "data": {
      "text/html": [
       "TRUE"
      ],
      "text/latex": [
       "TRUE"
      ],
      "text/markdown": [
       "TRUE"
      ],
      "text/plain": [
       "[1] TRUE"
      ]
     },
     "execution_count": 43,
     "metadata": {},
     "output_type": "execute_result"
    }
   ],
   "source": [
    "doub_var<-c(1, 3,5, 4,6)\n",
    "typeof(doub_var)\n",
    "is.double(doub_var)\n",
    "is.atomic(doub_var)"
   ]
  },
  {
   "cell_type": "markdown",
   "metadata": {},
   "source": [
    "### Agregando-eliminando elementos de un vector, Longitud de un vector"
   ]
  },
  {
   "cell_type": "code",
   "execution_count": 44,
   "metadata": {
    "collapsed": false
   },
   "outputs": [
    {
     "data": {
      "text/html": [
       "<ol class=list-inline>\n",
       "\t<li>12</li>\n",
       "\t<li>13</li>\n",
       "\t<li>26</li>\n",
       "\t<li>8</li>\n",
       "</ol>\n"
      ],
      "text/latex": [
       "\\begin{enumerate*}\n",
       "\\item 12\n",
       "\\item 13\n",
       "\\item 26\n",
       "\\item 8\n",
       "\\end{enumerate*}\n"
      ],
      "text/markdown": [
       "1. 12\n",
       "2. 13\n",
       "3. 26\n",
       "4. 8\n",
       "\n",
       "\n"
      ],
      "text/plain": [
       "[1] 12 13 26  8"
      ]
     },
     "execution_count": 44,
     "metadata": {},
     "output_type": "execute_result"
    },
    {
     "data": {
      "text/html": [
       "<ol class=list-inline>\n",
       "\t<li>12</li>\n",
       "\t<li>13</li>\n",
       "\t<li>26</li>\n",
       "\t<li>20</li>\n",
       "\t<li>8</li>\n",
       "</ol>\n"
      ],
      "text/latex": [
       "\\begin{enumerate*}\n",
       "\\item 12\n",
       "\\item 13\n",
       "\\item 26\n",
       "\\item 20\n",
       "\\item 8\n",
       "\\end{enumerate*}\n"
      ],
      "text/markdown": [
       "1. 12\n",
       "2. 13\n",
       "3. 26\n",
       "4. 20\n",
       "5. 8\n",
       "\n",
       "\n"
      ],
      "text/plain": [
       "[1] 12 13 26 20  8"
      ]
     },
     "execution_count": 44,
     "metadata": {},
     "output_type": "execute_result"
    }
   ],
   "source": [
    "# Agregando y eliminando elementos de los vectores\n",
    "\n",
    "x1 <-c(12, 13, 26, 8)\n",
    "x1\n",
    "x2<-c(x1[1:3], 20, x1[4]) # insertamos el 20 antes del 8\n",
    "x2"
   ]
  },
  {
   "cell_type": "code",
   "execution_count": 45,
   "metadata": {
    "collapsed": false
   },
   "outputs": [
    {
     "data": {
      "text/html": [
       "3"
      ],
      "text/latex": [
       "3"
      ],
      "text/markdown": [
       "3"
      ],
      "text/plain": [
       "[1] 3"
      ]
     },
     "execution_count": 45,
     "metadata": {},
     "output_type": "execute_result"
    }
   ],
   "source": [
    "# Obteniendo la longitud de un vector\n",
    "w <- c(3,5,6)\n",
    "length(w)"
   ]
  },
  {
   "cell_type": "code",
   "execution_count": 46,
   "metadata": {
    "collapsed": false
   },
   "outputs": [
    {
     "data": {
      "text/plain": [
       "NULL"
      ]
     },
     "execution_count": 46,
     "metadata": {},
     "output_type": "execute_result"
    },
    {
     "data": {
      "text/html": [
       "0"
      ],
      "text/latex": [
       "0"
      ],
      "text/markdown": [
       "0"
      ],
      "text/plain": [
       "[1] 0"
      ]
     },
     "execution_count": 46,
     "metadata": {},
     "output_type": "execute_result"
    },
    {
     "data": {
      "text/html": [
       "<ol class=list-inline>\n",
       "\t<li>1</li>\n",
       "\t<li>0</li>\n",
       "</ol>\n"
      ],
      "text/latex": [
       "\\begin{enumerate*}\n",
       "\\item 1\n",
       "\\item 0\n",
       "\\end{enumerate*}\n"
      ],
      "text/markdown": [
       "1. 1\n",
       "2. 0\n",
       "\n",
       "\n"
      ],
      "text/plain": [
       "[1] 1 0"
      ]
     },
     "execution_count": 46,
     "metadata": {},
     "output_type": "execute_result"
    }
   ],
   "source": [
    "# Observaciones con respecto a length\n",
    "q<- c()\n",
    "q\n",
    "length(q)\n",
    "1:length(q)  # !0 si el vector esta vacio"
   ]
  },
  {
   "cell_type": "markdown",
   "metadata": {},
   "source": [
    "## Declaraciones \n",
    "\n",
    "En los lenguajes compilados, normalmente se requiere que se declaren las variables, esta información es captado por el\n",
    "intérprete/compilador antes de utilizar las variables. Este es el caso de una declaración en C\n",
    "\n",
    "```c\n",
    "int z;\n",
    "int r[3];\n",
    "```\n",
    "\n",
    "Al igual que en  lenguajes interpretados, tales como Python o Perl, en R, tu no necesitas declarar las variables\n",
    "\n",
    "```python\n",
    "z <-3\n",
    "```"
   ]
  },
  {
   "cell_type": "markdown",
   "metadata": {},
   "source": [
    "Sin embargo, si tu referencias, a elementos de un vector,  debes tener cierto cuidado en R. \n",
    "Por ejemplo si tenemos, dos componentes de un vector con valores 5 y 13, lo siguiente no trabaja\n",
    "\n",
    "```python\n",
    "t[1] <- 5\n",
    "t[2] <- 13\n",
    "```\n",
    "\n",
    "En lugar de eso, tu puedes crear *y* primero, de esta forma por ejemplo\n",
    "\n",
    "```python\n",
    "t <- vector(length=2)\n",
    "t[1] <- 5\n",
    "t[2] <- 13\n",
    "```\n",
    "\n",
    "Lo siguiente trabaja también: `y <- c(5, 13)`"
   ]
  },
  {
   "cell_type": "code",
   "execution_count": 47,
   "metadata": {
    "collapsed": false
   },
   "outputs": [
    {
     "data": {
      "text/html": [
       "<ol class=list-inline>\n",
       "\t<li>1</li>\n",
       "\t<li>5</li>\n",
       "</ol>\n"
      ],
      "text/latex": [
       "\\begin{enumerate*}\n",
       "\\item 1\n",
       "\\item 5\n",
       "\\end{enumerate*}\n"
      ],
      "text/markdown": [
       "1. 1\n",
       "2. 5\n",
       "\n",
       "\n"
      ],
      "text/plain": [
       "[1] 1 5"
      ]
     },
     "execution_count": 47,
     "metadata": {},
     "output_type": "execute_result"
    }
   ],
   "source": [
    "# Esto también es válido, x es un puntero que apunta a\n",
    "# otro tipo de dato(c/c++) en diferentes tiempos\n",
    "\n",
    "x<-c(1,5)\n",
    "x\n",
    "x<-\"Elizabeth\""
   ]
  },
  {
   "cell_type": "markdown",
   "metadata": {},
   "source": [
    "### Recycling\n",
    "\n",
    "Qué está pasando con el vector de menor longitud, en el code anterior?.\n",
    "\n",
    "Rpta:\n",
    "R, está haciendo **recycling**  ese vector de manera que la operación continue. En el primer ejemplo, cero es\n",
    "agregado a cada número impar, mientras que 1 a los número pares. Si la longitud de los vectores no son\n",
    "múltiplos  R produce un warning, pero aun así produce un resultado."
   ]
  },
  {
   "cell_type": "code",
   "execution_count": 48,
   "metadata": {
    "collapsed": false
   },
   "outputs": [
    {
     "ename": "ERROR",
     "evalue": "Error in 5 * x: argumento no-numérico para operador binario\n",
     "output_type": "error",
     "traceback": [
      "Error in 5 * x: argumento no-numérico para operador binario\n"
     ]
    },
    {
     "ename": "ERROR",
     "evalue": "Error in (2 + 5) * x: argumento no-numérico para operador binario\n",
     "output_type": "error",
     "traceback": [
      "Error in (2 + 5) * x: argumento no-numérico para operador binario\n"
     ]
    },
    {
     "data": {
      "text/html": [
       "<ol class=list-inline>\n",
       "\t<li>'2'</li>\n",
       "\t<li>'3'</li>\n",
       "\t<li>'2'</li>\n",
       "</ol>\n"
      ],
      "text/latex": [
       "\\begin{enumerate*}\n",
       "\\item '2'\n",
       "\\item '3'\n",
       "\\item '2'\n",
       "\\end{enumerate*}\n"
      ],
      "text/markdown": [
       "1. '2'\n",
       "2. '3'\n",
       "3. '2'\n",
       "\n",
       "\n"
      ],
      "text/plain": [
       "[1] \"2\" \"3\" \"2\""
      ]
     },
     "execution_count": 48,
     "metadata": {},
     "output_type": "execute_result"
    },
    {
     "ename": "ERROR",
     "evalue": "Error in eval(expr, envir, enclos): objeto 'z2' no encontrado\n",
     "output_type": "error",
     "traceback": [
      "Error in eval(expr, envir, enclos): objeto 'z2' no encontrado\n"
     ]
    }
   ],
   "source": [
    "z1 <- 2 + 5*x\n",
    "z2 <- (2 + 5)*x\n",
    "z1\n",
    "z2\n"
   ]
  },
  {
   "cell_type": "markdown",
   "metadata": {},
   "source": [
    "Cuando aplicamos una operación a dos vectores, que requiere que tengan, la misma longitud, R automáticamente **recycle** o repite, el de menor longitud, hasta que pueda realizarse la operación."
   ]
  },
  {
   "cell_type": "code",
   "execution_count": 49,
   "metadata": {
    "collapsed": false
   },
   "outputs": [
    {
     "name": "stderr",
     "output_type": "stream",
     "text": [
      "Warning message:\n",
      "In c(2, 4, 6) + c(6, 9, 0, 20, 22): longitud de objeto mayor no es múltiplo de la longitud de uno menor"
     ]
    },
    {
     "data": {
      "text/html": [
       "<ol class=list-inline>\n",
       "\t<li>8</li>\n",
       "\t<li>13</li>\n",
       "\t<li>6</li>\n",
       "\t<li>22</li>\n",
       "\t<li>26</li>\n",
       "</ol>\n"
      ],
      "text/latex": [
       "\\begin{enumerate*}\n",
       "\\item 8\n",
       "\\item 13\n",
       "\\item 6\n",
       "\\item 22\n",
       "\\item 26\n",
       "\\end{enumerate*}\n"
      ],
      "text/markdown": [
       "1. 8\n",
       "2. 13\n",
       "3. 6\n",
       "4. 22\n",
       "5. 26\n",
       "\n",
       "\n"
      ],
      "text/plain": [
       "[1]  8 13  6 22 26"
      ]
     },
     "execution_count": 49,
     "metadata": {},
     "output_type": "execute_result"
    }
   ],
   "source": [
    "c(2,4,6) + c(6,9, 0,20, 22)"
   ]
  },
  {
   "cell_type": "markdown",
   "metadata": {},
   "source": [
    "El vector más pequeño, fue **reciclado**, asi la operación fue tomada como sigue:\n",
    "\n",
    "```c(2,4,6,2,4) + c(6,9,0, 20,22)\n",
    "```"
   ]
  },
  {
   "cell_type": "code",
   "execution_count": 50,
   "metadata": {
    "collapsed": false
   },
   "outputs": [
    {
     "data": {
      "text/html": [
       "<table>\n",
       "<tbody>\n",
       "\t<tr><td>1</td><td>4</td></tr>\n",
       "\t<tr><td>2</td><td>5</td></tr>\n",
       "\t<tr><td>3</td><td>6</td></tr>\n",
       "</tbody>\n",
       "</table>\n"
      ],
      "text/latex": [
       "\\begin{tabular}{ll}\n",
       "\t 1 & 4\\\\\n",
       "\t 2 & 5\\\\\n",
       "\t 3 & 6\\\\\n",
       "\\end{tabular}\n"
      ],
      "text/markdown": [
       "1. 1\n",
       "2. 2\n",
       "3. 3\n",
       "4. 4\n",
       "5. 5\n",
       "6. 6\n",
       "\n",
       "\n"
      ],
      "text/plain": [
       "     [,1] [,2]\n",
       "[1,]    1    4\n",
       "[2,]    2    5\n",
       "[3,]    3    6"
      ]
     },
     "execution_count": 50,
     "metadata": {},
     "output_type": "execute_result"
    }
   ],
   "source": [
    "zm <- matrix(1:6, ncol=2, nrow=3)\n",
    "zm\n"
   ]
  },
  {
   "cell_type": "code",
   "execution_count": 51,
   "metadata": {
    "collapsed": false
   },
   "outputs": [
    {
     "data": {
      "text/html": [
       "<table>\n",
       "<tbody>\n",
       "\t<tr><td>2</td><td>6</td></tr>\n",
       "\t<tr><td>4</td><td>6</td></tr>\n",
       "\t<tr><td>4</td><td>8</td></tr>\n",
       "</tbody>\n",
       "</table>\n"
      ],
      "text/latex": [
       "\\begin{tabular}{ll}\n",
       "\t 2 & 6\\\\\n",
       "\t 4 & 6\\\\\n",
       "\t 4 & 8\\\\\n",
       "\\end{tabular}\n"
      ],
      "text/markdown": [
       "1. 2\n",
       "2. 4\n",
       "3. 4\n",
       "4. 6\n",
       "5. 6\n",
       "6. 8\n",
       "\n",
       "\n"
      ],
      "text/plain": [
       "     [,1] [,2]\n",
       "[1,]    2    6\n",
       "[2,]    4    6\n",
       "[3,]    4    8"
      ]
     },
     "execution_count": 51,
     "metadata": {},
     "output_type": "execute_result"
    }
   ],
   "source": [
    "zm + c(1,2)"
   ]
  },
  {
   "cell_type": "markdown",
   "metadata": {},
   "source": [
    "En este caso, la forma de almacenar **zm** es la misma como si fuese un vector `c(1,2,3,4,5,6) `. Para realizar la operación de agregar  un vector de dos elementos a un vector de seis elementos, R, necesita repetir dos veces los elementos del vector más pequeño. En otras palabras se está haciendo lo siguiente\n",
    "\n",
    "`zm + c(1,2,1,2,1,2)`\n",
    "\n",
    "No sólo eso, sino, que `c(1,2,1,2,1,2) `cambia desde un vector a una matriz, teniendo la misma forma de **zm** antes de que la suma a tenido lugar.\n"
   ]
  },
  {
   "cell_type": "markdown",
   "metadata": {},
   "source": [
    "# Operaciones con Vectores"
   ]
  },
  {
   "cell_type": "markdown",
   "metadata": {},
   "source": [
    "## Aritmética de Vectores y Operaciones Lógicas\n",
    "\n",
    "Al ser R un lenguaje de tipo funcional, cada operador incluyendo *+*, u otros  es una función.\n",
    "\n"
   ]
  },
  {
   "cell_type": "code",
   "execution_count": 52,
   "metadata": {
    "collapsed": false
   },
   "outputs": [
    {
     "data": {
      "text/html": [
       "5"
      ],
      "text/latex": [
       "5"
      ],
      "text/markdown": [
       "5"
      ],
      "text/plain": [
       "[1] 5"
      ]
     },
     "execution_count": 52,
     "metadata": {},
     "output_type": "execute_result"
    },
    {
     "data": {
      "text/html": [
       "7"
      ],
      "text/latex": [
       "7"
      ],
      "text/markdown": [
       "7"
      ],
      "text/plain": [
       "[1] 7"
      ]
     },
     "execution_count": 52,
     "metadata": {},
     "output_type": "execute_result"
    }
   ],
   "source": [
    "2 + 3\n",
    "\"+\"(3,4)"
   ]
  },
  {
   "cell_type": "code",
   "execution_count": 53,
   "metadata": {
    "collapsed": false
   },
   "outputs": [
    {
     "data": {
      "text/html": [
       "<ol class=list-inline>\n",
       "\t<li>6</li>\n",
       "\t<li>2</li>\n",
       "\t<li>6</li>\n",
       "</ol>\n"
      ],
      "text/latex": [
       "\\begin{enumerate*}\n",
       "\\item 6\n",
       "\\item 2\n",
       "\\item 6\n",
       "\\end{enumerate*}\n"
      ],
      "text/markdown": [
       "1. 6\n",
       "2. 2\n",
       "3. 6\n",
       "\n",
       "\n"
      ],
      "text/plain": [
       "[1] 6 2 6"
      ]
     },
     "execution_count": 53,
     "metadata": {},
     "output_type": "execute_result"
    }
   ],
   "source": [
    "x <-c(1,2,5)\n",
    "x + c(5,0,1)"
   ]
  },
  {
   "cell_type": "code",
   "execution_count": 54,
   "metadata": {
    "collapsed": false
   },
   "outputs": [
    {
     "data": {
      "text/html": [
       "<ol class=list-inline>\n",
       "\t<li>5</li>\n",
       "\t<li>0</li>\n",
       "\t<li>-5</li>\n",
       "</ol>\n"
      ],
      "text/latex": [
       "\\begin{enumerate*}\n",
       "\\item 5\n",
       "\\item 0\n",
       "\\item -5\n",
       "\\end{enumerate*}\n"
      ],
      "text/markdown": [
       "1. 5\n",
       "2. 0\n",
       "3. -5\n",
       "\n",
       "\n"
      ],
      "text/plain": [
       "[1]  5  0 -5"
      ]
     },
     "execution_count": 54,
     "metadata": {},
     "output_type": "execute_result"
    },
    {
     "data": {
      "text/html": [
       "<ol class=list-inline>\n",
       "\t<li>1</li>\n",
       "\t<li>1</li>\n",
       "\t<li>1</li>\n",
       "</ol>\n"
      ],
      "text/latex": [
       "\\begin{enumerate*}\n",
       "\\item 1\n",
       "\\item 1\n",
       "\\item 1\n",
       "\\end{enumerate*}\n"
      ],
      "text/markdown": [
       "1. 1\n",
       "2. 1\n",
       "3. 1\n",
       "\n",
       "\n"
      ],
      "text/plain": [
       "[1] 1 1 1"
      ]
     },
     "execution_count": 54,
     "metadata": {},
     "output_type": "execute_result"
    },
    {
     "data": {
      "text/html": [
       "<ol class=list-inline>\n",
       "\t<li>3</li>\n",
       "\t<li>2</li>\n",
       "\t<li>0</li>\n",
       "</ol>\n"
      ],
      "text/latex": [
       "\\begin{enumerate*}\n",
       "\\item 3\n",
       "\\item 2\n",
       "\\item 0\n",
       "\\end{enumerate*}\n"
      ],
      "text/markdown": [
       "1. 3\n",
       "2. 2\n",
       "3. 0\n",
       "\n",
       "\n"
      ],
      "text/plain": [
       "[1] 3 2 0"
      ]
     },
     "execution_count": 54,
     "metadata": {},
     "output_type": "execute_result"
    }
   ],
   "source": [
    "x * c(5, 0,-1)  # Multiplicacion elemento a elemento\n",
    "y <- c(3,5,6)\n",
    "y / c(3,5,6)\n",
    "y %% c(4,3,2)"
   ]
  },
  {
   "cell_type": "markdown",
   "metadata": {},
   "source": [
    "### Coerción "
   ]
  },
  {
   "cell_type": "markdown",
   "metadata": {},
   "source": [
    "Todos los elementos de un vector atómico deben ser del mismo tipo, por lo que cuando se intenta combinar diferentes tipos serán coaccionados para el tipo más flexible. \n",
    "Tipos de menos a más flexibles son: lógico, número, flotante  y de carácter. Por ejemplo, combinar un caracter y un número produce un caracter."
   ]
  },
  {
   "cell_type": "code",
   "execution_count": 55,
   "metadata": {
    "collapsed": false
   },
   "outputs": [
    {
     "name": "stdout",
     "output_type": "stream",
     "text": [
      " chr [1:2] \"Eli\" \"3\"\n"
     ]
    }
   ],
   "source": [
    "str(c(\"Eli\", 3))"
   ]
  },
  {
   "cell_type": "markdown",
   "metadata": {},
   "source": [
    "Cuando un vector lógico es coercionado a un entero o double. TRUE llega a ser 1 y FALSE llega a ser 0. \n",
    "Esto es útil cuando utilizamos **sum()** y **mean()**."
   ]
  },
  {
   "cell_type": "code",
   "execution_count": 56,
   "metadata": {
    "collapsed": false
   },
   "outputs": [
    {
     "data": {
      "text/html": [
       "<ol class=list-inline>\n",
       "\t<li>0</li>\n",
       "\t<li>1</li>\n",
       "\t<li>0</li>\n",
       "</ol>\n"
      ],
      "text/latex": [
       "\\begin{enumerate*}\n",
       "\\item 0\n",
       "\\item 1\n",
       "\\item 0\n",
       "\\end{enumerate*}\n"
      ],
      "text/markdown": [
       "1. 0\n",
       "2. 1\n",
       "3. 0\n",
       "\n",
       "\n"
      ],
      "text/plain": [
       "[1] 0 1 0"
      ]
     },
     "execution_count": 56,
     "metadata": {},
     "output_type": "execute_result"
    },
    {
     "data": {
      "text/html": [
       "1"
      ],
      "text/latex": [
       "1"
      ],
      "text/markdown": [
       "1"
      ],
      "text/plain": [
       "[1] 1"
      ]
     },
     "execution_count": 56,
     "metadata": {},
     "output_type": "execute_result"
    },
    {
     "data": {
      "text/html": [
       "0.333333333333333"
      ],
      "text/latex": [
       "0.333333333333333"
      ],
      "text/markdown": [
       "0.333333333333333"
      ],
      "text/plain": [
       "[1] 0.3333333"
      ]
     },
     "execution_count": 56,
     "metadata": {},
     "output_type": "execute_result"
    }
   ],
   "source": [
    "u <- c(FALSE, TRUE, FALSE)\n",
    "as.numeric(u)\n",
    "\n",
    "sum(u)\n",
    "\n",
    "mean(u)"
   ]
  },
  {
   "cell_type": "markdown",
   "metadata": {},
   "source": [
    "La coerción a menudo sucede automáticamente. La mayoría de las funciones matemáticas (+, log, abs, etc.) serán coaccionadas  a  operaciones enteros o flotantes, y las operaciones lógicas (&, |, any, etc) se coaccionan a un\n",
    "tipo lógico. En  general, recibirá un mensaje de advertencia si en la coerción se pierde  información. Si la confusión es probable, se coacciona explícitamente con as.character(), as.double(), as.integer(), o as.logical()."
   ]
  },
  {
   "cell_type": "code",
   "execution_count": 57,
   "metadata": {
    "collapsed": false
   },
   "outputs": [
    {
     "data": {
      "text/html": [
       "<ol class=list-inline>\n",
       "\t<li>1</li>\n",
       "\t<li>2</li>\n",
       "\t<li>1</li>\n",
       "\t<li>0</li>\n",
       "\t<li>1</li>\n",
       "</ol>\n"
      ],
      "text/latex": [
       "\\begin{enumerate*}\n",
       "\\item 1\n",
       "\\item 2\n",
       "\\item 1\n",
       "\\item 0\n",
       "\\item 1\n",
       "\\end{enumerate*}\n"
      ],
      "text/markdown": [
       "1. 1\n",
       "2. 2\n",
       "3. 1\n",
       "4. 0\n",
       "5. 1\n",
       "\n",
       "\n"
      ],
      "text/plain": [
       "[1] 1 2 1 0 1"
      ]
     },
     "execution_count": 57,
     "metadata": {},
     "output_type": "execute_result"
    },
    {
     "data": {
      "text/html": [
       "<ol class=list-inline>\n",
       "\t<li>'1.2'</li>\n",
       "\t<li>'2'</li>\n",
       "\t<li>'3'</li>\n",
       "\t<li>'2'</li>\n",
       "\t<li>'TRUE'</li>\n",
       "\t<li>'FALSE'</li>\n",
       "\t<li>'TRUE'</li>\n",
       "</ol>\n"
      ],
      "text/latex": [
       "\\begin{enumerate*}\n",
       "\\item '1.2'\n",
       "\\item '2'\n",
       "\\item '3'\n",
       "\\item '2'\n",
       "\\item 'TRUE'\n",
       "\\item 'FALSE'\n",
       "\\item 'TRUE'\n",
       "\\end{enumerate*}\n"
      ],
      "text/markdown": [
       "1. '1.2'\n",
       "2. '2'\n",
       "3. '3'\n",
       "4. '2'\n",
       "5. 'TRUE'\n",
       "6. 'FALSE'\n",
       "7. 'TRUE'\n",
       "\n",
       "\n"
      ],
      "text/plain": [
       "[1] \"1.2\"   \"2\"     \"3\"     \"2\"     \"TRUE\"  \"FALSE\" \"TRUE\" "
      ]
     },
     "execution_count": 57,
     "metadata": {},
     "output_type": "execute_result"
    },
    {
     "data": {
      "text/html": [
       "<ol class=list-inline>\n",
       "\t<li>2</li>\n",
       "\t<li>1</li>\n",
       "\t<li>2</li>\n",
       "</ol>\n"
      ],
      "text/latex": [
       "\\begin{enumerate*}\n",
       "\\item 2\n",
       "\\item 1\n",
       "\\item 2\n",
       "\\end{enumerate*}\n"
      ],
      "text/markdown": [
       "1. 2\n",
       "2. 1\n",
       "3. 2\n",
       "\n",
       "\n"
      ],
      "text/plain": [
       "[1] 2 1 2"
      ]
     },
     "execution_count": 57,
     "metadata": {},
     "output_type": "execute_result"
    },
    {
     "data": {
      "text/html": [
       "<ol class=list-inline>\n",
       "\t<li>'1.2'</li>\n",
       "\t<li>'2'</li>\n",
       "\t<li>'3'</li>\n",
       "\t<li>'2'</li>\n",
       "</ol>\n"
      ],
      "text/latex": [
       "\\begin{enumerate*}\n",
       "\\item '1.2'\n",
       "\\item '2'\n",
       "\\item '3'\n",
       "\\item '2'\n",
       "\\end{enumerate*}\n"
      ],
      "text/markdown": [
       "1. '1.2'\n",
       "2. '2'\n",
       "3. '3'\n",
       "4. '2'\n",
       "\n",
       "\n"
      ],
      "text/plain": [
       "[1] \"1.2\" \"2\"   \"3\"   \"2\"  "
      ]
     },
     "execution_count": 57,
     "metadata": {},
     "output_type": "execute_result"
    },
    {
     "data": {
      "text/html": [
       "<ol class=list-inline>\n",
       "\t<li>1.2</li>\n",
       "\t<li>3</li>\n",
       "\t<li>5</li>\n",
       "\t<li>6</li>\n",
       "</ol>\n"
      ],
      "text/latex": [
       "\\begin{enumerate*}\n",
       "\\item 1.2\n",
       "\\item 3\n",
       "\\item 5\n",
       "\\item 6\n",
       "\\end{enumerate*}\n"
      ],
      "text/markdown": [
       "1. 1.2\n",
       "2. 3\n",
       "3. 5\n",
       "4. 6\n",
       "\n",
       "\n"
      ],
      "text/plain": [
       "[1] 1.2 3.0 5.0 6.0"
      ]
     },
     "execution_count": 57,
     "metadata": {},
     "output_type": "execute_result"
    }
   ],
   "source": [
    "z<-c(TRUE, FALSE, TRUE)\n",
    "c(1,2, z)\n",
    "\n",
    "z1 <-c(\"2\",\"3\", \"2\")\n",
    "c(1.2, z1, z)\n",
    " 1 + z\n",
    "c(1.2, z1)\n",
    "c(1.2, as.numeric(y))"
   ]
  },
  {
   "cell_type": "markdown",
   "metadata": {},
   "source": [
    "###El operador :"
   ]
  },
  {
   "cell_type": "markdown",
   "metadata": {},
   "source": [
    "Hay algunos operadores en R, que son útiles para la creación de vectores. **El operador :** produce un vector consistiendo de un rango de números. Una manera de ver este operador es a através de la expresión de bucle\n",
    "\n",
    "```\n",
    "for(i in 1:length(x)){\n",
    "```\n",
    "\n",
    "Una observación importante, del libro de Norman Matloff, es acerca del manejo de procedencia del operador. Mostremos algunos ejemplos del uso del operador y de la observación anterior"
   ]
  },
  {
   "cell_type": "code",
   "execution_count": 58,
   "metadata": {
    "collapsed": false
   },
   "outputs": [
    {
     "data": {
      "text/html": [
       "<ol class=list-inline>\n",
       "\t<li>2</li>\n",
       "\t<li>3</li>\n",
       "\t<li>4</li>\n",
       "\t<li>5</li>\n",
       "\t<li>6</li>\n",
       "\t<li>7</li>\n",
       "\t<li>8</li>\n",
       "\t<li>9</li>\n",
       "\t<li>10</li>\n",
       "\t<li>11</li>\n",
       "\t<li>12</li>\n",
       "\t<li>13</li>\n",
       "</ol>\n"
      ],
      "text/latex": [
       "\\begin{enumerate*}\n",
       "\\item 2\n",
       "\\item 3\n",
       "\\item 4\n",
       "\\item 5\n",
       "\\item 6\n",
       "\\item 7\n",
       "\\item 8\n",
       "\\item 9\n",
       "\\item 10\n",
       "\\item 11\n",
       "\\item 12\n",
       "\\item 13\n",
       "\\end{enumerate*}\n"
      ],
      "text/markdown": [
       "1. 2\n",
       "2. 3\n",
       "3. 4\n",
       "4. 5\n",
       "5. 6\n",
       "6. 7\n",
       "7. 8\n",
       "8. 9\n",
       "9. 10\n",
       "10. 11\n",
       "11. 12\n",
       "12. 13\n",
       "\n",
       "\n"
      ],
      "text/plain": [
       " [1]  2  3  4  5  6  7  8  9 10 11 12 13"
      ]
     },
     "execution_count": 58,
     "metadata": {},
     "output_type": "execute_result"
    },
    {
     "data": {
      "text/html": [
       "<ol class=list-inline>\n",
       "\t<li>12</li>\n",
       "\t<li>11</li>\n",
       "\t<li>10</li>\n",
       "\t<li>9</li>\n",
       "\t<li>8</li>\n",
       "\t<li>7</li>\n",
       "\t<li>6</li>\n",
       "\t<li>5</li>\n",
       "\t<li>4</li>\n",
       "</ol>\n"
      ],
      "text/latex": [
       "\\begin{enumerate*}\n",
       "\\item 12\n",
       "\\item 11\n",
       "\\item 10\n",
       "\\item 9\n",
       "\\item 8\n",
       "\\item 7\n",
       "\\item 6\n",
       "\\item 5\n",
       "\\item 4\n",
       "\\end{enumerate*}\n"
      ],
      "text/markdown": [
       "1. 12\n",
       "2. 11\n",
       "3. 10\n",
       "4. 9\n",
       "5. 8\n",
       "6. 7\n",
       "7. 6\n",
       "8. 5\n",
       "9. 4\n",
       "\n",
       "\n"
      ],
      "text/plain": [
       "[1] 12 11 10  9  8  7  6  5  4"
      ]
     },
     "execution_count": 58,
     "metadata": {},
     "output_type": "execute_result"
    }
   ],
   "source": [
    "2: 13\n",
    "12: 4"
   ]
  },
  {
   "cell_type": "code",
   "execution_count": 59,
   "metadata": {
    "collapsed": false
   },
   "outputs": [
    {
     "data": {
      "text/html": [
       "<ol class=list-inline>\n",
       "\t<li>0</li>\n",
       "\t<li>1</li>\n",
       "\t<li>2</li>\n",
       "\t<li>3</li>\n",
       "\t<li>4</li>\n",
       "</ol>\n"
      ],
      "text/latex": [
       "\\begin{enumerate*}\n",
       "\\item 0\n",
       "\\item 1\n",
       "\\item 2\n",
       "\\item 3\n",
       "\\item 4\n",
       "\\end{enumerate*}\n"
      ],
      "text/markdown": [
       "1. 0\n",
       "2. 1\n",
       "3. 2\n",
       "4. 3\n",
       "5. 4\n",
       "\n",
       "\n"
      ],
      "text/plain": [
       "[1] 0 1 2 3 4"
      ]
     },
     "execution_count": 59,
     "metadata": {},
     "output_type": "execute_result"
    },
    {
     "data": {
      "text/html": [
       "<ol class=list-inline>\n",
       "\t<li>1</li>\n",
       "\t<li>2</li>\n",
       "\t<li>3</li>\n",
       "\t<li>4</li>\n",
       "</ol>\n"
      ],
      "text/latex": [
       "\\begin{enumerate*}\n",
       "\\item 1\n",
       "\\item 2\n",
       "\\item 3\n",
       "\\item 4\n",
       "\\end{enumerate*}\n"
      ],
      "text/markdown": [
       "1. 1\n",
       "2. 2\n",
       "3. 3\n",
       "4. 4\n",
       "\n",
       "\n"
      ],
      "text/plain": [
       "[1] 1 2 3 4"
      ]
     },
     "execution_count": 59,
     "metadata": {},
     "output_type": "execute_result"
    }
   ],
   "source": [
    "i <- 5\n",
    "1: i-1 # Esto significa (1:i) - 1, no 1:(i -1)\n",
    "1:(i -1)"
   ]
  },
  {
   "cell_type": "code",
   "execution_count": 60,
   "metadata": {
    "collapsed": false
   },
   "outputs": [
    {
     "data": {
      "text/html": [
       "\n",
       "<table width=\"100%\" summary=\"page for Colon {base}\"><tr><td>Colon {base}</td><td style=\"text-align: right;\">R Documentation</td></tr></table>\n",
       "\n",
       "<h2>Colon Operator</h2>\n",
       "\n",
       "<h3>Description</h3>\n",
       "\n",
       "<p>Generate regular sequences.\n",
       "</p>\n",
       "\n",
       "\n",
       "<h3>Usage</h3>\n",
       "\n",
       "<pre>\n",
       "from:to\n",
       "   a:b\n",
       "</pre>\n",
       "\n",
       "\n",
       "<h3>Arguments</h3>\n",
       "\n",
       "<table summary=\"R argblock\">\n",
       "<tr valign=\"top\"><td><code>from</code></td>\n",
       "<td>\n",
       "<p>starting value of sequence.</p>\n",
       "</td></tr>\n",
       "<tr valign=\"top\"><td><code>to</code></td>\n",
       "<td>\n",
       "<p>(maximal) end value of the sequence.</p>\n",
       "</td></tr>\n",
       "<tr valign=\"top\"><td><code>a, b</code></td>\n",
       "<td>\n",
       "<p><code>factor</code>s of the same length.</p>\n",
       "</td></tr>\n",
       "</table>\n",
       "\n",
       "\n",
       "<h3>Details</h3>\n",
       "\n",
       "<p>The binary operator <code>:</code> has two meanings: for factors <code>a:b</code> is\n",
       "equivalent to <code>interaction(a, b)</code> (but the levels are\n",
       "ordered and labelled differently).\n",
       "</p>\n",
       "<p>For other arguments <code>from:to</code> is equivalent to <code>seq(from, to)</code>,\n",
       "and generates a sequence from <code>from</code> to <code>to</code> in steps of <code>1</code>\n",
       "or <code>-1</code>.  Value <code>to</code> will be included if it differs from\n",
       "<code>from</code> by an integer up to a numeric fuzz of about <code>1e-7</code>.\n",
       "Non-numeric arguments are coerced internally (hence without\n",
       "dispatching methods) to numeric&mdash;complex values will have their\n",
       "imaginary parts discarded with a warning.\n",
       "</p>\n",
       "\n",
       "\n",
       "<h3>Value</h3>\n",
       "\n",
       "<p>For numeric arguments, a numeric vector.  This will be of type\n",
       "<code>integer</code> if <code>from</code> is integer-valued and the result\n",
       "is representable in the <span style=\"font-family: Courier New, Courier; color: #666666;\"><b>R</b></span> integer type, otherwise of type\n",
       "<code>\"double\"</code> (aka <code>mode</code> <code>\"numeric\"</code>).\n",
       "</p>\n",
       "<p>For factors, an unordered factor with levels labelled as <code>la:lb</code>\n",
       "and ordered lexicographically (that is, <code>lb</code> varies fastest).\n",
       "</p>\n",
       "\n",
       "\n",
       "<h3>References</h3>\n",
       "\n",
       "<p>Becker, R. A., Chambers, J. M. and Wilks, A. R. (1988)\n",
       "<em>The New S Language</em>.\n",
       "Wadsworth &amp; Brooks/Cole.<br />\n",
       "(for numeric arguments: S does not have <code>:</code> for factors.)\n",
       "</p>\n",
       "\n",
       "\n",
       "<h3>See Also</h3>\n",
       "\n",
       "<p><code>seq</code> (a <em>generalization</em> of <code>from:to</code>).\n",
       "</p>\n",
       "<p>As an alternative to using <code>:</code> for factors, <code>interaction</code>.\n",
       "</p>\n",
       "<p>For <code>:</code> used in the formal representation of an interaction, see\n",
       "<code>formula</code>.\n",
       "</p>\n",
       "\n",
       "\n",
       "<h3>Examples</h3>\n",
       "\n",
       "<pre>\n",
       "1:4\n",
       "pi:6 # real\n",
       "6:pi # integer\n",
       "\n",
       "f1 &lt;- gl(2, 3); f1\n",
       "f2 &lt;- gl(3, 2); f2\n",
       "f1:f2 # a factor, the \"cross\"  f1 x f2\n",
       "</pre>\n",
       "\n",
       "<hr /><div style=\"text-align: center;\">[Package <em>base</em> version 3.2.2 ]</div>"
      ],
      "text/latex": [
       "\\inputencoding{utf8}\n",
       "\\HeaderA{Colon}{Colon Operator}{Colon}\n",
       "\\aliasA{:}{Colon}{:}\n",
       "\\aliasA{colon}{Colon}{colon}\n",
       "\\keyword{manip}{Colon}\n",
       "%\n",
       "\\begin{Description}\\relax\n",
       "Generate regular sequences.\n",
       "\\end{Description}\n",
       "%\n",
       "\\begin{Usage}\n",
       "\\begin{verbatim}\n",
       "from:to\n",
       "   a:b\n",
       "\\end{verbatim}\n",
       "\\end{Usage}\n",
       "%\n",
       "\\begin{Arguments}\n",
       "\\begin{ldescription}\n",
       "\\item[\\code{from}] starting value of sequence.\n",
       "\\item[\\code{to}] (maximal) end value of the sequence.\n",
       "\\item[\\code{a, b}] \\code{\\LinkA{factor}{factor}}s of the same length.\n",
       "\\end{ldescription}\n",
       "\\end{Arguments}\n",
       "%\n",
       "\\begin{Details}\\relax\n",
       "The binary operator \\code{:} has two meanings: for factors \\code{a:b} is\n",
       "equivalent to \\code{\\LinkA{interaction}{interaction}(a, b)} (but the levels are\n",
       "ordered and labelled differently).\n",
       "\n",
       "For other arguments \\code{from:to} is equivalent to \\code{seq(from, to)},\n",
       "and generates a sequence from \\code{from} to \\code{to} in steps of \\code{1}\n",
       "or \\code{-1}.  Value \\code{to} will be included if it differs from\n",
       "\\code{from} by an integer up to a numeric fuzz of about \\code{1e-7}.\n",
       "Non-numeric arguments are coerced internally (hence without\n",
       "dispatching methods) to numeric---complex values will have their\n",
       "imaginary parts discarded with a warning.\n",
       "\\end{Details}\n",
       "%\n",
       "\\begin{Value}\n",
       "For numeric arguments, a numeric vector.  This will be of type\n",
       "\\code{\\LinkA{integer}{integer}} if \\code{from} is integer-valued and the result\n",
       "is representable in the \\R{} integer type, otherwise of type\n",
       "\\code{\"double\"} (aka \\code{\\LinkA{mode}{mode}} \\code{\"\\LinkA{numeric}{numeric}\"}).\n",
       "\n",
       "For factors, an unordered factor with levels labelled as \\code{la:lb}\n",
       "and ordered lexicographically (that is, \\code{lb} varies fastest).\n",
       "\\end{Value}\n",
       "%\n",
       "\\begin{References}\\relax\n",
       "Becker, R. A., Chambers, J. M. and Wilks, A. R. (1988)\n",
       "\\emph{The New S Language}.\n",
       "Wadsworth \\& Brooks/Cole.\\\\{}\n",
       "(for numeric arguments: S does not have \\code{:} for factors.)\n",
       "\\end{References}\n",
       "%\n",
       "\\begin{SeeAlso}\\relax\n",
       "\\code{\\LinkA{seq}{seq}} (a \\emph{generalization} of \\code{from:to}).\n",
       "\n",
       "As an alternative to using \\code{:} for factors, \\code{\\LinkA{interaction}{interaction}}.\n",
       "\n",
       "For \\code{:} used in the formal representation of an interaction, see\n",
       "\\code{\\LinkA{formula}{formula}}.\n",
       "\\end{SeeAlso}\n",
       "%\n",
       "\\begin{Examples}\n",
       "\\begin{ExampleCode}\n",
       "1:4\n",
       "pi:6 # real\n",
       "6:pi # integer\n",
       "\n",
       "f1 <- gl(2, 3); f1\n",
       "f2 <- gl(3, 2); f2\n",
       "f1:f2 # a factor, the \"cross\"  f1 x f2\n",
       "\\end{ExampleCode}\n",
       "\\end{Examples}"
      ],
      "text/plain": [
       "Colon                   package:base                   R Documentation\n",
       "\n",
       "_\bC_\bo_\bl_\bo_\bn _\bO_\bp_\be_\br_\ba_\bt_\bo_\br\n",
       "\n",
       "_\bD_\be_\bs_\bc_\br_\bi_\bp_\bt_\bi_\bo_\bn:\n",
       "\n",
       "     Generate regular sequences.\n",
       "\n",
       "_\bU_\bs_\ba_\bg_\be:\n",
       "\n",
       "     from:to\n",
       "        a:b\n",
       "     \n",
       "_\bA_\br_\bg_\bu_\bm_\be_\bn_\bt_\bs:\n",
       "\n",
       "    from: starting value of sequence.\n",
       "\n",
       "      to: (maximal) end value of the sequence.\n",
       "\n",
       "    a, b: ‘factor’s of the same length.\n",
       "\n",
       "_\bD_\be_\bt_\ba_\bi_\bl_\bs:\n",
       "\n",
       "     The binary operator ‘:’ has two meanings: for factors ‘a:b’ is\n",
       "     equivalent to ‘interaction(a, b)’ (but the levels are ordered and\n",
       "     labelled differently).\n",
       "\n",
       "     For other arguments ‘from:to’ is equivalent to ‘seq(from, to)’,\n",
       "     and generates a sequence from ‘from’ to ‘to’ in steps of ‘1’ or\n",
       "     ‘-1’.  Value ‘to’ will be included if it differs from ‘from’ by an\n",
       "     integer up to a numeric fuzz of about ‘1e-7’.  Non-numeric\n",
       "     arguments are coerced internally (hence without dispatching\n",
       "     methods) to numeric-complex values will have their imaginary parts\n",
       "     discarded with a warning.\n",
       "\n",
       "_\bV_\ba_\bl_\bu_\be:\n",
       "\n",
       "     For numeric arguments, a numeric vector.  This will be of type\n",
       "     ‘integer’ if ‘from’ is integer-valued and the result is\n",
       "     representable in the R integer type, otherwise of type ‘\"double\"’\n",
       "     (aka ‘mode’ ‘\"numeric\"’).\n",
       "\n",
       "     For factors, an unordered factor with levels labelled as ‘la:lb’\n",
       "     and ordered lexicographically (that is, ‘lb’ varies fastest).\n",
       "\n",
       "_\bR_\be_\bf_\be_\br_\be_\bn_\bc_\be_\bs:\n",
       "\n",
       "     Becker, R. A., Chambers, J. M. and Wilks, A. R. (1988) _The New S\n",
       "     Language_.  Wadsworth & Brooks/Cole.\n",
       "     (for numeric arguments: S does not have ‘:’ for factors.)\n",
       "\n",
       "_\bS_\be_\be _\bA_\bl_\bs_\bo:\n",
       "\n",
       "     ‘seq’ (a _generalization_ of ‘from:to’).\n",
       "\n",
       "     As an alternative to using ‘:’ for factors, ‘interaction’.\n",
       "\n",
       "     For ‘:’ used in the formal representation of an interaction, see\n",
       "     ‘formula’.\n",
       "\n",
       "_\bE_\bx_\ba_\bm_\bp_\bl_\be_\bs:\n",
       "\n",
       "     1:4\n",
       "     pi:6 # real\n",
       "     6:pi # integer\n",
       "     \n",
       "     f1 <- gl(2, 3); f1\n",
       "     f2 <- gl(3, 2); f2\n",
       "     f1:f2 # a factor, the \"cross\"  f1 x f2\n",
       "     "
      ]
     },
     "execution_count": 60,
     "metadata": {},
     "output_type": "execute_result"
    }
   ],
   "source": [
    "?colon"
   ]
  },
  {
   "cell_type": "markdown",
   "metadata": {},
   "source": [
    "###Generando Secuencia Vectores con seq()"
   ]
  },
  {
   "cell_type": "markdown",
   "metadata": {},
   "source": [
    "Una generalización de **:** es  la función **seq()** **(sequence)**, que genera una secuencia en progresión aritmética.\n",
    "Por ejemplo, mientras `4:8 ` mostraba un vector `(4, 5, 6, 7,8)`, con los elementos espaciados una unidad, \n",
    "podemos generalizar esto usando **seq()**. Veamos algunos ejemplos"
   ]
  },
  {
   "cell_type": "code",
   "execution_count": 61,
   "metadata": {
    "collapsed": false
   },
   "outputs": [
    {
     "data": {
      "text/html": [
       "<ol class=list-inline>\n",
       "\t<li>3</li>\n",
       "\t<li>6</li>\n",
       "\t<li>9</li>\n",
       "\t<li>12</li>\n",
       "\t<li>15</li>\n",
       "</ol>\n"
      ],
      "text/latex": [
       "\\begin{enumerate*}\n",
       "\\item 3\n",
       "\\item 6\n",
       "\\item 9\n",
       "\\item 12\n",
       "\\item 15\n",
       "\\end{enumerate*}\n"
      ],
      "text/markdown": [
       "1. 3\n",
       "2. 6\n",
       "3. 9\n",
       "4. 12\n",
       "5. 15\n",
       "\n",
       "\n"
      ],
      "text/plain": [
       "[1]  3  6  9 12 15"
      ]
     },
     "execution_count": 61,
     "metadata": {},
     "output_type": "execute_result"
    }
   ],
   "source": [
    "seq(from=3, to=15, by=3)"
   ]
  },
  {
   "cell_type": "code",
   "execution_count": 62,
   "metadata": {
    "collapsed": false
   },
   "outputs": [
    {
     "data": {
      "text/html": [
       "<ol class=list-inline>\n",
       "\t<li>0.1</li>\n",
       "\t<li>0.2</li>\n",
       "\t<li>0.3</li>\n",
       "\t<li>0.4</li>\n",
       "\t<li>0.5</li>\n",
       "\t<li>0.6</li>\n",
       "\t<li>0.7</li>\n",
       "\t<li>0.8</li>\n",
       "\t<li>0.9</li>\n",
       "\t<li>1</li>\n",
       "</ol>\n"
      ],
      "text/latex": [
       "\\begin{enumerate*}\n",
       "\\item 0.1\n",
       "\\item 0.2\n",
       "\\item 0.3\n",
       "\\item 0.4\n",
       "\\item 0.5\n",
       "\\item 0.6\n",
       "\\item 0.7\n",
       "\\item 0.8\n",
       "\\item 0.9\n",
       "\\item 1\n",
       "\\end{enumerate*}\n"
      ],
      "text/markdown": [
       "1. 0.1\n",
       "2. 0.2\n",
       "3. 0.3\n",
       "4. 0.4\n",
       "5. 0.5\n",
       "6. 0.6\n",
       "7. 0.7\n",
       "8. 0.8\n",
       "9. 0.9\n",
       "10. 1\n",
       "\n",
       "\n"
      ],
      "text/plain": [
       " [1] 0.1 0.2 0.3 0.4 0.5 0.6 0.7 0.8 0.9 1.0"
      ]
     },
     "execution_count": 62,
     "metadata": {},
     "output_type": "execute_result"
    }
   ],
   "source": [
    "# El espaciado puede no ser un entero\n",
    "seq(from = 0.1, to=1, length =10)"
   ]
  },
  {
   "cell_type": "markdown",
   "metadata": {},
   "source": [
    "Supongamos que tenemos, esta función y **x** es vacio, entonces este bucle no deberia, producir iteraciones,\n",
    "pero tiene dos, desde que `1:legth(x)` evalua a `(1,0)`.\n",
    "\n",
    "```\n",
    "\n",
    "f1 <- function(x) {\n",
    "for (i in 1:length(x)) {\n",
    "if (x[i] == 1) break # salir del bucle\n",
    "}\n",
    "return(i)\n",
    "}\n",
    "\n",
    "```\n",
    "Podemos fijar esto, escribiendo  la siguiente declaración como sigue, en el script anterior como sigue\n",
    "\n",
    "` for (i in seq(x))`\n",
    "\n",
    "Veamos como funciona esto, hagamos una prueba a **seq()**:"
   ]
  },
  {
   "cell_type": "code",
   "execution_count": 63,
   "metadata": {
    "collapsed": false
   },
   "outputs": [
    {
     "data": {
      "text/html": [
       "<ol class=list-inline>\n",
       "\t<li>5</li>\n",
       "\t<li>12</li>\n",
       "\t<li>13</li>\n",
       "</ol>\n"
      ],
      "text/latex": [
       "\\begin{enumerate*}\n",
       "\\item 5\n",
       "\\item 12\n",
       "\\item 13\n",
       "\\end{enumerate*}\n"
      ],
      "text/markdown": [
       "1. 5\n",
       "2. 12\n",
       "3. 13\n",
       "\n",
       "\n"
      ],
      "text/plain": [
       "[1]  5 12 13"
      ]
     },
     "execution_count": 63,
     "metadata": {},
     "output_type": "execute_result"
    },
    {
     "data": {
      "text/html": [
       "<ol class=list-inline>\n",
       "\t<li>1</li>\n",
       "\t<li>2</li>\n",
       "\t<li>3</li>\n",
       "</ol>\n"
      ],
      "text/latex": [
       "\\begin{enumerate*}\n",
       "\\item 1\n",
       "\\item 2\n",
       "\\item 3\n",
       "\\end{enumerate*}\n"
      ],
      "text/markdown": [
       "1. 1\n",
       "2. 2\n",
       "3. 3\n",
       "\n",
       "\n"
      ],
      "text/plain": [
       "[1] 1 2 3"
      ]
     },
     "execution_count": 63,
     "metadata": {},
     "output_type": "execute_result"
    },
    {
     "data": {
      "text/plain": [
       "NULL"
      ]
     },
     "execution_count": 63,
     "metadata": {},
     "output_type": "execute_result"
    },
    {
     "data": {
      "text/html": [
       "<ol class=list-inline>\n",
       "</ol>\n"
      ],
      "text/latex": [
       "\\begin{enumerate*}\n",
       "\\end{enumerate*}\n"
      ],
      "text/markdown": [
       "\n",
       "\n"
      ],
      "text/plain": [
       "integer(0)"
      ]
     },
     "execution_count": 63,
     "metadata": {},
     "output_type": "execute_result"
    }
   ],
   "source": [
    "x <- c(5,12,13)\n",
    "x\n",
    "seq(x)\n",
    "x<-NULL\n",
    "x\n",
    "seq(x)"
   ]
  },
  {
   "cell_type": "markdown",
   "metadata": {},
   "source": [
    "`seq(x)` nos da el mismo resultado que `1:length(x)`, si **x** no es vacío, pero evalúa correctamente a `NULL` si **x** es vacío, resultando en cero iteraciones, como se muestra en el ejemplo anterior."
   ]
  },
  {
   "cell_type": "code",
   "execution_count": 64,
   "metadata": {
    "collapsed": false
   },
   "outputs": [
    {
     "data": {
      "text/html": [
       "\n",
       "<table width=\"100%\" summary=\"page for seq {base}\"><tr><td>seq {base}</td><td style=\"text-align: right;\">R Documentation</td></tr></table>\n",
       "\n",
       "<h2>Sequence Generation</h2>\n",
       "\n",
       "<h3>Description</h3>\n",
       "\n",
       "<p>Generate regular sequences.  <code>seq</code> is a standard generic with a\n",
       "default method.  <code>seq.int</code> is a primitive which can be\n",
       "much faster but has a few restrictions.  <code>seq_along</code> and\n",
       "<code>seq_len</code> are very fast primitives for two common cases.\n",
       "</p>\n",
       "\n",
       "\n",
       "<h3>Usage</h3>\n",
       "\n",
       "<pre>\n",
       "seq(...)\n",
       "\n",
       "## Default S3 method:\n",
       "seq(from = 1, to = 1, by = ((to - from)/(length.out - 1)),\n",
       "    length.out = NULL, along.with = NULL, ...)\n",
       "\n",
       "seq.int(from, to, by, length.out, along.with, ...)\n",
       "\n",
       "seq_along(along.with)\n",
       "seq_len(length.out)\n",
       "</pre>\n",
       "\n",
       "\n",
       "<h3>Arguments</h3>\n",
       "\n",
       "<table summary=\"R argblock\">\n",
       "<tr valign=\"top\"><td><code>...</code></td>\n",
       "<td>\n",
       "<p>arguments passed to or from methods.</p>\n",
       "</td></tr>\n",
       "<tr valign=\"top\"><td><code>from, to</code></td>\n",
       "<td>\n",
       "<p>the starting and (maximal) end values of the\n",
       "sequence.  Of length <code>1</code> unless just <code>from</code> is supplied as\n",
       "an unnamed argument.</p>\n",
       "</td></tr>\n",
       "<tr valign=\"top\"><td><code>by</code></td>\n",
       "<td>\n",
       "<p>number: increment of the sequence.</p>\n",
       "</td></tr>\n",
       "<tr valign=\"top\"><td><code>length.out</code></td>\n",
       "<td>\n",
       "<p>desired length of the sequence.  A\n",
       "non-negative number, which for <code>seq</code> and <code>seq.int</code> will be\n",
       "rounded up if fractional.</p>\n",
       "</td></tr>\n",
       "<tr valign=\"top\"><td><code>along.with</code></td>\n",
       "<td>\n",
       "<p>take the length from the length of this argument.</p>\n",
       "</td></tr>\n",
       "</table>\n",
       "\n",
       "\n",
       "<h3>Details</h3>\n",
       "\n",
       "<p>Numerical inputs should all be finite (that is, not infinite,\n",
       "<code>NaN</code> or <code>NA</code>).\n",
       "</p>\n",
       "<p>The interpretation of the unnamed arguments of <code>seq</code> and\n",
       "<code>seq.int</code> is <em>not</em> standard, and it is recommended always to\n",
       "name the arguments when programming.\n",
       "</p>\n",
       "<p><code>seq</code> is  generic, and only the default method is described here.\n",
       "Note that it dispatches on the class of the <strong>first</strong> argument\n",
       "irrespective of argument names.  This can have unintended consequences\n",
       "if it is called with just one argument intending this to be taken as\n",
       "<code>along.with</code>: it is much better to use <code>seg_along</code> in that\n",
       "case.\n",
       "</p>\n",
       "<p><code>seq.int</code> is an internal generic which dispatches on\n",
       "methods for <code>\"seq\"</code> based on the class of the first supplied\n",
       "argument (before argument matching).\n",
       "</p>\n",
       "<p>Typical usages are\n",
       "</p>\n",
       "<pre>seq(from, to)\n",
       "seq(from, to, by= )\n",
       "seq(from, to, length.out= )\n",
       "seq(along.with= )\n",
       "seq(from)\n",
       "seq(length.out= )\n",
       "</pre>\n",
       "<p>The first form generates the sequence <code>from, from+/-1, ..., to</code>\n",
       "(identical to <code>from:to</code>).\n",
       "</p>\n",
       "<p>The second form generates <code>from, from+by</code>, ..., up to the\n",
       "sequence value less than or equal to <code>to</code>.  Specifying <code>to -\n",
       "  from</code> and <code>by</code> of opposite signs is an error.  Note that the\n",
       "computed final value can go just beyond <code>to</code> to allow for\n",
       "rounding error, but is truncated to <code>to</code>.  (&lsquo;Just beyond&rsquo;\n",
       "is by up to <i>1e-10</i> times <code>abs(from - to)</code>.)\n",
       "</p>\n",
       "<p>The third generates a sequence of <code>length.out</code> equally spaced\n",
       "values from <code>from</code> to <code>to</code>.  (<code>length.out</code> is usually\n",
       "abbreviated to <code>length</code> or <code>len</code>, and <code>seq_len</code> is much\n",
       "faster.)\n",
       "</p>\n",
       "<p>The fourth form generates the integer sequence <code>1, 2, ...,\n",
       "    length(along.with)</code>.  (<code>along.with</code> is usually abbreviated to\n",
       "<code>along</code>, and <code>seq_along</code> is much faster.)\n",
       "</p>\n",
       "<p>The fifth form generates the sequence <code>1, 2, ..., length(from)</code>\n",
       "(as if argument <code>along.with</code> had been specified), <em>unless</em>\n",
       "the argument is numeric of length 1 when it is interpreted as\n",
       "<code>1:from</code> (even for <code>seq(0)</code> for compatibility with S).\n",
       "Using either <code>seq_along</code> or <code>seq_len</code> is much preferred\n",
       "(unless strict S compatibility is essential).\n",
       "</p>\n",
       "<p>The final form generates the integer sequence <code>1, 2, ...,\n",
       "  length.out</code> unless <code>length.out = 0</code>, when it generates\n",
       "<code>integer(0)</code>.\n",
       "</p>\n",
       "<p>Very small sequences (with <code>from - to</code> of the order of <i>10^{-14}</i>\n",
       "times the larger of the ends) will return <code>from</code>.\n",
       "</p>\n",
       "<p>For <code>seq</code> (only), up to two of <code>from</code>, <code>to</code> and\n",
       "<code>by</code> can be supplied as complex values provided <code>length.out</code>\n",
       "or <code>along.with</code> is specified.  More generally, the default method\n",
       "of <code>seq</code> will handle classed objects with methods for\n",
       "the <code>Math</code>, <code>Ops</code> and <code>Summary</code> group generics.\n",
       "</p>\n",
       "<p><code>seq.int</code>, <code>seq_along</code> and <code>seq_len</code> are\n",
       "primitive.\n",
       "</p>\n",
       "\n",
       "\n",
       "<h3>Value</h3>\n",
       "\n",
       "<p><code>seq.int</code> and the default method of <code>seq</code> for numeric\n",
       "arguments return a vector of type <code>\"integer\"</code> or <code>\"double\"</code>:\n",
       "programmers should not rely on which.\n",
       "</p>\n",
       "<p><code>seq_along</code> and <code>seq_len</code> return an integer vector, unless\n",
       "it is a <em>long vector</em> when it will be double.\n",
       "</p>\n",
       "\n",
       "\n",
       "<h3>References</h3>\n",
       "\n",
       "<p>Becker, R. A., Chambers, J. M. and Wilks, A. R. (1988)\n",
       "<em>The New S Language</em>.\n",
       "Wadsworth &amp; Brooks/Cole.\n",
       "</p>\n",
       "\n",
       "\n",
       "<h3>See Also</h3>\n",
       "\n",
       "<p>The methods <code>seq.Date</code> and <code>seq.POSIXt</code>.\n",
       "</p>\n",
       "<p><code>:</code>,\n",
       "<code>rep</code>,\n",
       "<code>sequence</code>,\n",
       "<code>row</code>,\n",
       "<code>col</code>.\n",
       "</p>\n",
       "\n",
       "\n",
       "<h3>Examples</h3>\n",
       "\n",
       "<pre>\n",
       "seq(0, 1, length.out = 11)\n",
       "seq(stats::rnorm(20)) # effectively 'along'\n",
       "seq(1, 9, by = 2)     # matches 'end'\n",
       "seq(1, 9, by = pi)    # stays below 'end'\n",
       "seq(1, 6, by = 3)\n",
       "seq(1.575, 5.125, by = 0.05)\n",
       "seq(17) # same as 1:17, or even better seq_len(17)\n",
       "</pre>\n",
       "\n",
       "<hr /><div style=\"text-align: center;\">[Package <em>base</em> version 3.2.2 ]</div>"
      ],
      "text/latex": [
       "\\inputencoding{utf8}\n",
       "\\HeaderA{seq}{Sequence Generation}{seq}\n",
       "\\aliasA{seq\\_along}{seq}{seq.Rul.along}\n",
       "\\aliasA{seq.default}{seq}{seq.default}\n",
       "\\aliasA{seq.int}{seq}{seq.int}\n",
       "\\aliasA{seq\\_len}{seq}{seq.Rul.len}\n",
       "\\keyword{manip}{seq}\n",
       "%\n",
       "\\begin{Description}\\relax\n",
       "Generate regular sequences.  \\code{seq} is a standard generic with a\n",
       "default method.  \\code{seq.int} is a primitive which can be\n",
       "much faster but has a few restrictions.  \\code{seq\\_along} and\n",
       "\\code{seq\\_len} are very fast primitives for two common cases.\n",
       "\\end{Description}\n",
       "%\n",
       "\\begin{Usage}\n",
       "\\begin{verbatim}\n",
       "seq(...)\n",
       "\n",
       "## Default S3 method:\n",
       "seq(from = 1, to = 1, by = ((to - from)/(length.out - 1)),\n",
       "    length.out = NULL, along.with = NULL, ...)\n",
       "\n",
       "seq.int(from, to, by, length.out, along.with, ...)\n",
       "\n",
       "seq_along(along.with)\n",
       "seq_len(length.out)\n",
       "\\end{verbatim}\n",
       "\\end{Usage}\n",
       "%\n",
       "\\begin{Arguments}\n",
       "\\begin{ldescription}\n",
       "\\item[\\code{...}] arguments passed to or from methods.\n",
       "\\item[\\code{from, to}] the starting and (maximal) end values of the\n",
       "sequence.  Of length \\code{1} unless just \\code{from} is supplied as\n",
       "an unnamed argument.\n",
       "\\item[\\code{by}] number: increment of the sequence.\n",
       "\\item[\\code{length.out}] desired length of the sequence.  A\n",
       "non-negative number, which for \\code{seq} and \\code{seq.int} will be\n",
       "rounded up if fractional.\n",
       "\\item[\\code{along.with}] take the length from the length of this argument.\n",
       "\\end{ldescription}\n",
       "\\end{Arguments}\n",
       "%\n",
       "\\begin{Details}\\relax\n",
       "Numerical inputs should all be \\LinkA{finite}{finite} (that is, not infinite,\n",
       "\\code{\\LinkA{NaN}{NaN}} or \\code{NA}).\n",
       "\n",
       "The interpretation of the unnamed arguments of \\code{seq} and\n",
       "\\code{seq.int} is \\emph{not} standard, and it is recommended always to\n",
       "name the arguments when programming.\n",
       "\n",
       "\\code{seq} is  generic, and only the default method is described here.\n",
       "Note that it dispatches on the class of the \\strong{first} argument\n",
       "irrespective of argument names.  This can have unintended consequences\n",
       "if it is called with just one argument intending this to be taken as\n",
       "\\code{along.with}: it is much better to use \\code{seg\\_along} in that\n",
       "case.\n",
       "\n",
       "\\code{seq.int} is an \\LinkA{internal generic}{internal generic} which dispatches on\n",
       "methods for \\code{\"seq\"} based on the class of the first supplied\n",
       "argument (before argument matching).\n",
       "\n",
       "Typical usages are\n",
       "\\begin{alltt}seq(from, to)\n",
       "seq(from, to, by= )\n",
       "seq(from, to, length.out= )\n",
       "seq(along.with= )\n",
       "seq(from)\n",
       "seq(length.out= )\n",
       "\\end{alltt}\n",
       "\n",
       "The first form generates the sequence \\code{from, from+/-1, ..., to}\n",
       "(identical to \\code{from:to}).\n",
       "\n",
       "The second form generates \\code{from, from+by}, \\ldots, up to the\n",
       "sequence value less than or equal to \\code{to}.  Specifying \\code{to -\n",
       "  from} and \\code{by} of opposite signs is an error.  Note that the\n",
       "computed final value can go just beyond \\code{to} to allow for\n",
       "rounding error, but is truncated to \\code{to}.  (`Just beyond'\n",
       "is by up to \\eqn{10^{-10}}{} times \\code{abs(from - to)}.)\n",
       "\n",
       "The third generates a sequence of \\code{length.out} equally spaced\n",
       "values from \\code{from} to \\code{to}.  (\\code{length.out} is usually\n",
       "abbreviated to \\code{length} or \\code{len}, and \\code{seq\\_len} is much\n",
       "faster.)\n",
       "\n",
       "The fourth form generates the integer sequence \\code{1, 2, ...,\n",
       "    length(along.with)}.  (\\code{along.with} is usually abbreviated to\n",
       "\\code{along}, and \\code{seq\\_along} is much faster.)\n",
       "\n",
       "The fifth form generates the sequence \\code{1, 2, ..., length(from)}\n",
       "(as if argument \\code{along.with} had been specified), \\emph{unless}\n",
       "the argument is numeric of length 1 when it is interpreted as\n",
       "\\code{1:from} (even for \\code{seq(0)} for compatibility with S).\n",
       "Using either \\code{seq\\_along} or \\code{seq\\_len} is much preferred\n",
       "(unless strict S compatibility is essential).\n",
       "\n",
       "The final form generates the integer sequence \\code{1, 2, ...,\n",
       "  length.out} unless \\code{length.out = 0}, when it generates\n",
       "\\code{integer(0)}.\n",
       "\n",
       "Very small sequences (with \\code{from - to} of the order of \\eqn{10^{-14}}{}\n",
       "times the larger of the ends) will return \\code{from}.\n",
       "\n",
       "For \\code{seq} (only), up to two of \\code{from}, \\code{to} and\n",
       "\\code{by} can be supplied as complex values provided \\code{length.out}\n",
       "or \\code{along.with} is specified.  More generally, the default method\n",
       "of \\code{seq} will handle classed objects with methods for\n",
       "the \\code{Math}, \\code{Ops} and \\code{Summary} group generics.\n",
       "\n",
       "\\code{seq.int}, \\code{seq\\_along} and \\code{seq\\_len} are\n",
       "\\LinkA{primitive}{primitive}.\n",
       "\\end{Details}\n",
       "%\n",
       "\\begin{Value}\n",
       "\\code{seq.int} and the default method of \\code{seq} for numeric\n",
       "arguments return a vector of type \\code{\"integer\"} or \\code{\"double\"}:\n",
       "programmers should not rely on which.\n",
       "\n",
       "\\code{seq\\_along} and \\code{seq\\_len} return an integer vector, unless\n",
       "it is a \\emph{long vector} when it will be double.\n",
       "\\end{Value}\n",
       "%\n",
       "\\begin{References}\\relax\n",
       "Becker, R. A., Chambers, J. M. and Wilks, A. R. (1988)\n",
       "\\emph{The New S Language}.\n",
       "Wadsworth \\& Brooks/Cole.\n",
       "\\end{References}\n",
       "%\n",
       "\\begin{SeeAlso}\\relax\n",
       "The methods \\code{\\LinkA{seq.Date}{seq.Date}} and \\code{\\LinkA{seq.POSIXt}{seq.POSIXt}}.\n",
       "\n",
       "\\code{\\LinkA{:}{:}},\n",
       "\\code{\\LinkA{rep}{rep}},\n",
       "\\code{\\LinkA{sequence}{sequence}},\n",
       "\\code{\\LinkA{row}{row}},\n",
       "\\code{\\LinkA{col}{col}}.\n",
       "\\end{SeeAlso}\n",
       "%\n",
       "\\begin{Examples}\n",
       "\\begin{ExampleCode}\n",
       "seq(0, 1, length.out = 11)\n",
       "seq(stats::rnorm(20)) # effectively 'along'\n",
       "seq(1, 9, by = 2)     # matches 'end'\n",
       "seq(1, 9, by = pi)    # stays below 'end'\n",
       "seq(1, 6, by = 3)\n",
       "seq(1.575, 5.125, by = 0.05)\n",
       "seq(17) # same as 1:17, or even better seq_len(17)\n",
       "\\end{ExampleCode}\n",
       "\\end{Examples}"
      ],
      "text/plain": [
       "seq                    package:base                    R Documentation\n",
       "\n",
       "_\bS_\be_\bq_\bu_\be_\bn_\bc_\be _\bG_\be_\bn_\be_\br_\ba_\bt_\bi_\bo_\bn\n",
       "\n",
       "_\bD_\be_\bs_\bc_\br_\bi_\bp_\bt_\bi_\bo_\bn:\n",
       "\n",
       "     Generate regular sequences.  ‘seq’ is a standard generic with a\n",
       "     default method.  ‘seq.int’ is a primitive which can be much faster\n",
       "     but has a few restrictions.  ‘seq_along’ and ‘seq_len’ are very\n",
       "     fast primitives for two common cases.\n",
       "\n",
       "_\bU_\bs_\ba_\bg_\be:\n",
       "\n",
       "     seq(...)\n",
       "     \n",
       "     ## Default S3 method:\n",
       "     seq(from = 1, to = 1, by = ((to - from)/(length.out - 1)),\n",
       "         length.out = NULL, along.with = NULL, ...)\n",
       "     \n",
       "     seq.int(from, to, by, length.out, along.with, ...)\n",
       "     \n",
       "     seq_along(along.with)\n",
       "     seq_len(length.out)\n",
       "     \n",
       "_\bA_\br_\bg_\bu_\bm_\be_\bn_\bt_\bs:\n",
       "\n",
       "     ...: arguments passed to or from methods.\n",
       "\n",
       "from, to: the starting and (maximal) end values of the sequence.  Of\n",
       "          length ‘1’ unless just ‘from’ is supplied as an unnamed\n",
       "          argument.\n",
       "\n",
       "      by: number: increment of the sequence.\n",
       "\n",
       "length.out: desired length of the sequence.  A non-negative number,\n",
       "          which for ‘seq’ and ‘seq.int’ will be rounded up if\n",
       "          fractional.\n",
       "\n",
       "along.with: take the length from the length of this argument.\n",
       "\n",
       "_\bD_\be_\bt_\ba_\bi_\bl_\bs:\n",
       "\n",
       "     Numerical inputs should all be finite (that is, not infinite,\n",
       "     ‘NaN’ or ‘NA’).\n",
       "\n",
       "     The interpretation of the unnamed arguments of ‘seq’ and ‘seq.int’\n",
       "     is _not_ standard, and it is recommended always to name the\n",
       "     arguments when programming.\n",
       "\n",
       "     ‘seq’ is generic, and only the default method is described here.\n",
       "     Note that it dispatches on the class of the *first* argument\n",
       "     irrespective of argument names.  This can have unintended\n",
       "     consequences if it is called with just one argument intending this\n",
       "     to be taken as ‘along.with’: it is much better to use ‘seg_along’\n",
       "     in that case.\n",
       "\n",
       "     ‘seq.int’ is an internal generic which dispatches on methods for\n",
       "     ‘\"seq\"’ based on the class of the first supplied argument (before\n",
       "     argument matching).\n",
       "\n",
       "     Typical usages are\n",
       "     \n",
       "     seq(from, to)\n",
       "     seq(from, to, by= )\n",
       "     seq(from, to, length.out= )\n",
       "     seq(along.with= )\n",
       "     seq(from)\n",
       "     seq(length.out= )\n",
       "\n",
       "     The first form generates the sequence ‘from, from+/-1, ..., to’\n",
       "     (identical to ‘from:to’).\n",
       "\n",
       "     The second form generates ‘from, from+by’, ..., up to the sequence\n",
       "     value less than or equal to ‘to’.  Specifying ‘to - from’ and ‘by’\n",
       "     of opposite signs is an error.  Note that the computed final value\n",
       "     can go just beyond ‘to’ to allow for rounding error, but is\n",
       "     truncated to ‘to’.  (‘Just beyond’ is by up to 1e-10 times\n",
       "     ‘abs(from - to)’.)\n",
       "\n",
       "     The third generates a sequence of ‘length.out’ equally spaced\n",
       "     values from ‘from’ to ‘to’.  (‘length.out’ is usually abbreviated\n",
       "     to ‘length’ or ‘len’, and ‘seq_len’ is much faster.)\n",
       "\n",
       "     The fourth form generates the integer sequence ‘1, 2, ...,\n",
       "     length(along.with)’.  (‘along.with’ is usually abbreviated to\n",
       "     ‘along’, and ‘seq_along’ is much faster.)\n",
       "\n",
       "     The fifth form generates the sequence ‘1, 2, ..., length(from)’\n",
       "     (as if argument ‘along.with’ had been specified), _unless_ the\n",
       "     argument is numeric of length 1 when it is interpreted as ‘1:from’\n",
       "     (even for ‘seq(0)’ for compatibility with S).  Using either\n",
       "     ‘seq_along’ or ‘seq_len’ is much preferred (unless strict S\n",
       "     compatibility is essential).\n",
       "\n",
       "     The final form generates the integer sequence ‘1, 2, ...,\n",
       "     length.out’ unless ‘length.out = 0’, when it generates\n",
       "     ‘integer(0)’.\n",
       "\n",
       "     Very small sequences (with ‘from - to’ of the order of 10^{-14}\n",
       "     times the larger of the ends) will return ‘from’.\n",
       "\n",
       "     For ‘seq’ (only), up to two of ‘from’, ‘to’ and ‘by’ can be\n",
       "     supplied as complex values provided ‘length.out’ or ‘along.with’\n",
       "     is specified.  More generally, the default method of ‘seq’ will\n",
       "     handle classed objects with methods for the ‘Math’, ‘Ops’ and\n",
       "     ‘Summary’ group generics.\n",
       "\n",
       "     ‘seq.int’, ‘seq_along’ and ‘seq_len’ are primitive.\n",
       "\n",
       "_\bV_\ba_\bl_\bu_\be:\n",
       "\n",
       "     ‘seq.int’ and the default method of ‘seq’ for numeric arguments\n",
       "     return a vector of type ‘\"integer\"’ or ‘\"double\"’: programmers\n",
       "     should not rely on which.\n",
       "\n",
       "     ‘seq_along’ and ‘seq_len’ return an integer vector, unless it is a\n",
       "     _long vector_ when it will be double.\n",
       "\n",
       "_\bR_\be_\bf_\be_\br_\be_\bn_\bc_\be_\bs:\n",
       "\n",
       "     Becker, R. A., Chambers, J. M. and Wilks, A. R. (1988) _The New S\n",
       "     Language_.  Wadsworth & Brooks/Cole.\n",
       "\n",
       "_\bS_\be_\be _\bA_\bl_\bs_\bo:\n",
       "\n",
       "     The methods ‘seq.Date’ and ‘seq.POSIXt’.\n",
       "\n",
       "     ‘:’, ‘rep’, ‘sequence’, ‘row’, ‘col’.\n",
       "\n",
       "_\bE_\bx_\ba_\bm_\bp_\bl_\be_\bs:\n",
       "\n",
       "     seq(0, 1, length.out = 11)\n",
       "     seq(stats::rnorm(20)) # effectively 'along'\n",
       "     seq(1, 9, by = 2)     # matches 'end'\n",
       "     seq(1, 9, by = pi)    # stays below 'end'\n",
       "     seq(1, 6, by = 3)\n",
       "     seq(1.575, 5.125, by = 0.05)\n",
       "     seq(17) # same as 1:17, or even better seq_len(17)\n",
       "     "
      ]
     },
     "execution_count": 64,
     "metadata": {},
     "output_type": "execute_result"
    }
   ],
   "source": [
    "## Para ver más ejemplos y paramétros de la función seq()\n",
    "\n",
    "?seq"
   ]
  },
  {
   "cell_type": "markdown",
   "metadata": {},
   "source": [
    "### Usando la función rep()"
   ]
  },
  {
   "cell_type": "markdown",
   "metadata": {},
   "source": [
    "La función **rep()** o **(repeat)** nos permite de manera conveniente colocar un vector constante varias veces. \n",
    "Una forma de usar esta función es `rep(x, n)`, que crea un vector de ** n\\*length(x)** elementos, esto es **n** copias de **x**. Algunos ejemplo  "
   ]
  },
  {
   "cell_type": "code",
   "execution_count": 65,
   "metadata": {
    "collapsed": false
   },
   "outputs": [
    {
     "data": {
      "text/html": [
       "<ol class=list-inline>\n",
       "\t<li>5</li>\n",
       "\t<li>5</li>\n",
       "\t<li>5</li>\n",
       "</ol>\n"
      ],
      "text/latex": [
       "\\begin{enumerate*}\n",
       "\\item 5\n",
       "\\item 5\n",
       "\\item 5\n",
       "\\end{enumerate*}\n"
      ],
      "text/markdown": [
       "1. 5\n",
       "2. 5\n",
       "3. 5\n",
       "\n",
       "\n"
      ],
      "text/plain": [
       "[1] 5 5 5"
      ]
     },
     "execution_count": 65,
     "metadata": {},
     "output_type": "execute_result"
    },
    {
     "data": {
      "text/html": [
       "<ol class=list-inline>\n",
       "\t<li>1</li>\n",
       "\t<li>2</li>\n",
       "\t<li>3</li>\n",
       "\t<li>1</li>\n",
       "\t<li>2</li>\n",
       "\t<li>3</li>\n",
       "\t<li>1</li>\n",
       "\t<li>2</li>\n",
       "\t<li>3</li>\n",
       "\t<li>1</li>\n",
       "\t<li>2</li>\n",
       "\t<li>3</li>\n",
       "</ol>\n"
      ],
      "text/latex": [
       "\\begin{enumerate*}\n",
       "\\item 1\n",
       "\\item 2\n",
       "\\item 3\n",
       "\\item 1\n",
       "\\item 2\n",
       "\\item 3\n",
       "\\item 1\n",
       "\\item 2\n",
       "\\item 3\n",
       "\\item 1\n",
       "\\item 2\n",
       "\\item 3\n",
       "\\end{enumerate*}\n"
      ],
      "text/markdown": [
       "1. 1\n",
       "2. 2\n",
       "3. 3\n",
       "4. 1\n",
       "5. 2\n",
       "6. 3\n",
       "7. 1\n",
       "8. 2\n",
       "9. 3\n",
       "10. 1\n",
       "11. 2\n",
       "12. 3\n",
       "\n",
       "\n"
      ],
      "text/plain": [
       " [1] 1 2 3 1 2 3 1 2 3 1 2 3"
      ]
     },
     "execution_count": 65,
     "metadata": {},
     "output_type": "execute_result"
    },
    {
     "data": {
      "text/html": [
       "<ol class=list-inline>\n",
       "\t<li>1</li>\n",
       "\t<li>2</li>\n",
       "\t<li>3</li>\n",
       "\t<li>1</li>\n",
       "\t<li>2</li>\n",
       "\t<li>3</li>\n",
       "\t<li>1</li>\n",
       "\t<li>2</li>\n",
       "\t<li>3</li>\n",
       "</ol>\n"
      ],
      "text/latex": [
       "\\begin{enumerate*}\n",
       "\\item 1\n",
       "\\item 2\n",
       "\\item 3\n",
       "\\item 1\n",
       "\\item 2\n",
       "\\item 3\n",
       "\\item 1\n",
       "\\item 2\n",
       "\\item 3\n",
       "\\end{enumerate*}\n"
      ],
      "text/markdown": [
       "1. 1\n",
       "2. 2\n",
       "3. 3\n",
       "4. 1\n",
       "5. 2\n",
       "6. 3\n",
       "7. 1\n",
       "8. 2\n",
       "9. 3\n",
       "\n",
       "\n"
      ],
      "text/plain": [
       "[1] 1 2 3 1 2 3 1 2 3"
      ]
     },
     "execution_count": 65,
     "metadata": {},
     "output_type": "execute_result"
    }
   ],
   "source": [
    "q <- rep(5, 3)\n",
    "q\n",
    "rep(c(1,2,3), 4)\n",
    "rep(1:3, 3)"
   ]
  },
  {
   "cell_type": "code",
   "execution_count": 66,
   "metadata": {
    "collapsed": false
   },
   "outputs": [
    {
     "data": {
      "text/html": [
       "\n",
       "<table width=\"100%\" summary=\"page for rep {base}\"><tr><td>rep {base}</td><td style=\"text-align: right;\">R Documentation</td></tr></table>\n",
       "\n",
       "<h2>Replicate Elements of Vectors and Lists</h2>\n",
       "\n",
       "<h3>Description</h3>\n",
       "\n",
       "<p><code>rep</code> replicates the values in <code>x</code>.  It is a generic\n",
       "function, and the (internal) default method is described here.\n",
       "</p>\n",
       "<p><code>rep.int</code> and <code>rep_len</code> are faster simplified versions for\n",
       "two common cases.  They are not generic.\n",
       "</p>\n",
       "\n",
       "\n",
       "<h3>Usage</h3>\n",
       "\n",
       "<pre>\n",
       "rep(x, ...)\n",
       "\n",
       "rep.int(x, times)\n",
       "\n",
       "rep_len(x, length.out)\n",
       "</pre>\n",
       "\n",
       "\n",
       "<h3>Arguments</h3>\n",
       "\n",
       "<table summary=\"R argblock\">\n",
       "<tr valign=\"top\"><td><code>x</code></td>\n",
       "<td>\n",
       "<p>a vector (of any mode including a list) or a factor or (for\n",
       "<code>rep</code> only) a <code>POSIXct</code> or <code>POSIXlt</code> or <code>Date</code>\n",
       "object; or an S4 object containing such an object.</p>\n",
       "</td></tr>\n",
       "<tr valign=\"top\"><td><code>...</code></td>\n",
       "<td>\n",
       "<p>further arguments to be passed to or from other methods.\n",
       "For the internal default method these can include:\n",
       "</p>\n",
       "\n",
       "<dl>\n",
       "<dt><code>times</code></dt><dd><p>A integer vector giving the (non-negative) number of\n",
       "times to repeat each element if of length <code>length(x)</code>, or to\n",
       "repeat the whole vector if of length 1.  Negative or <code>NA</code>\n",
       "values are an error.</p>\n",
       "</dd>\n",
       "<dt><code>length.out</code></dt><dd><p>non-negative integer.  The desired length of the\n",
       "output vector.  Other inputs will be coerced to an integer\n",
       "vector and the first element taken.  Ignored if <code>NA</code> or invalid.</p>\n",
       "</dd>\n",
       "<dt><code>each</code></dt><dd><p>non-negative integer.  Each element of <code>x</code>\n",
       "is repeated <code>each</code> times.  Other inputs will be coerced to\n",
       "an integer vector and the first element taken.  Treated as\n",
       "<code>1</code> if <code>NA</code> or invalid.</p>\n",
       "</dd>\n",
       "</dl>\n",
       "\n",
       "</td></tr>\n",
       "<tr valign=\"top\"><td><code>times</code></td>\n",
       "<td>\n",
       "<p>see <code>...</code>.</p>\n",
       "</td></tr>\n",
       "<tr valign=\"top\"><td><code>length.out</code></td>\n",
       "<td>\n",
       "<p>non-negative integer: the desired length of the\n",
       "output vector.</p>\n",
       "</td></tr>\n",
       "</table>\n",
       "\n",
       "\n",
       "<h3>Details</h3>\n",
       "\n",
       "<p>The default behaviour is as if the call was\n",
       "</p>\n",
       "<pre>  rep(x, times = 1, length.out = NA, each = 1)\n",
       "</pre><p>.  Normally just one of the additional\n",
       "arguments is specified, but if <code>each</code> is specified with either\n",
       "of the other two, its replication is performed first, and then that\n",
       "implied by <code>times</code> or <code>length.out</code>.\n",
       "</p>\n",
       "<p>If <code>times</code> consists of a single integer, the result consists of\n",
       "the whole input repeated this many times.  If <code>times</code> is a\n",
       "vector of the same length as <code>x</code> (after replication by\n",
       "<code>each</code>), the result consists of <code>x[1]</code> repeated\n",
       "<code>times[1]</code> times, <code>x[2]</code> repeated <code>times[2]</code> times and\n",
       "so on.\n",
       "</p>\n",
       "<p><code>length.out</code> may be given in place of <code>times</code>,\n",
       "in which case <code>x</code> is repeated as many times as is\n",
       "necessary to create a vector of this length.  If both are given,\n",
       "<code>length.out</code> takes priority and <code>times</code> is ignored.\n",
       "</p>\n",
       "<p>Non-integer values of <code>times</code> will be truncated towards zero.\n",
       "If <code>times</code> is a computed quantity it is prudent to add a small\n",
       "fuzz or use <code>round</code>.  And analogously for <code>each</code>.\n",
       "</p>\n",
       "<p>If <code>x</code> has length zero and <code>length.out</code> is supplied and is\n",
       "positive, the values are filled in using the extraction rules, that is\n",
       "by an <code>NA</code> of the appropriate class for an atomic vector\n",
       "(<code>0</code> for raw vectors) and <code>NULL</code> for a list.\n",
       "</p>\n",
       "\n",
       "\n",
       "<h3>Value</h3>\n",
       "\n",
       "<p>An object of the same type as <code>x</code>.\n",
       "</p>\n",
       "<p><code>rep.int</code> and <code>rep_len</code> return no attributes (except the\n",
       "class if returning a factor).\n",
       "</p>\n",
       "<p>The default method of <code>rep</code> gives the result names (which will\n",
       "almost always contain duplicates) if <code>x</code> had names, but retains\n",
       "no other attributes.\n",
       "</p>\n",
       "\n",
       "\n",
       "<h3>Note</h3>\n",
       "\n",
       "<p>Function <code>rep.int</code> is a simple case which was provided as a\n",
       "separate function partly for S compatibility and partly for speed\n",
       "(especially when names can be dropped).  The performance of <code>rep</code>\n",
       "has been improved since, but <code>rep.int</code> is still at least twice as\n",
       "fast when <code>x</code> has names.\n",
       "</p>\n",
       "<p>The name <code>rep.int</code> long precedes making <code>rep</code> generic.\n",
       "</p>\n",
       "<p>Function <code>rep</code> is a primitive, but (partial) matching of argument\n",
       "names is performed as for normal functions.\n",
       "</p>\n",
       "<p>For historical reasons <code>rep</code> (only) works on <code>NULL</code>: the\n",
       "result is always <code>NULL</code> even when <code>length.out</code> is positive.\n",
       "</p>\n",
       "<p>Although it has never been documented, these functions have always\n",
       "worked on expression vectors.\n",
       "</p>\n",
       "\n",
       "\n",
       "<h3>References</h3>\n",
       "\n",
       "<p>Becker, R. A., Chambers, J. M. and Wilks, A. R. (1988)\n",
       "<em>The New S Language</em>.\n",
       "Wadsworth &amp; Brooks/Cole.\n",
       "</p>\n",
       "\n",
       "\n",
       "<h3>See Also</h3>\n",
       "\n",
       "<p><code>seq</code>, <code>sequence</code>, <code>replicate</code>.\n",
       "</p>\n",
       "\n",
       "\n",
       "<h3>Examples</h3>\n",
       "\n",
       "<pre>\n",
       "rep(1:4, 2)\n",
       "rep(1:4, each = 2)       # not the same.\n",
       "rep(1:4, c(2,2,2,2))     # same as second.\n",
       "rep(1:4, c(2,1,2,1))\n",
       "rep(1:4, each = 2, len = 4)    # first 4 only.\n",
       "rep(1:4, each = 2, len = 10)   # 8 integers plus two recycled 1's.\n",
       "rep(1:4, each = 2, times = 3)  # length 24, 3 complete replications\n",
       "\n",
       "rep(1, 40*(1-.8)) # length 7 on most platforms\n",
       "rep(1, 40*(1-.8)+1e-7) # better\n",
       "\n",
       "## replicate a list\n",
       "fred &lt;- list(happy = 1:10, name = \"squash\")\n",
       "rep(fred, 5)\n",
       "\n",
       "# date-time objects\n",
       "x &lt;- .leap.seconds[1:3]\n",
       "rep(x, 2)\n",
       "rep(as.POSIXlt(x), rep(2, 3))\n",
       "\n",
       "## named factor\n",
       "x &lt;- factor(LETTERS[1:4]); names(x) &lt;- letters[1:4]\n",
       "x\n",
       "rep(x, 2)\n",
       "rep(x, each = 2)\n",
       "rep.int(x, 2)  # no names\n",
       "rep_len(x, 10)\n",
       "</pre>\n",
       "\n",
       "<hr /><div style=\"text-align: center;\">[Package <em>base</em> version 3.2.2 ]</div>"
      ],
      "text/latex": [
       "\\inputencoding{utf8}\n",
       "\\HeaderA{rep}{Replicate Elements of Vectors and Lists}{rep}\n",
       "\\methaliasA{rep.Date}{rep}{rep.Date}\n",
       "\\methaliasA{rep.factor}{rep}{rep.factor}\n",
       "\\methaliasA{rep.int}{rep}{rep.int}\n",
       "\\aliasA{rep\\_len}{rep}{rep.Rul.len}\n",
       "\\aliasA{rep.POSIXct}{rep}{rep.POSIXct}\n",
       "\\aliasA{rep.POSIXlt}{rep}{rep.POSIXlt}\n",
       "\\keyword{manip}{rep}\n",
       "\\keyword{chron}{rep}\n",
       "%\n",
       "\\begin{Description}\\relax\n",
       "\\code{rep} replicates the values in \\code{x}.  It is a generic\n",
       "function, and the (internal) default method is described here.\n",
       "\n",
       "\\code{rep.int} and \\code{rep\\_len} are faster simplified versions for\n",
       "two common cases.  They are not generic.\n",
       "\\end{Description}\n",
       "%\n",
       "\\begin{Usage}\n",
       "\\begin{verbatim}\n",
       "rep(x, ...)\n",
       "\n",
       "rep.int(x, times)\n",
       "\n",
       "rep_len(x, length.out)\n",
       "\\end{verbatim}\n",
       "\\end{Usage}\n",
       "%\n",
       "\\begin{Arguments}\n",
       "\\begin{ldescription}\n",
       "\\item[\\code{x}] a vector (of any mode including a list) or a factor or (for\n",
       "\\code{rep} only) a \\code{POSIXct} or \\code{POSIXlt} or \\code{Date}\n",
       "object; or an S4 object containing such an object.\n",
       "\\item[\\code{...}] further arguments to be passed to or from other methods.\n",
       "For the internal default method these can include:\n",
       "\\begin{description}\n",
       "\n",
       "\\item[\\code{times}] A integer vector giving the (non-negative) number of\n",
       "times to repeat each element if of length \\code{length(x)}, or to\n",
       "repeat the whole vector if of length 1.  Negative or \\code{NA}\n",
       "values are an error.\n",
       "\\item[\\code{length.out}] non-negative integer.  The desired length of the\n",
       "output vector.  Other inputs will be coerced to an integer\n",
       "vector and the first element taken.  Ignored if \\code{NA} or invalid.\n",
       "\\item[\\code{each}] non-negative integer.  Each element of \\code{x}\n",
       "is repeated \\code{each} times.  Other inputs will be coerced to\n",
       "an integer vector and the first element taken.  Treated as\n",
       "\\code{1} if \\code{NA} or invalid.\n",
       "\n",
       "\\end{description}\n",
       "\n",
       "\n",
       "\\item[\\code{times}] see \\code{...}.\n",
       "\\item[\\code{length.out}] non-negative integer: the desired length of the\n",
       "output vector.\n",
       "\\end{ldescription}\n",
       "\\end{Arguments}\n",
       "%\n",
       "\\begin{Details}\\relax\n",
       "The default behaviour is as if the call was\n",
       "\\begin{alltt}  rep(x, times = 1, length.out = NA, each = 1)\n",
       "\\end{alltt}\n",
       ".  Normally just one of the additional\n",
       "arguments is specified, but if \\code{each} is specified with either\n",
       "of the other two, its replication is performed first, and then that\n",
       "implied by \\code{times} or \\code{length.out}.\n",
       "\n",
       "If \\code{times} consists of a single integer, the result consists of\n",
       "the whole input repeated this many times.  If \\code{times} is a\n",
       "vector of the same length as \\code{x} (after replication by\n",
       "\\code{each}), the result consists of \\code{x[1]} repeated\n",
       "\\code{times[1]} times, \\code{x[2]} repeated \\code{times[2]} times and\n",
       "so on.\n",
       "\n",
       "\\code{length.out} may be given in place of \\code{times},\n",
       "in which case \\code{x} is repeated as many times as is\n",
       "necessary to create a vector of this length.  If both are given,\n",
       "\\code{length.out} takes priority and \\code{times} is ignored.\n",
       "\n",
       "Non-integer values of \\code{times} will be truncated towards zero.\n",
       "If \\code{times} is a computed quantity it is prudent to add a small\n",
       "fuzz or use \\code{\\LinkA{round}{round}}.  And analogously for \\code{each}.\n",
       "\n",
       "If \\code{x} has length zero and \\code{length.out} is supplied and is\n",
       "positive, the values are filled in using the extraction rules, that is\n",
       "by an \\code{NA} of the appropriate class for an atomic vector\n",
       "(\\code{0} for raw vectors) and \\code{NULL} for a list.\n",
       "\\end{Details}\n",
       "%\n",
       "\\begin{Value}\n",
       "An object of the same type as \\code{x}.\n",
       "\n",
       "\\code{rep.int} and \\code{rep\\_len} return no attributes (except the\n",
       "class if returning a factor).\n",
       "\n",
       "The default method of \\code{rep} gives the result names (which will\n",
       "almost always contain duplicates) if \\code{x} had names, but retains\n",
       "no other attributes.\n",
       "\\end{Value}\n",
       "%\n",
       "\\begin{Note}\\relax\n",
       "Function \\code{rep.int} is a simple case which was provided as a\n",
       "separate function partly for S compatibility and partly for speed\n",
       "(especially when names can be dropped).  The performance of \\code{rep}\n",
       "has been improved since, but \\code{rep.int} is still at least twice as\n",
       "fast when \\code{x} has names.\n",
       "\n",
       "The name \\code{rep.int} long precedes making \\code{rep} generic.\n",
       "\n",
       "Function \\code{rep} is a primitive, but (partial) matching of argument\n",
       "names is performed as for normal functions.\n",
       "\n",
       "For historical reasons \\code{rep} (only) works on \\code{NULL}: the\n",
       "result is always \\code{NULL} even when \\code{length.out} is positive.\n",
       "\n",
       "Although it has never been documented, these functions have always\n",
       "worked on \\LinkA{expression}{expression} vectors.\n",
       "\\end{Note}\n",
       "%\n",
       "\\begin{References}\\relax\n",
       "Becker, R. A., Chambers, J. M. and Wilks, A. R. (1988)\n",
       "\\emph{The New S Language}.\n",
       "Wadsworth \\& Brooks/Cole.\n",
       "\\end{References}\n",
       "%\n",
       "\\begin{SeeAlso}\\relax\n",
       "\\code{\\LinkA{seq}{seq}}, \\code{\\LinkA{sequence}{sequence}}, \\code{\\LinkA{replicate}{replicate}}.\n",
       "\\end{SeeAlso}\n",
       "%\n",
       "\\begin{Examples}\n",
       "\\begin{ExampleCode}\n",
       "rep(1:4, 2)\n",
       "rep(1:4, each = 2)       # not the same.\n",
       "rep(1:4, c(2,2,2,2))     # same as second.\n",
       "rep(1:4, c(2,1,2,1))\n",
       "rep(1:4, each = 2, len = 4)    # first 4 only.\n",
       "rep(1:4, each = 2, len = 10)   # 8 integers plus two recycled 1's.\n",
       "rep(1:4, each = 2, times = 3)  # length 24, 3 complete replications\n",
       "\n",
       "rep(1, 40*(1-.8)) # length 7 on most platforms\n",
       "rep(1, 40*(1-.8)+1e-7) # better\n",
       "\n",
       "## replicate a list\n",
       "fred <- list(happy = 1:10, name = \"squash\")\n",
       "rep(fred, 5)\n",
       "\n",
       "# date-time objects\n",
       "x <- .leap.seconds[1:3]\n",
       "rep(x, 2)\n",
       "rep(as.POSIXlt(x), rep(2, 3))\n",
       "\n",
       "## named factor\n",
       "x <- factor(LETTERS[1:4]); names(x) <- letters[1:4]\n",
       "x\n",
       "rep(x, 2)\n",
       "rep(x, each = 2)\n",
       "rep.int(x, 2)  # no names\n",
       "rep_len(x, 10)\n",
       "\\end{ExampleCode}\n",
       "\\end{Examples}"
      ],
      "text/plain": [
       "rep                    package:base                    R Documentation\n",
       "\n",
       "_\bR_\be_\bp_\bl_\bi_\bc_\ba_\bt_\be _\bE_\bl_\be_\bm_\be_\bn_\bt_\bs _\bo_\bf _\bV_\be_\bc_\bt_\bo_\br_\bs _\ba_\bn_\bd _\bL_\bi_\bs_\bt_\bs\n",
       "\n",
       "_\bD_\be_\bs_\bc_\br_\bi_\bp_\bt_\bi_\bo_\bn:\n",
       "\n",
       "     ‘rep’ replicates the values in ‘x’.  It is a generic function, and\n",
       "     the (internal) default method is described here.\n",
       "\n",
       "     ‘rep.int’ and ‘rep_len’ are faster simplified versions for two\n",
       "     common cases.  They are not generic.\n",
       "\n",
       "_\bU_\bs_\ba_\bg_\be:\n",
       "\n",
       "     rep(x, ...)\n",
       "     \n",
       "     rep.int(x, times)\n",
       "     \n",
       "     rep_len(x, length.out)\n",
       "     \n",
       "_\bA_\br_\bg_\bu_\bm_\be_\bn_\bt_\bs:\n",
       "\n",
       "       x: a vector (of any mode including a list) or a factor or (for\n",
       "          ‘rep’ only) a ‘POSIXct’ or ‘POSIXlt’ or ‘Date’ object; or an\n",
       "          S4 object containing such an object.\n",
       "\n",
       "     ...: further arguments to be passed to or from other methods.  For\n",
       "          the internal default method these can include:\n",
       "\n",
       "          ‘times’ A integer vector giving the (non-negative) number of\n",
       "              times to repeat each element if of length ‘length(x)’, or\n",
       "              to repeat the whole vector if of length 1.  Negative or\n",
       "              ‘NA’ values are an error.\n",
       "\n",
       "          ‘length.out’ non-negative integer.  The desired length of the\n",
       "              output vector.  Other inputs will be coerced to an\n",
       "              integer vector and the first element taken.  Ignored if\n",
       "              ‘NA’ or invalid.\n",
       "\n",
       "          ‘each’ non-negative integer.  Each element of ‘x’ is repeated\n",
       "              ‘each’ times.  Other inputs will be coerced to an integer\n",
       "              vector and the first element taken.  Treated as ‘1’ if\n",
       "              ‘NA’ or invalid.\n",
       "\n",
       "   times: see ‘...’.\n",
       "\n",
       "length.out: non-negative integer: the desired length of the output\n",
       "          vector.\n",
       "\n",
       "_\bD_\be_\bt_\ba_\bi_\bl_\bs:\n",
       "\n",
       "     The default behaviour is as if the call was\n",
       "     \n",
       "       rep(x, times = 1, length.out = NA, each = 1)\n",
       "     .  Normally just one of the additional arguments is specified, but\n",
       "     if ‘each’ is specified with either of the other two, its\n",
       "     replication is performed first, and then that implied by ‘times’\n",
       "     or ‘length.out’.\n",
       "\n",
       "     If ‘times’ consists of a single integer, the result consists of\n",
       "     the whole input repeated this many times.  If ‘times’ is a vector\n",
       "     of the same length as ‘x’ (after replication by ‘each’), the\n",
       "     result consists of ‘x[1]’ repeated ‘times[1]’ times, ‘x[2]’\n",
       "     repeated ‘times[2]’ times and so on.\n",
       "\n",
       "     ‘length.out’ may be given in place of ‘times’, in which case ‘x’\n",
       "     is repeated as many times as is necessary to create a vector of\n",
       "     this length.  If both are given, ‘length.out’ takes priority and\n",
       "     ‘times’ is ignored.\n",
       "\n",
       "     Non-integer values of ‘times’ will be truncated towards zero.  If\n",
       "     ‘times’ is a computed quantity it is prudent to add a small fuzz\n",
       "     or use ‘round’.  And analogously for ‘each’.\n",
       "\n",
       "     If ‘x’ has length zero and ‘length.out’ is supplied and is\n",
       "     positive, the values are filled in using the extraction rules,\n",
       "     that is by an ‘NA’ of the appropriate class for an atomic vector\n",
       "     (‘0’ for raw vectors) and ‘NULL’ for a list.\n",
       "\n",
       "_\bV_\ba_\bl_\bu_\be:\n",
       "\n",
       "     An object of the same type as ‘x’.\n",
       "\n",
       "     ‘rep.int’ and ‘rep_len’ return no attributes (except the class if\n",
       "     returning a factor).\n",
       "\n",
       "     The default method of ‘rep’ gives the result names (which will\n",
       "     almost always contain duplicates) if ‘x’ had names, but retains no\n",
       "     other attributes.\n",
       "\n",
       "_\bN_\bo_\bt_\be:\n",
       "\n",
       "     Function ‘rep.int’ is a simple case which was provided as a\n",
       "     separate function partly for S compatibility and partly for speed\n",
       "     (especially when names can be dropped).  The performance of ‘rep’\n",
       "     has been improved since, but ‘rep.int’ is still at least twice as\n",
       "     fast when ‘x’ has names.\n",
       "\n",
       "     The name ‘rep.int’ long precedes making ‘rep’ generic.\n",
       "\n",
       "     Function ‘rep’ is a primitive, but (partial) matching of argument\n",
       "     names is performed as for normal functions.\n",
       "\n",
       "     For historical reasons ‘rep’ (only) works on ‘NULL’: the result is\n",
       "     always ‘NULL’ even when ‘length.out’ is positive.\n",
       "\n",
       "     Although it has never been documented, these functions have always\n",
       "     worked on expression vectors.\n",
       "\n",
       "_\bR_\be_\bf_\be_\br_\be_\bn_\bc_\be_\bs:\n",
       "\n",
       "     Becker, R. A., Chambers, J. M. and Wilks, A. R. (1988) _The New S\n",
       "     Language_.  Wadsworth & Brooks/Cole.\n",
       "\n",
       "_\bS_\be_\be _\bA_\bl_\bs_\bo:\n",
       "\n",
       "     ‘seq’, ‘sequence’, ‘replicate’.\n",
       "\n",
       "_\bE_\bx_\ba_\bm_\bp_\bl_\be_\bs:\n",
       "\n",
       "     rep(1:4, 2)\n",
       "     rep(1:4, each = 2)       # not the same.\n",
       "     rep(1:4, c(2,2,2,2))     # same as second.\n",
       "     rep(1:4, c(2,1,2,1))\n",
       "     rep(1:4, each = 2, len = 4)    # first 4 only.\n",
       "     rep(1:4, each = 2, len = 10)   # 8 integers plus two recycled 1's.\n",
       "     rep(1:4, each = 2, times = 3)  # length 24, 3 complete replications\n",
       "     \n",
       "     rep(1, 40*(1-.8)) # length 7 on most platforms\n",
       "     rep(1, 40*(1-.8)+1e-7) # better\n",
       "     \n",
       "     ## replicate a list\n",
       "     fred <- list(happy = 1:10, name = \"squash\")\n",
       "     rep(fred, 5)\n",
       "     \n",
       "     # date-time objects\n",
       "     x <- .leap.seconds[1:3]\n",
       "     rep(x, 2)\n",
       "     rep(as.POSIXlt(x), rep(2, 3))\n",
       "     \n",
       "     ## named factor\n",
       "     x <- factor(LETTERS[1:4]); names(x) <- letters[1:4]\n",
       "     x\n",
       "     rep(x, 2)\n",
       "     rep(x, each = 2)\n",
       "     rep.int(x, 2)  # no names\n",
       "     rep_len(x, 10)\n",
       "     "
      ]
     },
     "execution_count": 66,
     "metadata": {},
     "output_type": "execute_result"
    }
   ],
   "source": [
    "# Más información de la función \n",
    "\n",
    "?rep"
   ]
  },
  {
   "cell_type": "markdown",
   "metadata": {},
   "source": [
    "Si observas, la documentación, de la función hay un argumento llamado `each` que intercala las copias de **x** o en el uso de la creación de matrices"
   ]
  },
  {
   "cell_type": "code",
   "execution_count": 67,
   "metadata": {
    "collapsed": false
   },
   "outputs": [
    {
     "data": {
      "text/html": [
       "<ol class=list-inline>\n",
       "\t<li>3</li>\n",
       "\t<li>3</li>\n",
       "\t<li>4</li>\n",
       "\t<li>4</li>\n",
       "\t<li>5</li>\n",
       "\t<li>5</li>\n",
       "</ol>\n"
      ],
      "text/latex": [
       "\\begin{enumerate*}\n",
       "\\item 3\n",
       "\\item 3\n",
       "\\item 4\n",
       "\\item 4\n",
       "\\item 5\n",
       "\\item 5\n",
       "\\end{enumerate*}\n"
      ],
      "text/markdown": [
       "1. 3\n",
       "2. 3\n",
       "3. 4\n",
       "4. 4\n",
       "5. 5\n",
       "6. 5\n",
       "\n",
       "\n"
      ],
      "text/plain": [
       "[1] 3 3 4 4 5 5"
      ]
     },
     "execution_count": 67,
     "metadata": {},
     "output_type": "execute_result"
    }
   ],
   "source": [
    "rep(c(3,4,5), each = 2)"
   ]
  },
  {
   "cell_type": "code",
   "execution_count": 68,
   "metadata": {
    "collapsed": false
   },
   "outputs": [
    {
     "data": {
      "text/html": [
       "<table>\n",
       "<tbody>\n",
       "\t<tr><td> 1</td><td>11</td><td> 1</td><td>11</td></tr>\n",
       "\t<tr><td> 2</td><td>12</td><td> 2</td><td>12</td></tr>\n",
       "\t<tr><td> 3</td><td>13</td><td> 3</td><td>13</td></tr>\n",
       "\t<tr><td> 4</td><td>14</td><td> 4</td><td>14</td></tr>\n",
       "\t<tr><td> 5</td><td>15</td><td> 5</td><td>15</td></tr>\n",
       "\t<tr><td> 6</td><td>16</td><td> 6</td><td>16</td></tr>\n",
       "\t<tr><td> 7</td><td>17</td><td> 7</td><td>17</td></tr>\n",
       "\t<tr><td> 8</td><td>18</td><td> 8</td><td>18</td></tr>\n",
       "\t<tr><td> 9</td><td>19</td><td> 9</td><td>19</td></tr>\n",
       "\t<tr><td>10</td><td>20</td><td>10</td><td>20</td></tr>\n",
       "</tbody>\n",
       "</table>\n"
      ],
      "text/latex": [
       "\\begin{tabular}{llll}\n",
       "\t  1 & 11 &  1 & 11\\\\\n",
       "\t  2 & 12 &  2 & 12\\\\\n",
       "\t  3 & 13 &  3 & 13\\\\\n",
       "\t  4 & 14 &  4 & 14\\\\\n",
       "\t  5 & 15 &  5 & 15\\\\\n",
       "\t  6 & 16 &  6 & 16\\\\\n",
       "\t  7 & 17 &  7 & 17\\\\\n",
       "\t  8 & 18 &  8 & 18\\\\\n",
       "\t  9 & 19 &  9 & 19\\\\\n",
       "\t 10 & 20 & 10 & 20\\\\\n",
       "\\end{tabular}\n"
      ],
      "text/markdown": [
       "1. 1\n",
       "2. 2\n",
       "3. 3\n",
       "4. 4\n",
       "5. 5\n",
       "6. 6\n",
       "7. 7\n",
       "8. 8\n",
       "9. 9\n",
       "10. 10\n",
       "11. 11\n",
       "12. 12\n",
       "13. 13\n",
       "14. 14\n",
       "15. 15\n",
       "16. 16\n",
       "17. 17\n",
       "18. 18\n",
       "19. 19\n",
       "20. 20\n",
       "21. 1\n",
       "22. 2\n",
       "23. 3\n",
       "24. 4\n",
       "25. 5\n",
       "26. 6\n",
       "27. 7\n",
       "28. 8\n",
       "29. 9\n",
       "30. 10\n",
       "31. 11\n",
       "32. 12\n",
       "33. 13\n",
       "34. 14\n",
       "35. 15\n",
       "36. 16\n",
       "37. 17\n",
       "38. 18\n",
       "39. 19\n",
       "40. 20\n",
       "\n",
       "\n"
      ],
      "text/plain": [
       "      [,1] [,2] [,3] [,4]\n",
       " [1,]    1   11    1   11\n",
       " [2,]    2   12    2   12\n",
       " [3,]    3   13    3   13\n",
       " [4,]    4   14    4   14\n",
       " [5,]    5   15    5   15\n",
       " [6,]    6   16    6   16\n",
       " [7,]    7   17    7   17\n",
       " [8,]    8   18    8   18\n",
       " [9,]    9   19    9   19\n",
       "[10,]   10   20   10   20"
      ]
     },
     "execution_count": 68,
     "metadata": {},
     "output_type": "execute_result"
    }
   ],
   "source": [
    "x <- 1:20\n",
    "matrix(rep(x,2), ncol = 4)"
   ]
  },
  {
   "cell_type": "markdown",
   "metadata": {},
   "source": [
    "###Las funciones all() y any()"
   ]
  },
  {
   "cell_type": "markdown",
   "metadata": {},
   "source": [
    "Las funciones **all()** y **any()** permite verificar declaraciones lógicas, aplicadas a un vector. Por ejemplo si `ab <-1:6'` entonces ejecutar `any(ab > 5)` evalua primero ` ab >5`, dando el valor de\n",
    "\n",
    "`(FALSE,FALSE, FALSE, FALSE,FALSE,TRUE)'\n",
    "\n",
    "La función **any()** reporta si alguno de esos valores reporta algún valor **TRUE**. La función **all()** trabaja de forma similar y reporta si todos los valores son verdaderos\n",
    "\n",
    "Veamos algunos ejemplos"
   ]
  },
  {
   "cell_type": "code",
   "execution_count": 69,
   "metadata": {
    "collapsed": false
   },
   "outputs": [
    {
     "data": {
      "text/html": [
       "TRUE"
      ],
      "text/latex": [
       "TRUE"
      ],
      "text/markdown": [
       "TRUE"
      ],
      "text/plain": [
       "[1] TRUE"
      ]
     },
     "execution_count": 69,
     "metadata": {},
     "output_type": "execute_result"
    },
    {
     "data": {
      "text/html": [
       "FALSE"
      ],
      "text/latex": [
       "FALSE"
      ],
      "text/markdown": [
       "FALSE"
      ],
      "text/plain": [
       "[1] FALSE"
      ]
     },
     "execution_count": 69,
     "metadata": {},
     "output_type": "execute_result"
    },
    {
     "data": {
      "text/html": [
       "FALSE"
      ],
      "text/latex": [
       "FALSE"
      ],
      "text/markdown": [
       "FALSE"
      ],
      "text/plain": [
       "[1] FALSE"
      ]
     },
     "execution_count": 69,
     "metadata": {},
     "output_type": "execute_result"
    },
    {
     "data": {
      "text/html": [
       "TRUE"
      ],
      "text/latex": [
       "TRUE"
      ],
      "text/markdown": [
       "TRUE"
      ],
      "text/plain": [
       "[1] TRUE"
      ]
     },
     "execution_count": 69,
     "metadata": {},
     "output_type": "execute_result"
    }
   ],
   "source": [
    "# Mas ejemplo, con distintos tipos de vectores\n",
    "\n",
    "ab <- 1:6\n",
    "any(ab >5)\n",
    "any(ab < -1 )\n",
    "all(ab > 1)\n",
    "all (ab > 0)\n"
   ]
  },
  {
   "cell_type": "code",
   "execution_count": 70,
   "metadata": {
    "collapsed": false
   },
   "outputs": [
    {
     "data": {
      "text/html": [
       "<ol class=list-inline>\n",
       "\t<li>-3.56748062199424</li>\n",
       "\t<li>4.21367501732692</li>\n",
       "</ol>\n"
      ],
      "text/latex": [
       "\\begin{enumerate*}\n",
       "\\item -3.56748062199424\n",
       "\\item 4.21367501732692\n",
       "\\end{enumerate*}\n"
      ],
      "text/markdown": [
       "1. -3.56748062199424\n",
       "2. 4.21367501732692\n",
       "\n",
       "\n"
      ],
      "text/plain": [
       "[1] -3.567481  4.213675"
      ]
     },
     "execution_count": 70,
     "metadata": {},
     "output_type": "execute_result"
    },
    {
     "data": {
      "text/html": [
       "TRUE"
      ],
      "text/latex": [
       "TRUE"
      ],
      "text/markdown": [
       "TRUE"
      ],
      "text/plain": [
       "[1] TRUE"
      ]
     },
     "execution_count": 70,
     "metadata": {},
     "output_type": "execute_result"
    },
    {
     "data": {
      "text/html": [
       "FALSE"
      ],
      "text/latex": [
       "FALSE"
      ],
      "text/markdown": [
       "FALSE"
      ],
      "text/plain": [
       "[1] FALSE"
      ]
     },
     "execution_count": 70,
     "metadata": {},
     "output_type": "execute_result"
    },
    {
     "data": {
      "text/html": [
       "TRUE"
      ],
      "text/latex": [
       "TRUE"
      ],
      "text/markdown": [
       "TRUE"
      ],
      "text/plain": [
       "[1] TRUE"
      ]
     },
     "execution_count": 70,
     "metadata": {},
     "output_type": "execute_result"
    },
    {
     "data": {
      "text/html": [
       "TRUE"
      ],
      "text/latex": [
       "TRUE"
      ],
      "text/markdown": [
       "TRUE"
      ],
      "text/plain": [
       "[1] TRUE"
      ]
     },
     "execution_count": 70,
     "metadata": {},
     "output_type": "execute_result"
    }
   ],
   "source": [
    "er<-rnorm(1000)\n",
    "range(er)\n",
    "any( er < 4)\n",
    "any(is.na(er))\n",
    "all(x > -3)\n",
    "all(x > -3.5)"
   ]
  },
  {
   "cell_type": "code",
   "execution_count": 71,
   "metadata": {
    "collapsed": false
   },
   "outputs": [
    {
     "data": {
      "text/html": [
       "<ol class=list-inline>\n",
       "\t<li>FALSE</li>\n",
       "\t<li>FALSE</li>\n",
       "\t<li>FALSE</li>\n",
       "</ol>\n"
      ],
      "text/latex": [
       "\\begin{enumerate*}\n",
       "\\item FALSE\n",
       "\\item FALSE\n",
       "\\item FALSE\n",
       "\\end{enumerate*}\n"
      ],
      "text/markdown": [
       "1. FALSE\n",
       "2. FALSE\n",
       "3. FALSE\n",
       "\n",
       "\n"
      ],
      "text/plain": [
       "[1] FALSE FALSE FALSE"
      ]
     },
     "execution_count": 71,
     "metadata": {},
     "output_type": "execute_result"
    },
    {
     "data": {
      "text/html": [
       "FALSE"
      ],
      "text/latex": [
       "FALSE"
      ],
      "text/markdown": [
       "FALSE"
      ],
      "text/plain": [
       "[1] FALSE"
      ]
     },
     "execution_count": 71,
     "metadata": {},
     "output_type": "execute_result"
    },
    {
     "data": {
      "text/html": [
       "FALSE"
      ],
      "text/latex": [
       "FALSE"
      ],
      "text/markdown": [
       "FALSE"
      ],
      "text/plain": [
       "[1] FALSE"
      ]
     },
     "execution_count": 71,
     "metadata": {},
     "output_type": "execute_result"
    }
   ],
   "source": [
    "t <- sample(c(TRUE, FALSE), 3, TRUE)\n",
    "t\n",
    "any(t)\n",
    "all(t)\n",
    "\n"
   ]
  },
  {
   "cell_type": "code",
   "execution_count": 72,
   "metadata": {
    "collapsed": false
   },
   "outputs": [
    {
     "data": {
      "text/html": [
       "<ol class=list-inline>\n",
       "\t<li>FALSE</li>\n",
       "\t<li>FALSE</li>\n",
       "\t<li>FALSE</li>\n",
       "</ol>\n"
      ],
      "text/latex": [
       "\\begin{enumerate*}\n",
       "\\item FALSE\n",
       "\\item FALSE\n",
       "\\item FALSE\n",
       "\\end{enumerate*}\n"
      ],
      "text/markdown": [
       "1. FALSE\n",
       "2. FALSE\n",
       "3. FALSE\n",
       "\n",
       "\n"
      ],
      "text/plain": [
       "[1] FALSE FALSE FALSE"
      ]
     },
     "execution_count": 72,
     "metadata": {},
     "output_type": "execute_result"
    },
    {
     "data": {
      "text/html": [
       "FALSE"
      ],
      "text/latex": [
       "FALSE"
      ],
      "text/markdown": [
       "FALSE"
      ],
      "text/plain": [
       "[1] FALSE"
      ]
     },
     "execution_count": 72,
     "metadata": {},
     "output_type": "execute_result"
    },
    {
     "data": {
      "text/html": [
       "FALSE"
      ],
      "text/latex": [
       "FALSE"
      ],
      "text/markdown": [
       "FALSE"
      ],
      "text/plain": [
       "[1] FALSE"
      ]
     },
     "execution_count": 72,
     "metadata": {},
     "output_type": "execute_result"
    }
   ],
   "source": [
    "w <- rep(FALSE, 3)\n",
    "w\n",
    "any(w)\n",
    "all(w)\n",
    "\n"
   ]
  },
  {
   "cell_type": "code",
   "execution_count": 73,
   "metadata": {
    "collapsed": false
   },
   "outputs": [
    {
     "data": {
      "text/plain": [
       "NULL"
      ]
     },
     "execution_count": 73,
     "metadata": {},
     "output_type": "execute_result"
    },
    {
     "data": {
      "text/html": [
       "FALSE"
      ],
      "text/latex": [
       "FALSE"
      ],
      "text/markdown": [
       "FALSE"
      ],
      "text/plain": [
       "[1] FALSE"
      ]
     },
     "execution_count": 73,
     "metadata": {},
     "output_type": "execute_result"
    },
    {
     "data": {
      "text/html": [
       "TRUE"
      ],
      "text/latex": [
       "TRUE"
      ],
      "text/markdown": [
       "TRUE"
      ],
      "text/plain": [
       "[1] TRUE"
      ]
     },
     "execution_count": 73,
     "metadata": {},
     "output_type": "execute_result"
    }
   ],
   "source": [
    "q <- c()\n",
    "q\n",
    "any(q)\n",
    "all(q)"
   ]
  },
  {
   "cell_type": "code",
   "execution_count": 74,
   "metadata": {
    "collapsed": false
   },
   "outputs": [
    {
     "data": {
      "text/html": [
       "\n",
       "<table width=\"100%\" summary=\"page for any {base}\"><tr><td>any {base}</td><td style=\"text-align: right;\">R Documentation</td></tr></table>\n",
       "\n",
       "<h2>Are Some Values True?</h2>\n",
       "\n",
       "<h3>Description</h3>\n",
       "\n",
       "<p>Given a set of logical vectors, is at least one of the values true?\n",
       "</p>\n",
       "\n",
       "\n",
       "<h3>Usage</h3>\n",
       "\n",
       "<pre>\n",
       "any(..., na.rm = FALSE)\n",
       "</pre>\n",
       "\n",
       "\n",
       "<h3>Arguments</h3>\n",
       "\n",
       "<table summary=\"R argblock\">\n",
       "<tr valign=\"top\"><td><code>...</code></td>\n",
       "<td>\n",
       "<p>zero or more logical vectors.  Other objects of zero\n",
       "length are ignored, and the rest are coerced to logical ignoring\n",
       "any class.</p>\n",
       "</td></tr>\n",
       "<tr valign=\"top\"><td><code>na.rm</code></td>\n",
       "<td>\n",
       "<p>logical.  If true <code>NA</code> values are removed before\n",
       "the result is computed.</p>\n",
       "</td></tr>\n",
       "</table>\n",
       "\n",
       "\n",
       "<h3>Details</h3>\n",
       "\n",
       "<p>This is a generic function: methods can be defined for it\n",
       "directly or via the <code>Summary</code> group generic.\n",
       "For this to work properly, the arguments <code>...</code> should be\n",
       "unnamed, and dispatch is on the first argument.\n",
       "</p>\n",
       "<p>Coercion of types other than integer (raw, double, complex, character,\n",
       "list) gives a warning as this is often unintentional.\n",
       "</p>\n",
       "<p>This is a primitive function.\n",
       "</p>\n",
       "\n",
       "\n",
       "<h3>Value</h3>\n",
       "\n",
       "<p>The value is a logical vector of length one.\n",
       "</p>\n",
       "<p>Let <code>x</code> denote the concatenation of all the logical vectors in\n",
       "<code>...</code> (after coercion), after removing <code>NA</code>s if requested by\n",
       "<code>na.rm = TRUE</code>.\n",
       "</p>\n",
       "<p>The value returned is <code>TRUE</code> if at least one of the values in\n",
       "<code>x</code> is <code>TRUE</code>, and <code>FALSE</code> if all of the values in\n",
       "<code>x</code> are <code>FALSE</code> (including if there are no values).  Otherwise\n",
       "the value is <code>NA</code> (which can only occur if <code>na.rm = FALSE</code>\n",
       "and <code>...</code> contains no <code>TRUE</code> values and at least one\n",
       "<code>NA</code> value).\n",
       "</p>\n",
       "\n",
       "\n",
       "<h3>S4 methods</h3>\n",
       "\n",
       "<p>This is part of the S4 <code>Summary</code>\n",
       "group generic.  Methods for it must use the signature\n",
       "<code>x, ..., na.rm</code>.\n",
       "</p>\n",
       "\n",
       "\n",
       "<h3>References</h3>\n",
       "\n",
       "<p>Becker, R. A., Chambers, J. M. and Wilks, A. R. (1988)\n",
       "<em>The New S Language</em>.\n",
       "Wadsworth &amp; Brooks/Cole.\n",
       "</p>\n",
       "\n",
       "\n",
       "<h3>See Also</h3>\n",
       "\n",
       "<p><code>all</code>, the &lsquo;complement&rsquo; of <code>any</code>.\n",
       "</p>\n",
       "\n",
       "\n",
       "<h3>Examples</h3>\n",
       "\n",
       "<pre>\n",
       "range(x &lt;- sort(round(stats::rnorm(10) - 1.2, 1)))\n",
       "if(any(x &lt; 0)) cat(\"x contains negative values\\n\")\n",
       "</pre>\n",
       "\n",
       "<hr /><div style=\"text-align: center;\">[Package <em>base</em> version 3.2.2 ]</div>"
      ],
      "text/latex": [
       "\\inputencoding{utf8}\n",
       "\\HeaderA{any}{Are Some Values True?}{any}\n",
       "\\keyword{logic}{any}\n",
       "%\n",
       "\\begin{Description}\\relax\n",
       "Given a set of logical vectors, is at least one of the values true?\n",
       "\\end{Description}\n",
       "%\n",
       "\\begin{Usage}\n",
       "\\begin{verbatim}\n",
       "any(..., na.rm = FALSE)\n",
       "\\end{verbatim}\n",
       "\\end{Usage}\n",
       "%\n",
       "\\begin{Arguments}\n",
       "\\begin{ldescription}\n",
       "\\item[\\code{...}] zero or more logical vectors.  Other objects of zero\n",
       "length are ignored, and the rest are coerced to logical ignoring\n",
       "any class.\n",
       "\\item[\\code{na.rm}] logical.  If true \\code{NA} values are removed before\n",
       "the result is computed.\n",
       "\\end{ldescription}\n",
       "\\end{Arguments}\n",
       "%\n",
       "\\begin{Details}\\relax\n",
       "This is a generic function: methods can be defined for it\n",
       "directly or via the \\code{\\LinkA{Summary}{S3groupGeneric}} group generic.\n",
       "For this to work properly, the arguments \\code{...} should be\n",
       "unnamed, and dispatch is on the first argument.\n",
       "\n",
       "Coercion of types other than integer (raw, double, complex, character,\n",
       "list) gives a warning as this is often unintentional.\n",
       "\n",
       "This is a \\LinkA{primitive}{primitive} function.\n",
       "\\end{Details}\n",
       "%\n",
       "\\begin{Value}\n",
       "The value is a logical vector of length one.\n",
       "\n",
       "Let \\code{x} denote the concatenation of all the logical vectors in\n",
       "\\code{...} (after coercion), after removing \\code{NA}s if requested by\n",
       "\\code{na.rm = TRUE}.\n",
       "\n",
       "The value returned is \\code{TRUE} if at least one of the values in\n",
       "\\code{x} is \\code{TRUE}, and \\code{FALSE} if all of the values in\n",
       "\\code{x} are \\code{FALSE} (including if there are no values).  Otherwise\n",
       "the value is \\code{NA} (which can only occur if \\code{na.rm = FALSE}\n",
       "and \\code{...} contains no \\code{TRUE} values and at least one\n",
       "\\code{NA} value).\n",
       "\\end{Value}\n",
       "%\n",
       "\\begin{Section}{S4 methods}\n",
       "This is part of the S4 \\code{\\LinkA{Summary}{S4groupGeneric}}\n",
       "group generic.  Methods for it must use the signature\n",
       "\\code{x, ..., na.rm}.\n",
       "\\end{Section}\n",
       "%\n",
       "\\begin{References}\\relax\n",
       "Becker, R. A., Chambers, J. M. and Wilks, A. R. (1988)\n",
       "\\emph{The New S Language}.\n",
       "Wadsworth \\& Brooks/Cole.\n",
       "\\end{References}\n",
       "%\n",
       "\\begin{SeeAlso}\\relax\n",
       "\\code{\\LinkA{all}{all}}, the `complement' of \\code{any}.\n",
       "\\end{SeeAlso}\n",
       "%\n",
       "\\begin{Examples}\n",
       "\\begin{ExampleCode}\n",
       "range(x <- sort(round(stats::rnorm(10) - 1.2, 1)))\n",
       "if(any(x < 0)) cat(\"x contains negative values\\n\")\n",
       "\\end{ExampleCode}\n",
       "\\end{Examples}"
      ],
      "text/plain": [
       "any                    package:base                    R Documentation\n",
       "\n",
       "_\bA_\br_\be _\bS_\bo_\bm_\be _\bV_\ba_\bl_\bu_\be_\bs _\bT_\br_\bu_\be?\n",
       "\n",
       "_\bD_\be_\bs_\bc_\br_\bi_\bp_\bt_\bi_\bo_\bn:\n",
       "\n",
       "     Given a set of logical vectors, is at least one of the values\n",
       "     true?\n",
       "\n",
       "_\bU_\bs_\ba_\bg_\be:\n",
       "\n",
       "     any(..., na.rm = FALSE)\n",
       "     \n",
       "_\bA_\br_\bg_\bu_\bm_\be_\bn_\bt_\bs:\n",
       "\n",
       "     ...: zero or more logical vectors.  Other objects of zero length\n",
       "          are ignored, and the rest are coerced to logical ignoring any\n",
       "          class.\n",
       "\n",
       "   na.rm: logical.  If true ‘NA’ values are removed before the result\n",
       "          is computed.\n",
       "\n",
       "_\bD_\be_\bt_\ba_\bi_\bl_\bs:\n",
       "\n",
       "     This is a generic function: methods can be defined for it directly\n",
       "     or via the ‘Summary’ group generic.  For this to work properly,\n",
       "     the arguments ‘...’ should be unnamed, and dispatch is on the\n",
       "     first argument.\n",
       "\n",
       "     Coercion of types other than integer (raw, double, complex,\n",
       "     character, list) gives a warning as this is often unintentional.\n",
       "\n",
       "     This is a primitive function.\n",
       "\n",
       "_\bV_\ba_\bl_\bu_\be:\n",
       "\n",
       "     The value is a logical vector of length one.\n",
       "\n",
       "     Let ‘x’ denote the concatenation of all the logical vectors in\n",
       "     ‘...’ (after coercion), after removing ‘NA’s if requested by\n",
       "     ‘na.rm = TRUE’.\n",
       "\n",
       "     The value returned is ‘TRUE’ if at least one of the values in ‘x’\n",
       "     is ‘TRUE’, and ‘FALSE’ if all of the values in ‘x’ are ‘FALSE’\n",
       "     (including if there are no values).  Otherwise the value is ‘NA’\n",
       "     (which can only occur if ‘na.rm = FALSE’ and ‘...’ contains no\n",
       "     ‘TRUE’ values and at least one ‘NA’ value).\n",
       "\n",
       "_\bS_\b4 _\bm_\be_\bt_\bh_\bo_\bd_\bs:\n",
       "\n",
       "     This is part of the S4 ‘Summary’ group generic.  Methods for it\n",
       "     must use the signature ‘x, ..., na.rm’.\n",
       "\n",
       "_\bR_\be_\bf_\be_\br_\be_\bn_\bc_\be_\bs:\n",
       "\n",
       "     Becker, R. A., Chambers, J. M. and Wilks, A. R. (1988) _The New S\n",
       "     Language_.  Wadsworth & Brooks/Cole.\n",
       "\n",
       "_\bS_\be_\be _\bA_\bl_\bs_\bo:\n",
       "\n",
       "     ‘all’, the ‘complement’ of ‘any’.\n",
       "\n",
       "_\bE_\bx_\ba_\bm_\bp_\bl_\be_\bs:\n",
       "\n",
       "     range(x <- sort(round(stats::rnorm(10) - 1.2, 1)))\n",
       "     if(any(x < 0)) cat(\"x contains negative values\\n\")\n",
       "     "
      ]
     },
     "execution_count": 74,
     "metadata": {},
     "output_type": "execute_result"
    }
   ],
   "source": [
    "# Más información de las funciones any() y all()\n",
    "?any"
   ]
  },
  {
   "cell_type": "code",
   "execution_count": 75,
   "metadata": {
    "collapsed": false
   },
   "outputs": [
    {
     "data": {
      "text/html": [
       "\n",
       "<table width=\"100%\" summary=\"page for all {base}\"><tr><td>all {base}</td><td style=\"text-align: right;\">R Documentation</td></tr></table>\n",
       "\n",
       "<h2>Are All Values True?</h2>\n",
       "\n",
       "<h3>Description</h3>\n",
       "\n",
       "<p>Given a set of logical vectors, are all of the values true?\n",
       "</p>\n",
       "\n",
       "\n",
       "<h3>Usage</h3>\n",
       "\n",
       "<pre>\n",
       "all(..., na.rm = FALSE)\n",
       "</pre>\n",
       "\n",
       "\n",
       "<h3>Arguments</h3>\n",
       "\n",
       "<table summary=\"R argblock\">\n",
       "<tr valign=\"top\"><td><code>...</code></td>\n",
       "<td>\n",
       "<p>zero or more logical vectors.  Other objects of zero\n",
       "length are ignored, and the rest are coerced to logical ignoring\n",
       "any class.</p>\n",
       "</td></tr>\n",
       "<tr valign=\"top\"><td><code>na.rm</code></td>\n",
       "<td>\n",
       "<p>logical.  If true <code>NA</code> values are removed before\n",
       "the result is computed.</p>\n",
       "</td></tr>\n",
       "</table>\n",
       "\n",
       "\n",
       "<h3>Details</h3>\n",
       "\n",
       "<p>This is a generic function: methods can be defined for it\n",
       "directly or via the <code>Summary</code> group generic.\n",
       "For this to work properly, the arguments <code>...</code> should be\n",
       "unnamed, and dispatch is on the first argument.\n",
       "</p>\n",
       "<p>Coercion of types other than integer (raw, double, complex, character,\n",
       "list) gives a warning as this is often unintentional.\n",
       "</p>\n",
       "<p>This is a primitive function.\n",
       "</p>\n",
       "\n",
       "\n",
       "<h3>Value</h3>\n",
       "\n",
       "<p>The value is a logical vector of length one.\n",
       "</p>\n",
       "<p>Let <code>x</code> denote the concatenation of all the logical vectors in\n",
       "<code>...</code> (after coercion), after removing <code>NA</code>s if requested by\n",
       "<code>na.rm = TRUE</code>.\n",
       "</p>\n",
       "<p>The value returned is <code>TRUE</code> if all of the values in <code>x</code> are\n",
       "<code>TRUE</code> (including if there are no values), and <code>FALSE</code> if at\n",
       "least one of the values in <code>x</code> is <code>FALSE</code>.  Otherwise the\n",
       "value is <code>NA</code> (which can only occur if <code>na.rm = FALSE</code> and\n",
       "<code>...</code> contains no <code>FALSE</code> values and at least one\n",
       "<code>NA</code> value).\n",
       "</p>\n",
       "\n",
       "\n",
       "<h3>S4 methods</h3>\n",
       "\n",
       "<p>This is part of the S4 <code>Summary</code>\n",
       "group generic.  Methods for it must use the signature\n",
       "<code>x, ..., na.rm</code>.\n",
       "</p>\n",
       "\n",
       "\n",
       "<h3>Note</h3>\n",
       "\n",
       "<p>That <code>all(logical(0))</code> is true is a useful convention:\n",
       "it ensures that\n",
       "</p>\n",
       "<pre>all(all(x), all(y)) == all(x, y)\n",
       "</pre>\n",
       "<p>even if <code>x</code> has length zero.\n",
       "</p>\n",
       "\n",
       "\n",
       "<h3>References</h3>\n",
       "\n",
       "<p>Becker, R. A., Chambers, J. M. and Wilks, A. R. (1988)\n",
       "<em>The New S Language</em>.\n",
       "Wadsworth &amp; Brooks/Cole.\n",
       "</p>\n",
       "\n",
       "\n",
       "<h3>See Also</h3>\n",
       "\n",
       "<p><code>any</code>, the &lsquo;complement&rsquo; of <code>all</code>, and\n",
       "<code>stopifnot(*)</code> which is an <code>all(*)</code>\n",
       "&lsquo;insurance&rsquo;.\n",
       "</p>\n",
       "\n",
       "\n",
       "<h3>Examples</h3>\n",
       "\n",
       "<pre>\n",
       "range(x &lt;- sort(round(stats::rnorm(10) - 1.2, 1)))\n",
       "if(all(x &lt; 0)) cat(\"all x values are negative\\n\")\n",
       "\n",
       "all(logical(0))  # true, as all zero of the elements are true.\n",
       "</pre>\n",
       "\n",
       "<hr /><div style=\"text-align: center;\">[Package <em>base</em> version 3.2.2 ]</div>"
      ],
      "text/latex": [
       "\\inputencoding{utf8}\n",
       "\\HeaderA{all}{Are All Values True?}{all}\n",
       "\\keyword{logic}{all}\n",
       "%\n",
       "\\begin{Description}\\relax\n",
       "Given a set of logical vectors, are all of the values true?\n",
       "\\end{Description}\n",
       "%\n",
       "\\begin{Usage}\n",
       "\\begin{verbatim}\n",
       "all(..., na.rm = FALSE)\n",
       "\\end{verbatim}\n",
       "\\end{Usage}\n",
       "%\n",
       "\\begin{Arguments}\n",
       "\\begin{ldescription}\n",
       "\\item[\\code{...}] zero or more logical vectors.  Other objects of zero\n",
       "length are ignored, and the rest are coerced to logical ignoring\n",
       "any class.\n",
       "\\item[\\code{na.rm}] logical.  If true \\code{NA} values are removed before\n",
       "the result is computed.\n",
       "\\end{ldescription}\n",
       "\\end{Arguments}\n",
       "%\n",
       "\\begin{Details}\\relax\n",
       "This is a generic function: methods can be defined for it\n",
       "directly or via the \\code{\\LinkA{Summary}{S3groupGeneric}} group generic.\n",
       "For this to work properly, the arguments \\code{...} should be\n",
       "unnamed, and dispatch is on the first argument.\n",
       "\n",
       "Coercion of types other than integer (raw, double, complex, character,\n",
       "list) gives a warning as this is often unintentional.\n",
       "\n",
       "This is a \\LinkA{primitive}{primitive} function.\n",
       "\\end{Details}\n",
       "%\n",
       "\\begin{Value}\n",
       "The value is a logical vector of length one.\n",
       "\n",
       "Let \\code{x} denote the concatenation of all the logical vectors in\n",
       "\\code{...} (after coercion), after removing \\code{NA}s if requested by\n",
       "\\code{na.rm = TRUE}.\n",
       "\n",
       "The value returned is \\code{TRUE} if all of the values in \\code{x} are\n",
       "\\code{TRUE} (including if there are no values), and \\code{FALSE} if at\n",
       "least one of the values in \\code{x} is \\code{FALSE}.  Otherwise the\n",
       "value is \\code{NA} (which can only occur if \\code{na.rm = FALSE} and\n",
       "\\code{...} contains no \\code{FALSE} values and at least one\n",
       "\\code{NA} value).\n",
       "\\end{Value}\n",
       "%\n",
       "\\begin{Section}{S4 methods}\n",
       "This is part of the S4 \\code{\\LinkA{Summary}{S4groupGeneric}}\n",
       "group generic.  Methods for it must use the signature\n",
       "\\code{x, ..., na.rm}.\n",
       "\\end{Section}\n",
       "%\n",
       "\\begin{Note}\\relax\n",
       "That \\code{all(logical(0))} is true is a useful convention:\n",
       "it ensures that\n",
       "\\begin{alltt}all(all(x), all(y)) == all(x, y)\n",
       "\\end{alltt}\n",
       "\n",
       "even if \\code{x} has length zero.\n",
       "\\end{Note}\n",
       "%\n",
       "\\begin{References}\\relax\n",
       "Becker, R. A., Chambers, J. M. and Wilks, A. R. (1988)\n",
       "\\emph{The New S Language}.\n",
       "Wadsworth \\& Brooks/Cole.\n",
       "\\end{References}\n",
       "%\n",
       "\\begin{SeeAlso}\\relax\n",
       "\\code{\\LinkA{any}{any}}, the `complement' of \\code{all}, and\n",
       "\\code{\\LinkA{stopifnot}{stopifnot}(*)} which is an \\code{all(*)}\n",
       "`insurance'.\n",
       "\\end{SeeAlso}\n",
       "%\n",
       "\\begin{Examples}\n",
       "\\begin{ExampleCode}\n",
       "range(x <- sort(round(stats::rnorm(10) - 1.2, 1)))\n",
       "if(all(x < 0)) cat(\"all x values are negative\\n\")\n",
       "\n",
       "all(logical(0))  # true, as all zero of the elements are true.\n",
       "\\end{ExampleCode}\n",
       "\\end{Examples}"
      ],
      "text/plain": [
       "all                    package:base                    R Documentation\n",
       "\n",
       "_\bA_\br_\be _\bA_\bl_\bl _\bV_\ba_\bl_\bu_\be_\bs _\bT_\br_\bu_\be?\n",
       "\n",
       "_\bD_\be_\bs_\bc_\br_\bi_\bp_\bt_\bi_\bo_\bn:\n",
       "\n",
       "     Given a set of logical vectors, are all of the values true?\n",
       "\n",
       "_\bU_\bs_\ba_\bg_\be:\n",
       "\n",
       "     all(..., na.rm = FALSE)\n",
       "     \n",
       "_\bA_\br_\bg_\bu_\bm_\be_\bn_\bt_\bs:\n",
       "\n",
       "     ...: zero or more logical vectors.  Other objects of zero length\n",
       "          are ignored, and the rest are coerced to logical ignoring any\n",
       "          class.\n",
       "\n",
       "   na.rm: logical.  If true ‘NA’ values are removed before the result\n",
       "          is computed.\n",
       "\n",
       "_\bD_\be_\bt_\ba_\bi_\bl_\bs:\n",
       "\n",
       "     This is a generic function: methods can be defined for it directly\n",
       "     or via the ‘Summary’ group generic.  For this to work properly,\n",
       "     the arguments ‘...’ should be unnamed, and dispatch is on the\n",
       "     first argument.\n",
       "\n",
       "     Coercion of types other than integer (raw, double, complex,\n",
       "     character, list) gives a warning as this is often unintentional.\n",
       "\n",
       "     This is a primitive function.\n",
       "\n",
       "_\bV_\ba_\bl_\bu_\be:\n",
       "\n",
       "     The value is a logical vector of length one.\n",
       "\n",
       "     Let ‘x’ denote the concatenation of all the logical vectors in\n",
       "     ‘...’ (after coercion), after removing ‘NA’s if requested by\n",
       "     ‘na.rm = TRUE’.\n",
       "\n",
       "     The value returned is ‘TRUE’ if all of the values in ‘x’ are\n",
       "     ‘TRUE’ (including if there are no values), and ‘FALSE’ if at least\n",
       "     one of the values in ‘x’ is ‘FALSE’.  Otherwise the value is ‘NA’\n",
       "     (which can only occur if ‘na.rm = FALSE’ and ‘...’ contains no\n",
       "     ‘FALSE’ values and at least one ‘NA’ value).\n",
       "\n",
       "_\bS_\b4 _\bm_\be_\bt_\bh_\bo_\bd_\bs:\n",
       "\n",
       "     This is part of the S4 ‘Summary’ group generic.  Methods for it\n",
       "     must use the signature ‘x, ..., na.rm’.\n",
       "\n",
       "_\bN_\bo_\bt_\be:\n",
       "\n",
       "     That ‘all(logical(0))’ is true is a useful convention: it ensures\n",
       "     that\n",
       "     \n",
       "     all(all(x), all(y)) == all(x, y)\n",
       "\n",
       "     even if ‘x’ has length zero.\n",
       "\n",
       "_\bR_\be_\bf_\be_\br_\be_\bn_\bc_\be_\bs:\n",
       "\n",
       "     Becker, R. A., Chambers, J. M. and Wilks, A. R. (1988) _The New S\n",
       "     Language_.  Wadsworth & Brooks/Cole.\n",
       "\n",
       "_\bS_\be_\be _\bA_\bl_\bs_\bo:\n",
       "\n",
       "     ‘any’, the ‘complement’ of ‘all’, and ‘stopifnot(*)’ which is an\n",
       "     ‘all(*)’ ‘insurance’.\n",
       "\n",
       "_\bE_\bx_\ba_\bm_\bp_\bl_\be_\bs:\n",
       "\n",
       "     range(x <- sort(round(stats::rnorm(10) - 1.2, 1)))\n",
       "     if(all(x < 0)) cat(\"all x values are negative\\n\")\n",
       "     \n",
       "     all(logical(0))  # true, as all zero of the elements are true.\n",
       "     "
      ]
     },
     "execution_count": 75,
     "metadata": {},
     "output_type": "execute_result"
    }
   ],
   "source": [
    "?all"
   ]
  },
  {
   "cell_type": "markdown",
   "metadata": {},
   "source": [
    "## Vectorización en R"
   ]
  },
  {
   "cell_type": "markdown",
   "metadata": {},
   "source": [
    "Una de las maneras más eficaces para alcanzar una mejor velocidad en el código R es el uso de operaciones\n",
    "que están **vectorizadas (vectorización)**,  lo que significa que si una función se aplica a un vector en R, en realidad \n",
    "se aplica individualmente a cada elemento de ese vector.\n",
    "\n",
    "Una interesante lectura de esto es http://www.noamross.net/blog/2014/4/16/vectorization-in-r--why.html\n",
    "\n",
    "Un punto a favor de R, es que si una función usa operaciones vectorizadas, también es vectorizada, proporcionando así una mejor configuración en la velocidad. "
   ]
  },
  {
   "cell_type": "markdown",
   "metadata": {},
   "source": [
    "### Ejemplo de la Vectorización en R"
   ]
  },
  {
   "cell_type": "code",
   "execution_count": 5,
   "metadata": {
    "collapsed": false
   },
   "outputs": [
    {
     "data": {
      "text/html": [
       "<ol class=list-inline>\n",
       "\t<li>TRUE</li>\n",
       "\t<li>FALSE</li>\n",
       "\t<li>FALSE</li>\n",
       "</ol>\n"
      ],
      "text/latex": [
       "\\begin{enumerate*}\n",
       "\\item TRUE\n",
       "\\item FALSE\n",
       "\\item FALSE\n",
       "\\end{enumerate*}\n"
      ],
      "text/markdown": [
       "1. TRUE\n",
       "2. FALSE\n",
       "3. FALSE\n",
       "\n",
       "\n"
      ],
      "text/plain": [
       "[1]  TRUE FALSE FALSE"
      ]
     },
     "execution_count": 5,
     "metadata": {},
     "output_type": "execute_result"
    }
   ],
   "source": [
    "# Usamos el operador \" > \"\n",
    "u <- c(2,4,5)\n",
    "v <- c(1,5,8)\n",
    "u > v  "
   ]
  },
  {
   "cell_type": "code",
   "execution_count": 6,
   "metadata": {
    "collapsed": false
   },
   "outputs": [
    {
     "data": {
      "text/html": [
       "<ol class=list-inline>\n",
       "\t<li>3</li>\n",
       "\t<li>4</li>\n",
       "\t<li>5</li>\n",
       "</ol>\n"
      ],
      "text/latex": [
       "\\begin{enumerate*}\n",
       "\\item 3\n",
       "\\item 4\n",
       "\\item 5\n",
       "\\end{enumerate*}\n"
      ],
      "text/markdown": [
       "1. 3\n",
       "2. 4\n",
       "3. 5\n",
       "\n",
       "\n"
      ],
      "text/plain": [
       "[1] 3 4 5"
      ]
     },
     "execution_count": 6,
     "metadata": {},
     "output_type": "execute_result"
    }
   ],
   "source": [
    "#f1() usa + el cual es vectorizado, asi f1() es vectorizado.\n",
    "\n",
    "rt<- c(1, 2, 3)\n",
    "f1 <- function(x) return(x + 2)\n",
    "f1(rt)"
   ]
  },
  {
   "cell_type": "code",
   "execution_count": 7,
   "metadata": {
    "collapsed": false
   },
   "outputs": [
    {
     "data": {
      "text/html": [
       "<ol class=list-inline>\n",
       "\t<li>1</li>\n",
       "\t<li>1.4142135623731</li>\n",
       "\t<li>1.73205080756888</li>\n",
       "\t<li>2</li>\n",
       "\t<li>2.23606797749979</li>\n",
       "\t<li>2.44948974278318</li>\n",
       "\t<li>2.64575131106459</li>\n",
       "</ol>\n"
      ],
      "text/latex": [
       "\\begin{enumerate*}\n",
       "\\item 1\n",
       "\\item 1.4142135623731\n",
       "\\item 1.73205080756888\n",
       "\\item 2\n",
       "\\item 2.23606797749979\n",
       "\\item 2.44948974278318\n",
       "\\item 2.64575131106459\n",
       "\\end{enumerate*}\n"
      ],
      "text/markdown": [
       "1. 1\n",
       "2. 1.4142135623731\n",
       "3. 1.73205080756888\n",
       "4. 2\n",
       "5. 2.23606797749979\n",
       "6. 2.44948974278318\n",
       "7. 2.64575131106459\n",
       "\n",
       "\n"
      ],
      "text/plain": [
       "[1] 1.000000 1.414214 1.732051 2.000000 2.236068 2.449490 2.645751"
      ]
     },
     "execution_count": 7,
     "metadata": {},
     "output_type": "execute_result"
    }
   ],
   "source": [
    "# Las funciones raiz cuadrada, logs, trig son\n",
    "# tambien vectorizadas.\n",
    "sqrt(1:7)"
   ]
  },
  {
   "cell_type": "code",
   "execution_count": 9,
   "metadata": {
    "collapsed": false
   },
   "outputs": [
    {
     "data": {
      "text/html": [
       "\n",
       "<table width=\"100%\" summary=\"page for Round {base}\"><tr><td>Round {base}</td><td style=\"text-align: right;\">R Documentation</td></tr></table>\n",
       "\n",
       "<h2>Rounding of Numbers</h2>\n",
       "\n",
       "<h3>Description</h3>\n",
       "\n",
       "<p><code>ceiling</code> takes a single numeric argument <code>x</code> and returns a\n",
       "numeric vector containing the smallest integers not less than the\n",
       "corresponding elements of <code>x</code>.\n",
       "</p>\n",
       "<p><code>floor</code> takes a single numeric argument <code>x</code> and returns a\n",
       "numeric vector containing the largest integers not greater than the\n",
       "corresponding elements of <code>x</code>.\n",
       "</p>\n",
       "<p><code>trunc</code> takes a single numeric argument <code>x</code> and returns a\n",
       "numeric vector containing the integers formed by truncating the values in\n",
       "<code>x</code> toward <code>0</code>.\n",
       "</p>\n",
       "<p><code>round</code> rounds the values in its first argument to the specified\n",
       "number of decimal places (default 0).\n",
       "</p>\n",
       "<p><code>signif</code> rounds the values in its first argument to the specified\n",
       "number of significant digits.\n",
       "</p>\n",
       "\n",
       "\n",
       "<h3>Usage</h3>\n",
       "\n",
       "<pre>\n",
       "ceiling(x)\n",
       "floor(x)\n",
       "trunc(x, ...)\n",
       "\n",
       "round(x, digits = 0)\n",
       "signif(x, digits = 6)\n",
       "</pre>\n",
       "\n",
       "\n",
       "<h3>Arguments</h3>\n",
       "\n",
       "<table summary=\"R argblock\">\n",
       "<tr valign=\"top\"><td><code>x</code></td>\n",
       "<td>\n",
       "<p>a numeric vector.  Or, for <code>round</code> and <code>signif</code>, a\n",
       "complex vector.</p>\n",
       "</td></tr>\n",
       "<tr valign=\"top\"><td><code>digits</code></td>\n",
       "<td>\n",
       "<p>integer indicating the number of decimal places\n",
       "(<code>round</code>) or significant digits (<code>signif</code>) to be used.\n",
       "Negative values are allowed (see &lsquo;Details&rsquo;).</p>\n",
       "</td></tr>\n",
       "<tr valign=\"top\"><td><code>...</code></td>\n",
       "<td>\n",
       "<p>arguments to be passed to methods.</p>\n",
       "</td></tr>\n",
       "</table>\n",
       "\n",
       "\n",
       "<h3>Details</h3>\n",
       "\n",
       "<p>These are generic functions: methods can be defined for them\n",
       "individually or via the <code>Math</code> group\n",
       "generic.\n",
       "</p>\n",
       "<p>Note that for rounding off a 5, the IEC 60559 standard is expected to\n",
       "be used, &lsquo;<em>go to the even digit</em>&rsquo;.\n",
       "Therefore <code>round(0.5)</code> is <code>0</code> and <code>round(-1.5)</code> is\n",
       "<code>-2</code>.  However, this is dependent on OS services and on\n",
       "representation error (since e.g. <code>0.15</code> is not represented\n",
       "exactly, the rounding rule applies to the represented number and not\n",
       "to the printed number, and so <code>round(0.15, 1)</code> could be either\n",
       "<code>0.1</code> or <code>0.2</code>).\n",
       "</p>\n",
       "<p>Rounding to a negative number of digits means rounding to a power of\n",
       "ten, so for example <code>round(x, digits = -2)</code> rounds to the nearest\n",
       "hundred.\n",
       "</p>\n",
       "<p>For <code>signif</code> the recognized values of <code>digits</code> are\n",
       "<code>1...22</code>, and non-missing values are rounded to the nearest\n",
       "integer in that range.  Complex numbers are rounded to retain the\n",
       "specified number of digits in the larger of the components.  Each\n",
       "element of the vector is rounded individually, unlike printing.\n",
       "</p>\n",
       "<p>These are all primitive functions.\n",
       "</p>\n",
       "\n",
       "\n",
       "<h3>S4 methods</h3>\n",
       "\n",
       "<p>These are all (internally) S4 generic.\n",
       "</p>\n",
       "<p><code>ceiling</code>, <code>floor</code> and <code>trunc</code> are members of the\n",
       "<code>Math</code> group generic.  As an S4\n",
       "generic, <code>trunc</code> has only one argument.\n",
       "</p>\n",
       "<p><code>round</code> and <code>signif</code> are members of the\n",
       "<code>Math2</code> group generic.\n",
       "</p>\n",
       "\n",
       "\n",
       "<h3>Warning</h3>\n",
       "\n",
       "<p>The realities of computer arithmetic can cause unexpected results,\n",
       "especially with <code>floor</code> and <code>ceiling</code>.  For example, we\n",
       "&lsquo;know&rsquo; that <code>floor(log(x, base = 8))</code> for <code>x = 8</code> is\n",
       "<code>1</code>, but <code>0</code> has been seen on an <span style=\"font-family: Courier New, Courier; color: #666666;\"><b>R</b></span> platform.  It is\n",
       "normally necessary to use a tolerance.\n",
       "</p>\n",
       "\n",
       "\n",
       "<h3>References</h3>\n",
       "\n",
       "<p>Becker, R. A., Chambers, J. M. and Wilks, A. R. (1988)\n",
       "<em>The New S Language</em>.  Wadsworth &amp; Brooks/Cole.\n",
       "</p>\n",
       "\n",
       "\n",
       "<h3>See Also</h3>\n",
       "\n",
       "<p><code>as.integer</code>.\n",
       "</p>\n",
       "\n",
       "\n",
       "<h3>Examples</h3>\n",
       "\n",
       "<pre>\n",
       "round(.5 + -2:4) # IEEE rounding: -2  0  0  2  2  4  4\n",
       "( x1 &lt;- seq(-2, 4, by = .5) )\n",
       "round(x1) #-- IEEE rounding !\n",
       "x1[trunc(x1) != floor(x1)]\n",
       "x1[round(x1) != floor(x1 + .5)]\n",
       "(non.int &lt;- ceiling(x1) != floor(x1))\n",
       "\n",
       "x2 &lt;- pi * 100^(-1:3)\n",
       "round(x2, 3)\n",
       "signif(x2, 3)\n",
       "</pre>\n",
       "\n",
       "<hr /><div style=\"text-align: center;\">[Package <em>base</em> version 3.2.2 ]</div>"
      ],
      "text/latex": [
       "\\inputencoding{utf8}\n",
       "\\HeaderA{Round}{Rounding of Numbers}{Round}\n",
       "\\aliasA{ceiling}{Round}{ceiling}\n",
       "\\aliasA{floor}{Round}{floor}\n",
       "\\aliasA{round}{Round}{round}\n",
       "\\aliasA{signif}{Round}{signif}\n",
       "\\aliasA{trunc}{Round}{trunc}\n",
       "\\keyword{arith}{Round}\n",
       "%\n",
       "\\begin{Description}\\relax\n",
       "\\code{ceiling} takes a single numeric argument \\code{x} and returns a\n",
       "numeric vector containing the smallest integers not less than the\n",
       "corresponding elements of \\code{x}.\n",
       "\n",
       "\\code{floor} takes a single numeric argument \\code{x} and returns a\n",
       "numeric vector containing the largest integers not greater than the\n",
       "corresponding elements of \\code{x}.\n",
       "\n",
       "\\code{trunc} takes a single numeric argument \\code{x} and returns a\n",
       "numeric vector containing the integers formed by truncating the values in\n",
       "\\code{x} toward \\code{0}.\n",
       "\n",
       "\\code{round} rounds the values in its first argument to the specified\n",
       "number of decimal places (default 0).\n",
       "\n",
       "\\code{signif} rounds the values in its first argument to the specified\n",
       "number of significant digits.\n",
       "\\end{Description}\n",
       "%\n",
       "\\begin{Usage}\n",
       "\\begin{verbatim}\n",
       "ceiling(x)\n",
       "floor(x)\n",
       "trunc(x, ...)\n",
       "\n",
       "round(x, digits = 0)\n",
       "signif(x, digits = 6)\n",
       "\\end{verbatim}\n",
       "\\end{Usage}\n",
       "%\n",
       "\\begin{Arguments}\n",
       "\\begin{ldescription}\n",
       "\\item[\\code{x}] a numeric vector.  Or, for \\code{round} and \\code{signif}, a\n",
       "complex vector.\n",
       "\n",
       "\\item[\\code{digits}] integer indicating the number of decimal places\n",
       "(\\code{round}) or significant digits (\\code{signif}) to be used.\n",
       "Negative values are allowed (see `Details').\n",
       "\n",
       "\\item[\\code{...}] arguments to be passed to methods.\n",
       "\\end{ldescription}\n",
       "\\end{Arguments}\n",
       "%\n",
       "\\begin{Details}\\relax\n",
       "These are generic functions: methods can be defined for them\n",
       "individually or via the \\code{\\LinkA{Math}{S3groupGeneric}} group\n",
       "generic.\n",
       "\n",
       "Note that for rounding off a 5, the IEC 60559 standard is expected to\n",
       "be used, `\\emph{go to the even digit}'.\n",
       "Therefore \\code{round(0.5)} is \\code{0} and \\code{round(-1.5)} is\n",
       "\\code{-2}.  However, this is dependent on OS services and on\n",
       "representation error (since e.g.~\\code{0.15} is not represented\n",
       "exactly, the rounding rule applies to the represented number and not\n",
       "to the printed number, and so \\code{round(0.15, 1)} could be either\n",
       "\\code{0.1} or \\code{0.2}).\n",
       "\n",
       "Rounding to a negative number of digits means rounding to a power of\n",
       "ten, so for example \\code{round(x, digits = -2)} rounds to the nearest\n",
       "hundred.\n",
       "\n",
       "For \\code{signif} the recognized values of \\code{digits} are\n",
       "\\code{1...22}, and non-missing values are rounded to the nearest\n",
       "integer in that range.  Complex numbers are rounded to retain the\n",
       "specified number of digits in the larger of the components.  Each\n",
       "element of the vector is rounded individually, unlike printing.\n",
       "\n",
       "These are all primitive functions.\n",
       "\\end{Details}\n",
       "%\n",
       "\\begin{Section}{S4 methods}\n",
       "These are all (internally) S4 generic.\n",
       "\n",
       "\\code{ceiling}, \\code{floor} and \\code{trunc} are members of the\n",
       "\\code{\\LinkA{Math}{S4groupGeneric}} group generic.  As an S4\n",
       "generic, \\code{trunc} has only one argument.\n",
       "\n",
       "\\code{round} and \\code{signif} are members of the\n",
       "\\code{\\LinkA{Math2}{S4groupGeneric}} group generic.\n",
       "\\end{Section}\n",
       "%\n",
       "\\begin{Section}{Warning}\n",
       "The realities of computer arithmetic can cause unexpected results,\n",
       "especially with \\code{floor} and \\code{ceiling}.  For example, we\n",
       "`know' that \\code{floor(log(x, base = 8))} for \\code{x = 8} is\n",
       "\\code{1}, but \\code{0} has been seen on an \\R{} platform.  It is\n",
       "normally necessary to use a tolerance.\n",
       "\\end{Section}\n",
       "%\n",
       "\\begin{References}\\relax\n",
       "Becker, R. A., Chambers, J. M. and Wilks, A. R. (1988)\n",
       "\\emph{The New S Language}.  Wadsworth \\& Brooks/Cole.\n",
       "\\end{References}\n",
       "%\n",
       "\\begin{SeeAlso}\\relax\n",
       "\\code{\\LinkA{as.integer}{as.integer}}.\n",
       "\\end{SeeAlso}\n",
       "%\n",
       "\\begin{Examples}\n",
       "\\begin{ExampleCode}\n",
       "round(.5 + -2:4) # IEEE rounding: -2  0  0  2  2  4  4\n",
       "( x1 <- seq(-2, 4, by = .5) )\n",
       "round(x1) #-- IEEE rounding !\n",
       "x1[trunc(x1) != floor(x1)]\n",
       "x1[round(x1) != floor(x1 + .5)]\n",
       "(non.int <- ceiling(x1) != floor(x1))\n",
       "\n",
       "x2 <- pi * 100^(-1:3)\n",
       "round(x2, 3)\n",
       "signif(x2, 3)\n",
       "\\end{ExampleCode}\n",
       "\\end{Examples}"
      ],
      "text/plain": [
       "Round                   package:base                   R Documentation\n",
       "\n",
       "_\bR_\bo_\bu_\bn_\bd_\bi_\bn_\bg _\bo_\bf _\bN_\bu_\bm_\bb_\be_\br_\bs\n",
       "\n",
       "_\bD_\be_\bs_\bc_\br_\bi_\bp_\bt_\bi_\bo_\bn:\n",
       "\n",
       "     ‘ceiling’ takes a single numeric argument ‘x’ and returns a\n",
       "     numeric vector containing the smallest integers not less than the\n",
       "     corresponding elements of ‘x’.\n",
       "\n",
       "     ‘floor’ takes a single numeric argument ‘x’ and returns a numeric\n",
       "     vector containing the largest integers not greater than the\n",
       "     corresponding elements of ‘x’.\n",
       "\n",
       "     ‘trunc’ takes a single numeric argument ‘x’ and returns a numeric\n",
       "     vector containing the integers formed by truncating the values in\n",
       "     ‘x’ toward ‘0’.\n",
       "\n",
       "     ‘round’ rounds the values in its first argument to the specified\n",
       "     number of decimal places (default 0).\n",
       "\n",
       "     ‘signif’ rounds the values in its first argument to the specified\n",
       "     number of significant digits.\n",
       "\n",
       "_\bU_\bs_\ba_\bg_\be:\n",
       "\n",
       "     ceiling(x)\n",
       "     floor(x)\n",
       "     trunc(x, ...)\n",
       "     \n",
       "     round(x, digits = 0)\n",
       "     signif(x, digits = 6)\n",
       "     \n",
       "_\bA_\br_\bg_\bu_\bm_\be_\bn_\bt_\bs:\n",
       "\n",
       "       x: a numeric vector.  Or, for ‘round’ and ‘signif’, a complex\n",
       "          vector.\n",
       "\n",
       "  digits: integer indicating the number of decimal places (‘round’) or\n",
       "          significant digits (‘signif’) to be used.  Negative values\n",
       "          are allowed (see ‘Details’).\n",
       "\n",
       "     ...: arguments to be passed to methods.\n",
       "\n",
       "_\bD_\be_\bt_\ba_\bi_\bl_\bs:\n",
       "\n",
       "     These are generic functions: methods can be defined for them\n",
       "     individually or via the ‘Math’ group generic.\n",
       "\n",
       "     Note that for rounding off a 5, the IEC 60559 standard is expected\n",
       "     to be used, ‘_go to the even digit_’.  Therefore ‘round(0.5)’ is\n",
       "     ‘0’ and ‘round(-1.5)’ is ‘-2’.  However, this is dependent on OS\n",
       "     services and on representation error (since e.g. ‘0.15’ is not\n",
       "     represented exactly, the rounding rule applies to the represented\n",
       "     number and not to the printed number, and so ‘round(0.15, 1)’\n",
       "     could be either ‘0.1’ or ‘0.2’).\n",
       "\n",
       "     Rounding to a negative number of digits means rounding to a power\n",
       "     of ten, so for example ‘round(x, digits = -2)’ rounds to the\n",
       "     nearest hundred.\n",
       "\n",
       "     For ‘signif’ the recognized values of ‘digits’ are ‘1...22’, and\n",
       "     non-missing values are rounded to the nearest integer in that\n",
       "     range.  Complex numbers are rounded to retain the specified number\n",
       "     of digits in the larger of the components.  Each element of the\n",
       "     vector is rounded individually, unlike printing.\n",
       "\n",
       "     These are all primitive functions.\n",
       "\n",
       "_\bS_\b4 _\bm_\be_\bt_\bh_\bo_\bd_\bs:\n",
       "\n",
       "     These are all (internally) S4 generic.\n",
       "\n",
       "     ‘ceiling’, ‘floor’ and ‘trunc’ are members of the ‘Math’ group\n",
       "     generic.  As an S4 generic, ‘trunc’ has only one argument.\n",
       "\n",
       "     ‘round’ and ‘signif’ are members of the ‘Math2’ group generic.\n",
       "\n",
       "_\bW_\ba_\br_\bn_\bi_\bn_\bg:\n",
       "\n",
       "     The realities of computer arithmetic can cause unexpected results,\n",
       "     especially with ‘floor’ and ‘ceiling’.  For example, we ‘know’\n",
       "     that ‘floor(log(x, base = 8))’ for ‘x = 8’ is ‘1’, but ‘0’ has\n",
       "     been seen on an R platform.  It is normally necessary to use a\n",
       "     tolerance.\n",
       "\n",
       "_\bR_\be_\bf_\be_\br_\be_\bn_\bc_\be_\bs:\n",
       "\n",
       "     Becker, R. A., Chambers, J. M. and Wilks, A. R. (1988) _The New S\n",
       "     Language_.  Wadsworth & Brooks/Cole.\n",
       "\n",
       "_\bS_\be_\be _\bA_\bl_\bs_\bo:\n",
       "\n",
       "     ‘as.integer’.\n",
       "\n",
       "_\bE_\bx_\ba_\bm_\bp_\bl_\be_\bs:\n",
       "\n",
       "     round(.5 + -2:4) # IEEE rounding: -2  0  0  2  2  4  4\n",
       "     ( x1 <- seq(-2, 4, by = .5) )\n",
       "     round(x1) #-- IEEE rounding !\n",
       "     x1[trunc(x1) != floor(x1)]\n",
       "     x1[round(x1) != floor(x1 + .5)]\n",
       "     (non.int <- ceiling(x1) != floor(x1))\n",
       "     \n",
       "     x2 <- pi * 100^(-1:3)\n",
       "     round(x2, 3)\n",
       "     signif(x2, 3)\n",
       "     "
      ]
     },
     "execution_count": 9,
     "metadata": {},
     "output_type": "execute_result"
    },
    {
     "data": {
      "text/html": [
       "<ol class=list-inline>\n",
       "\t<li>6</li>\n",
       "\t<li>7</li>\n",
       "</ol>\n"
      ],
      "text/latex": [
       "\\begin{enumerate*}\n",
       "\\item 6\n",
       "\\item 7\n",
       "\\end{enumerate*}\n"
      ],
      "text/markdown": [
       "1. 6\n",
       "2. 7\n",
       "\n",
       "\n"
      ],
      "text/plain": [
       "[1] 6 7"
      ]
     },
     "execution_count": 9,
     "metadata": {},
     "output_type": "execute_result"
    }
   ],
   "source": [
    "# Esto tambien se aplica a funciones construidas en R\n",
    "# por ejemplo con la funcion round\n",
    "\n",
    "help(round)\n",
    "g <-c(1.4, 5.6, 0.7, 5.6)\n",
    "zq <-round(y)\n",
    "zq"
   ]
  },
  {
   "cell_type": "markdown",
   "metadata": {},
   "source": [
    "Desde que R no conoce de escalares, podemos considerar funciones que parece que tienen argumentos escalares"
   ]
  },
  {
   "cell_type": "code",
   "execution_count": 10,
   "metadata": {
    "collapsed": false
   },
   "outputs": [
    {
     "data": {
      "text/html": [
       "<ol class=list-inline>\n",
       "\t<li>1</li>\n",
       "\t<li>4</li>\n",
       "\t<li>9</li>\n",
       "</ol>\n"
      ],
      "text/latex": [
       "\\begin{enumerate*}\n",
       "\\item 1\n",
       "\\item 4\n",
       "\\item 9\n",
       "\\end{enumerate*}\n"
      ],
      "text/markdown": [
       "1. 1\n",
       "2. 4\n",
       "3. 9\n",
       "\n",
       "\n"
      ],
      "text/plain": [
       "[1] 1 4 9"
      ]
     },
     "execution_count": 10,
     "metadata": {},
     "output_type": "execute_result"
    },
    {
     "data": {
      "text/html": [
       "<ol class=list-inline>\n",
       "\t<li>4</li>\n",
       "\t<li>9</li>\n",
       "\t<li>16</li>\n",
       "</ol>\n"
      ],
      "text/latex": [
       "\\begin{enumerate*}\n",
       "\\item 4\n",
       "\\item 9\n",
       "\\item 16\n",
       "\\end{enumerate*}\n"
      ],
      "text/markdown": [
       "1. 4\n",
       "2. 9\n",
       "3. 16\n",
       "\n",
       "\n"
      ],
      "text/plain": [
       "[1]  4  9 16"
      ]
     },
     "execution_count": 10,
     "metadata": {},
     "output_type": "execute_result"
    },
    {
     "data": {
      "text/html": [
       "<ol class=list-inline>\n",
       "\t<li>4</li>\n",
       "\t<li>16</li>\n",
       "\t<li>36</li>\n",
       "</ol>\n"
      ],
      "text/latex": [
       "\\begin{enumerate*}\n",
       "\\item 4\n",
       "\\item 16\n",
       "\\item 36\n",
       "\\end{enumerate*}\n"
      ],
      "text/markdown": [
       "1. 4\n",
       "2. 16\n",
       "3. 36\n",
       "\n",
       "\n"
      ],
      "text/plain": [
       "[1]  4 16 36"
      ]
     },
     "execution_count": 10,
     "metadata": {},
     "output_type": "execute_result"
    }
   ],
   "source": [
    "f2 <- function(x,c) return((x +c)^2)\n",
    "f2(1:3,0)\n",
    "f2(1:3,1)\n",
    "f2(1:3, 1:3) # No hay nada en f2() que usemos un vector c"
   ]
  },
  {
   "cell_type": "markdown",
   "metadata": {},
   "source": [
    "Si se  quieres restringir c a escalares, se debe insertar algún tipo de verificación:\n",
    "\n",
    "```python\n",
    "f2<- function(x,c){\n",
    "    if(length(c) != 1) stop(\"el vector c no es permitido!\")\n",
    "    return((x + c)^2)\n",
    "    }\n",
    "```"
   ]
  },
  {
   "cell_type": "code",
   "execution_count": 15,
   "metadata": {
    "collapsed": false
   },
   "outputs": [
    {
     "data": {
      "text/html": [
       "<ol class=list-inline>\n",
       "\t<li>5</li>\n",
       "\t<li>25</li>\n",
       "</ol>\n"
      ],
      "text/latex": [
       "\\begin{enumerate*}\n",
       "\\item 5\n",
       "\\item 25\n",
       "\\end{enumerate*}\n"
      ],
      "text/markdown": [
       "1. 5\n",
       "2. 25\n",
       "\n",
       "\n"
      ],
      "text/plain": [
       "[1]  5 25"
      ]
     },
     "execution_count": 15,
     "metadata": {},
     "output_type": "execute_result"
    },
    {
     "data": {
      "text/html": [
       "<ol class=list-inline>\n",
       "\t<li>1</li>\n",
       "\t<li>2</li>\n",
       "\t<li>3</li>\n",
       "\t<li>4</li>\n",
       "\t<li>5</li>\n",
       "\t<li>6</li>\n",
       "\t<li>7</li>\n",
       "\t<li>8</li>\n",
       "\t<li>1</li>\n",
       "\t<li>4</li>\n",
       "\t<li>9</li>\n",
       "\t<li>16</li>\n",
       "\t<li>25</li>\n",
       "\t<li>36</li>\n",
       "\t<li>49</li>\n",
       "\t<li>64</li>\n",
       "</ol>\n"
      ],
      "text/latex": [
       "\\begin{enumerate*}\n",
       "\\item 1\n",
       "\\item 2\n",
       "\\item 3\n",
       "\\item 4\n",
       "\\item 5\n",
       "\\item 6\n",
       "\\item 7\n",
       "\\item 8\n",
       "\\item 1\n",
       "\\item 4\n",
       "\\item 9\n",
       "\\item 16\n",
       "\\item 25\n",
       "\\item 36\n",
       "\\item 49\n",
       "\\item 64\n",
       "\\end{enumerate*}\n"
      ],
      "text/markdown": [
       "1. 1\n",
       "2. 2\n",
       "3. 3\n",
       "4. 4\n",
       "5. 5\n",
       "6. 6\n",
       "7. 7\n",
       "8. 8\n",
       "9. 1\n",
       "10. 4\n",
       "11. 9\n",
       "12. 16\n",
       "13. 25\n",
       "14. 36\n",
       "15. 49\n",
       "16. 64\n",
       "\n",
       "\n"
      ],
      "text/plain": [
       " [1]  1  2  3  4  5  6  7  8  1  4  9 16 25 36 49 64"
      ]
     },
     "execution_count": 15,
     "metadata": {},
     "output_type": "execute_result"
    }
   ],
   "source": [
    "#  Que sucede si nuestra función  es una función de valor vectorial\n",
    "f4 <- function(w) return (c(w, w^2))\n",
    "f4(5)\n",
    "d<- 1:8\n",
    "f4(d)\n"
   ]
  },
  {
   "cell_type": "code",
   "execution_count": 20,
   "metadata": {
    "collapsed": false
   },
   "outputs": [
    {
     "data": {
      "text/html": [
       "<table>\n",
       "<tbody>\n",
       "\t<tr><td> 1</td><td> 5</td><td> 1</td><td>25</td></tr>\n",
       "\t<tr><td> 2</td><td> 6</td><td> 4</td><td>36</td></tr>\n",
       "\t<tr><td> 3</td><td> 7</td><td> 9</td><td>49</td></tr>\n",
       "\t<tr><td> 4</td><td> 8</td><td>16</td><td>64</td></tr>\n",
       "</tbody>\n",
       "</table>\n"
      ],
      "text/latex": [
       "\\begin{tabular}{llll}\n",
       "\t  1 &  5 &  1 & 25\\\\\n",
       "\t  2 &  6 &  4 & 36\\\\\n",
       "\t  3 &  7 &  9 & 49\\\\\n",
       "\t  4 &  8 & 16 & 64\\\\\n",
       "\\end{tabular}\n"
      ],
      "text/markdown": [
       "1. 1\n",
       "2. 2\n",
       "3. 3\n",
       "4. 4\n",
       "5. 5\n",
       "6. 6\n",
       "7. 7\n",
       "8. 8\n",
       "9. 1\n",
       "10. 4\n",
       "11. 9\n",
       "12. 16\n",
       "13. 25\n",
       "14. 36\n",
       "15. 49\n",
       "16. 64\n",
       "\n",
       "\n"
      ],
      "text/plain": [
       "     [,1] [,2] [,3] [,4]\n",
       "[1,]    1    5    1   25\n",
       "[2,]    2    6    4   36\n",
       "[3,]    3    7    9   49\n",
       "[4,]    4    8   16   64"
      ]
     },
     "execution_count": 20,
     "metadata": {},
     "output_type": "execute_result"
    }
   ],
   "source": [
    "# Podemos usar la funcion matrix() para ordenar una matriz 4x4\n",
    "\n",
    "matrix(f4(d),ncol =4 )"
   ]
  },
  {
   "cell_type": "code",
   "execution_count": 22,
   "metadata": {
    "collapsed": false
   },
   "outputs": [
    {
     "data": {
      "text/html": [
       "\n",
       "<table width=\"100%\" summary=\"page for lapply {base}\"><tr><td>lapply {base}</td><td style=\"text-align: right;\">R Documentation</td></tr></table>\n",
       "\n",
       "<h2>Apply a Function over a List or Vector</h2>\n",
       "\n",
       "<h3>Description</h3>\n",
       "\n",
       "<p><code>lapply</code> returns a list of the same length as <code>X</code>, each\n",
       "element of which is the result of applying <code>FUN</code> to the\n",
       "corresponding element of <code>X</code>.\n",
       "</p>\n",
       "<p><code>sapply</code> is a user-friendly version and wrapper of <code>lapply</code>\n",
       "by default returning a vector, matrix or, if <code>simplify = \"array\"</code>, an\n",
       "array if appropriate, by applying <code>simplify2array()</code>.\n",
       "<code>sapply(x, f, simplify = FALSE, USE.NAMES = FALSE)</code> is the same as\n",
       "<code>lapply(x, f)</code>.\n",
       "</p>\n",
       "<p><code>vapply</code> is similar to <code>sapply</code>, but has a pre-specified\n",
       "type of return value, so it can be safer (and sometimes faster) to\n",
       "use.\n",
       "</p>\n",
       "<p><code>replicate</code> is a wrapper for the common use of <code>sapply</code> for\n",
       "repeated evaluation of an expression (which will usually involve\n",
       "random number generation).\n",
       "</p>\n",
       "<p><code>simplify2array()</code> is the utility called from <code>sapply()</code>\n",
       "when <code>simplify</code> is not false and is similarly called from\n",
       "<code>mapply()</code>.\n",
       "</p>\n",
       "\n",
       "\n",
       "<h3>Usage</h3>\n",
       "\n",
       "<pre>\n",
       "lapply(X, FUN, ...)\n",
       "\n",
       "sapply(X, FUN, ..., simplify = TRUE, USE.NAMES = TRUE)\n",
       "\n",
       "vapply(X, FUN, FUN.VALUE, ..., USE.NAMES = TRUE)\n",
       "\n",
       "replicate(n, expr, simplify = \"array\")\n",
       "\n",
       "simplify2array(x, higher = TRUE)\n",
       "</pre>\n",
       "\n",
       "\n",
       "<h3>Arguments</h3>\n",
       "\n",
       "<table summary=\"R argblock\">\n",
       "<tr valign=\"top\"><td><code>X</code></td>\n",
       "<td>\n",
       "<p>a vector (atomic or list) or an <code>expression</code>\n",
       "object.  Other objects (including classed objects) will be coerced\n",
       "by <code>base::as.list</code>.</p>\n",
       "</td></tr>\n",
       "<tr valign=\"top\"><td><code>FUN</code></td>\n",
       "<td>\n",
       "<p>the function to be applied to each element of <code>X</code>:\n",
       "see &lsquo;Details&rsquo;.  In the case of functions like\n",
       "<code>+</code>, <code>%*%</code>, the function name must be backquoted or quoted.</p>\n",
       "</td></tr>\n",
       "<tr valign=\"top\"><td><code>...</code></td>\n",
       "<td>\n",
       "<p>optional arguments to <code>FUN</code>.</p>\n",
       "</td></tr>\n",
       "<tr valign=\"top\"><td><code>simplify</code></td>\n",
       "<td>\n",
       "<p>logical or character string; should the result be\n",
       "simplified to a vector, matrix or higher dimensional array if\n",
       "possible?  For <code>sapply</code> it must be named and not abbreviated.\n",
       "The default value, <code>TRUE</code>, returns a vector or matrix if appropriate,\n",
       "whereas if <code>simplify = \"array\"</code> the result may be an\n",
       "<code>array</code> of &ldquo;rank&rdquo;\n",
       "(<i>=</i><code>length(dim(.))</code>) one higher than the result\n",
       "of <code>FUN(X[[i]])</code>.</p>\n",
       "</td></tr>\n",
       "<tr valign=\"top\"><td><code>USE.NAMES</code></td>\n",
       "<td>\n",
       "<p>logical; if <code>TRUE</code> and if <code>X</code> is character,\n",
       "use <code>X</code> as <code>names</code> for the result unless it had names\n",
       "already.  Since this argument follows <code>...</code> its name cannot\n",
       "be abbreviated.</p>\n",
       "</td></tr>\n",
       "<tr valign=\"top\"><td><code>FUN.VALUE</code></td>\n",
       "<td>\n",
       "<p>a (generalized) vector; a template for the return\n",
       "value from FUN.  See &lsquo;Details&rsquo;.</p>\n",
       "</td></tr>\n",
       "<tr valign=\"top\"><td><code>n</code></td>\n",
       "<td>\n",
       "<p>integer: the number of replications.</p>\n",
       "</td></tr>\n",
       "<tr valign=\"top\"><td><code>expr</code></td>\n",
       "<td>\n",
       "<p>the expression (a language object, usually a call)\n",
       "to evaluate repeatedly.</p>\n",
       "</td></tr>\n",
       "<tr valign=\"top\"><td><code>x</code></td>\n",
       "<td>\n",
       "<p>a list, typically returned from <code>lapply()</code>.</p>\n",
       "</td></tr>\n",
       "<tr valign=\"top\"><td><code>higher</code></td>\n",
       "<td>\n",
       "<p>logical; if true, <code>simplify2array()</code> will produce a\n",
       "(&ldquo;higher rank&rdquo;) array when appropriate, whereas\n",
       "<code>higher = FALSE</code> would return a matrix (or vector) only.\n",
       "These two cases correspond to <code>sapply(*, simplify = \"array\")</code> or\n",
       "<code>simplify = TRUE</code>, respectively.</p>\n",
       "</td></tr>\n",
       "</table>\n",
       "\n",
       "\n",
       "<h3>Details</h3>\n",
       "\n",
       "<p><code>FUN</code> is found by a call to <code>match.fun</code> and typically\n",
       "is specified as a function or a symbol (e.g., a backquoted name) or a\n",
       "character string specifying a function to be searched for from the\n",
       "environment of the call to <code>lapply</code>.\n",
       "</p>\n",
       "<p>Function <code>FUN</code> must be able to accept as input any of the\n",
       "elements of <code>X</code>.  If the latter is an atomic vector, <code>FUN</code>\n",
       "will always be passed a length-one vector of the same type as <code>X</code>.\n",
       "</p>\n",
       "<p>Arguments in <code>...</code> cannot have the same name as any of the\n",
       "other arguments, and care may be needed to avoid partial matching to\n",
       "<code>FUN</code>.  In general-purpose code it is good practice to name the\n",
       "first two arguments <code>X</code> and <code>FUN</code> if <code>...</code> is passed\n",
       "through: this both avoids partial matching to <code>FUN</code> and ensures\n",
       "that a sensible error message is given if arguments named <code>X</code> or\n",
       "<code>FUN</code> are passed through <code>...</code>.\n",
       "</p>\n",
       "<p>Simplification in <code>sapply</code> is only attempted if <code>X</code> has\n",
       "length greater than zero and if the return values from all elements\n",
       "of <code>X</code> are all of the same (positive) length.  If the common\n",
       "length is one the result is a vector, and if greater than one is a\n",
       "matrix with a column corresponding to each element of <code>X</code>.\n",
       "</p>\n",
       "<p>Simplification is always done in <code>vapply</code>.  This function\n",
       "checks that all values of <code>FUN</code> are compatible with the\n",
       "<code>FUN.VALUE</code>, in that they must have the same length and type.\n",
       "(Types may be promoted to a higher type within the ordering logical\n",
       "&lt; integer &lt; double &lt; complex, but not demoted.)\n",
       "</p>\n",
       "<p>Users of S4 classes should pass a list to <code>lapply</code> and\n",
       "<code>vapply</code>: the internal coercion is done by the <code>as.list</code> in\n",
       "the base namespace and not one defined by a user (e.g., by setting S4\n",
       "methods on the base function).\n",
       "\n",
       "</p>\n",
       "<p><code>lapply</code> and <code>vapply</code> are primitive functions.\n",
       "</p>\n",
       "\n",
       "\n",
       "<h3>Value</h3>\n",
       "\n",
       "<p>For <code>lapply</code>, <code>sapply(simplify = FALSE)</code> and\n",
       "<code>replicate(simplify = FALSE)</code>, a list.\n",
       "</p>\n",
       "<p>For <code>sapply(simplify = TRUE)</code> and <code>replicate(simplify =\n",
       "  TRUE)</code>: if <code>X</code> has length zero or <code>n = 0</code>, an empty list.\n",
       "Otherwise an atomic vector or matrix or list of the same length as\n",
       "<code>X</code> (of length <code>n</code> for <code>replicate</code>).  If simplification\n",
       "occurs, the output type is determined from the highest type of the\n",
       "return values in the hierarchy NULL &lt; raw &lt; logical &lt; integer &lt; double &lt;\n",
       "complex &lt; character &lt; list &lt; expression, after coercion of pairlists\n",
       "to lists.\n",
       "</p>\n",
       "<p><code>vapply</code> returns a vector or array of type matching the\n",
       "<code>FUN.VALUE</code>.  If <code>length(FUN.VALUE) == 1</code> a\n",
       "vector of the same length as <code>X</code> is returned, otherwise\n",
       "an array.  If <code>FUN.VALUE</code> is not an <code>array</code>, the\n",
       "result is a matrix   with <code>length(FUN.VALUE)</code> rows and\n",
       "<code>length(X)</code> columns, otherwise an array <code>a</code> with\n",
       "<code>dim(a) == c(dim(FUN.VALUE), length(X))</code>.\n",
       "</p>\n",
       "<p>The (Dim)names of the array value are taken from the <code>FUN.VALUE</code>\n",
       "if it is named, otherwise from the result of the first function call.\n",
       "Column names of the matrix or more generally the names of the last\n",
       "dimension of the array value or names of the vector value are set from\n",
       "<code>X</code> as in <code>sapply</code>.\n",
       "</p>\n",
       "\n",
       "\n",
       "<h3>Note</h3>\n",
       "\n",
       "<p><code>sapply(*, simplify = FALSE, USE.NAMES = FALSE)</code> is\n",
       "equivalent to <code>lapply(*)</code>.\n",
       "</p>\n",
       "<p>For historical reasons, the calls created by <code>lapply</code> are\n",
       "unevaluated, and code has been written (e.g., <code>bquote</code>) that\n",
       "relies on this.  This means that the recorded call is always of the\n",
       "form <code>FUN(X[[i]], ...)</code>, with <code>i</code> replaced by the current\n",
       "(integer or double) index.  This is not normally a problem, but it can\n",
       "be if <code>FUN</code> uses <code>sys.call</code> or\n",
       "<code>match.call</code> or if it is a primitive function that makes\n",
       "use of the call.  This means that it is often safer to call primitive\n",
       "functions with a wrapper, so that e.g. <code>lapply(ll, function(x)\n",
       "  is.numeric(x))</code> is required to ensure that method dispatch for\n",
       "<code>is.numeric</code> occurs correctly.\n",
       "</p>\n",
       "<p>If <code>expr</code> is a function call, be aware of assumptions about where\n",
       "it is evaluated, and in particular what <code>...</code> might refer to.\n",
       "You can pass additional named arguments to a function call as\n",
       "additional named arguments to <code>replicate</code>: see &lsquo;Examples&rsquo;.\n",
       "</p>\n",
       "\n",
       "\n",
       "<h3>References</h3>\n",
       "\n",
       "<p>Becker, R. A., Chambers, J. M. and Wilks, A. R. (1988)\n",
       "<em>The New S Language</em>.\n",
       "Wadsworth &amp; Brooks/Cole.\n",
       "</p>\n",
       "\n",
       "\n",
       "<h3>See Also</h3>\n",
       "\n",
       "<p><code>apply</code>, <code>tapply</code>,\n",
       "<code>mapply</code> for applying a function to <b>m</b>ultiple\n",
       "arguments, and <code>rapply</code> for a <b>r</b>ecursive version of\n",
       "<code>lapply()</code>, <code>eapply</code> for applying a function to each\n",
       "entry in an <code>environment</code>.\n",
       "</p>\n",
       "\n",
       "\n",
       "<h3>Examples</h3>\n",
       "\n",
       "<pre>\n",
       "require(stats); require(graphics)\n",
       "\n",
       "x &lt;- list(a = 1:10, beta = exp(-3:3), logic = c(TRUE,FALSE,FALSE,TRUE))\n",
       "# compute the list mean for each list element\n",
       "lapply(x, mean)\n",
       "# median and quartiles for each list element\n",
       "lapply(x, quantile, probs = 1:3/4)\n",
       "sapply(x, quantile)\n",
       "i39 &lt;- sapply(3:9, seq) # list of vectors\n",
       "sapply(i39, fivenum)\n",
       "vapply(i39, fivenum,\n",
       "       c(Min. = 0, \"1st Qu.\" = 0, Median = 0, \"3rd Qu.\" = 0, Max. = 0))\n",
       "\n",
       "## sapply(*, \"array\") -- artificial example\n",
       "(v &lt;- structure(10*(5:8), names = LETTERS[1:4]))\n",
       "f2 &lt;- function(x, y) outer(rep(x, length.out = 3), y)\n",
       "(a2 &lt;- sapply(v, f2, y = 2*(1:5), simplify = \"array\"))\n",
       "a.2 &lt;- vapply(v, f2, outer(1:3, 1:5), y = 2*(1:5))\n",
       "stopifnot(dim(a2) == c(3,5,4), all.equal(a2, a.2),\n",
       "          identical(dimnames(a2), list(NULL,NULL,LETTERS[1:4])))\n",
       "\n",
       "hist(replicate(100, mean(rexp(10))))\n",
       "\n",
       "## use of replicate() with parameters:\n",
       "foo &lt;- function(x = 1, y = 2) c(x, y)\n",
       "# does not work: bar &lt;- function(n, ...) replicate(n, foo(...))\n",
       "bar &lt;- function(n, x) replicate(n, foo(x = x))\n",
       "bar(5, x = 3)\n",
       "</pre>\n",
       "\n",
       "<hr /><div style=\"text-align: center;\">[Package <em>base</em> version 3.2.2 ]</div>"
      ],
      "text/latex": [
       "\\inputencoding{utf8}\n",
       "\\HeaderA{lapply}{Apply a Function over a List or Vector}{lapply}\n",
       "\\aliasA{replicate}{lapply}{replicate}\n",
       "\\aliasA{sapply}{lapply}{sapply}\n",
       "\\aliasA{simplify2array}{lapply}{simplify2array}\n",
       "\\aliasA{vapply}{lapply}{vapply}\n",
       "\\keyword{iteration}{lapply}\n",
       "\\keyword{list}{lapply}\n",
       "%\n",
       "\\begin{Description}\\relax\n",
       "\\code{lapply} returns a list of the same length as \\code{X}, each\n",
       "element of which is the result of applying \\code{FUN} to the\n",
       "corresponding element of \\code{X}.\n",
       "\n",
       "\\code{sapply} is a user-friendly version and wrapper of \\code{lapply}\n",
       "by default returning a vector, matrix or, if \\code{simplify = \"array\"}, an\n",
       "array if appropriate, by applying \\code{simplify2array()}.\n",
       "\\code{sapply(x, f, simplify = FALSE, USE.NAMES = FALSE)} is the same as\n",
       "\\code{lapply(x, f)}.\n",
       "\n",
       "\\code{vapply} is similar to \\code{sapply}, but has a pre-specified\n",
       "type of return value, so it can be safer (and sometimes faster) to\n",
       "use.\n",
       "\n",
       "\\code{replicate} is a wrapper for the common use of \\code{sapply} for\n",
       "repeated evaluation of an expression (which will usually involve\n",
       "random number generation).\n",
       "\n",
       "\\code{simplify2array()} is the utility called from \\code{sapply()}\n",
       "when \\code{simplify} is not false and is similarly called from\n",
       "\\code{\\LinkA{mapply}{mapply}()}.\n",
       "\\end{Description}\n",
       "%\n",
       "\\begin{Usage}\n",
       "\\begin{verbatim}\n",
       "lapply(X, FUN, ...)\n",
       "\n",
       "sapply(X, FUN, ..., simplify = TRUE, USE.NAMES = TRUE)\n",
       "\n",
       "vapply(X, FUN, FUN.VALUE, ..., USE.NAMES = TRUE)\n",
       "\n",
       "replicate(n, expr, simplify = \"array\")\n",
       "\n",
       "simplify2array(x, higher = TRUE)\n",
       "\\end{verbatim}\n",
       "\\end{Usage}\n",
       "%\n",
       "\\begin{Arguments}\n",
       "\\begin{ldescription}\n",
       "\\item[\\code{X}] a vector (atomic or list) or an \\code{\\LinkA{expression}{expression}}\n",
       "object.  Other objects (including classed objects) will be coerced\n",
       "by \\code{base::\\LinkA{as.list}{as.list}}.\n",
       "\\item[\\code{FUN}] the function to be applied to each element of \\code{X}:\n",
       "see `Details'.  In the case of functions like\n",
       "\\code{+}, \\code{\\%*\\%}, the function name must be backquoted or quoted.\n",
       "\\item[\\code{...}] optional arguments to \\code{FUN}.\n",
       "\\item[\\code{simplify}] logical or character string; should the result be\n",
       "simplified to a vector, matrix or higher dimensional array if\n",
       "possible?  For \\code{sapply} it must be named and not abbreviated.\n",
       "The default value, \\code{TRUE}, returns a vector or matrix if appropriate,\n",
       "whereas if \\code{simplify = \"array\"} the result may be an\n",
       "\\code{\\LinkA{array}{array}} of ``rank''\n",
       "(\\eqn{=}{}\\code{length(dim(.))}) one higher than the result\n",
       "of \\code{FUN(X[[i]])}.\n",
       "\\item[\\code{USE.NAMES}] logical; if \\code{TRUE} and if \\code{X} is character,\n",
       "use \\code{X} as \\code{\\LinkA{names}{names}} for the result unless it had names\n",
       "already.  Since this argument follows \\code{...} its name cannot\n",
       "be abbreviated.\n",
       "\\item[\\code{FUN.VALUE}] a (generalized) vector; a template for the return\n",
       "value from FUN.  See `Details'.\n",
       "\\item[\\code{n}] integer: the number of replications.\n",
       "\\item[\\code{expr}] the expression (a \\LinkA{language object}{language object}, usually a call)\n",
       "to evaluate repeatedly.\n",
       "\n",
       "\\item[\\code{x}] a list, typically returned from \\code{lapply()}.\n",
       "\\item[\\code{higher}] logical; if true, \\code{simplify2array()} will produce a\n",
       "(``higher rank'') array when appropriate, whereas\n",
       "\\code{higher = FALSE} would return a matrix (or vector) only.\n",
       "These two cases correspond to \\code{sapply(*, simplify = \"array\")} or\n",
       "\\code{simplify = TRUE}, respectively.\n",
       "\\end{ldescription}\n",
       "\\end{Arguments}\n",
       "%\n",
       "\\begin{Details}\\relax\n",
       "\\code{FUN} is found by a call to \\code{\\LinkA{match.fun}{match.fun}} and typically\n",
       "is specified as a function or a symbol (e.g., a backquoted name) or a\n",
       "character string specifying a function to be searched for from the\n",
       "environment of the call to \\code{lapply}.\n",
       "\n",
       "Function \\code{FUN} must be able to accept as input any of the\n",
       "elements of \\code{X}.  If the latter is an atomic vector, \\code{FUN}\n",
       "will always be passed a length-one vector of the same type as \\code{X}.\n",
       "\n",
       "Arguments in \\code{...} cannot have the same name as any of the\n",
       "other arguments, and care may be needed to avoid partial matching to\n",
       "\\code{FUN}.  In general-purpose code it is good practice to name the\n",
       "first two arguments \\code{X} and \\code{FUN} if \\code{...} is passed\n",
       "through: this both avoids partial matching to \\code{FUN} and ensures\n",
       "that a sensible error message is given if arguments named \\code{X} or\n",
       "\\code{FUN} are passed through \\code{...}.\n",
       "\n",
       "Simplification in \\code{sapply} is only attempted if \\code{X} has\n",
       "length greater than zero and if the return values from all elements\n",
       "of \\code{X} are all of the same (positive) length.  If the common\n",
       "length is one the result is a vector, and if greater than one is a\n",
       "matrix with a column corresponding to each element of \\code{X}.\n",
       "\n",
       "Simplification is always done in \\code{vapply}.  This function\n",
       "checks that all values of \\code{FUN} are compatible with the\n",
       "\\code{FUN.VALUE}, in that they must have the same length and type.\n",
       "(Types may be promoted to a higher type within the ordering logical\n",
       "< integer < double < complex, but not demoted.)\n",
       "\n",
       "Users of S4 classes should pass a list to \\code{lapply} and\n",
       "\\code{vapply}: the internal coercion is done by the \\code{as.list} in\n",
       "the base namespace and not one defined by a user (e.g., by setting S4\n",
       "methods on the base function).\n",
       "\n",
       "\n",
       "\\code{lapply} and \\code{vapply} are \\LinkA{primitive}{primitive} functions.\n",
       "\\end{Details}\n",
       "%\n",
       "\\begin{Value}\n",
       "For \\code{lapply}, \\code{sapply(simplify = FALSE)} and\n",
       "\\code{replicate(simplify = FALSE)}, a list.\n",
       "\n",
       "For \\code{sapply(simplify = TRUE)} and \\code{replicate(simplify =\n",
       "  TRUE)}: if \\code{X} has length zero or \\code{n = 0}, an empty list.\n",
       "Otherwise an atomic vector or matrix or list of the same length as\n",
       "\\code{X} (of length \\code{n} for \\code{replicate}).  If simplification\n",
       "occurs, the output type is determined from the highest type of the\n",
       "return values in the hierarchy NULL < raw < logical < integer < double <\n",
       "complex < character < list < expression, after coercion of pairlists\n",
       "to lists.\n",
       "\n",
       "\\code{vapply} returns a vector or array of type matching the\n",
       "\\code{FUN.VALUE}.  If \\code{length(FUN.VALUE) == 1} a\n",
       "vector of the same length as \\code{X} is returned, otherwise\n",
       "an array.  If \\code{FUN.VALUE} is not an \\code{\\LinkA{array}{array}}, the\n",
       "result is a matrix   with \\code{length(FUN.VALUE)} rows and\n",
       "\\code{length(X)} columns, otherwise an array \\code{a} with\n",
       "\\code{\\LinkA{dim}{dim}(a) == c(dim(FUN.VALUE), length(X))}.\n",
       "\n",
       "The (Dim)names of the array value are taken from the \\code{FUN.VALUE}\n",
       "if it is named, otherwise from the result of the first function call.\n",
       "Column names of the matrix or more generally the names of the last\n",
       "dimension of the array value or names of the vector value are set from\n",
       "\\code{X} as in \\code{sapply}.\n",
       "\\end{Value}\n",
       "%\n",
       "\\begin{Note}\\relax\n",
       "\\code{sapply(*, simplify = FALSE, USE.NAMES = FALSE)} is\n",
       "equivalent to \\code{lapply(*)}.\n",
       "\n",
       "For historical reasons, the calls created by \\code{lapply} are\n",
       "unevaluated, and code has been written (e.g., \\code{bquote}) that\n",
       "relies on this.  This means that the recorded call is always of the\n",
       "form \\code{FUN(X[[i]], ...)}, with \\code{i} replaced by the current\n",
       "(integer or double) index.  This is not normally a problem, but it can\n",
       "be if \\code{FUN} uses \\code{\\LinkA{sys.call}{sys.call}} or\n",
       "\\code{\\LinkA{match.call}{match.call}} or if it is a primitive function that makes\n",
       "use of the call.  This means that it is often safer to call primitive\n",
       "functions with a wrapper, so that e.g.~\\code{lapply(ll, function(x)\n",
       "  is.numeric(x))} is required to ensure that method dispatch for\n",
       "\\code{is.numeric} occurs correctly.\n",
       "\n",
       "If \\code{expr} is a function call, be aware of assumptions about where\n",
       "it is evaluated, and in particular what \\code{...} might refer to.\n",
       "You can pass additional named arguments to a function call as\n",
       "additional named arguments to \\code{replicate}: see `Examples'.\n",
       "\\end{Note}\n",
       "%\n",
       "\\begin{References}\\relax\n",
       "Becker, R. A., Chambers, J. M. and Wilks, A. R. (1988)\n",
       "\\emph{The New S Language}.\n",
       "Wadsworth \\& Brooks/Cole.\n",
       "\\end{References}\n",
       "%\n",
       "\\begin{SeeAlso}\\relax\n",
       "\\code{\\LinkA{apply}{apply}}, \\code{\\LinkA{tapply}{tapply}},\n",
       "\\code{\\LinkA{mapply}{mapply}} for applying a function to \\bold{m}ultiple\n",
       "arguments, and \\code{\\LinkA{rapply}{rapply}} for a \\bold{r}ecursive version of\n",
       "\\code{lapply()}, \\code{\\LinkA{eapply}{eapply}} for applying a function to each\n",
       "entry in an \\code{\\LinkA{environment}{environment}}.\n",
       "\\end{SeeAlso}\n",
       "%\n",
       "\\begin{Examples}\n",
       "\\begin{ExampleCode}\n",
       "require(stats); require(graphics)\n",
       "\n",
       "x <- list(a = 1:10, beta = exp(-3:3), logic = c(TRUE,FALSE,FALSE,TRUE))\n",
       "# compute the list mean for each list element\n",
       "lapply(x, mean)\n",
       "# median and quartiles for each list element\n",
       "lapply(x, quantile, probs = 1:3/4)\n",
       "sapply(x, quantile)\n",
       "i39 <- sapply(3:9, seq) # list of vectors\n",
       "sapply(i39, fivenum)\n",
       "vapply(i39, fivenum,\n",
       "       c(Min. = 0, \"1st Qu.\" = 0, Median = 0, \"3rd Qu.\" = 0, Max. = 0))\n",
       "\n",
       "## sapply(*, \"array\") -- artificial example\n",
       "(v <- structure(10*(5:8), names = LETTERS[1:4]))\n",
       "f2 <- function(x, y) outer(rep(x, length.out = 3), y)\n",
       "(a2 <- sapply(v, f2, y = 2*(1:5), simplify = \"array\"))\n",
       "a.2 <- vapply(v, f2, outer(1:3, 1:5), y = 2*(1:5))\n",
       "stopifnot(dim(a2) == c(3,5,4), all.equal(a2, a.2),\n",
       "          identical(dimnames(a2), list(NULL,NULL,LETTERS[1:4])))\n",
       "\n",
       "hist(replicate(100, mean(rexp(10))))\n",
       "\n",
       "## use of replicate() with parameters:\n",
       "foo <- function(x = 1, y = 2) c(x, y)\n",
       "# does not work: bar <- function(n, ...) replicate(n, foo(...))\n",
       "bar <- function(n, x) replicate(n, foo(x = x))\n",
       "bar(5, x = 3)\n",
       "\\end{ExampleCode}\n",
       "\\end{Examples}"
      ],
      "text/plain": [
       "lapply                  package:base                   R Documentation\n",
       "\n",
       "_\bA_\bp_\bp_\bl_\by _\ba _\bF_\bu_\bn_\bc_\bt_\bi_\bo_\bn _\bo_\bv_\be_\br _\ba _\bL_\bi_\bs_\bt _\bo_\br _\bV_\be_\bc_\bt_\bo_\br\n",
       "\n",
       "_\bD_\be_\bs_\bc_\br_\bi_\bp_\bt_\bi_\bo_\bn:\n",
       "\n",
       "     ‘lapply’ returns a list of the same length as ‘X’, each element of\n",
       "     which is the result of applying ‘FUN’ to the corresponding element\n",
       "     of ‘X’.\n",
       "\n",
       "     ‘sapply’ is a user-friendly version and wrapper of ‘lapply’ by\n",
       "     default returning a vector, matrix or, if ‘simplify = \"array\"’, an\n",
       "     array if appropriate, by applying ‘simplify2array()’.  ‘sapply(x,\n",
       "     f, simplify = FALSE, USE.NAMES = FALSE)’ is the same as ‘lapply(x,\n",
       "     f)’.\n",
       "\n",
       "     ‘vapply’ is similar to ‘sapply’, but has a pre-specified type of\n",
       "     return value, so it can be safer (and sometimes faster) to use.\n",
       "\n",
       "     ‘replicate’ is a wrapper for the common use of ‘sapply’ for\n",
       "     repeated evaluation of an expression (which will usually involve\n",
       "     random number generation).\n",
       "\n",
       "     ‘simplify2array()’ is the utility called from ‘sapply()’ when\n",
       "     ‘simplify’ is not false and is similarly called from ‘mapply()’.\n",
       "\n",
       "_\bU_\bs_\ba_\bg_\be:\n",
       "\n",
       "     lapply(X, FUN, ...)\n",
       "     \n",
       "     sapply(X, FUN, ..., simplify = TRUE, USE.NAMES = TRUE)\n",
       "     \n",
       "     vapply(X, FUN, FUN.VALUE, ..., USE.NAMES = TRUE)\n",
       "     \n",
       "     replicate(n, expr, simplify = \"array\")\n",
       "     \n",
       "     simplify2array(x, higher = TRUE)\n",
       "     \n",
       "_\bA_\br_\bg_\bu_\bm_\be_\bn_\bt_\bs:\n",
       "\n",
       "       X: a vector (atomic or list) or an ‘expression’ object.  Other\n",
       "          objects (including classed objects) will be coerced by\n",
       "          ‘base::as.list’.\n",
       "\n",
       "     FUN: the function to be applied to each element of ‘X’: see\n",
       "          ‘Details’.  In the case of functions like ‘+’, ‘%*%’, the\n",
       "          function name must be backquoted or quoted.\n",
       "\n",
       "     ...: optional arguments to ‘FUN’.\n",
       "\n",
       "simplify: logical or character string; should the result be simplified\n",
       "          to a vector, matrix or higher dimensional array if possible?\n",
       "          For ‘sapply’ it must be named and not abbreviated.  The\n",
       "          default value, ‘TRUE’, returns a vector or matrix if\n",
       "          appropriate, whereas if ‘simplify = \"array\"’ the result may\n",
       "          be an ‘array’ of “rank” (=‘length(dim(.))’) one higher than\n",
       "          the result of ‘FUN(X[[i]])’.\n",
       "\n",
       "USE.NAMES: logical; if ‘TRUE’ and if ‘X’ is character, use ‘X’ as\n",
       "          ‘names’ for the result unless it had names already.  Since\n",
       "          this argument follows ‘...’ its name cannot be abbreviated.\n",
       "\n",
       "FUN.VALUE: a (generalized) vector; a template for the return value from\n",
       "          FUN.  See ‘Details’.\n",
       "\n",
       "       n: integer: the number of replications.\n",
       "\n",
       "    expr: the expression (a language object, usually a call) to\n",
       "          evaluate repeatedly.\n",
       "\n",
       "       x: a list, typically returned from ‘lapply()’.\n",
       "\n",
       "  higher: logical; if true, ‘simplify2array()’ will produce a (“higher\n",
       "          rank”) array when appropriate, whereas ‘higher = FALSE’ would\n",
       "          return a matrix (or vector) only.  These two cases correspond\n",
       "          to ‘sapply(*, simplify = \"array\")’ or ‘simplify = TRUE’,\n",
       "          respectively.\n",
       "\n",
       "_\bD_\be_\bt_\ba_\bi_\bl_\bs:\n",
       "\n",
       "     ‘FUN’ is found by a call to ‘match.fun’ and typically is specified\n",
       "     as a function or a symbol (e.g., a backquoted name) or a character\n",
       "     string specifying a function to be searched for from the\n",
       "     environment of the call to ‘lapply’.\n",
       "\n",
       "     Function ‘FUN’ must be able to accept as input any of the elements\n",
       "     of ‘X’.  If the latter is an atomic vector, ‘FUN’ will always be\n",
       "     passed a length-one vector of the same type as ‘X’.\n",
       "\n",
       "     Arguments in ‘...’ cannot have the same name as any of the other\n",
       "     arguments, and care may be needed to avoid partial matching to\n",
       "     ‘FUN’.  In general-purpose code it is good practice to name the\n",
       "     first two arguments ‘X’ and ‘FUN’ if ‘...’ is passed through: this\n",
       "     both avoids partial matching to ‘FUN’ and ensures that a sensible\n",
       "     error message is given if arguments named ‘X’ or ‘FUN’ are passed\n",
       "     through ‘...’.\n",
       "\n",
       "     Simplification in ‘sapply’ is only attempted if ‘X’ has length\n",
       "     greater than zero and if the return values from all elements of\n",
       "     ‘X’ are all of the same (positive) length.  If the common length\n",
       "     is one the result is a vector, and if greater than one is a matrix\n",
       "     with a column corresponding to each element of ‘X’.\n",
       "\n",
       "     Simplification is always done in ‘vapply’.  This function checks\n",
       "     that all values of ‘FUN’ are compatible with the ‘FUN.VALUE’, in\n",
       "     that they must have the same length and type.  (Types may be\n",
       "     promoted to a higher type within the ordering logical < integer <\n",
       "     double < complex, but not demoted.)\n",
       "\n",
       "     Users of S4 classes should pass a list to ‘lapply’ and ‘vapply’:\n",
       "     the internal coercion is done by the ‘as.list’ in the base\n",
       "     namespace and not one defined by a user (e.g., by setting S4\n",
       "     methods on the base function).\n",
       "\n",
       "     ‘lapply’ and ‘vapply’ are primitive functions.\n",
       "\n",
       "_\bV_\ba_\bl_\bu_\be:\n",
       "\n",
       "     For ‘lapply’, ‘sapply(simplify = FALSE)’ and ‘replicate(simplify =\n",
       "     FALSE)’, a list.\n",
       "\n",
       "     For ‘sapply(simplify = TRUE)’ and ‘replicate(simplify = TRUE)’: if\n",
       "     ‘X’ has length zero or ‘n = 0’, an empty list.  Otherwise an\n",
       "     atomic vector or matrix or list of the same length as ‘X’ (of\n",
       "     length ‘n’ for ‘replicate’).  If simplification occurs, the output\n",
       "     type is determined from the highest type of the return values in\n",
       "     the hierarchy NULL < raw < logical < integer < double < complex <\n",
       "     character < list < expression, after coercion of pairlists to\n",
       "     lists.\n",
       "\n",
       "     ‘vapply’ returns a vector or array of type matching the\n",
       "     ‘FUN.VALUE’.  If ‘length(FUN.VALUE) == 1’ a vector of the same\n",
       "     length as ‘X’ is returned, otherwise an array.  If ‘FUN.VALUE’ is\n",
       "     not an ‘array’, the result is a matrix with ‘length(FUN.VALUE)’\n",
       "     rows and ‘length(X)’ columns, otherwise an array ‘a’ with ‘dim(a)\n",
       "     == c(dim(FUN.VALUE), length(X))’.\n",
       "\n",
       "     The (Dim)names of the array value are taken from the ‘FUN.VALUE’\n",
       "     if it is named, otherwise from the result of the first function\n",
       "     call.  Column names of the matrix or more generally the names of\n",
       "     the last dimension of the array value or names of the vector value\n",
       "     are set from ‘X’ as in ‘sapply’.\n",
       "\n",
       "_\bN_\bo_\bt_\be:\n",
       "\n",
       "     ‘sapply(*, simplify = FALSE, USE.NAMES = FALSE)’ is equivalent to\n",
       "     ‘lapply(*)’.\n",
       "\n",
       "     For historical reasons, the calls created by ‘lapply’ are\n",
       "     unevaluated, and code has been written (e.g., ‘bquote’) that\n",
       "     relies on this.  This means that the recorded call is always of\n",
       "     the form ‘FUN(X[[i]], ...)’, with ‘i’ replaced by the current\n",
       "     (integer or double) index.  This is not normally a problem, but it\n",
       "     can be if ‘FUN’ uses ‘sys.call’ or ‘match.call’ or if it is a\n",
       "     primitive function that makes use of the call.  This means that it\n",
       "     is often safer to call primitive functions with a wrapper, so that\n",
       "     e.g. ‘lapply(ll, function(x) is.numeric(x))’ is required to ensure\n",
       "     that method dispatch for ‘is.numeric’ occurs correctly.\n",
       "\n",
       "     If ‘expr’ is a function call, be aware of assumptions about where\n",
       "     it is evaluated, and in particular what ‘...’ might refer to.  You\n",
       "     can pass additional named arguments to a function call as\n",
       "     additional named arguments to ‘replicate’: see ‘Examples’.\n",
       "\n",
       "_\bR_\be_\bf_\be_\br_\be_\bn_\bc_\be_\bs:\n",
       "\n",
       "     Becker, R. A., Chambers, J. M. and Wilks, A. R. (1988) _The New S\n",
       "     Language_.  Wadsworth & Brooks/Cole.\n",
       "\n",
       "_\bS_\be_\be _\bA_\bl_\bs_\bo:\n",
       "\n",
       "     ‘apply’, ‘tapply’, ‘mapply’ for applying a function to *m*ultiple\n",
       "     arguments, and ‘rapply’ for a *r*ecursive version of ‘lapply()’,\n",
       "     ‘eapply’ for applying a function to each entry in an\n",
       "     ‘environment’.\n",
       "\n",
       "_\bE_\bx_\ba_\bm_\bp_\bl_\be_\bs:\n",
       "\n",
       "     require(stats); require(graphics)\n",
       "     \n",
       "     x <- list(a = 1:10, beta = exp(-3:3), logic = c(TRUE,FALSE,FALSE,TRUE))\n",
       "     # compute the list mean for each list element\n",
       "     lapply(x, mean)\n",
       "     # median and quartiles for each list element\n",
       "     lapply(x, quantile, probs = 1:3/4)\n",
       "     sapply(x, quantile)\n",
       "     i39 <- sapply(3:9, seq) # list of vectors\n",
       "     sapply(i39, fivenum)\n",
       "     vapply(i39, fivenum,\n",
       "            c(Min. = 0, \"1st Qu.\" = 0, Median = 0, \"3rd Qu.\" = 0, Max. = 0))\n",
       "     \n",
       "     ## sapply(*, \"array\") -- artificial example\n",
       "     (v <- structure(10*(5:8), names = LETTERS[1:4]))\n",
       "     f2 <- function(x, y) outer(rep(x, length.out = 3), y)\n",
       "     (a2 <- sapply(v, f2, y = 2*(1:5), simplify = \"array\"))\n",
       "     a.2 <- vapply(v, f2, outer(1:3, 1:5), y = 2*(1:5))\n",
       "     stopifnot(dim(a2) == c(3,5,4), all.equal(a2, a.2),\n",
       "               identical(dimnames(a2), list(NULL,NULL,LETTERS[1:4])))\n",
       "     \n",
       "     hist(replicate(100, mean(rexp(10))))\n",
       "     \n",
       "     ## use of replicate() with parameters:\n",
       "     foo <- function(x = 1, y = 2) c(x, y)\n",
       "     # does not work: bar <- function(n, ...) replicate(n, foo(...))\n",
       "     bar <- function(n, x) replicate(n, foo(x = x))\n",
       "     bar(5, x = 3)\n",
       "     "
      ]
     },
     "execution_count": 22,
     "metadata": {},
     "output_type": "execute_result"
    },
    {
     "data": {
      "text/html": [
       "<table>\n",
       "<tbody>\n",
       "\t<tr><td>1</td><td>2</td><td>3</td><td>4</td><td>5</td><td>6</td><td>7</td><td>8</td></tr>\n",
       "\t<tr><td> 1</td><td> 4</td><td> 9</td><td>16</td><td>25</td><td>36</td><td>49</td><td>64</td></tr>\n",
       "</tbody>\n",
       "</table>\n"
      ],
      "text/latex": [
       "\\begin{tabular}{llllllll}\n",
       "\t 1 & 2 & 3 & 4 & 5 & 6 & 7 & 8\\\\\n",
       "\t  1 &  4 &  9 & 16 & 25 & 36 & 49 & 64\\\\\n",
       "\\end{tabular}\n"
      ],
      "text/markdown": [
       "1. 1\n",
       "2. 1\n",
       "3. 2\n",
       "4. 4\n",
       "5. 3\n",
       "6. 9\n",
       "7. 4\n",
       "8. 16\n",
       "9. 5\n",
       "10. 25\n",
       "11. 6\n",
       "12. 36\n",
       "13. 7\n",
       "14. 49\n",
       "15. 8\n",
       "16. 64\n",
       "\n",
       "\n"
      ],
      "text/plain": [
       "     [,1] [,2] [,3] [,4] [,5] [,6] [,7] [,8]\n",
       "[1,]    1    2    3    4    5    6    7    8\n",
       "[2,]    1    4    9   16   25   36   49   64"
      ]
     },
     "execution_count": 22,
     "metadata": {},
     "output_type": "execute_result"
    }
   ],
   "source": [
    "# Usando la funcion sapply()\n",
    "\n",
    "# Aplicamos a la funcion f4, cada elemento de un vector\n",
    "# y entonces convierte este resultado  a una matriz.\n",
    "\n",
    "help(sapply)\n",
    "f4 <- function(w) return (c(w, w^2))\n",
    "sapply(1:8, f4)"
   ]
  },
  {
   "cell_type": "markdown",
   "metadata": {},
   "source": [
    "## NA y Valores Null\n",
    "\n",
    "NA: Es una constante lógica de longitud 1, el cual contiene un indicador de valores 'pérdidos',, que puede ser usado con coerción a otro tipo de vector, que cuando es evaluado en una expresión produce NA. Hay constantes `NA_integer_, NA_real_, NA_complex_ y NA_character_ ` de otras estructuras que soportan 'valores perdidos'. Todas estas constantes son palabras reservadas de R.\n",
    "\n",
    "NULL: representa el objeto nulo en R: es una palabra reservada. NULL es a menudo devuelto por expresiones y funciones cuyos valores son indefinidos."
   ]
  },
  {
   "cell_type": "code",
   "execution_count": 24,
   "metadata": {
    "collapsed": false
   },
   "outputs": [
    {
     "data": {
      "text/plain": [
       "[1] NA"
      ]
     },
     "execution_count": 24,
     "metadata": {},
     "output_type": "execute_result"
    },
    {
     "data": {
      "text/plain": [
       "NULL"
      ]
     },
     "execution_count": 24,
     "metadata": {},
     "output_type": "execute_result"
    },
    {
     "data": {
      "text/html": [
       "'logical'"
      ],
      "text/latex": [
       "'logical'"
      ],
      "text/markdown": [
       "'logical'"
      ],
      "text/plain": [
       "[1] \"logical\""
      ]
     },
     "execution_count": 24,
     "metadata": {},
     "output_type": "execute_result"
    },
    {
     "data": {
      "text/html": [
       "'NULL'"
      ],
      "text/latex": [
       "'NULL'"
      ],
      "text/markdown": [
       "'NULL'"
      ],
      "text/plain": [
       "[1] \"NULL\""
      ]
     },
     "execution_count": 24,
     "metadata": {},
     "output_type": "execute_result"
    },
    {
     "data": {
      "text/plain": [
       "[1] NA"
      ]
     },
     "execution_count": 24,
     "metadata": {},
     "output_type": "execute_result"
    },
    {
     "data": {
      "text/html": [
       "<ol class=list-inline>\n",
       "</ol>\n"
      ],
      "text/latex": [
       "\\begin{enumerate*}\n",
       "\\end{enumerate*}\n"
      ],
      "text/markdown": [
       "\n",
       "\n"
      ],
      "text/plain": [
       "logical(0)"
      ]
     },
     "execution_count": 24,
     "metadata": {},
     "output_type": "execute_result"
    }
   ],
   "source": [
    "NA\n",
    "NULL\n",
    "class(NA)\n",
    "class(NULL)\n",
    "NA > 1\n",
    "NULL > 1 # logical(0)\n"
   ]
  },
  {
   "cell_type": "markdown",
   "metadata": {},
   "source": [
    "Hay diferencias sutiles en el tratamiento de NA y NULL   en las estructuras de datos. Veamos como funciona esto"
   ]
  },
  {
   "cell_type": "code",
   "execution_count": 25,
   "metadata": {
    "collapsed": false
   },
   "outputs": [
    {
     "data": {
      "text/html": [
       "<ol class=list-inline>\n",
       "\t<li>1</li>\n",
       "\t<li>NA</li>\n",
       "</ol>\n"
      ],
      "text/latex": [
       "\\begin{enumerate*}\n",
       "\\item 1\n",
       "\\item NA\n",
       "\\end{enumerate*}\n"
      ],
      "text/markdown": [
       "1. 1\n",
       "2. NA\n",
       "\n",
       "\n"
      ],
      "text/plain": [
       "[1]  1 NA"
      ]
     },
     "execution_count": 25,
     "metadata": {},
     "output_type": "execute_result"
    },
    {
     "data": {
      "text/html": [
       "<ol>\n",
       "\t<li>1</li>\n",
       "\t<li>NA</li>\n",
       "\t<li>NULL</li>\n",
       "</ol>\n"
      ],
      "text/latex": [
       "\\begin{enumerate}\n",
       "\\item 1\n",
       "\\item NA\n",
       "\\item NULL\n",
       "\\end{enumerate}\n"
      ],
      "text/markdown": [
       "1. 1\n",
       "2. NA\n",
       "3. NULL\n",
       "\n",
       "\n"
      ],
      "text/plain": [
       "[[1]]\n",
       "[1] 1\n",
       "\n",
       "[[2]]\n",
       "[1] NA\n",
       "\n",
       "[[3]]\n",
       "NULL\n"
      ]
     },
     "execution_count": 25,
     "metadata": {},
     "output_type": "execute_result"
    }
   ],
   "source": [
    "v <-  c( 1, NA, NULL)\n",
    "v\n",
    "list(1, NA, NULL)"
   ]
  },
  {
   "cell_type": "markdown",
   "metadata": {},
   "source": [
    "## Filtrado en R (filtering)\n",
    "\n",
    "\n",
    "Una  característica que refleja la naturaleza de lenguaje funcional de R es el del  **filtrado (filtering)**, que nos permite extraer elementos de un vector que satisfacen ciertas condiciones. El filtrado es una de las operaciones más comunes en R, y de uso importante en  análisis estadísticos que a menudo se centran en los datos que satisfaga las condiciones de interés.\n"
   ]
  },
  {
   "cell_type": "code",
   "execution_count": 80,
   "metadata": {
    "collapsed": false
   },
   "outputs": [
    {
     "data": {
      "text/html": [
       "<ol class=list-inline>\n",
       "\t<li>5</li>\n",
       "\t<li>-3</li>\n",
       "\t<li>8</li>\n",
       "</ol>\n"
      ],
      "text/latex": [
       "\\begin{enumerate*}\n",
       "\\item 5\n",
       "\\item -3\n",
       "\\item 8\n",
       "\\end{enumerate*}\n"
      ],
      "text/markdown": [
       "1. 5\n",
       "2. -3\n",
       "3. 8\n",
       "\n",
       "\n"
      ],
      "text/plain": [
       "[1]  5 -3  8"
      ]
     },
     "execution_count": 80,
     "metadata": {},
     "output_type": "execute_result"
    }
   ],
   "source": [
    "zs <- c(5,2,-3,8)\n",
    "wq <- zs[zs*zs > 8]\n",
    "wq\n"
   ]
  },
  {
   "cell_type": "code",
   "execution_count": 81,
   "metadata": {
    "collapsed": false
   },
   "outputs": [
    {
     "data": {
      "text/html": [
       "TRUE"
      ],
      "text/latex": [
       "TRUE"
      ],
      "text/markdown": [
       "TRUE"
      ],
      "text/plain": [
       "[1] TRUE"
      ]
     },
     "execution_count": 81,
     "metadata": {},
     "output_type": "execute_result"
    }
   ],
   "source": [
    "\">\"(12,11) # Comparando dos elementos"
   ]
  },
  {
   "cell_type": "code",
   "execution_count": 82,
   "metadata": {
    "collapsed": false
   },
   "outputs": [
    {
     "data": {
      "text/html": [
       "<ol class=list-inline>\n",
       "\t<li>1</li>\n",
       "\t<li>2</li>\n",
       "\t<li>30</li>\n",
       "\t<li>5</li>\n",
       "</ol>\n"
      ],
      "text/latex": [
       "\\begin{enumerate*}\n",
       "\\item 1\n",
       "\\item 2\n",
       "\\item 30\n",
       "\\item 5\n",
       "\\end{enumerate*}\n"
      ],
      "text/markdown": [
       "1. 1\n",
       "2. 2\n",
       "3. 30\n",
       "4. 5\n",
       "\n",
       "\n"
      ],
      "text/plain": [
       "[1]  1  2 30  5"
      ]
     },
     "execution_count": 82,
     "metadata": {},
     "output_type": "execute_result"
    }
   ],
   "source": [
    "z2 <- c(5,3,-3,8)\n",
    "y2 <- c(1,2,30,5)\n",
    "y2[z2*z2 >8]"
   ]
  },
  {
   "cell_type": "markdown",
   "metadata": {},
   "source": [
    "## Matrices"
   ]
  },
  {
   "cell_type": "markdown",
   "metadata": {},
   "source": [
    "Agregando un atributo **dim()** a un vector atómico permite un comportamiento como el de un * array multidimensional*. \n",
    "Un caso especial de un array es de **matrix** que tiene dos dimensiones. \n",
    "Las matrices son comunmente usadas como parte de la maquinaria matemática de estadística. Los arrays son menos \n",
    "frecuentes pero es bueno estar concientes de ellos.\n",
    "\n",
    "Las matrices y arrays son creadas con las funciones *matrix()* y *array()* o usando la forma de asignación de *dim()*."
   ]
  },
  {
   "cell_type": "code",
   "execution_count": 83,
   "metadata": {
    "collapsed": false
   },
   "outputs": [
    {
     "data": {
      "text/html": [
       "<table>\n",
       "<tbody>\n",
       "\t<tr><td>1</td><td>3</td><td>5</td></tr>\n",
       "\t<tr><td>2</td><td>4</td><td>6</td></tr>\n",
       "</tbody>\n",
       "</table>\n"
      ],
      "text/latex": [
       "\\begin{tabular}{lll}\n",
       "\t 1 & 3 & 5\\\\\n",
       "\t 2 & 4 & 6\\\\\n",
       "\\end{tabular}\n"
      ],
      "text/markdown": [
       "1. 1\n",
       "2. 2\n",
       "3. 3\n",
       "4. 4\n",
       "5. 5\n",
       "6. 6\n",
       "\n",
       "\n"
      ],
      "text/plain": [
       "     [,1] [,2] [,3]\n",
       "[1,]    1    3    5\n",
       "[2,]    2    4    6"
      ]
     },
     "execution_count": 83,
     "metadata": {},
     "output_type": "execute_result"
    },
    {
     "data": {
      "text/html": [
       "<table>\n",
       "<tbody>\n",
       "\t<tr><td> 1</td><td> 4</td><td> 7</td><td>10</td></tr>\n",
       "\t<tr><td> 2</td><td> 5</td><td> 8</td><td>11</td></tr>\n",
       "\t<tr><td> 3</td><td> 6</td><td> 9</td><td>12</td></tr>\n",
       "</tbody>\n",
       "</table>\n"
      ],
      "text/latex": [
       "\\begin{tabular}{llll}\n",
       "\t  1 &  4 &  7 & 10\\\\\n",
       "\t  2 &  5 &  8 & 11\\\\\n",
       "\t  3 &  6 &  9 & 12\\\\\n",
       "\\end{tabular}\n"
      ],
      "text/markdown": [
       "1. 1\n",
       "2. 2\n",
       "3. 3\n",
       "4. 4\n",
       "5. 5\n",
       "6. 6\n",
       "7. 7\n",
       "8. 8\n",
       "9. 9\n",
       "10. 10\n",
       "11. 11\n",
       "12. 12\n",
       "\n",
       "\n"
      ],
      "text/plain": [
       "     [,1] [,2] [,3] [,4]\n",
       "[1,]    1    4    7   10\n",
       "[2,]    2    5    8   11\n",
       "[3,]    3    6    9   12"
      ]
     },
     "execution_count": 83,
     "metadata": {},
     "output_type": "execute_result"
    },
    {
     "data": {
      "text/html": [
       "<table>\n",
       "<tbody>\n",
       "\t<tr><td>1</td><td>5</td><td>9</td></tr>\n",
       "\t<tr><td> 2</td><td> 6</td><td>10</td></tr>\n",
       "\t<tr><td> 3</td><td> 7</td><td>11</td></tr>\n",
       "\t<tr><td> 4</td><td> 8</td><td>12</td></tr>\n",
       "</tbody>\n",
       "</table>\n"
      ],
      "text/latex": [
       "\\begin{tabular}{lll}\n",
       "\t 1 & 5 & 9\\\\\n",
       "\t  2 &  6 & 10\\\\\n",
       "\t  3 &  7 & 11\\\\\n",
       "\t  4 &  8 & 12\\\\\n",
       "\\end{tabular}\n"
      ],
      "text/markdown": [
       "1. 1\n",
       "2. 2\n",
       "3. 3\n",
       "4. 4\n",
       "5. 5\n",
       "6. 6\n",
       "7. 7\n",
       "8. 8\n",
       "9. 9\n",
       "10. 10\n",
       "11. 11\n",
       "12. 12\n",
       "\n",
       "\n"
      ],
      "text/plain": [
       "     [,1] [,2] [,3]\n",
       "[1,]    1    5    9\n",
       "[2,]    2    6   10\n",
       "[3,]    3    7   11\n",
       "[4,]    4    8   12"
      ]
     },
     "execution_count": 83,
     "metadata": {},
     "output_type": "execute_result"
    }
   ],
   "source": [
    "# Dos argumentos escalares para especificar filas y columnas\n",
    "m <- matrix(1:6, ncol=3, nrow=2)\n",
    "m\n",
    "# Un argumento en forma de vector que describe todas las dimensiones\n",
    "n <-array(1:12, c(2,3, 2))\n",
    "\n",
    "# Podemos modificar un objeto en su lugar en base a dim()\n",
    "\n",
    "p<- 1:12\n",
    "dim(p) <- c(3,4)\n",
    "p\n",
    "dim(p) <-c(4,3)\n",
    "p\n"
   ]
  },
  {
   "cell_type": "markdown",
   "metadata": {},
   "source": [
    "####*length()* y *names* tiene generalizaciones en mayores dimensiones:\n",
    "\n",
    "* length() generaliza a *nrow()* y *ncol()* para matrices y *dim()* para arrays.\n",
    "\n",
    "* names()generaliza a *rownames()* y *colnames()* para matrices y *dimnames()* una lista de  vectores de caracteres para arrays.\n",
    " "
   ]
  },
  {
   "cell_type": "code",
   "execution_count": 84,
   "metadata": {
    "collapsed": false
   },
   "outputs": [
    {
     "data": {
      "text/html": [
       "6"
      ],
      "text/latex": [
       "6"
      ],
      "text/markdown": [
       "6"
      ],
      "text/plain": [
       "[1] 6"
      ]
     },
     "execution_count": 84,
     "metadata": {},
     "output_type": "execute_result"
    },
    {
     "data": {
      "text/html": [
       "2"
      ],
      "text/latex": [
       "2"
      ],
      "text/markdown": [
       "2"
      ],
      "text/plain": [
       "[1] 2"
      ]
     },
     "execution_count": 84,
     "metadata": {},
     "output_type": "execute_result"
    },
    {
     "data": {
      "text/html": [
       "3"
      ],
      "text/latex": [
       "3"
      ],
      "text/markdown": [
       "3"
      ],
      "text/plain": [
       "[1] 3"
      ]
     },
     "execution_count": 84,
     "metadata": {},
     "output_type": "execute_result"
    },
    {
     "data": {
      "text/html": [
       "<table>\n",
       "<thead><tr><th></th><th scope=col>C</th><th scope=col>C++</th><th scope=col>JS</th></tr></thead>\n",
       "<tbody>\n",
       "\t<tr><th scope=row>Python</th><td>1</td><td>3</td><td>5</td></tr>\n",
       "\t<tr><th scope=row>R</th><td>2</td><td>4</td><td>6</td></tr>\n",
       "</tbody>\n",
       "</table>\n"
      ],
      "text/latex": [
       "\\begin{tabular}{r|lll}\n",
       "  & C & C++ & JS\\\\\n",
       "\\hline\n",
       "\tPython & 1 & 3 & 5\\\\\n",
       "\tR & 2 & 4 & 6\\\\\n",
       "\\end{tabular}\n"
      ],
      "text/markdown": [
       "1. 1\n",
       "2. 2\n",
       "3. 3\n",
       "4. 4\n",
       "5. 5\n",
       "6. 6\n",
       "\n",
       "\n"
      ],
      "text/plain": [
       "       C C++ JS\n",
       "Python 1   3  5\n",
       "R      2   4  6"
      ]
     },
     "execution_count": 84,
     "metadata": {},
     "output_type": "execute_result"
    },
    {
     "data": {
      "text/html": [
       "12"
      ],
      "text/latex": [
       "12"
      ],
      "text/markdown": [
       "12"
      ],
      "text/plain": [
       "[1] 12"
      ]
     },
     "execution_count": 84,
     "metadata": {},
     "output_type": "execute_result"
    },
    {
     "data": {
      "text/html": [
       "<ol class=list-inline>\n",
       "\t<li>2</li>\n",
       "\t<li>3</li>\n",
       "\t<li>2</li>\n",
       "</ol>\n"
      ],
      "text/latex": [
       "\\begin{enumerate*}\n",
       "\\item 2\n",
       "\\item 3\n",
       "\\item 2\n",
       "\\end{enumerate*}\n"
      ],
      "text/markdown": [
       "1. 2\n",
       "2. 3\n",
       "3. 2\n",
       "\n",
       "\n"
      ],
      "text/plain": [
       "[1] 2 3 2"
      ]
     },
     "execution_count": 84,
     "metadata": {},
     "output_type": "execute_result"
    },
    {
     "data": {
      "text/html": [
       "<ol class=list-inline>\n",
       "\t<li>1</li>\n",
       "\t<li>2</li>\n",
       "\t<li>3</li>\n",
       "\t<li>4</li>\n",
       "\t<li>5</li>\n",
       "\t<li>6</li>\n",
       "\t<li>7</li>\n",
       "\t<li>8</li>\n",
       "\t<li>9</li>\n",
       "\t<li>10</li>\n",
       "\t<li>11</li>\n",
       "\t<li>12</li>\n",
       "</ol>\n"
      ],
      "text/latex": [
       "\\begin{enumerate*}\n",
       "\\item 1\n",
       "\\item 2\n",
       "\\item 3\n",
       "\\item 4\n",
       "\\item 5\n",
       "\\item 6\n",
       "\\item 7\n",
       "\\item 8\n",
       "\\item 9\n",
       "\\item 10\n",
       "\\item 11\n",
       "\\item 12\n",
       "\\end{enumerate*}\n"
      ],
      "text/markdown": [
       "1. 1\n",
       "2. 2\n",
       "3. 3\n",
       "4. 4\n",
       "5. 5\n",
       "6. 6\n",
       "7. 7\n",
       "8. 8\n",
       "9. 9\n",
       "10. 10\n",
       "11. 11\n",
       "12. 12\n",
       "\n",
       "\n"
      ],
      "text/plain": [
       ", , L\n",
       "\n",
       "  ER D S\n",
       "M  1 3 5\n",
       "E  2 4 6\n",
       "\n",
       ", , C\n",
       "\n",
       "  ER  D  S\n",
       "M  7  9 11\n",
       "E  8 10 12\n"
      ]
     },
     "execution_count": 84,
     "metadata": {},
     "output_type": "execute_result"
    }
   ],
   "source": [
    "length(m)\n",
    "nrow(m)\n",
    "ncol(m)\n",
    "rownames(m)<- c(\"Python\", \"R\")\n",
    "colnames(m)<-c(\"C\", \"C++\", \"JS\")\n",
    "m\n",
    "length(n)\n",
    "dim(n)\n",
    "dimnames(n) <-list(c(\"M\", \"E\"), c(\"ER\", \"D\", \"S\"), c(\"L\", \"C\")) # Error de IPython-Jupiter\n",
    "n"
   ]
  },
  {
   "cell_type": "markdown",
   "metadata": {},
   "source": [
    "*c()* generaliza a *cbind()* y *rbind()*, para matrices y a *abind()* (dado por el paquete **abind()** ) para arrays. Tu puedes transponer una matriz, usando la función *t()*; la equivalente generalizada para arrays es *aperm()*.\n",
    "\n",
    "Se puede probar si un objeto es una matriz o array, usando *is.matrix()* y *is.array()* o mirando a la longitud del *dim().as.matrix()* y *as.array()* que hace  fácil  convertir un vector existente en una matriz o un array.\n",
    "\n",
    "Los vectores no son la única estructura de datos 1-dimensional. Tu puedes tener matrices con una sola fila o columna o array con una sola dimensión. Ellos se pueden imprimir de manera similar, pero se comportarán de forma diferente. Las diferencias no son demasiado importantes, pero es útil saber que existen en caso de que se tenga una  salida estraña desde una función (**tapply()** por ejemplo). Es siempre útil, usar *str()* para revelar diferencias."
   ]
  },
  {
   "cell_type": "code",
   "execution_count": 85,
   "metadata": {
    "collapsed": false
   },
   "outputs": [
    {
     "name": "stdout",
     "output_type": "stream",
     "text": [
      " int [1:5] 1 2 3 4 5\n",
      " int [1:3, 1] 1 2 3\n",
      " int [1, 1:3] 1 2 3\n",
      " int [1:4(1d)] 1 2 3 4\n"
     ]
    }
   ],
   "source": [
    "str(1:5)     # vector 1d\n",
    "str(matrix(1:3, ncol=1)) # vector columna \n",
    "str(matrix(1:3, nrow=1))  # vector fila\n",
    "str(array(1:4, 4))        # vector array"
   ]
  },
  {
   "cell_type": "markdown",
   "metadata": {},
   "source": [
    "Mientras que los vectores atómicos se usan con mayor frecuencia en matrices, el atributo de dimensión también se puede configurar en las listas para hacer una mixed de  lista-matrices o lista-arrays. Estas son estructuras de datos son algo  esotéricas, pero pueden ser útil si se desea organizar objetos en una estructura grid. Por ejemplo, si se está ejecutando modelos en una cuadrícula espacio-temporal, podría ser natural para preservar la estructura grid mediante el almacenamiento del  modelos en una matriz 3D."
   ]
  },
  {
   "cell_type": "code",
   "execution_count": 86,
   "metadata": {
    "collapsed": false
   },
   "outputs": [
    {
     "data": {
      "text/html": [
       "<table>\n",
       "<tbody>\n",
       "\t<tr><td>1, 2, 3, 4, 5</td><td>TRUE</td></tr>\n",
       "\t<tr><td>python</td><td>2.9</td></tr>\n",
       "</tbody>\n",
       "</table>\n"
      ],
      "text/latex": [
       "\\begin{tabular}{ll}\n",
       "\t 1, 2, 3, 4, 5 & TRUE\\\\\n",
       "\t python & 2.9\\\\\n",
       "\\end{tabular}\n"
      ],
      "text/markdown": [
       "1. 1. 1\n",
       "2. 2\n",
       "3. 3\n",
       "4. 4\n",
       "5. 5\n",
       "\n",
       "\n",
       "\n",
       "2. 'python'\n",
       "3. TRUE\n",
       "4. 2.9\n",
       "\n",
       "\n"
      ],
      "text/plain": [
       "     [,1]      [,2]\n",
       "[1,] Integer,5 TRUE\n",
       "[2,] \"python\"  2.9 "
      ]
     },
     "execution_count": 86,
     "metadata": {},
     "output_type": "execute_result"
    }
   ],
   "source": [
    "l <- list(1:5, \"python\", TRUE, 2.9)\n",
    "dim(l) <- c(2,2)\n",
    "l"
   ]
  },
  {
   "cell_type": "markdown",
   "metadata": {},
   "source": [
    "##Un ejemplo"
   ]
  },
  {
   "cell_type": "markdown",
   "metadata": {
    "collapsed": true
   },
   "source": [
    "Una práctica común en R es el uso de la espacio para visualizar la dimensionalidad de la data. Los datos\n",
    "siguientes representan las cifras iniciales en el chequeo de una oficial de reembolso de seguro, cuando un\n",
    "auditor financiero, le pidió investigar por fraude."
   ]
  },
  {
   "cell_type": "code",
   "execution_count": 87,
   "metadata": {
    "collapsed": false
   },
   "outputs": [
    {
     "data": {
      "text/html": [
       "<ol class=list-inline>\n",
       "\t<li>1</li>\n",
       "\t<li>132</li>\n",
       "\t<li>86.7</li>\n",
       "\t<li>2</li>\n",
       "\t<li>50</li>\n",
       "\t<li>50.7</li>\n",
       "\t<li>3</li>\n",
       "\t<li>32</li>\n",
       "\t<li>36</li>\n",
       "\t<li>4</li>\n",
       "\t<li>20</li>\n",
       "\t<li>27.9</li>\n",
       "\t<li>5</li>\n",
       "\t<li>19</li>\n",
       "\t<li>22.8</li>\n",
       "\t<li>6</li>\n",
       "\t<li>11</li>\n",
       "\t<li>19.3</li>\n",
       "\t<li>7</li>\n",
       "\t<li>10</li>\n",
       "\t<li>16.7</li>\n",
       "\t<li>8</li>\n",
       "\t<li>9</li>\n",
       "\t<li>14.7</li>\n",
       "\t<li>9</li>\n",
       "\t<li>5</li>\n",
       "\t<li>13.2</li>\n",
       "</ol>\n"
      ],
      "text/latex": [
       "\\begin{enumerate*}\n",
       "\\item 1\n",
       "\\item 132\n",
       "\\item 86.7\n",
       "\\item 2\n",
       "\\item 50\n",
       "\\item 50.7\n",
       "\\item 3\n",
       "\\item 32\n",
       "\\item 36\n",
       "\\item 4\n",
       "\\item 20\n",
       "\\item 27.9\n",
       "\\item 5\n",
       "\\item 19\n",
       "\\item 22.8\n",
       "\\item 6\n",
       "\\item 11\n",
       "\\item 19.3\n",
       "\\item 7\n",
       "\\item 10\n",
       "\\item 16.7\n",
       "\\item 8\n",
       "\\item 9\n",
       "\\item 14.7\n",
       "\\item 9\n",
       "\\item 5\n",
       "\\item 13.2\n",
       "\\end{enumerate*}\n"
      ],
      "text/markdown": [
       "1. 1\n",
       "2. 132\n",
       "3. 86.7\n",
       "4. 2\n",
       "5. 50\n",
       "6. 50.7\n",
       "7. 3\n",
       "8. 32\n",
       "9. 36\n",
       "10. 4\n",
       "11. 20\n",
       "12. 27.9\n",
       "13. 5\n",
       "14. 19\n",
       "15. 22.8\n",
       "16. 6\n",
       "17. 11\n",
       "18. 19.3\n",
       "19. 7\n",
       "20. 10\n",
       "21. 16.7\n",
       "22. 8\n",
       "23. 9\n",
       "24. 14.7\n",
       "25. 9\n",
       "26. 5\n",
       "27. 13.2\n",
       "\n",
       "\n"
      ],
      "text/plain": [
       " [1]   1.0 132.0  86.7   2.0  50.0  50.7   3.0  32.0  36.0   4.0  20.0  27.9\n",
       "[13]   5.0  19.0  22.8   6.0  11.0  19.3   7.0  10.0  16.7   8.0   9.0  14.7\n",
       "[25]   9.0   5.0  13.2"
      ]
     },
     "execution_count": 87,
     "metadata": {},
     "output_type": "execute_result"
    }
   ],
   "source": [
    "accdato <- c(1, 132, 86.7,\n",
    "            2, 50, 50.7,\n",
    "            3, 32, 36.0,\n",
    "            4, 20, 27.9,\n",
    "            5, 19, 22.8,\n",
    "            6, 11, 19.3,\n",
    "            7, 10, 16.7,\n",
    "            8, 9, 14.7,\n",
    "            9, 5, 13.2)\n",
    "accdato"
   ]
  },
  {
   "cell_type": "code",
   "execution_count": 88,
   "metadata": {
    "collapsed": false
   },
   "outputs": [
    {
     "data": {
      "text/html": [
       "<table>\n",
       "<thead><tr><th scope=col>numero</th><th scope=col>actual</th><th scope=col>esperado</th></tr></thead>\n",
       "<tbody>\n",
       "\t<tr><td>  1.0</td><td>132.0</td><td> 86.7</td></tr>\n",
       "\t<tr><td> 2.0</td><td>50.0</td><td>50.7</td></tr>\n",
       "\t<tr><td> 3</td><td>32</td><td>36</td></tr>\n",
       "\t<tr><td> 4.0</td><td>20.0</td><td>27.9</td></tr>\n",
       "\t<tr><td> 5.0</td><td>19.0</td><td>22.8</td></tr>\n",
       "\t<tr><td> 6.0</td><td>11.0</td><td>19.3</td></tr>\n",
       "\t<tr><td> 7.0</td><td>10.0</td><td>16.7</td></tr>\n",
       "\t<tr><td> 8.0</td><td> 9.0</td><td>14.7</td></tr>\n",
       "\t<tr><td> 9.0</td><td> 5.0</td><td>13.2</td></tr>\n",
       "</tbody>\n",
       "</table>\n"
      ],
      "text/latex": [
       "\\begin{tabular}{lll}\n",
       " numero & actual & esperado\\\\\n",
       "\\hline\n",
       "\t   1.0 & 132.0 &  86.7\\\\\n",
       "\t  2.0 & 50.0 & 50.7\\\\\n",
       "\t  3 & 32 & 36\\\\\n",
       "\t  4.0 & 20.0 & 27.9\\\\\n",
       "\t  5.0 & 19.0 & 22.8\\\\\n",
       "\t  6.0 & 11.0 & 19.3\\\\\n",
       "\t  7.0 & 10.0 & 16.7\\\\\n",
       "\t  8.0 &  9.0 & 14.7\\\\\n",
       "\t  9.0 &  5.0 & 13.2\\\\\n",
       "\\end{tabular}\n"
      ],
      "text/markdown": [
       "1. 1\n",
       "2. 2\n",
       "3. 3\n",
       "4. 4\n",
       "5. 5\n",
       "6. 6\n",
       "7. 7\n",
       "8. 8\n",
       "9. 9\n",
       "10. 132\n",
       "11. 50\n",
       "12. 32\n",
       "13. 20\n",
       "14. 19\n",
       "15. 11\n",
       "16. 10\n",
       "17. 9\n",
       "18. 5\n",
       "19. 86.7\n",
       "20. 50.7\n",
       "21. 36\n",
       "22. 27.9\n",
       "23. 22.8\n",
       "24. 19.3\n",
       "25. 16.7\n",
       "26. 14.7\n",
       "27. 13.2\n",
       "\n",
       "\n"
      ],
      "text/plain": [
       "      numero actual esperado\n",
       " [1,]      1    132     86.7\n",
       " [2,]      2     50     50.7\n",
       " [3,]      3     32     36.0\n",
       " [4,]      4     20     27.9\n",
       " [5,]      5     19     22.8\n",
       " [6,]      6     11     19.3\n",
       " [7,]      7     10     16.7\n",
       " [8,]      8      9     14.7\n",
       " [9,]      9      5     13.2"
      ]
     },
     "execution_count": 88,
     "metadata": {},
     "output_type": "execute_result"
    }
   ],
   "source": [
    "##  Acomodamos mejor el vector, como una matriz 9x3  cuyas columnas\n",
    "## se llaman numero, actual, esperado\n",
    "\n",
    "accdato <- matrix(accdato, 9, 3, byrow = TRUE)\n",
    "colnames(accdato) <- c(\"numero\", \"actual\", \"esperado\")\n",
    "accdato"
   ]
  },
  {
   "cell_type": "markdown",
   "metadata": {},
   "source": [
    "Podemos ahora usar el test de *chi-cuadrado* para averiguar si es que ha habido un fraude, a través de la\n",
    "desviación significativa o no de los datos reales y de los esperados.\n",
    "Hagamos el test: "
   ]
  },
  {
   "cell_type": "code",
   "execution_count": 89,
   "metadata": {
    "collapsed": false
   },
   "outputs": [
    {
     "data": {
      "text/html": [
       "40.5548156457511"
      ],
      "text/latex": [
       "40.5548156457511"
      ],
      "text/markdown": [
       "40.5548156457511"
      ],
      "text/plain": [
       "[1] 40.55482"
      ]
     },
     "execution_count": 89,
     "metadata": {},
     "output_type": "execute_result"
    }
   ],
   "source": [
    "chi2 <-sum((accdato[,2] -accdato[,3])^2/accdato[,3])\n",
    "chi2"
   ]
  },
  {
   "cell_type": "markdown",
   "metadata": {},
   "source": [
    "## Operaciones con Matrices"
   ]
  },
  {
   "cell_type": "markdown",
   "metadata": {},
   "source": [
    "El poder de las matrices en R, ocurre cuando realizamos operaciones (multiplicación, inversión,\n",
    "transposición, etc) comunes de matrices y sus respectivas restricciones. Realicemos\n",
    "algunas operaciones con matrices:"
   ]
  },
  {
   "cell_type": "code",
   "execution_count": 90,
   "metadata": {
    "collapsed": false
   },
   "outputs": [
    {
     "data": {
      "text/html": [
       "<table>\n",
       "<tbody>\n",
       "\t<tr><td>6</td><td>2</td><td>3</td><td>4</td></tr>\n",
       "\t<tr><td> 0</td><td>-8</td><td> 2</td><td> 1</td></tr>\n",
       "\t<tr><td> 8</td><td>-3</td><td> 7</td><td>-5</td></tr>\n",
       "</tbody>\n",
       "</table>\n"
      ],
      "text/latex": [
       "\\begin{tabular}{llll}\n",
       "\t 6 & 2 & 3 & 4\\\\\n",
       "\t  0 & -8 &  2 &  1\\\\\n",
       "\t  8 & -3 &  7 & -5\\\\\n",
       "\\end{tabular}\n"
      ],
      "text/markdown": [
       "1. 6\n",
       "2. 0\n",
       "3. 8\n",
       "4. 2\n",
       "5. -8\n",
       "6. -3\n",
       "7. 3\n",
       "8. 2\n",
       "9. 7\n",
       "10. 4\n",
       "11. 1\n",
       "12. -5\n",
       "\n",
       "\n"
      ],
      "text/plain": [
       "     [,1] [,2] [,3] [,4]\n",
       "[1,]    6    2    3    4\n",
       "[2,]    0   -8    2    1\n",
       "[3,]    8   -3    7   -5"
      ]
     },
     "execution_count": 90,
     "metadata": {},
     "output_type": "execute_result"
    },
    {
     "data": {
      "text/html": [
       "<table>\n",
       "<tbody>\n",
       "\t<tr><td>-7</td><td>12</td><td> 3</td><td> 9</td></tr>\n",
       "\t<tr><td> 6</td><td> 2</td><td> 0</td><td>-1</td></tr>\n",
       "\t<tr><td> 11</td><td>  5</td><td>-12</td><td>  8</td></tr>\n",
       "</tbody>\n",
       "</table>\n"
      ],
      "text/latex": [
       "\\begin{tabular}{llll}\n",
       "\t -7 & 12 &  3 &  9\\\\\n",
       "\t  6 &  2 &  0 & -1\\\\\n",
       "\t  11 &   5 & -12 &   8\\\\\n",
       "\\end{tabular}\n"
      ],
      "text/markdown": [
       "1. -7\n",
       "2. 6\n",
       "3. 11\n",
       "4. 12\n",
       "5. 2\n",
       "6. 5\n",
       "7. 3\n",
       "8. 0\n",
       "9. -12\n",
       "10. 9\n",
       "11. -1\n",
       "12. 8\n",
       "\n",
       "\n"
      ],
      "text/plain": [
       "     [,1] [,2] [,3] [,4]\n",
       "[1,]   -7   12    3    9\n",
       "[2,]    6    2    0   -1\n",
       "[3,]   11    5  -12    8"
      ]
     },
     "execution_count": 90,
     "metadata": {},
     "output_type": "execute_result"
    },
    {
     "data": {
      "text/html": [
       "<table>\n",
       "<tbody>\n",
       "\t<tr><td>-1</td><td>14</td><td> 6</td><td>13</td></tr>\n",
       "\t<tr><td> 6</td><td>-6</td><td> 2</td><td> 0</td></tr>\n",
       "\t<tr><td>19</td><td> 2</td><td>-5</td><td> 3</td></tr>\n",
       "</tbody>\n",
       "</table>\n"
      ],
      "text/latex": [
       "\\begin{tabular}{llll}\n",
       "\t -1 & 14 &  6 & 13\\\\\n",
       "\t  6 & -6 &  2 &  0\\\\\n",
       "\t 19 &  2 & -5 &  3\\\\\n",
       "\\end{tabular}\n"
      ],
      "text/markdown": [
       "1. -1\n",
       "2. 6\n",
       "3. 19\n",
       "4. 14\n",
       "5. -6\n",
       "6. 2\n",
       "7. 6\n",
       "8. 2\n",
       "9. -5\n",
       "10. 13\n",
       "11. 0\n",
       "12. 3\n",
       "\n",
       "\n"
      ],
      "text/plain": [
       "     [,1] [,2] [,3] [,4]\n",
       "[1,]   -1   14    6   13\n",
       "[2,]    6   -6    2    0\n",
       "[3,]   19    2   -5    3"
      ]
     },
     "execution_count": 90,
     "metadata": {},
     "output_type": "execute_result"
    },
    {
     "data": {
      "text/html": [
       "<table>\n",
       "<tbody>\n",
       "\t<tr><td> 13</td><td>-10</td><td>  0</td><td> -5</td></tr>\n",
       "\t<tr><td> -6</td><td>-10</td><td>  2</td><td>  2</td></tr>\n",
       "\t<tr><td> -3</td><td> -8</td><td> 19</td><td>-13</td></tr>\n",
       "</tbody>\n",
       "</table>\n"
      ],
      "text/latex": [
       "\\begin{tabular}{llll}\n",
       "\t  13 & -10 &   0 &  -5\\\\\n",
       "\t  -6 & -10 &   2 &   2\\\\\n",
       "\t  -3 &  -8 &  19 & -13\\\\\n",
       "\\end{tabular}\n"
      ],
      "text/markdown": [
       "1. 13\n",
       "2. -6\n",
       "3. -3\n",
       "4. -10\n",
       "5. -10\n",
       "6. -8\n",
       "7. 0\n",
       "8. 2\n",
       "9. 19\n",
       "10. -5\n",
       "11. 2\n",
       "12. -13\n",
       "\n",
       "\n"
      ],
      "text/plain": [
       "     [,1] [,2] [,3] [,4]\n",
       "[1,]   13  -10    0   -5\n",
       "[2,]   -6  -10    2    2\n",
       "[3,]   -3   -8   19  -13"
      ]
     },
     "execution_count": 90,
     "metadata": {},
     "output_type": "execute_result"
    },
    {
     "data": {
      "text/html": [
       "<table>\n",
       "<tbody>\n",
       "\t<tr><td>-42</td><td> 24</td><td>  9</td><td> 36</td></tr>\n",
       "\t<tr><td>  0</td><td>-16</td><td>  0</td><td> -1</td></tr>\n",
       "\t<tr><td> 88</td><td>-15</td><td>-84</td><td>-40</td></tr>\n",
       "</tbody>\n",
       "</table>\n"
      ],
      "text/latex": [
       "\\begin{tabular}{llll}\n",
       "\t -42 &  24 &   9 &  36\\\\\n",
       "\t   0 & -16 &   0 &  -1\\\\\n",
       "\t  88 & -15 & -84 & -40\\\\\n",
       "\\end{tabular}\n"
      ],
      "text/markdown": [
       "1. -42\n",
       "2. 0\n",
       "3. 88\n",
       "4. 24\n",
       "5. -16\n",
       "6. -15\n",
       "7. 9\n",
       "8. 0\n",
       "9. -84\n",
       "10. 36\n",
       "11. -1\n",
       "12. -40\n",
       "\n",
       "\n"
      ],
      "text/plain": [
       "     [,1] [,2] [,3] [,4]\n",
       "[1,]  -42   24    9   36\n",
       "[2,]    0  -16    0   -1\n",
       "[3,]   88  -15  -84  -40"
      ]
     },
     "execution_count": 90,
     "metadata": {},
     "output_type": "execute_result"
    },
    {
     "data": {
      "text/html": [
       "<table>\n",
       "<tbody>\n",
       "\t<tr><td>6</td><td>0</td><td>8</td></tr>\n",
       "\t<tr><td> 2</td><td>-8</td><td>-3</td></tr>\n",
       "\t<tr><td>3</td><td>2</td><td>7</td></tr>\n",
       "\t<tr><td> 4</td><td> 1</td><td>-5</td></tr>\n",
       "</tbody>\n",
       "</table>\n"
      ],
      "text/latex": [
       "\\begin{tabular}{lll}\n",
       "\t 6 & 0 & 8\\\\\n",
       "\t  2 & -8 & -3\\\\\n",
       "\t 3 & 2 & 7\\\\\n",
       "\t  4 &  1 & -5\\\\\n",
       "\\end{tabular}\n"
      ],
      "text/markdown": [
       "1. 6\n",
       "2. 2\n",
       "3. 3\n",
       "4. 4\n",
       "5. 0\n",
       "6. -8\n",
       "7. 2\n",
       "8. 1\n",
       "9. 8\n",
       "10. -3\n",
       "11. 7\n",
       "12. -5\n",
       "\n",
       "\n"
      ],
      "text/plain": [
       "     [,1] [,2] [,3]\n",
       "[1,]    6    0    8\n",
       "[2,]    2   -8   -3\n",
       "[3,]    3    2    7\n",
       "[4,]    4    1   -5"
      ]
     },
     "execution_count": 90,
     "metadata": {},
     "output_type": "execute_result"
    },
    {
     "data": {
      "text/html": [
       "<table>\n",
       "<tbody>\n",
       "\t<tr><td>-7</td><td> 6</td><td>11</td></tr>\n",
       "\t<tr><td>12</td><td> 2</td><td> 5</td></tr>\n",
       "\t<tr><td>  3</td><td>  0</td><td>-12</td></tr>\n",
       "\t<tr><td> 9</td><td>-1</td><td> 8</td></tr>\n",
       "</tbody>\n",
       "</table>\n"
      ],
      "text/latex": [
       "\\begin{tabular}{lll}\n",
       "\t -7 &  6 & 11\\\\\n",
       "\t 12 &  2 &  5\\\\\n",
       "\t   3 &   0 & -12\\\\\n",
       "\t  9 & -1 &  8\\\\\n",
       "\\end{tabular}\n"
      ],
      "text/markdown": [
       "1. -7\n",
       "2. 12\n",
       "3. 3\n",
       "4. 9\n",
       "5. 6\n",
       "6. 2\n",
       "7. 0\n",
       "8. -1\n",
       "9. 11\n",
       "10. 5\n",
       "11. -12\n",
       "12. 8\n",
       "\n",
       "\n"
      ],
      "text/plain": [
       "     [,1] [,2] [,3]\n",
       "[1,]   -7    6   11\n",
       "[2,]   12    2    5\n",
       "[3,]    3    0  -12\n",
       "[4,]    9   -1    8"
      ]
     },
     "execution_count": 90,
     "metadata": {},
     "output_type": "execute_result"
    },
    {
     "ename": "ERROR",
     "evalue": "Error in A %*% B: argumentos no compatibles\n",
     "output_type": "error",
     "traceback": [
      "Error in A %*% B: argumentos no compatibles\n"
     ]
    }
   ],
   "source": [
    "A <- matrix(c(6,2,3, 4,\n",
    "             0, -8,2, 1,\n",
    "             8, -3, 7, -5),3, 4, byrow = TRUE)\n",
    "B <- matrix(c(-7,12,3, 9,\n",
    "             6, 2, 0, -1,\n",
    "             11, 5, -12, 8),3, 4, byrow = TRUE)\n",
    "A\n",
    "B\n",
    "A+B\n",
    "A-B\n",
    "A * B   # Multiplicación componente a componente\n",
    "t(A)\n",
    "t(B)\n",
    "A %*% B  # Multiplicación usual de matrices"
   ]
  },
  {
   "cell_type": "markdown",
   "metadata": {
    "collapsed": true
   },
   "source": [
    "##El cálculo de la Matriz Inversa"
   ]
  },
  {
   "cell_type": "code",
   "execution_count": 91,
   "metadata": {
    "collapsed": false
   },
   "outputs": [
    {
     "data": {
      "text/html": [
       "<table>\n",
       "<tbody>\n",
       "\t<tr><td>-0.02508110</td><td> 0.06307221</td><td>-0.13730025</td><td>-0.10063679</td><td> 0.08820738</td><td> 0.07324883</td></tr>\n",
       "\t<tr><td>-0.116454403</td><td> 0.157761624</td><td> 0.004415475</td><td>-0.084753094</td><td> 0.035185630</td><td> 0.166928992</td></tr>\n",
       "\t<tr><td> 0.114051424</td><td>-0.185251712</td><td>-0.035534062</td><td> 0.014033401</td><td> 0.007995915</td><td>-0.011408146</td></tr>\n",
       "\t<tr><td>-0.1824161961</td><td> 0.1231587168</td><td> 0.0002102607</td><td> 0.0639913493</td><td> 0.1105190436</td><td> 0.0759762105</td></tr>\n",
       "\t<tr><td> 0.13219392</td><td>-0.05770155</td><td> 0.04941127</td><td> 0.03796708</td><td>-0.02802475</td><td>-0.14559053</td></tr>\n",
       "\t<tr><td> 0.008891025</td><td>-0.018286675</td><td> 0.015138772</td><td> 0.121662862</td><td>-0.099771717</td><td>-0.015427130</td></tr>\n",
       "</tbody>\n",
       "</table>\n"
      ],
      "text/latex": [
       "\\begin{tabular}{llllll}\n",
       "\t -0.02508110 &  0.06307221 & -0.13730025 & -0.10063679 &  0.08820738 &  0.07324883\\\\\n",
       "\t -0.116454403 &  0.157761624 &  0.004415475 & -0.084753094 &  0.035185630 &  0.166928992\\\\\n",
       "\t  0.114051424 & -0.185251712 & -0.035534062 &  0.014033401 &  0.007995915 & -0.011408146\\\\\n",
       "\t -0.1824161961 &  0.1231587168 &  0.0002102607 &  0.0639913493 &  0.1105190436 &  0.0759762105\\\\\n",
       "\t  0.13219392 & -0.05770155 &  0.04941127 &  0.03796708 & -0.02802475 & -0.14559053\\\\\n",
       "\t  0.008891025 & -0.018286675 &  0.015138772 &  0.121662862 & -0.099771717 & -0.015427130\\\\\n",
       "\\end{tabular}\n"
      ],
      "text/markdown": [
       "1. -0.0250811005647002\n",
       "2. -0.116454403460291\n",
       "3. 0.114051423765469\n",
       "4. -0.182416196083143\n",
       "5. 0.132193920461372\n",
       "6. 0.00889102487083984\n",
       "7. 0.0630722095398294\n",
       "8. 0.157761624414274\n",
       "9. -0.185251712123033\n",
       "10. 0.123158716808843\n",
       "11. -0.0577015499219032\n",
       "12. -0.0182866754775922\n",
       "13. -0.137300252312868\n",
       "14. 0.00441547518923465\n",
       "15. -0.0355340622371741\n",
       "16. 0.000210260723296887\n",
       "17. 0.0494112699747687\n",
       "18. 0.015138772077376\n",
       "19. -0.100636789619128\n",
       "20. -0.0847530938363571\n",
       "21. 0.014033401417758\n",
       "22. 0.0639913492730986\n",
       "23. 0.037967079178181\n",
       "24. 0.121662861948817\n",
       "25. 0.0882073771476631\n",
       "26. 0.035185630181425\n",
       "27. 0.0079959149345188\n",
       "28. 0.110519043614081\n",
       "29. -0.0280247506908567\n",
       "30. -0.099771716928992\n",
       "31. 0.0732488285473988\n",
       "32. 0.166928991950018\n",
       "33. -0.0114081461011655\n",
       "34. 0.0759762105010213\n",
       "35. -0.145590532260002\n",
       "36. -0.0154271296407545\n",
       "\n",
       "\n"
      ],
      "text/plain": [
       "             [,1]        [,2]          [,3]        [,4]         [,5]\n",
       "[1,] -0.025081101  0.06307221 -0.1373002523 -0.10063679  0.088207377\n",
       "[2,] -0.116454403  0.15776162  0.0044154752 -0.08475309  0.035185630\n",
       "[3,]  0.114051424 -0.18525171 -0.0355340622  0.01403340  0.007995915\n",
       "[4,] -0.182416196  0.12315872  0.0002102607  0.06399135  0.110519044\n",
       "[5,]  0.132193920 -0.05770155  0.0494112700  0.03796708 -0.028024751\n",
       "[6,]  0.008891025 -0.01828668  0.0151387721  0.12166286 -0.099771717\n",
       "            [,6]\n",
       "[1,]  0.07324883\n",
       "[2,]  0.16692899\n",
       "[3,] -0.01140815\n",
       "[4,]  0.07597621\n",
       "[5,] -0.14559053\n",
       "[6,] -0.01542713"
      ]
     },
     "execution_count": 91,
     "metadata": {},
     "output_type": "execute_result"
    }
   ],
   "source": [
    "A <- matrix(c(4, 10, 6, 1 , 13, 5,\n",
    "           4,5, -2, 1, 8, 4,\n",
    "             -7, 5, 2, 1, 3, -4,\n",
    "             2,3, 4 ,5 , 6, 7,\n",
    "             1,3, 5,6, 7,-3,\n",
    "             0, 9, 7, 1,3, 4), 6, 6, byrow=TRUE)\n",
    "B <- solve(A)   ## Encontramos la inversa de A\n",
    "B"
   ]
  },
  {
   "cell_type": "code",
   "execution_count": 92,
   "metadata": {
    "collapsed": false
   },
   "outputs": [
    {
     "data": {
      "text/html": [
       "<table>\n",
       "<tbody>\n",
       "\t<tr><td> 1.000000e+00</td><td> 1.491862e-16</td><td> 2.949030e-17</td><td>-2.498002e-16</td><td>-1.249001e-16</td><td>-5.377643e-17</td></tr>\n",
       "\t<tr><td>-1.179612e-16</td><td> 1.000000e+00</td><td>-7.632783e-17</td><td>-2.220446e-16</td><td> 0.000000e+00</td><td> 2.012279e-16</td></tr>\n",
       "\t<tr><td> 6.938894e-18</td><td>-2.775558e-17</td><td> 1.000000e+00</td><td> 5.551115e-17</td><td> 5.551115e-17</td><td>-6.938894e-18</td></tr>\n",
       "\t<tr><td>-3.989864e-17</td><td> 4.510281e-17</td><td> 3.295975e-17</td><td> 1.000000e+00</td><td>-1.526557e-16</td><td>-9.194034e-17</td></tr>\n",
       "\t<tr><td> 3.295975e-17</td><td>-7.285839e-17</td><td>-6.071532e-17</td><td>-8.326673e-17</td><td> 1.000000e+00</td><td>-6.765422e-17</td></tr>\n",
       "\t<tr><td>-6.938894e-18</td><td> 1.942890e-16</td><td> 1.387779e-17</td><td> 5.551115e-17</td><td>-5.551115e-17</td><td> 1.000000e+00</td></tr>\n",
       "</tbody>\n",
       "</table>\n"
      ],
      "text/latex": [
       "\\begin{tabular}{llllll}\n",
       "\t  1.000000e+00 &  1.491862e-16 &  2.949030e-17 & -2.498002e-16 & -1.249001e-16 & -5.377643e-17\\\\\n",
       "\t -1.179612e-16 &  1.000000e+00 & -7.632783e-17 & -2.220446e-16 &  0.000000e+00 &  2.012279e-16\\\\\n",
       "\t  6.938894e-18 & -2.775558e-17 &  1.000000e+00 &  5.551115e-17 &  5.551115e-17 & -6.938894e-18\\\\\n",
       "\t -3.989864e-17 &  4.510281e-17 &  3.295975e-17 &  1.000000e+00 & -1.526557e-16 & -9.194034e-17\\\\\n",
       "\t  3.295975e-17 & -7.285839e-17 & -6.071532e-17 & -8.326673e-17 &  1.000000e+00 & -6.765422e-17\\\\\n",
       "\t -6.938894e-18 &  1.942890e-16 &  1.387779e-17 &  5.551115e-17 & -5.551115e-17 &  1.000000e+00\\\\\n",
       "\\end{tabular}\n"
      ],
      "text/markdown": [
       "1. 1\n",
       "2. -1.17961196366423e-16\n",
       "3. 6.93889390390723e-18\n",
       "4. -3.98986399474666e-17\n",
       "5. 3.29597460435593e-17\n",
       "6. -6.93889390390723e-18\n",
       "7. 1.49186218934005e-16\n",
       "8. 1\n",
       "9. -2.77555756156289e-17\n",
       "10. 4.5102810375397e-17\n",
       "11. -7.28583859910259e-17\n",
       "12. 1.94289029309402e-16\n",
       "13. 2.94902990916057e-17\n",
       "14. -7.63278329429795e-17\n",
       "15. 1\n",
       "16. 3.29597460435593e-17\n",
       "17. -6.07153216591882e-17\n",
       "18. 1.38777878078145e-17\n",
       "19. -2.4980018054066e-16\n",
       "20. -2.22044604925031e-16\n",
       "21. 5.55111512312578e-17\n",
       "22. 1\n",
       "23. -8.32667268468867e-17\n",
       "24. 5.55111512312578e-17\n",
       "25. -1.2490009027033e-16\n",
       "26. 0\n",
       "27. 5.55111512312578e-17\n",
       "28. -1.52655665885959e-16\n",
       "29. 1\n",
       "30. -5.55111512312578e-17\n",
       "31. -5.3776427755281e-17\n",
       "32. 2.0122792321331e-16\n",
       "33. -6.93889390390723e-18\n",
       "34. -9.19403442267708e-17\n",
       "35. -6.76542155630955e-17\n",
       "36. 1\n",
       "\n",
       "\n"
      ],
      "text/plain": [
       "              [,1]          [,2]          [,3]          [,4]          [,5]\n",
       "[1,]  1.000000e+00  1.491862e-16  2.949030e-17 -2.498002e-16 -1.249001e-16\n",
       "[2,] -1.179612e-16  1.000000e+00 -7.632783e-17 -2.220446e-16  0.000000e+00\n",
       "[3,]  6.938894e-18 -2.775558e-17  1.000000e+00  5.551115e-17  5.551115e-17\n",
       "[4,] -3.989864e-17  4.510281e-17  3.295975e-17  1.000000e+00 -1.526557e-16\n",
       "[5,]  3.295975e-17 -7.285839e-17 -6.071532e-17 -8.326673e-17  1.000000e+00\n",
       "[6,] -6.938894e-18  1.942890e-16  1.387779e-17  5.551115e-17 -5.551115e-17\n",
       "              [,6]\n",
       "[1,] -5.377643e-17\n",
       "[2,]  2.012279e-16\n",
       "[3,] -6.938894e-18\n",
       "[4,] -9.194034e-17\n",
       "[5,] -6.765422e-17\n",
       "[6,]  1.000000e+00"
      ]
     },
     "execution_count": 92,
     "metadata": {},
     "output_type": "execute_result"
    }
   ],
   "source": [
    "A %*% B "
   ]
  },
  {
   "cell_type": "code",
   "execution_count": 93,
   "metadata": {
    "collapsed": false
   },
   "outputs": [
    {
     "data": {
      "text/html": [
       "<table>\n",
       "<tbody>\n",
       "\t<tr><td> 1.000000e+00</td><td> 1.387779e-17</td><td>-1.387779e-17</td><td>-1.526557e-16</td><td>-1.526557e-16</td><td>-2.220446e-16</td></tr>\n",
       "\t<tr><td>-6.938894e-18</td><td> 1.000000e+00</td><td>-1.942890e-16</td><td>-1.387779e-16</td><td>-8.326673e-17</td><td>-2.220446e-16</td></tr>\n",
       "\t<tr><td>1.370432e-16</td><td>1.144917e-16</td><td>1.000000e+00</td><td>3.469447e-17</td><td>3.365364e-16</td><td>1.804112e-16</td></tr>\n",
       "\t<tr><td>-5.551115e-17</td><td>-4.163336e-17</td><td>-1.804112e-16</td><td> 1.000000e+00</td><td>-9.714451e-17</td><td>-1.665335e-16</td></tr>\n",
       "\t<tr><td> 1.387779e-17</td><td>-2.775558e-17</td><td> 2.775558e-17</td><td> 2.775558e-17</td><td> 1.000000e+00</td><td> 1.110223e-16</td></tr>\n",
       "\t<tr><td> 1.387779e-17</td><td> 8.673617e-18</td><td>-5.030698e-17</td><td> 1.335737e-16</td><td> 1.647987e-16</td><td> 1.000000e+00</td></tr>\n",
       "</tbody>\n",
       "</table>\n"
      ],
      "text/latex": [
       "\\begin{tabular}{llllll}\n",
       "\t  1.000000e+00 &  1.387779e-17 & -1.387779e-17 & -1.526557e-16 & -1.526557e-16 & -2.220446e-16\\\\\n",
       "\t -6.938894e-18 &  1.000000e+00 & -1.942890e-16 & -1.387779e-16 & -8.326673e-17 & -2.220446e-16\\\\\n",
       "\t 1.370432e-16 & 1.144917e-16 & 1.000000e+00 & 3.469447e-17 & 3.365364e-16 & 1.804112e-16\\\\\n",
       "\t -5.551115e-17 & -4.163336e-17 & -1.804112e-16 &  1.000000e+00 & -9.714451e-17 & -1.665335e-16\\\\\n",
       "\t  1.387779e-17 & -2.775558e-17 &  2.775558e-17 &  2.775558e-17 &  1.000000e+00 &  1.110223e-16\\\\\n",
       "\t  1.387779e-17 &  8.673617e-18 & -5.030698e-17 &  1.335737e-16 &  1.647987e-16 &  1.000000e+00\\\\\n",
       "\\end{tabular}\n"
      ],
      "text/markdown": [
       "1. 1\n",
       "2. -6.93889390390723e-18\n",
       "3. 1.37043154602168e-16\n",
       "4. -5.55111512312578e-17\n",
       "5. 1.38777878078145e-17\n",
       "6. 1.38777878078145e-17\n",
       "7. 1.38777878078145e-17\n",
       "8. 1\n",
       "9. 1.14491749414469e-16\n",
       "10. -4.16333634234434e-17\n",
       "11. -2.77555756156289e-17\n",
       "12. 8.67361737988404e-18\n",
       "13. -1.38777878078145e-17\n",
       "14. -1.94289029309402e-16\n",
       "15. 1\n",
       "16. -1.80411241501588e-16\n",
       "17. 2.77555756156289e-17\n",
       "18. -5.03069808033274e-17\n",
       "19. -1.52655665885959e-16\n",
       "20. -1.38777878078145e-16\n",
       "21. 3.46944695195361e-17\n",
       "22. 1\n",
       "23. 2.77555756156289e-17\n",
       "24. 1.33573707650214e-16\n",
       "25. -1.52655665885959e-16\n",
       "26. -8.32667268468867e-17\n",
       "27. 3.36536354339501e-16\n",
       "28. -9.71445146547012e-17\n",
       "29. 1\n",
       "30. 1.64798730217797e-16\n",
       "31. -2.22044604925031e-16\n",
       "32. -2.22044604925031e-16\n",
       "33. 1.80411241501588e-16\n",
       "34. -1.66533453693773e-16\n",
       "35. 1.11022302462516e-16\n",
       "36. 1\n",
       "\n",
       "\n"
      ],
      "text/plain": [
       "              [,1]          [,2]          [,3]          [,4]          [,5]\n",
       "[1,]  1.000000e+00  1.387779e-17 -1.387779e-17 -1.526557e-16 -1.526557e-16\n",
       "[2,] -6.938894e-18  1.000000e+00 -1.942890e-16 -1.387779e-16 -8.326673e-17\n",
       "[3,]  1.370432e-16  1.144917e-16  1.000000e+00  3.469447e-17  3.365364e-16\n",
       "[4,] -5.551115e-17 -4.163336e-17 -1.804112e-16  1.000000e+00 -9.714451e-17\n",
       "[5,]  1.387779e-17 -2.775558e-17  2.775558e-17  2.775558e-17  1.000000e+00\n",
       "[6,]  1.387779e-17  8.673617e-18 -5.030698e-17  1.335737e-16  1.647987e-16\n",
       "              [,6]\n",
       "[1,] -2.220446e-16\n",
       "[2,] -2.220446e-16\n",
       "[3,]  1.804112e-16\n",
       "[4,] -1.665335e-16\n",
       "[5,]  1.110223e-16\n",
       "[6,]  1.000000e+00"
      ]
     },
     "execution_count": 93,
     "metadata": {},
     "output_type": "execute_result"
    }
   ],
   "source": [
    "B %*% A"
   ]
  },
  {
   "cell_type": "code",
   "execution_count": 94,
   "metadata": {
    "collapsed": false
   },
   "outputs": [
    {
     "data": {
      "text/html": [
       "<table>\n",
       "<tbody>\n",
       "\t<tr><td> 4</td><td> 0</td><td>-5</td></tr>\n",
       "\t<tr><td>-18</td><td>  1</td><td> 24</td></tr>\n",
       "\t<tr><td>-3</td><td> 0</td><td> 4</td></tr>\n",
       "</tbody>\n",
       "</table>\n"
      ],
      "text/latex": [
       "\\begin{tabular}{lll}\n",
       "\t  4 &  0 & -5\\\\\n",
       "\t -18 &   1 &  24\\\\\n",
       "\t -3 &  0 &  4\\\\\n",
       "\\end{tabular}\n"
      ],
      "text/markdown": [
       "1. 4\n",
       "2. -18\n",
       "3. -3\n",
       "4. 0\n",
       "5. 1\n",
       "6. 0\n",
       "7. -5\n",
       "8. 24\n",
       "9. 4\n",
       "\n",
       "\n"
      ],
      "text/plain": [
       "     [,1] [,2] [,3]\n",
       "[1,]    4    0   -5\n",
       "[2,]  -18    1   24\n",
       "[3,]   -3    0    4"
      ]
     },
     "execution_count": 94,
     "metadata": {},
     "output_type": "execute_result"
    }
   ],
   "source": [
    "# Para ejemplos más pequeños, se cumple A*B=I= B*A\n",
    "\n",
    "M <- matrix(c(4,0,5,\n",
    "             0,1, -6,\n",
    "             3,0,4),3,3, byrow=TRUE)\n",
    "N <- solve(M)\n",
    "N"
   ]
  },
  {
   "cell_type": "code",
   "execution_count": 95,
   "metadata": {
    "collapsed": false
   },
   "outputs": [
    {
     "data": {
      "text/html": [
       "<table>\n",
       "<tbody>\n",
       "\t<tr><td>1</td><td>0</td><td>0</td></tr>\n",
       "\t<tr><td>0</td><td>1</td><td>0</td></tr>\n",
       "\t<tr><td>0</td><td>0</td><td>1</td></tr>\n",
       "</tbody>\n",
       "</table>\n"
      ],
      "text/latex": [
       "\\begin{tabular}{lll}\n",
       "\t 1 & 0 & 0\\\\\n",
       "\t 0 & 1 & 0\\\\\n",
       "\t 0 & 0 & 1\\\\\n",
       "\\end{tabular}\n"
      ],
      "text/markdown": [
       "1. 1\n",
       "2. 0\n",
       "3. 0\n",
       "4. 0\n",
       "5. 1\n",
       "6. 0\n",
       "7. 0\n",
       "8. 0\n",
       "9. 1\n",
       "\n",
       "\n"
      ],
      "text/plain": [
       "     [,1] [,2] [,3]\n",
       "[1,]    1    0    0\n",
       "[2,]    0    1    0\n",
       "[3,]    0    0    1"
      ]
     },
     "execution_count": 95,
     "metadata": {},
     "output_type": "execute_result"
    }
   ],
   "source": [
    "N%*%M"
   ]
  },
  {
   "cell_type": "code",
   "execution_count": 96,
   "metadata": {
    "collapsed": false
   },
   "outputs": [
    {
     "data": {
      "text/html": [
       "<table>\n",
       "<tbody>\n",
       "\t<tr><td>1</td><td>0</td><td>0</td></tr>\n",
       "\t<tr><td>0</td><td>1</td><td>0</td></tr>\n",
       "\t<tr><td>0</td><td>0</td><td>1</td></tr>\n",
       "</tbody>\n",
       "</table>\n"
      ],
      "text/latex": [
       "\\begin{tabular}{lll}\n",
       "\t 1 & 0 & 0\\\\\n",
       "\t 0 & 1 & 0\\\\\n",
       "\t 0 & 0 & 1\\\\\n",
       "\\end{tabular}\n"
      ],
      "text/markdown": [
       "1. 1\n",
       "2. 0\n",
       "3. 0\n",
       "4. 0\n",
       "5. 1\n",
       "6. 0\n",
       "7. 0\n",
       "8. 0\n",
       "9. 1\n",
       "\n",
       "\n"
      ],
      "text/plain": [
       "     [,1] [,2] [,3]\n",
       "[1,]    1    0    0\n",
       "[2,]    0    1    0\n",
       "[3,]    0    0    1"
      ]
     },
     "execution_count": 96,
     "metadata": {},
     "output_type": "execute_result"
    }
   ],
   "source": [
    "M %*%N"
   ]
  },
  {
   "cell_type": "markdown",
   "metadata": {},
   "source": [
    "## Subconjuntos"
   ]
  },
  {
   "cell_type": "markdown",
   "metadata": {},
   "source": [
    "Los operadores para manejar subconjuntos en R son poderosos y rápidos. El dominio de subconjuntos te permite expresar  las operaciones complejas de una manera que pocos otros lenguajes pueden igualar. Manejar subconjuntos en R es difícil de aprender porque es necesario  dominar una serie de conceptos relacionados entre sí:\n",
    "\n",
    "1. Los tres operadores de subconjuntos.\n",
    "2. Los seis tipos de subconjuntos.\n",
    "3. Las diferencias importantes en el comportamiento para diferentes objetos(vectores, listas, matrices y data frames).\n",
    "4. El uso de suconjuntos en conjunción con la asignación.\n",
    "\n",
    "Subconjuntos es un complemento natural de **str()**. **str()** muestra la estructura de cualquier objeto, y los subconjuntos te permite tener  las piezas que te interesan.\n",
    "\n",
    "Es más fácil de aprender cómo funcionan los subconjuntos para los vectores, y luego  cómo  se generalizan a mayores dimensiones y otros objetos más complicados. Vamos a empezar con **[**, el operador más utilizado. Los operadores subconjuntos cubrirán **[[** y **$**, los otros dos operadores de subconjuntos principales."
   ]
  },
  {
   "cell_type": "markdown",
   "metadata": {},
   "source": [
    "## Vectores atómicos\n"
   ]
  },
  {
   "cell_type": "markdown",
   "metadata": {},
   "source": [
    "Vamos a explorar los diferentes tipos de subconjuntos con un vector simple **x**."
   ]
  },
  {
   "cell_type": "code",
   "execution_count": 97,
   "metadata": {
    "collapsed": false
   },
   "outputs": [
    {
     "data": {
      "text/html": [
       "<ol class=list-inline>\n",
       "\t<li>2.1</li>\n",
       "\t<li>4.2</li>\n",
       "\t<li>6.3</li>\n",
       "\t<li>8.4</li>\n",
       "</ol>\n"
      ],
      "text/latex": [
       "\\begin{enumerate*}\n",
       "\\item 2.1\n",
       "\\item 4.2\n",
       "\\item 6.3\n",
       "\\item 8.4\n",
       "\\end{enumerate*}\n"
      ],
      "text/markdown": [
       "1. 2.1\n",
       "2. 4.2\n",
       "3. 6.3\n",
       "4. 8.4\n",
       "\n",
       "\n"
      ],
      "text/plain": [
       "[1] 2.1 4.2 6.3 8.4"
      ]
     },
     "execution_count": 97,
     "metadata": {},
     "output_type": "execute_result"
    }
   ],
   "source": [
    "x <- c(2.1, 4.2, 6.3, 8.4)\n",
    "x\n"
   ]
  },
  {
   "cell_type": "markdown",
   "metadata": {},
   "source": [
    "Tenga en cuenta que el número después del punto decimal da la posición original del elemento en el vector. Hay cinco cosas que se puede utilizar para un subconjunto de un vector:\n"
   ]
  },
  {
   "cell_type": "markdown",
   "metadata": {},
   "source": [
    "### Números Positivos \n",
    "\n",
    "Retorna elementos en posiciones especificadas."
   ]
  },
  {
   "cell_type": "code",
   "execution_count": 98,
   "metadata": {
    "collapsed": false
   },
   "outputs": [
    {
     "data": {
      "text/html": [
       "<ol class=list-inline>\n",
       "\t<li>6.3</li>\n",
       "\t<li>2.1</li>\n",
       "</ol>\n"
      ],
      "text/latex": [
       "\\begin{enumerate*}\n",
       "\\item 6.3\n",
       "\\item 2.1\n",
       "\\end{enumerate*}\n"
      ],
      "text/markdown": [
       "1. 6.3\n",
       "2. 2.1\n",
       "\n",
       "\n"
      ],
      "text/plain": [
       "[1] 6.3 2.1"
      ]
     },
     "execution_count": 98,
     "metadata": {},
     "output_type": "execute_result"
    },
    {
     "data": {
      "text/html": [
       "<ol class=list-inline>\n",
       "\t<li>2.1</li>\n",
       "\t<li>4.2</li>\n",
       "\t<li>6.3</li>\n",
       "\t<li>8.4</li>\n",
       "</ol>\n"
      ],
      "text/latex": [
       "\\begin{enumerate*}\n",
       "\\item 2.1\n",
       "\\item 4.2\n",
       "\\item 6.3\n",
       "\\item 8.4\n",
       "\\end{enumerate*}\n"
      ],
      "text/markdown": [
       "1. 2.1\n",
       "2. 4.2\n",
       "3. 6.3\n",
       "4. 8.4\n",
       "\n",
       "\n"
      ],
      "text/plain": [
       "[1] 2.1 4.2 6.3 8.4"
      ]
     },
     "execution_count": 98,
     "metadata": {},
     "output_type": "execute_result"
    },
    {
     "data": {
      "text/html": [
       "<ol class=list-inline>\n",
       "\t<li>2.1</li>\n",
       "\t<li>2.1</li>\n",
       "</ol>\n"
      ],
      "text/latex": [
       "\\begin{enumerate*}\n",
       "\\item 2.1\n",
       "\\item 2.1\n",
       "\\end{enumerate*}\n"
      ],
      "text/markdown": [
       "1. 2.1\n",
       "2. 2.1\n",
       "\n",
       "\n"
      ],
      "text/plain": [
       "[1] 2.1 2.1"
      ]
     },
     "execution_count": 98,
     "metadata": {},
     "output_type": "execute_result"
    },
    {
     "data": {
      "text/html": [
       "<ol class=list-inline>\n",
       "\t<li>4.2</li>\n",
       "\t<li>4.2</li>\n",
       "</ol>\n"
      ],
      "text/latex": [
       "\\begin{enumerate*}\n",
       "\\item 4.2\n",
       "\\item 4.2\n",
       "\\end{enumerate*}\n"
      ],
      "text/markdown": [
       "1. 4.2\n",
       "2. 4.2\n",
       "\n",
       "\n"
      ],
      "text/plain": [
       "[1] 4.2 4.2"
      ]
     },
     "execution_count": 98,
     "metadata": {},
     "output_type": "execute_result"
    }
   ],
   "source": [
    "x[c(3, 1)]\n",
    "x[order(x)]\n",
    "\n",
    "# Indices duplicados dan valores duplicados.\n",
    "\n",
    "x[c(1,1)]\n",
    "\n",
    "# Los números reales se truncan a enteros\n",
    "\n",
    "x[c(2.1, 2.9)]"
   ]
  },
  {
   "cell_type": "markdown",
   "metadata": {},
   "source": [
    "### Números Negativos \n",
    "\n",
    "Se omiten elementos en posiciones especificadas. No se puede mezclar enteros negativos y positivos en un único \n",
    "subconjunto."
   ]
  },
  {
   "cell_type": "code",
   "execution_count": 99,
   "metadata": {
    "collapsed": false
   },
   "outputs": [
    {
     "data": {
      "text/html": [
       "<ol class=list-inline>\n",
       "\t<li>4.2</li>\n",
       "\t<li>8.4</li>\n",
       "</ol>\n"
      ],
      "text/latex": [
       "\\begin{enumerate*}\n",
       "\\item 4.2\n",
       "\\item 8.4\n",
       "\\end{enumerate*}\n"
      ],
      "text/markdown": [
       "1. 4.2\n",
       "2. 8.4\n",
       "\n",
       "\n"
      ],
      "text/plain": [
       "[1] 4.2 8.4"
      ]
     },
     "execution_count": 99,
     "metadata": {},
     "output_type": "execute_result"
    }
   ],
   "source": [
    "x[-c(3, 1)]"
   ]
  },
  {
   "cell_type": "code",
   "execution_count": 100,
   "metadata": {
    "collapsed": false
   },
   "outputs": [
    {
     "ename": "ERROR",
     "evalue": "Error in x[c(-1, 2)]: solamente 0's pueden ser mezclados con subscritos negativos\n",
     "output_type": "error",
     "traceback": [
      "Error in x[c(-1, 2)]: solamente 0's pueden ser mezclados con subscritos negativos\n"
     ]
    }
   ],
   "source": [
    "x[c(-1,2)]"
   ]
  },
  {
   "cell_type": "markdown",
   "metadata": {},
   "source": [
    "### Vectores Lógicos\n",
    "\n",
    "Seleccionan  elementos en los que el valor lógico correspondiente a TRUE. Este es probablemente el tipo más\n",
    "útil de subconjuntos  porque tu escribes la expresión que crea el vector lógico:"
   ]
  },
  {
   "cell_type": "code",
   "execution_count": 101,
   "metadata": {
    "collapsed": false
   },
   "outputs": [
    {
     "data": {
      "text/html": [
       "<ol class=list-inline>\n",
       "\t<li>2.1</li>\n",
       "\t<li>4.2</li>\n",
       "</ol>\n"
      ],
      "text/latex": [
       "\\begin{enumerate*}\n",
       "\\item 2.1\n",
       "\\item 4.2\n",
       "\\end{enumerate*}\n"
      ],
      "text/markdown": [
       "1. 2.1\n",
       "2. 4.2\n",
       "\n",
       "\n"
      ],
      "text/plain": [
       "[1] 2.1 4.2"
      ]
     },
     "execution_count": 101,
     "metadata": {},
     "output_type": "execute_result"
    },
    {
     "data": {
      "text/html": [
       "<ol class=list-inline>\n",
       "\t<li>4.2</li>\n",
       "\t<li>6.3</li>\n",
       "\t<li>8.4</li>\n",
       "</ol>\n"
      ],
      "text/latex": [
       "\\begin{enumerate*}\n",
       "\\item 4.2\n",
       "\\item 6.3\n",
       "\\item 8.4\n",
       "\\end{enumerate*}\n"
      ],
      "text/markdown": [
       "1. 4.2\n",
       "2. 6.3\n",
       "3. 8.4\n",
       "\n",
       "\n"
      ],
      "text/plain": [
       "[1] 4.2 6.3 8.4"
      ]
     },
     "execution_count": 101,
     "metadata": {},
     "output_type": "execute_result"
    }
   ],
   "source": [
    "x[c(TRUE, TRUE, FALSE, FALSE)]\n",
    " x[x  > 3]"
   ]
  },
  {
   "cell_type": "markdown",
   "metadata": {},
   "source": [
    "Un valor NA en el índice siempre produce un valor NA en la salida:"
   ]
  },
  {
   "cell_type": "code",
   "execution_count": 102,
   "metadata": {
    "collapsed": false
   },
   "outputs": [
    {
     "data": {
      "text/html": [
       "<ol class=list-inline>\n",
       "\t<li>2.1</li>\n",
       "\t<li>4.2</li>\n",
       "\t<li>NA</li>\n",
       "</ol>\n"
      ],
      "text/latex": [
       "\\begin{enumerate*}\n",
       "\\item 2.1\n",
       "\\item 4.2\n",
       "\\item NA\n",
       "\\end{enumerate*}\n"
      ],
      "text/markdown": [
       "1. 2.1\n",
       "2. 4.2\n",
       "3. NA\n",
       "\n",
       "\n"
      ],
      "text/plain": [
       "[1] 2.1 4.2  NA"
      ]
     },
     "execution_count": 102,
     "metadata": {},
     "output_type": "execute_result"
    }
   ],
   "source": [
    "x[c(TRUE, TRUE, NA, FALSE)]"
   ]
  },
  {
   "cell_type": "markdown",
   "metadata": {},
   "source": [
    "### Nada\n",
    "\n",
    "Devuelve el vector original. Esto no es útil para los vectores, pero es muy útil para las matrices, los data frame  y los arrays. También puede ser útil en conjunción con la asignación."
   ]
  },
  {
   "cell_type": "code",
   "execution_count": 103,
   "metadata": {
    "collapsed": false
   },
   "outputs": [
    {
     "data": {
      "text/html": [
       "<ol class=list-inline>\n",
       "\t<li>2.1</li>\n",
       "\t<li>4.2</li>\n",
       "\t<li>6.3</li>\n",
       "\t<li>8.4</li>\n",
       "</ol>\n"
      ],
      "text/latex": [
       "\\begin{enumerate*}\n",
       "\\item 2.1\n",
       "\\item 4.2\n",
       "\\item 6.3\n",
       "\\item 8.4\n",
       "\\end{enumerate*}\n"
      ],
      "text/markdown": [
       "1. 2.1\n",
       "2. 4.2\n",
       "3. 6.3\n",
       "4. 8.4\n",
       "\n",
       "\n"
      ],
      "text/plain": [
       "[1] 2.1 4.2 6.3 8.4"
      ]
     },
     "execution_count": 103,
     "metadata": {},
     "output_type": "execute_result"
    }
   ],
   "source": [
    "x[]"
   ]
  },
  {
   "cell_type": "markdown",
   "metadata": {},
   "source": [
    "### Cero\n",
    "\n",
    "Retorna un vector de longitud cero y  puede ser útil para la generación de datos  prueba."
   ]
  },
  {
   "cell_type": "code",
   "execution_count": 104,
   "metadata": {
    "collapsed": false
   },
   "outputs": [
    {
     "data": {
      "text/html": [
       "<ol class=list-inline>\n",
       "</ol>\n"
      ],
      "text/latex": [
       "\\begin{enumerate*}\n",
       "\\end{enumerate*}\n"
      ],
      "text/markdown": [
       "\n",
       "\n"
      ],
      "text/plain": [
       "numeric(0)"
      ]
     },
     "execution_count": 104,
     "metadata": {},
     "output_type": "execute_result"
    }
   ],
   "source": [
    "x[0]\n",
    "\n",
    "#>numeric(0)"
   ]
  },
  {
   "cell_type": "markdown",
   "metadata": {},
   "source": [
    "### Vectores de Caracteres\n",
    "\n",
    "Devuelven  elementos con nombres coincidentes."
   ]
  },
  {
   "cell_type": "code",
   "execution_count": 105,
   "metadata": {
    "collapsed": false
   },
   "outputs": [
    {
     "data": {
      "text/html": [
       "<dl class=dl-horizontal>\n",
       "\t<dt>a</dt>\n",
       "\t\t<dd>2.1</dd>\n",
       "\t<dt>b</dt>\n",
       "\t\t<dd>4.2</dd>\n",
       "\t<dt>c</dt>\n",
       "\t\t<dd>6.3</dd>\n",
       "\t<dt>d</dt>\n",
       "\t\t<dd>8.4</dd>\n",
       "</dl>\n"
      ],
      "text/latex": [
       "\\begin{description*}\n",
       "\\item[a] 2.1\n",
       "\\item[b] 4.2\n",
       "\\item[c] 6.3\n",
       "\\item[d] 8.4\n",
       "\\end{description*}\n"
      ],
      "text/markdown": [
       "a\n",
       ":   2.1b\n",
       ":   4.2c\n",
       ":   6.3d\n",
       ":   8.4\n",
       "\n"
      ],
      "text/plain": [
       "  a   b   c   d \n",
       "2.1 4.2 6.3 8.4 "
      ]
     },
     "execution_count": 105,
     "metadata": {},
     "output_type": "execute_result"
    },
    {
     "data": {
      "text/html": [
       "<dl class=dl-horizontal>\n",
       "\t<dt>d</dt>\n",
       "\t\t<dd>8.4</dd>\n",
       "\t<dt>c</dt>\n",
       "\t\t<dd>6.3</dd>\n",
       "\t<dt>a</dt>\n",
       "\t\t<dd>2.1</dd>\n",
       "</dl>\n"
      ],
      "text/latex": [
       "\\begin{description*}\n",
       "\\item[d] 8.4\n",
       "\\item[c] 6.3\n",
       "\\item[a] 2.1\n",
       "\\end{description*}\n"
      ],
      "text/markdown": [
       "d\n",
       ":   8.4c\n",
       ":   6.3a\n",
       ":   2.1\n",
       "\n"
      ],
      "text/plain": [
       "  d   c   a \n",
       "8.4 6.3 2.1 "
      ]
     },
     "execution_count": 105,
     "metadata": {},
     "output_type": "execute_result"
    },
    {
     "data": {
      "text/html": [
       "<dl class=dl-horizontal>\n",
       "\t<dt>a</dt>\n",
       "\t\t<dd>2.1</dd>\n",
       "\t<dt>a</dt>\n",
       "\t\t<dd>2.1</dd>\n",
       "\t<dt>a</dt>\n",
       "\t\t<dd>2.1</dd>\n",
       "</dl>\n"
      ],
      "text/latex": [
       "\\begin{description*}\n",
       "\\item[a] 2.1\n",
       "\\item[a] 2.1\n",
       "\\item[a] 2.1\n",
       "\\end{description*}\n"
      ],
      "text/markdown": [
       "a\n",
       ":   2.1a\n",
       ":   2.1a\n",
       ":   2.1\n",
       "\n"
      ],
      "text/plain": [
       "  a   a   a \n",
       "2.1 2.1 2.1 "
      ]
     },
     "execution_count": 105,
     "metadata": {},
     "output_type": "execute_result"
    },
    {
     "data": {
      "text/html": [
       "<dl class=dl-horizontal>\n",
       "\t<dt>1</dt>\n",
       "\t\t<dd>NA</dd>\n",
       "\t<dt>2</dt>\n",
       "\t\t<dd>NA</dd>\n",
       "</dl>\n"
      ],
      "text/latex": [
       "\\begin{description*}\n",
       "\\item[1] NA\n",
       "\\item[2] NA\n",
       "\\end{description*}\n"
      ],
      "text/markdown": [
       "1\n",
       ":   NA2\n",
       ":   NA\n",
       "\n"
      ],
      "text/plain": [
       "<NA> <NA> \n",
       "  NA   NA "
      ]
     },
     "execution_count": 105,
     "metadata": {},
     "output_type": "execute_result"
    }
   ],
   "source": [
    "(y <- setNames(x, letters[1:4]))\n",
    "y[c(\"d\", \"c\", \"a\")]\n",
    "\n",
    "# Como los indices enteros, tu puedes repetir indices\n",
    "\n",
    "y[c(\"a\", \"a\", \"a\")]\n",
    "\n",
    "# Cuando subconjuntos con [ nombres siempre se corresponden exactamente\n",
    "\n",
    "z <- c(abc = 1, def = 2)\n",
    "z[c(\"a\", \"d\")]"
   ]
  },
  {
   "cell_type": "markdown",
   "metadata": {},
   "source": [
    "## Matrices y Arrays"
   ]
  },
  {
   "cell_type": "markdown",
   "metadata": {},
   "source": [
    "Puede usar subconjuntos en estructuras de dimensiones superiores de tres maneras:\n",
    "\n",
    "1. Con múltiples vectores.\n",
    "2. Con un único vector.\n",
    "3. Con una matriz.\n",
    "\n",
    "La forma más común de conseguir  subconjuntos de matrices (2d) y matrices (> 2d) es una simple generalización de subconjuntos en 1d: es decir se  proporciona un índice de 1d para cada dimensión, separados por una coma. Subconjuntos en blanco ahora es útil, ya que te permite mantener todas las filas o todas las columnas."
   ]
  },
  {
   "cell_type": "code",
   "execution_count": 106,
   "metadata": {
    "collapsed": false
   },
   "outputs": [
    {
     "data": {
      "text/html": [
       "<table>\n",
       "<thead><tr><th scope=col>A</th><th scope=col>B</th><th scope=col>C</th></tr></thead>\n",
       "<tbody>\n",
       "\t<tr><td>1</td><td>4</td><td>7</td></tr>\n",
       "\t<tr><td>2</td><td>5</td><td>8</td></tr>\n",
       "</tbody>\n",
       "</table>\n"
      ],
      "text/latex": [
       "\\begin{tabular}{lll}\n",
       " A & B & C\\\\\n",
       "\\hline\n",
       "\t 1 & 4 & 7\\\\\n",
       "\t 2 & 5 & 8\\\\\n",
       "\\end{tabular}\n"
      ],
      "text/markdown": [
       "1. 1\n",
       "2. 2\n",
       "3. 4\n",
       "4. 5\n",
       "5. 7\n",
       "6. 8\n",
       "\n",
       "\n"
      ],
      "text/plain": [
       "     A B C\n",
       "[1,] 1 4 7\n",
       "[2,] 2 5 8"
      ]
     },
     "execution_count": 106,
     "metadata": {},
     "output_type": "execute_result"
    }
   ],
   "source": [
    "a <- matrix(1:9, nrow = 3)\n",
    "colnames(a) <- c(\"A\", \"B\", \"C\")\n",
    "a[1:2, ]"
   ]
  },
  {
   "cell_type": "code",
   "execution_count": 107,
   "metadata": {
    "collapsed": false
   },
   "outputs": [
    {
     "data": {
      "text/html": [
       "<table>\n",
       "<thead><tr><th scope=col>B</th><th scope=col>A</th></tr></thead>\n",
       "<tbody>\n",
       "\t<tr><td>4</td><td>1</td></tr>\n",
       "\t<tr><td>6</td><td>3</td></tr>\n",
       "</tbody>\n",
       "</table>\n"
      ],
      "text/latex": [
       "\\begin{tabular}{ll}\n",
       " B & A\\\\\n",
       "\\hline\n",
       "\t 4 & 1\\\\\n",
       "\t 6 & 3\\\\\n",
       "\\end{tabular}\n"
      ],
      "text/markdown": [
       "1. 4\n",
       "2. 6\n",
       "3. 1\n",
       "4. 3\n",
       "\n",
       "\n"
      ],
      "text/plain": [
       "     B A\n",
       "[1,] 4 1\n",
       "[2,] 6 3"
      ]
     },
     "execution_count": 107,
     "metadata": {},
     "output_type": "execute_result"
    }
   ],
   "source": [
    "a[c(T, F, T), c(\"B\", \"A\")]"
   ]
  },
  {
   "cell_type": "code",
   "execution_count": 108,
   "metadata": {
    "collapsed": false
   },
   "outputs": [
    {
     "data": {
      "text/html": [
       "<table>\n",
       "<thead><tr><th scope=col>A</th><th scope=col>C</th></tr></thead>\n",
       "<tbody>\n",
       "</tbody>\n",
       "</table>\n"
      ],
      "text/latex": [
       "\\begin{tabular}{ll}\n",
       " A & C\\\\\n",
       "\\hline\n",
       "\\end{tabular}\n"
      ],
      "text/markdown": [
       "\n",
       "\n"
      ],
      "text/plain": [
       "     A C"
      ]
     },
     "execution_count": 108,
     "metadata": {},
     "output_type": "execute_result"
    }
   ],
   "source": [
    "a[0, -2]"
   ]
  },
  {
   "cell_type": "markdown",
   "metadata": {},
   "source": [
    "Por defecto, **[** simplificará los resultados a la dimensionalidad menor.\n",
    "Debido a que las matrices y arrays  se implementan como vectores con atributos especiales, tu puedes\n",
    "colocarlos  como  un único vector. En ese caso, se verá como un vector. Los arrays en R se almacenan en orden columnas principales:\n"
   ]
  },
  {
   "cell_type": "code",
   "execution_count": 109,
   "metadata": {
    "collapsed": false
   },
   "outputs": [
    {
     "data": {
      "text/html": [
       "\n",
       "<table width=\"100%\" summary=\"page for outer {base}\"><tr><td>outer {base}</td><td style=\"text-align: right;\">R Documentation</td></tr></table>\n",
       "\n",
       "<h2>Outer Product of Arrays</h2>\n",
       "\n",
       "<h3>Description</h3>\n",
       "\n",
       "<p>The outer product of the arrays <code>X</code> and <code>Y</code> is the array\n",
       "<code>A</code> with dimension <code>c(dim(X), dim(Y))</code> where element\n",
       "<code>A[c(arrayindex.x, arrayindex.y)]\n",
       "    = FUN(X[arrayindex.x], Y[arrayindex.y], ...)</code>.\n",
       "</p>\n",
       "\n",
       "\n",
       "<h3>Usage</h3>\n",
       "\n",
       "<pre>\n",
       "outer(X, Y, FUN = \"*\", ...)\n",
       "X %o% Y\n",
       "</pre>\n",
       "\n",
       "\n",
       "<h3>Arguments</h3>\n",
       "\n",
       "<table summary=\"R argblock\">\n",
       "<tr valign=\"top\"><td><code>X, Y</code></td>\n",
       "<td>\n",
       "<p>First and second arguments for function <code>FUN</code>.\n",
       "Typically a vector or array.</p>\n",
       "</td></tr>\n",
       "<tr valign=\"top\"><td><code>FUN</code></td>\n",
       "<td>\n",
       "<p>a function to use on the outer products, found <em>via</em>\n",
       "<code>match.fun</code> (except for the special case <code>\"*\"</code>).</p>\n",
       "</td></tr>\n",
       "<tr valign=\"top\"><td><code>...</code></td>\n",
       "<td>\n",
       "<p>optional arguments to be passed to <code>FUN</code>.</p>\n",
       "</td></tr>\n",
       "</table>\n",
       "\n",
       "\n",
       "<h3>Details</h3>\n",
       "\n",
       "<p><code>X</code> and <code>Y</code> must be suitable arguments for <code>FUN</code>.  Each\n",
       "will be extended by <code>rep</code> to length the products of the\n",
       "lengths of <code>X</code> and <code>Y</code> before <code>FUN</code> is called.\n",
       "</p>\n",
       "<p><code>FUN</code> is called with these two extended vectors as arguments\n",
       "(plus any arguments in <code>...</code>).  It must be a vectorized\n",
       "function (or the name of one) expecting at least two arguments and\n",
       "returning a value with the same length as the first (and the second).\n",
       "</p>\n",
       "<p>Where they exist, the [dim]names of <code>X</code> and <code>Y</code> will be\n",
       "copied to the answer, and a dimension assigned which is the\n",
       "concatenation of the dimensions of <code>X</code> and <code>Y</code> (or lengths\n",
       "if dimensions do not exist).\n",
       "</p>\n",
       "<p><code>FUN = \"*\"</code> is handled as a special case <em>via</em>\n",
       "<code>as.vector(X) %*% t(as.vector(Y))</code>, and is intended only for\n",
       "numeric vectors and arrays.\n",
       "</p>\n",
       "<p><code>%o%</code> is binary operator providing a wrapper for\n",
       "<code>outer(x, y, \"*\")</code>.\n",
       "</p>\n",
       "\n",
       "\n",
       "<h3>Author(s)</h3>\n",
       "\n",
       "<p>Jonathan Rougier</p>\n",
       "\n",
       "\n",
       "<h3>References</h3>\n",
       "\n",
       "<p>Becker, R. A., Chambers, J. M. and Wilks, A. R. (1988)\n",
       "<em>The New S Language</em>.\n",
       "Wadsworth &amp; Brooks/Cole.\n",
       "</p>\n",
       "\n",
       "\n",
       "<h3>See Also</h3>\n",
       "\n",
       "<p><code>%*%</code> for usual (<em>inner</em>) matrix vector\n",
       "multiplication;\n",
       "<code>kronecker</code> which is based on <code>outer</code>;\n",
       "<code>Vectorize</code> for vectorizing a non-vectorized function.\n",
       "</p>\n",
       "\n",
       "\n",
       "<h3>Examples</h3>\n",
       "\n",
       "<pre>\n",
       "x &lt;- 1:9; names(x) &lt;- x\n",
       "# Multiplication &amp; Power Tables\n",
       "x %o% x\n",
       "y &lt;- 2:8; names(y) &lt;- paste(y,\":\", sep = \"\")\n",
       "outer(y, x, \"^\")\n",
       "\n",
       "outer(month.abb, 1999:2003, FUN = \"paste\")\n",
       "\n",
       "## three way multiplication table:\n",
       "x %o% x %o% y[1:3]\n",
       "</pre>\n",
       "\n",
       "<hr /><div style=\"text-align: center;\">[Package <em>base</em> version 3.2.2 ]</div>"
      ],
      "text/latex": [
       "\\inputencoding{utf8}\n",
       "\\HeaderA{outer}{Outer Product of Arrays}{outer}\n",
       "\\aliasA{\\%o\\%}{outer}{.Rpcent.o.Rpcent.}\n",
       "\\keyword{array}{outer}\n",
       "%\n",
       "\\begin{Description}\\relax\n",
       "The outer product of the arrays \\code{X} and \\code{Y} is the array\n",
       "\\code{A} with dimension \\code{c(dim(X), dim(Y))} where element\n",
       "\\code{A[c(arrayindex.x, arrayindex.y)]\n",
       "    = FUN(X[arrayindex.x], Y[arrayindex.y], ...)}.\n",
       "\\end{Description}\n",
       "%\n",
       "\\begin{Usage}\n",
       "\\begin{verbatim}\n",
       "outer(X, Y, FUN = \"*\", ...)\n",
       "X %o% Y\n",
       "\\end{verbatim}\n",
       "\\end{Usage}\n",
       "%\n",
       "\\begin{Arguments}\n",
       "\\begin{ldescription}\n",
       "\\item[\\code{X, Y}] First and second arguments for function \\code{FUN}.\n",
       "Typically a vector or array.\n",
       "\\item[\\code{FUN}] a function to use on the outer products, found \\emph{via}\n",
       "\\code{\\LinkA{match.fun}{match.fun}} (except for the special case \\code{\"*\"}).\n",
       "\\item[\\code{...}] optional arguments to be passed to \\code{FUN}.\n",
       "\\end{ldescription}\n",
       "\\end{Arguments}\n",
       "%\n",
       "\\begin{Details}\\relax\n",
       "\\code{X} and \\code{Y} must be suitable arguments for \\code{FUN}.  Each\n",
       "will be extended by \\code{\\LinkA{rep}{rep}} to length the products of the\n",
       "lengths of \\code{X} and \\code{Y} before \\code{FUN} is called.\n",
       "\n",
       "\\code{FUN} is called with these two extended vectors as arguments\n",
       "(plus any arguments in \\code{...}).  It must be a vectorized\n",
       "function (or the name of one) expecting at least two arguments and\n",
       "returning a value with the same length as the first (and the second).\n",
       "\n",
       "Where they exist, the [dim]names of \\code{X} and \\code{Y} will be\n",
       "copied to the answer, and a dimension assigned which is the\n",
       "concatenation of the dimensions of \\code{X} and \\code{Y} (or lengths\n",
       "if dimensions do not exist).\n",
       "\n",
       "\\code{FUN = \"*\"} is handled as a special case \\emph{via}\n",
       "\\code{as.vector(X) \\%*\\% t(as.vector(Y))}, and is intended only for\n",
       "numeric vectors and arrays.\n",
       "\n",
       "\\code{\\%o\\%} is binary operator providing a wrapper for\n",
       "\\code{outer(x, y, \"*\")}.\n",
       "\\end{Details}\n",
       "%\n",
       "\\begin{Author}\\relax\n",
       "Jonathan Rougier\n",
       "\\end{Author}\n",
       "%\n",
       "\\begin{References}\\relax\n",
       "Becker, R. A., Chambers, J. M. and Wilks, A. R. (1988)\n",
       "\\emph{The New S Language}.\n",
       "Wadsworth \\& Brooks/Cole.\n",
       "\\end{References}\n",
       "%\n",
       "\\begin{SeeAlso}\\relax\n",
       "\\code{\\LinkA{\\Rpercent{}*\\Rpercent{}}{.Rpcent.*.Rpcent.}} for usual (\\emph{inner}) matrix vector\n",
       "multiplication;\n",
       "\\code{\\LinkA{kronecker}{kronecker}} which is based on \\code{outer};\n",
       "\\code{\\LinkA{Vectorize}{Vectorize}} for vectorizing a non-vectorized function.\n",
       "\\end{SeeAlso}\n",
       "%\n",
       "\\begin{Examples}\n",
       "\\begin{ExampleCode}\n",
       "x <- 1:9; names(x) <- x\n",
       "# Multiplication & Power Tables\n",
       "x %o% x\n",
       "y <- 2:8; names(y) <- paste(y,\":\", sep = \"\")\n",
       "outer(y, x, \"^\")\n",
       "\n",
       "outer(month.abb, 1999:2003, FUN = \"paste\")\n",
       "\n",
       "## three way multiplication table:\n",
       "x %o% x %o% y[1:3]\n",
       "\\end{ExampleCode}\n",
       "\\end{Examples}"
      ],
      "text/plain": [
       "outer                   package:base                   R Documentation\n",
       "\n",
       "_\bO_\bu_\bt_\be_\br _\bP_\br_\bo_\bd_\bu_\bc_\bt _\bo_\bf _\bA_\br_\br_\ba_\by_\bs\n",
       "\n",
       "_\bD_\be_\bs_\bc_\br_\bi_\bp_\bt_\bi_\bo_\bn:\n",
       "\n",
       "     The outer product of the arrays ‘X’ and ‘Y’ is the array ‘A’ with\n",
       "     dimension ‘c(dim(X), dim(Y))’ where element ‘A[c(arrayindex.x,\n",
       "     arrayindex.y)] = FUN(X[arrayindex.x], Y[arrayindex.y], ...)’.\n",
       "\n",
       "_\bU_\bs_\ba_\bg_\be:\n",
       "\n",
       "     outer(X, Y, FUN = \"*\", ...)\n",
       "     X %o% Y\n",
       "     \n",
       "_\bA_\br_\bg_\bu_\bm_\be_\bn_\bt_\bs:\n",
       "\n",
       "    X, Y: First and second arguments for function ‘FUN’.  Typically a\n",
       "          vector or array.\n",
       "\n",
       "     FUN: a function to use on the outer products, found _via_\n",
       "          ‘match.fun’ (except for the special case ‘\"*\"’).\n",
       "\n",
       "     ...: optional arguments to be passed to ‘FUN’.\n",
       "\n",
       "_\bD_\be_\bt_\ba_\bi_\bl_\bs:\n",
       "\n",
       "     ‘X’ and ‘Y’ must be suitable arguments for ‘FUN’.  Each will be\n",
       "     extended by ‘rep’ to length the products of the lengths of ‘X’ and\n",
       "     ‘Y’ before ‘FUN’ is called.\n",
       "\n",
       "     ‘FUN’ is called with these two extended vectors as arguments (plus\n",
       "     any arguments in ‘...’).  It must be a vectorized function (or the\n",
       "     name of one) expecting at least two arguments and returning a\n",
       "     value with the same length as the first (and the second).\n",
       "\n",
       "     Where they exist, the [dim]names of ‘X’ and ‘Y’ will be copied to\n",
       "     the answer, and a dimension assigned which is the concatenation of\n",
       "     the dimensions of ‘X’ and ‘Y’ (or lengths if dimensions do not\n",
       "     exist).\n",
       "\n",
       "     ‘FUN = \"*\"’ is handled as a special case _via_ ‘as.vector(X) %*%\n",
       "     t(as.vector(Y))’, and is intended only for numeric vectors and\n",
       "     arrays.\n",
       "\n",
       "     ‘%o%’ is binary operator providing a wrapper for ‘outer(x, y,\n",
       "     \"*\")’.\n",
       "\n",
       "_\bA_\bu_\bt_\bh_\bo_\br(_\bs):\n",
       "\n",
       "     Jonathan Rougier\n",
       "\n",
       "_\bR_\be_\bf_\be_\br_\be_\bn_\bc_\be_\bs:\n",
       "\n",
       "     Becker, R. A., Chambers, J. M. and Wilks, A. R. (1988) _The New S\n",
       "     Language_.  Wadsworth & Brooks/Cole.\n",
       "\n",
       "_\bS_\be_\be _\bA_\bl_\bs_\bo:\n",
       "\n",
       "     ‘%*%’ for usual (_inner_) matrix vector multiplication;\n",
       "     ‘kronecker’ which is based on ‘outer’; ‘Vectorize’ for vectorizing\n",
       "     a non-vectorized function.\n",
       "\n",
       "_\bE_\bx_\ba_\bm_\bp_\bl_\be_\bs:\n",
       "\n",
       "     x <- 1:9; names(x) <- x\n",
       "     # Multiplication & Power Tables\n",
       "     x %o% x\n",
       "     y <- 2:8; names(y) <- paste(y,\":\", sep = \"\")\n",
       "     outer(y, x, \"^\")\n",
       "     \n",
       "     outer(month.abb, 1999:2003, FUN = \"paste\")\n",
       "     \n",
       "     ## three way multiplication table:\n",
       "     x %o% x %o% y[1:3]\n",
       "     "
      ]
     },
     "execution_count": 109,
     "metadata": {},
     "output_type": "execute_result"
    },
    {
     "data": {
      "text/html": [
       "<table>\n",
       "<tbody>\n",
       "\t<tr><td>1,1</td><td>1,2</td><td>1,3</td><td>1,4</td><td>1,5</td></tr>\n",
       "\t<tr><td>2,1</td><td>2,2</td><td>2,3</td><td>2,4</td><td>2,5</td></tr>\n",
       "\t<tr><td>3,1</td><td>3,2</td><td>3,3</td><td>3,4</td><td>3,5</td></tr>\n",
       "\t<tr><td>4,1</td><td>4,2</td><td>4,3</td><td>4,4</td><td>4,5</td></tr>\n",
       "\t<tr><td>5,1</td><td>5,2</td><td>5,3</td><td>5,4</td><td>5,5</td></tr>\n",
       "</tbody>\n",
       "</table>\n"
      ],
      "text/latex": [
       "\\begin{tabular}{lllll}\n",
       "\t 1,1 & 1,2 & 1,3 & 1,4 & 1,5\\\\\n",
       "\t 2,1 & 2,2 & 2,3 & 2,4 & 2,5\\\\\n",
       "\t 3,1 & 3,2 & 3,3 & 3,4 & 3,5\\\\\n",
       "\t 4,1 & 4,2 & 4,3 & 4,4 & 4,5\\\\\n",
       "\t 5,1 & 5,2 & 5,3 & 5,4 & 5,5\\\\\n",
       "\\end{tabular}\n"
      ],
      "text/markdown": [
       "1. '1,1'\n",
       "2. '2,1'\n",
       "3. '3,1'\n",
       "4. '4,1'\n",
       "5. '5,1'\n",
       "6. '1,2'\n",
       "7. '2,2'\n",
       "8. '3,2'\n",
       "9. '4,2'\n",
       "10. '5,2'\n",
       "11. '1,3'\n",
       "12. '2,3'\n",
       "13. '3,3'\n",
       "14. '4,3'\n",
       "15. '5,3'\n",
       "16. '1,4'\n",
       "17. '2,4'\n",
       "18. '3,4'\n",
       "19. '4,4'\n",
       "20. '5,4'\n",
       "21. '1,5'\n",
       "22. '2,5'\n",
       "23. '3,5'\n",
       "24. '4,5'\n",
       "25. '5,5'\n",
       "\n",
       "\n"
      ],
      "text/plain": [
       "     [,1]  [,2]  [,3]  [,4]  [,5] \n",
       "[1,] \"1,1\" \"1,2\" \"1,3\" \"1,4\" \"1,5\"\n",
       "[2,] \"2,1\" \"2,2\" \"2,3\" \"2,4\" \"2,5\"\n",
       "[3,] \"3,1\" \"3,2\" \"3,3\" \"3,4\" \"3,5\"\n",
       "[4,] \"4,1\" \"4,2\" \"4,3\" \"4,4\" \"4,5\"\n",
       "[5,] \"5,1\" \"5,2\" \"5,3\" \"5,4\" \"5,5\""
      ]
     },
     "execution_count": 109,
     "metadata": {},
     "output_type": "execute_result"
    },
    {
     "data": {
      "text/html": [
       "<ol class=list-inline>\n",
       "\t<li>'4,1'</li>\n",
       "\t<li>'5,3'</li>\n",
       "</ol>\n"
      ],
      "text/latex": [
       "\\begin{enumerate*}\n",
       "\\item '4,1'\n",
       "\\item '5,3'\n",
       "\\end{enumerate*}\n"
      ],
      "text/markdown": [
       "1. '4,1'\n",
       "2. '5,3'\n",
       "\n",
       "\n"
      ],
      "text/plain": [
       "[1] \"4,1\" \"5,3\""
      ]
     },
     "execution_count": 109,
     "metadata": {},
     "output_type": "execute_result"
    }
   ],
   "source": [
    "help(outer)\n",
    "(valores <- outer(1:5, 1:5, FUN = \"paste\", sep = \",\"))\n",
    "valores[c(4, 15)]"
   ]
  },
  {
   "cell_type": "markdown",
   "metadata": {},
   "source": [
    "También se puede usar  subconjunto de estructuras de datos de dimensiones superiores con una matriz entera (o, si tiene nombre, como una matriz de caracteres). Cada fila de la matriz especifica la ubicación de un valor,  cada columna corresponde a una dimensión de la matriz  subestablecida. Esto significa que  se utiliza una matriz de 2 columnas  para un subconjunto de una matriz, una matriz de 3 columnas  para un  subconjunto de una matriz 3D, y así sucesivamente. El resultado es un vector de valores:"
   ]
  },
  {
   "cell_type": "code",
   "execution_count": 110,
   "metadata": {
    "collapsed": false
   },
   "outputs": [
    {
     "data": {
      "text/html": [
       "<ol class=list-inline>\n",
       "\t<li>'1,1'</li>\n",
       "\t<li>'3,1'</li>\n",
       "\t<li>'2,4'</li>\n",
       "</ol>\n"
      ],
      "text/latex": [
       "\\begin{enumerate*}\n",
       "\\item '1,1'\n",
       "\\item '3,1'\n",
       "\\item '2,4'\n",
       "\\end{enumerate*}\n"
      ],
      "text/markdown": [
       "1. '1,1'\n",
       "2. '3,1'\n",
       "3. '2,4'\n",
       "\n",
       "\n"
      ],
      "text/plain": [
       "[1] \"1,1\" \"3,1\" \"2,4\""
      ]
     },
     "execution_count": 110,
     "metadata": {},
     "output_type": "execute_result"
    }
   ],
   "source": [
    "valores <- outer(1:5, 1:5, FUN = \"paste\", sep = \",\")\n",
    "seleccionar <- matrix(ncol = 2, byrow = TRUE, c(\n",
    "  1, 1,\n",
    "  3, 1,\n",
    "  2, 4\n",
    "))\n",
    "valores[seleccionar]"
   ]
  },
  {
   "cell_type": "code",
   "execution_count": null,
   "metadata": {
    "collapsed": true
   },
   "outputs": [],
   "source": []
  },
  {
   "cell_type": "code",
   "execution_count": null,
   "metadata": {
    "collapsed": true
   },
   "outputs": [],
   "source": []
  },
  {
   "cell_type": "code",
   "execution_count": null,
   "metadata": {
    "collapsed": true
   },
   "outputs": [],
   "source": []
  }
 ],
 "metadata": {
  "kernelspec": {
   "display_name": "R",
   "language": "R",
   "name": "ir"
  },
  "language_info": {
   "codemirror_mode": "r",
   "file_extension": ".r",
   "mimetype": "text/x-r-source",
   "name": "R",
   "pygments_lexer": "r",
   "version": "3.2.2"
  }
 },
 "nbformat": 4,
 "nbformat_minor": 0
}
